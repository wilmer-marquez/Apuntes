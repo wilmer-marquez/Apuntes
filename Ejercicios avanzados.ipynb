{
 "cells": [
  {
   "cell_type": "markdown",
   "id": "17a3be14",
   "metadata": {},
   "source": [
    "### Juego del Ahorcado: Crea una función que implemente el juego del Ahorcado. La función debe recibir una palabra como argumento y permitir al usuario adivinar letras hasta completar la palabra o hasta que se agoten los intentos."
   ]
  },
  {
   "cell_type": "code",
   "execution_count": null,
   "id": "23a25d3d",
   "metadata": {},
   "outputs": [],
   "source": []
  },
  {
   "cell_type": "markdown",
   "id": "d728e6aa",
   "metadata": {},
   "source": [
    "### Generador de contraseñas seguras: Escribe una función que genere contraseñas seguras. La función debe permitir especificar la longitud de la contraseña y generar una combinación aleatoria de letras (mayúsculas y minúsculas), números y caracteres especiales."
   ]
  },
  {
   "cell_type": "code",
   "execution_count": null,
   "id": "0b1b4f61",
   "metadata": {},
   "outputs": [],
   "source": []
  },
  {
   "cell_type": "markdown",
   "id": "a0823acd",
   "metadata": {},
   "source": [
    "### Calculadora de estadísticas: Crea una función que tome una lista de números como argumento y calcule diversas estadísticas, como la media, la mediana, la desviación estándar, etc."
   ]
  },
  {
   "cell_type": "code",
   "execution_count": null,
   "id": "b8ee64a0",
   "metadata": {},
   "outputs": [],
   "source": []
  }
 ],
 "metadata": {
  "kernelspec": {
   "display_name": "Python 3 (ipykernel)",
   "language": "python",
   "name": "python3"
  },
  "language_info": {
   "codemirror_mode": {
    "name": "ipython",
    "version": 3
   },
   "file_extension": ".py",
   "mimetype": "text/x-python",
   "name": "python",
   "nbconvert_exporter": "python",
   "pygments_lexer": "ipython3",
   "version": "3.11.2"
  }
 },
 "nbformat": 4,
 "nbformat_minor": 5
}
