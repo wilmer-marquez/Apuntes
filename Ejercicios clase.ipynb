{
 "cells": [
  {
   "cell_type": "markdown",
   "id": "5aa41b0d",
   "metadata": {},
   "source": [
    "# crea una nivel mas de la matriz"
   ]
  },
  {
   "cell_type": "code",
   "execution_count": 1,
   "id": "8c60ed7d",
   "metadata": {},
   "outputs": [
    {
     "data": {
      "text/plain": [
       "[[[[0], [1], [2], [3], [4]],\n",
       "  [[0], [1], [2], [3], [4]],\n",
       "  [[0], [1], [2], [3], [4]],\n",
       "  [[0], [1], [2], [3], [4]],\n",
       "  [[0], [1], [2], [3], [4]]],\n",
       " [[[0], [1], [2], [3], [4]],\n",
       "  [[0], [1], [2], [3], [4]],\n",
       "  [[0], [1], [2], [3], [4]],\n",
       "  [[0], [1], [2], [3], [4]],\n",
       "  [[0], [1], [2], [3], [4]]],\n",
       " [[[0], [1], [2], [3], [4]],\n",
       "  [[0], [1], [2], [3], [4]],\n",
       "  [[0], [1], [2], [3], [4]],\n",
       "  [[0], [1], [2], [3], [4]],\n",
       "  [[0], [1], [2], [3], [4]]],\n",
       " [[[0], [1], [2], [3], [4]],\n",
       "  [[0], [1], [2], [3], [4]],\n",
       "  [[0], [1], [2], [3], [4]],\n",
       "  [[0], [1], [2], [3], [4]],\n",
       "  [[0], [1], [2], [3], [4]]],\n",
       " [[[0], [1], [2], [3], [4]],\n",
       "  [[0], [1], [2], [3], [4]],\n",
       "  [[0], [1], [2], [3], [4]],\n",
       "  [[0], [1], [2], [3], [4]],\n",
       "  [[0], [1], [2], [3], [4]]]]"
      ]
     },
     "execution_count": 1,
     "metadata": {},
     "output_type": "execute_result"
    }
   ],
   "source": [
    "matriz = []\n",
    "\n",
    "for x in range(5):   # eje x\n",
    "    \n",
    "    lst_x = []\n",
    "    \n",
    "    for y in range(5):   # eje y\n",
    "    \n",
    "        lst_y = []\n",
    "        \n",
    "        for z in range(5):   # eje z\n",
    "            \n",
    "            lst_z = []\n",
    "            lst_z.append(z)\n",
    "        \n",
    "            lst_y.append(lst_z)\n",
    "        lst_x.append(lst_y)\n",
    "    matriz.append(lst_x)\n",
    "   \n",
    "\n",
    "matriz"
   ]
  },
  {
   "cell_type": "markdown",
   "id": "6afae82e",
   "metadata": {},
   "source": [
    "# contar cuantas veces se repite el caracter mas repetido y cual es?\n"
   ]
  },
  {
   "cell_type": "code",
   "execution_count": 4,
   "id": "4b741160",
   "metadata": {},
   "outputs": [],
   "source": [
    "lista = ['N', 'Y', 'z', '4', 'E', 'p', '4', '8', 'n', '3', 'U', 'N', '4', 'A', 'w', 'r', 'j', 'V', '7', 'L', '8', 'x', 'Y',\n",
    "         'L', 'D', 'U', 'e', 'S', 'D', 'V', 'X', 'p', 'T', '5', 'g', '8', 'J', '0', 'D', 'S', '0', 'i', 'E', 'h', '3', 'i', \n",
    "         '8', 'm', '2', 'z', 'Y', 'R', 'l', '5', 'D', 'Y', 'S', '4', 'Z', 'C', 'g', 'Y', 'f', 't', 'a', '3', '5', 'd', 'd', \n",
    "         'o', 'Z', 'X', 'i', 'z', 'm', 'c', 'M', 'T', 'Z', '4', 'k', 'J', 'n', 'B', 'W', '9', 'P', 'I', 'd', 'F', 'h', 'l',\n",
    "         'N', 'S', 'p', 'n', 'b', 'n', 'x', '3', 'D', 'L', 'j', 'y', 'W', 't', 'E', 'B', 'q', 'G', 'K', 'P', 'f', 'A', 'f',\n",
    "         'D', 'I', 'J', '4', 'V', '7', '9', '5', 'O', 'B', 'h', 'T', 'Y', 'x', 'f', 'j', 'j', '0', 'y', 'f', 'R', 'y', 'o', \n",
    "         'C', '1', 'e', 'a', 'D', '7', 'M', '5', 's', 'A', 'S', 'e']"
   ]
  },
  {
   "cell_type": "code",
   "execution_count": null,
   "id": "fa285b0c",
   "metadata": {},
   "outputs": [],
   "source": []
  },
  {
   "cell_type": "code",
   "execution_count": 5,
   "id": "8e733ab9",
   "metadata": {},
   "outputs": [
    {
     "name": "stdout",
     "output_type": "stream",
     "text": [
      "La letra mas repetida es ['D'] y se repite 10\n"
     ]
    }
   ],
   "source": [
    "lista_2 = []\n",
    "contador = 0\n",
    "lista = [i.upper() for i in lista]\n",
    "for i in lista:\n",
    "    lista.count(i)\n",
    "    if lista.count(i) > contador:\n",
    "        contador = lista.count(i)\n",
    "        lista_2.clear()\n",
    "        lista_2.append(i)   \n",
    "    elif contador == lista.count(i) and i not in lista_2:\n",
    "        lista_2.append(i)\n",
    "print(f'La letra mas repetida es {lista_2} y se repite {contador}')   "
   ]
  },
  {
   "cell_type": "markdown",
   "id": "528343d4",
   "metadata": {},
   "source": [
    "# contar cuantas veces se repite el caracter mas repetido y cual es en minuscula y mayuscula?"
   ]
  },
  {
   "cell_type": "code",
   "execution_count": 6,
   "id": "d8e6d321",
   "metadata": {},
   "outputs": [
    {
     "name": "stdout",
     "output_type": "stream",
     "text": [
      "La letra mas repetida es [] y se repite mayuscula 0,minuscula 0\n"
     ]
    }
   ],
   "source": [
    "lista_2 = []\n",
    "mayuscula = 0\n",
    "minuscula = 0\n",
    "for i in lista:\n",
    "    lista.count(i)\n",
    "    if lista.count(i) > contador:\n",
    "        if lista.isupper() == True:\n",
    "            mayuscula = lista.count(i)\n",
    "            lista_2.clear()\n",
    "            lista_2.append(i)\n",
    "        else :\n",
    "            minuscula = lista.count(i)\n",
    "            lista_2.append(i)\n",
    "    elif mayuscula == lista.count(i) and i not in lista_2:\n",
    "        lista_2.append(i)\n",
    "print(f'La letra mas repetida es {lista_2} y se repite mayuscula {mayuscula},minuscula {minuscula}')  "
   ]
  },
  {
   "cell_type": "markdown",
   "id": "f1e1f253",
   "metadata": {},
   "source": [
    "# Dijimos que podíamos optimizar la lista que tenia que recorrer nuestro for para que fuera una lista de valores unicos unicamente y por otro lado intentar convertirlo en funcion\n"
   ]
  },
  {
   "cell_type": "code",
   "execution_count": 7,
   "id": "5438ffef",
   "metadata": {},
   "outputs": [
    {
     "name": "stdout",
     "output_type": "stream",
     "text": [
      "La letra mas repetida es ['D'] y se repite 10\n"
     ]
    }
   ],
   "source": [
    "lista_2 = []\n",
    "contador = 0\n",
    "lista_1 = set(lista)\n",
    "for i in lista_1:\n",
    "   # lista.count(i)\n",
    "    if lista.count(i) > contador:\n",
    "        contador = lista.count(i)\n",
    "        lista_2.clear()\n",
    "        lista_2.append(i)   \n",
    "    elif contador == lista.count(i) and i not in lista_2:\n",
    "        lista_2.append(i)\n",
    "print(f'La letra mas repetida es {lista_2} y se repite {contador}')   "
   ]
  },
  {
   "cell_type": "code",
   "execution_count": 9,
   "id": "2f195c5e",
   "metadata": {},
   "outputs": [],
   "source": [
    "lista_52  = ['4', 'i', 'm', 'B', 'y', 'p', '3', 'B', 'i', 'p', 'w', 'T', 't', 'X', '3', 't', 'L', 'S', 'M', 'N', 'q', '5', \n",
    "             'l', 'E', '7', 'B', 'A', '9', 'D', 'Q', 'x', 'h', 'X', 'L', '2', '6', 'N', 'C', 'K', 'C', 's', 'z', '6', 'Q', \n",
    "             'K', 'M', '6', 'm', 'E', 'C', 't', 'l', 'i', 'i', 'b', 's', 'E', 'V', 'I', 'h', 'j', 'N', '3', 'A', 'E', '3',\n",
    "             '2', 'J', 'i', 'k', '5', 'S', '2', 'Z', 'l', 'w', 'S', 'Y', 'N', '6', 'l', 'm', 'K', 'V', 'm', 'U', 'A', 'F',\n",
    "             'e', 'd', 'Z', 'E', 'm', '0', 'E', 'v', 'U', 'e', '5', 'E', 'H', '3', 'Z', '2', 'c', 'H', 'y', 'L', 'I', 'v',\n",
    "             'a', 'g', 'D', 'c', 'y', 'S', 'b', 'b', 'p', 'N', 'C', '7', '8', 'A', 'x', '9', 'A', 'v', 'Y', 'l', 'b', 'y', \n",
    "             'Y', 'J', 'e', 't', 'A', 't', 'W', 'f', 'F', '2', 'o', 'N', 'I', 'B', 'E', 'n', 'v', 'k']"
   ]
  },
  {
   "cell_type": "markdown",
   "id": "fbade500",
   "metadata": {},
   "source": [
    "# transformado a funcion"
   ]
  },
  {
   "cell_type": "code",
   "execution_count": 11,
   "id": "1e050910",
   "metadata": {},
   "outputs": [],
   "source": [
    "def letras_repetidas(lista_0):\n",
    "    lista_0 = [i.upper() for i in lista_0]\n",
    "    contador = 0\n",
    "    lista_1 = set(lista_0)\n",
    "    lista_2 = []\n",
    "    for i in lista_1:\n",
    "        if lista_0.count(i) > contador:\n",
    "            contador = lista_0.count(i)\n",
    "            lista_2.clear()\n",
    "            lista_2.append(i)   \n",
    "        elif contador == lista_0.count(i) and i not in lista_2:\n",
    "            lista_2.append(i)\n",
    "    return lista_2,contador\n",
    "#letras_repetidas(f'La letra mas repetida es: {lista_2} y se repite: {contador}')"
   ]
  },
  {
   "cell_type": "code",
   "execution_count": 14,
   "id": "52aa3933",
   "metadata": {},
   "outputs": [
    {
     "data": {
      "text/plain": [
       "(['E'], 11)"
      ]
     },
     "execution_count": 14,
     "metadata": {},
     "output_type": "execute_result"
    }
   ],
   "source": [
    "letras_repetidas(lista_52)"
   ]
  },
  {
   "cell_type": "raw",
   "id": "15c61dff",
   "metadata": {},
   "source": []
  }
 ],
 "metadata": {
  "kernelspec": {
   "display_name": "Python 3 (ipykernel)",
   "language": "python",
   "name": "python3"
  },
  "language_info": {
   "codemirror_mode": {
    "name": "ipython",
    "version": 3
   },
   "file_extension": ".py",
   "mimetype": "text/x-python",
   "name": "python",
   "nbconvert_exporter": "python",
   "pygments_lexer": "ipython3",
   "version": "3.11.2"
  }
 },
 "nbformat": 4,
 "nbformat_minor": 5
}
