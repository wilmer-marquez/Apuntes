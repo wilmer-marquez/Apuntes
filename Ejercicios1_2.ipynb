{
 "cells": [
  {
   "cell_type": "markdown",
   "metadata": {},
   "source": [
    "# Introducción a Python - Ejercicios"
   ]
  },
  {
   "cell_type": "markdown",
   "metadata": {},
   "source": [
    "### 1. Declarar dos variables numéricas y realizar la división entre ambas ¿De qué tipo es la variable respuesta? ¿Qué podemos hacer para que sea un entero?"
   ]
  },
  {
   "cell_type": "code",
   "execution_count": 1,
   "metadata": {},
   "outputs": [
    {
     "name": "stdout",
     "output_type": "stream",
     "text": [
      "2.0\n"
     ]
    }
   ],
   "source": [
    "a = 10\n",
    "b = 5\n",
    "c= a/b\n",
    "print(c)"
   ]
  },
  {
   "cell_type": "code",
   "execution_count": 2,
   "metadata": {},
   "outputs": [
    {
     "data": {
      "text/plain": [
       "float"
      ]
     },
     "execution_count": 2,
     "metadata": {},
     "output_type": "execute_result"
    }
   ],
   "source": [
    "type(c)"
   ]
  },
  {
   "cell_type": "code",
   "execution_count": 3,
   "metadata": {},
   "outputs": [
    {
     "data": {
      "text/plain": [
       "int"
      ]
     },
     "execution_count": 3,
     "metadata": {},
     "output_type": "execute_result"
    }
   ],
   "source": [
    "c=int(a/b)\n",
    "type(c)"
   ]
  },
  {
   "cell_type": "markdown",
   "metadata": {},
   "source": [
    "### 2.  De dos números, comprobar cuál es el mayor."
   ]
  },
  {
   "cell_type": "code",
   "execution_count": 4,
   "metadata": {},
   "outputs": [
    {
     "name": "stdout",
     "output_type": "stream",
     "text": [
      "19 es mayor 15\n"
     ]
    }
   ],
   "source": [
    "a = 15\n",
    "b = 19\n",
    "\n",
    "if a > b:\n",
    "    print(f'{a} es mayor {b}')\n",
    "else:\n",
    "    print(f'{b} es mayor {a}')"
   ]
  },
  {
   "cell_type": "markdown",
   "metadata": {},
   "source": [
    "### 3. Escribir un programa que solicite al usuario su nombre y edad (separados por coma), e imprima por pantalla:"
   ]
  },
  {
   "cell_type": "code",
   "execution_count": 5,
   "metadata": {},
   "outputs": [
    {
     "name": "stdout",
     "output_type": "stream",
     "text": [
      "Ingrese su nombre: wilmer\n",
      "Ingrese su edad: 24\n",
      "Su nombre es wilmer, y su edad es 24\n"
     ]
    }
   ],
   "source": [
    "nombre = input('Ingrese su nombre: ')\n",
    "edad = input ('Ingrese su edad: ')\n",
    "\n",
    "print(f'Su nombre es {nombre}, y su edad es {edad}')"
   ]
  },
  {
   "cell_type": "markdown",
   "metadata": {},
   "source": [
    "### 4. Construir dos listas y extender la primera, para que también tenga los elementos de la segunda. Hacer lo mismo con una tupla."
   ]
  },
  {
   "cell_type": "code",
   "execution_count": 36,
   "metadata": {},
   "outputs": [
    {
     "name": "stdout",
     "output_type": "stream",
     "text": [
      "['Juan', 'Pedro', 'Carlos', 'Jesus', 34, 36, 43, 55]\n"
     ]
    }
   ],
   "source": [
    "lista_1 = ['Juan', 'Pedro', 'Carlos', 'Jesus']\n",
    "lista_2 = [34, 36, 43, 55]\n",
    "lista_1.extend(lista_2)\n",
    "print(lista_1)"
   ]
  },
  {
   "cell_type": "code",
   "execution_count": 37,
   "metadata": {},
   "outputs": [
    {
     "name": "stdout",
     "output_type": "stream",
     "text": [
      "[('Juan', 34), ('Pedro', 36), ('Carlos', 43), ('Jesus', 55)]\n"
     ]
    }
   ],
   "source": [
    "lista_3 = list(zip(lista_1,lista_2))\n",
    "print(lista_3)"
   ]
  },
  {
   "cell_type": "markdown",
   "metadata": {},
   "source": [
    "### 5. Crear dos cadenas de caracteres y concaterlas."
   ]
  },
  {
   "cell_type": "code",
   "execution_count": 9,
   "metadata": {},
   "outputs": [
    {
     "name": "stdout",
     "output_type": "stream",
     "text": [
      "Habia una vez un barquito chiquitico, los pollitos dicen.\n"
     ]
    }
   ],
   "source": [
    "frase = 'Habia una vez un barquito chiquitico, '\n",
    "frase_2 = 'los pollitos dicen.'\n",
    "\n",
    "fra = frase + frase_2\n",
    "print(fra)"
   ]
  },
  {
   "cell_type": "markdown",
   "metadata": {},
   "source": [
    "### 6. Crear una tupla e imprimir por pantalla su tercer elemento. "
   ]
  },
  {
   "cell_type": "code",
   "execution_count": 10,
   "metadata": {},
   "outputs": [
    {
     "name": "stdout",
     "output_type": "stream",
     "text": [
      "('Luis', 34)\n"
     ]
    }
   ],
   "source": [
    "lis_1 = ('Juan','Pedro','Luis')\n",
    "lis_2 = (18,23,34)\n",
    "\n",
    "lis_3 = list(zip(lis_1,lis_2))\n",
    "print(lis_3[2])"
   ]
  },
  {
   "cell_type": "markdown",
   "metadata": {},
   "source": [
    "### 7. Crear una cadena de caracteres y convertirla a una lista."
   ]
  },
  {
   "cell_type": "code",
   "execution_count": 11,
   "metadata": {},
   "outputs": [
    {
     "data": {
      "text/plain": [
       "['tio', 'ya', 'te', 'comiste', 'tu', 'mango']"
      ]
     },
     "execution_count": 11,
     "metadata": {},
     "output_type": "execute_result"
    }
   ],
   "source": [
    "frase = 'tio ya te comiste tu mango'\n",
    "frase.split()"
   ]
  },
  {
   "cell_type": "markdown",
   "metadata": {},
   "source": [
    "### 8. Comprobar si tu nombre contiene la letra _o_."
   ]
  },
  {
   "cell_type": "code",
   "execution_count": 12,
   "metadata": {},
   "outputs": [
    {
     "data": {
      "text/plain": [
       "1"
      ]
     },
     "execution_count": 12,
     "metadata": {},
     "output_type": "execute_result"
    }
   ],
   "source": [
    "nombre = 'Wilmer Eduardo Marquez Nuñez'\n",
    "nombre.count('o')"
   ]
  },
  {
   "cell_type": "markdown",
   "metadata": {},
   "source": [
    "### 9. Escribir tu nombre y apellidos y convertilo todo a mayúscula."
   ]
  },
  {
   "cell_type": "code",
   "execution_count": 13,
   "metadata": {},
   "outputs": [
    {
     "data": {
      "text/plain": [
       "'WILMER EDUARDO MARQUEZ NUÑEZ'"
      ]
     },
     "execution_count": 13,
     "metadata": {},
     "output_type": "execute_result"
    }
   ],
   "source": [
    "nombre = 'Wilmer Eduardo Marquez Nuñez'\n",
    "nombre.upper()"
   ]
  },
  {
   "cell_type": "markdown",
   "metadata": {},
   "source": [
    "### 10. Escribir un programa que solicite al usuario una lista de números separados por coma, construya una lista y una tupla a partir de la lista recibida y las muestre por pantalla"
   ]
  },
  {
   "cell_type": "code",
   "execution_count": 14,
   "metadata": {},
   "outputs": [
    {
     "name": "stdout",
     "output_type": "stream",
     "text": [
      "Ingrese un numero: 25\n",
      "Ingrese un numero: 87\n",
      "Ingrese un numero: 14\n",
      "Ingrese un numero: 87\n",
      "Ingrese un numero: 36\n",
      "Ingrese un numero: 54\n",
      "Ingrese un numero: 78\n",
      "Ingrese un numero: 25\n",
      "[(25, 36), (87, 54), (14, 78), (87, 25)]\n"
     ]
    }
   ],
   "source": [
    "lista_1 = []\n",
    "lista_2 = []\n",
    "num_1 = int(input('Ingrese un numero: '))\n",
    "num_2 = int(input('Ingrese un numero: '))\n",
    "num_3 = int(input('Ingrese un numero: '))\n",
    "num_4 = int(input('Ingrese un numero: '))\n",
    "num_5 = int(input('Ingrese un numero: '))\n",
    "num_6 = int(input('Ingrese un numero: '))\n",
    "num_7 = int(input('Ingrese un numero: '))\n",
    "num_8 = int(input('Ingrese un numero: '))\n",
    "lista_1.extend ([num_1,num_2,num_3,num_4])\n",
    "lista_2.extend ([num_5,num_6,num_7,num_8])\n",
    "\n",
    "lista_3 = list(zip(lista_1,lista_2))\n",
    "print(lista_3)"
   ]
  },
  {
   "cell_type": "markdown",
   "metadata": {},
   "source": [
    "### 11. Escribir un programa que solicite al usuario un listado de nombres separados por punto y coma, construya una lista e imprima por pantalla los elementos pares de la lista"
   ]
  },
  {
   "cell_type": "code",
   "execution_count": 16,
   "metadata": {},
   "outputs": [
    {
     "name": "stdout",
     "output_type": "stream",
     "text": [
      "Ingrese un nombre: luis\n",
      "Ingrese un nombre: pedro\n",
      "Ingrese un nombre: juan\n",
      "Ingrese un nombre: carlos\n",
      "['luis', 'juan']\n"
     ]
    }
   ],
   "source": [
    "lista = []\n",
    "nom1= input('Ingrese un nombre: ')\n",
    "nom2= input('Ingrese un nombre: ')\n",
    "nom3= input('Ingrese un nombre: ')\n",
    "nom4= input('Ingrese un nombre: ')\n",
    "lista.extend ([nom1,nom2,nom3,nom4])\n",
    "print(lista[0::2])"
   ]
  },
  {
   "cell_type": "markdown",
   "metadata": {},
   "source": [
    "### 12. Escribir un programa que solicite al usuario dos cadenas de texto y detecte si la segunda está contenida en la primera."
   ]
  },
  {
   "cell_type": "code",
   "execution_count": 17,
   "metadata": {},
   "outputs": [
    {
     "name": "stdout",
     "output_type": "stream",
     "text": [
      "Ingrese una frase: luke yo soy tu padre\n",
      "Ingrese una frase: no puede ser\n"
     ]
    },
    {
     "data": {
      "text/plain": [
       "False"
      ]
     },
     "execution_count": 17,
     "metadata": {},
     "output_type": "execute_result"
    }
   ],
   "source": [
    "frase_1 = input('Ingrese una frase: ')\n",
    "frase_2 = input('Ingrese una frase: ')\n",
    "\n",
    "frase_2 in frase_1"
   ]
  },
  {
   "cell_type": "markdown",
   "metadata": {},
   "source": [
    "### 13. Escribir un programa que solicite al usuario una lista de nombres separados por coma, una posición y devuelva la lista de nombres sustituyendo el que aparece en la posición indicada por \"Miguel\""
   ]
  },
  {
   "cell_type": "code",
   "execution_count": 18,
   "metadata": {},
   "outputs": [
    {
     "name": "stdout",
     "output_type": "stream",
     "text": [
      "Ingrese un nombre: luis\n",
      "Ingrese un nombre: gerardo\n",
      "Ingrese un nombre: pedro\n",
      "Ingrese un nombre: ricardo\n",
      "['luis', 'gerardo', 'Miguel', 'ricardo']\n"
     ]
    }
   ],
   "source": [
    "lista = []\n",
    "nom1= input('Ingrese un nombre: ')\n",
    "nom2= input('Ingrese un nombre: ')\n",
    "nom3= input('Ingrese un nombre: ')\n",
    "nom4= input('Ingrese un nombre: ')\n",
    "lista.extend ([nom1,nom2,nom3,nom4])\n",
    "lista.pop(2)\n",
    "lista.insert(2,'Miguel')\n",
    "print(lista)"
   ]
  },
  {
   "cell_type": "markdown",
   "metadata": {},
   "source": [
    "### 14. Crear una lista de 10 números y devolver del cuarto al octavo elemento."
   ]
  },
  {
   "cell_type": "code",
   "execution_count": 19,
   "metadata": {},
   "outputs": [
    {
     "data": {
      "text/plain": [
       "[87, 95, 24, 78]"
      ]
     },
     "execution_count": 19,
     "metadata": {},
     "output_type": "execute_result"
    }
   ],
   "source": [
    "numeros = [20,54,47,87,95,24,78,65,35,70]\n",
    "\n",
    "numeros[3:7]"
   ]
  },
  {
   "cell_type": "markdown",
   "metadata": {},
   "source": [
    "### 15. Crear un diccionario a partir de dos listas (los elementos de una de ellas deben ser las claves del diccionario y los elementos de la otra, los valores del diccionario)."
   ]
  },
  {
   "cell_type": "code",
   "execution_count": 20,
   "metadata": {},
   "outputs": [
    {
     "name": "stdout",
     "output_type": "stream",
     "text": [
      "{'Juan': 23, 'Pedro': 24, 'Luis': 27, 'Alfredo': 28}\n"
     ]
    }
   ],
   "source": [
    "lista_1 = ['Juan', 'Pedro', 'Luis', 'Alfredo']\n",
    "lista_2 = [23,24,27,28]\n",
    "diccionario = dict()\n",
    "for i in range(len(lista_1)):\n",
    "    diccionario[lista_1[i]] = lista_2[i] \n",
    "print(diccionario)"
   ]
  },
  {
   "cell_type": "code",
   "execution_count": 21,
   "metadata": {},
   "outputs": [
    {
     "name": "stdout",
     "output_type": "stream",
     "text": [
      "{'Juan': 23, 'Pedro': 24, 'Luis': 27, 'Alfredo': 28}\n"
     ]
    }
   ],
   "source": [
    "diccionario = dict(zip(lista_1,lista_2))\n",
    "print(diccionario)"
   ]
  },
  {
   "cell_type": "markdown",
   "metadata": {},
   "source": [
    "### 16. Insertar en el diccionario anterior un nuevo valor, cuya clave sea \"nueva_clave\"."
   ]
  },
  {
   "cell_type": "code",
   "execution_count": 22,
   "metadata": {},
   "outputs": [],
   "source": [
    "diccionario['nueva_clave'] = 290190"
   ]
  },
  {
   "cell_type": "code",
   "execution_count": 23,
   "metadata": {},
   "outputs": [
    {
     "name": "stdout",
     "output_type": "stream",
     "text": [
      "{'Juan': 23, 'Pedro': 24, 'Luis': 27, 'Alfredo': 28, 'nueva_clave': 290190}\n"
     ]
    }
   ],
   "source": [
    "print(diccionario)"
   ]
  },
  {
   "cell_type": "markdown",
   "metadata": {
    "collapsed": true
   },
   "source": [
    "### 17. Modificar el valor añadido al diccionario, accediendo por la clave \"nueva_clave\"."
   ]
  },
  {
   "cell_type": "code",
   "execution_count": 24,
   "metadata": {},
   "outputs": [],
   "source": [
    "diccionario['nueva_clave'] = 900129"
   ]
  },
  {
   "cell_type": "code",
   "execution_count": 25,
   "metadata": {},
   "outputs": [
    {
     "name": "stdout",
     "output_type": "stream",
     "text": [
      "{'Juan': 23, 'Pedro': 24, 'Luis': 27, 'Alfredo': 28, 'nueva_clave': 900129}\n"
     ]
    }
   ],
   "source": [
    "print(diccionario)"
   ]
  },
  {
   "cell_type": "markdown",
   "metadata": {},
   "source": [
    "### 18.  Eliminar todos los elementos del diccionario creado."
   ]
  },
  {
   "cell_type": "code",
   "execution_count": null,
   "metadata": {},
   "outputs": [],
   "source": [
    "del diccionario"
   ]
  },
  {
   "cell_type": "code",
   "execution_count": null,
   "metadata": {},
   "outputs": [],
   "source": [
    "print(diccionario)"
   ]
  },
  {
   "cell_type": "markdown",
   "metadata": {},
   "source": [
    "### 19. Crear dos listas y calcular su unión."
   ]
  },
  {
   "cell_type": "code",
   "execution_count": 28,
   "metadata": {},
   "outputs": [
    {
     "name": "stdout",
     "output_type": "stream",
     "text": [
      "[1, 2, 3, 4, 5, 5, 4, 3, 2, 1]\n"
     ]
    }
   ],
   "source": [
    "lista_1 = [1,2,3,4,5]\n",
    "lista_2 = [5,4,3,2,1]\n",
    "lista_3 = []\n",
    "lista_3 = lista_1 + lista_2\n",
    "        \n",
    "print(lista_3)"
   ]
  },
  {
   "cell_type": "markdown",
   "metadata": {
    "collapsed": true
   },
   "source": [
    "### 20. Crear dos conjuntos y calcular su unión, intersección y diferencia simétrica."
   ]
  },
  {
   "cell_type": "code",
   "execution_count": 51,
   "metadata": {},
   "outputs": [
    {
     "name": "stdout",
     "output_type": "stream",
     "text": [
      "[39, 15, 15, 23, 85, 52, 52, 35, 75, 38, 33, 15, 23, 23, 98, 68, 27, 75, 75, 36]\n"
     ]
    }
   ],
   "source": [
    "lst_1 = [39,15,15,23,85,52,52,35,75,38]\n",
    "lst_2 = [33,15,23,23,98,68,27,75,75,36]\n",
    "lst_3 = lst_1 + lst_2\n",
    "print(lst_3)"
   ]
  },
  {
   "cell_type": "code",
   "execution_count": 53,
   "metadata": {},
   "outputs": [
    {
     "name": "stdout",
     "output_type": "stream",
     "text": [
      "{35, 38, 39, 75, 15, 52, 85, 23}\n"
     ]
    }
   ],
   "source": [
    "set_1 = set(lst_1)\n",
    "set_2 = set(lst_2)\n",
    "set_1.union(set_2)\n",
    "print(set_1)"
   ]
  },
  {
   "cell_type": "markdown",
   "metadata": {},
   "source": [
    "## interseccion"
   ]
  },
  {
   "cell_type": "code",
   "execution_count": 54,
   "metadata": {},
   "outputs": [
    {
     "data": {
      "text/plain": [
       "{15, 23, 75}"
      ]
     },
     "execution_count": 54,
     "metadata": {},
     "output_type": "execute_result"
    }
   ],
   "source": [
    "set_1.intersection(set_2)"
   ]
  },
  {
   "cell_type": "markdown",
   "metadata": {},
   "source": [
    "## diferencia simetrica"
   ]
  },
  {
   "cell_type": "code",
   "execution_count": 55,
   "metadata": {},
   "outputs": [
    {
     "data": {
      "text/plain": [
       "{27, 33, 35, 36, 38, 39, 52, 68, 85, 98}"
      ]
     },
     "execution_count": 55,
     "metadata": {},
     "output_type": "execute_result"
    }
   ],
   "source": [
    "set_1.symmetric_difference(set_2)"
   ]
  }
 ],
 "metadata": {
  "anaconda-cloud": {},
  "kernelspec": {
   "display_name": "Python 3 (ipykernel)",
   "language": "python",
   "name": "python3"
  },
  "language_info": {
   "codemirror_mode": {
    "name": "ipython",
    "version": 3
   },
   "file_extension": ".py",
   "mimetype": "text/x-python",
   "name": "python",
   "nbconvert_exporter": "python",
   "pygments_lexer": "ipython3",
   "version": "3.11.2"
  }
 },
 "nbformat": 4,
 "nbformat_minor": 1
}
