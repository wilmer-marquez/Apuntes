{
 "cells": [
  {
   "cell_type": "markdown",
   "metadata": {},
   "source": [
    "### 1. Escribe una función que reciba como parámetro un año y que escriba si es bisiesto o no.\n",
    "** Se recuerda que los años bisiestos son múltiplos de 4, pero los múltiplos de 100 no lo son, aunque los múltiplos de 400 sí. Estos son algunos ejemplos de posibles respuestas: 2012 es bisiesto, 2010 no es bisiesto, 2000 es bisiesto, 1900 no es bisiesto. **"
   ]
  },
  {
   "cell_type": "code",
   "execution_count": 81,
   "metadata": {},
   "outputs": [],
   "source": [
    "# se define nombre funcion y parametro\n",
    "def ano_bisiesto (bisiesto):\n",
    "# se pide un año al usuario    \n",
    "    # se verifica que sea multiplo de 4 pero no de 100,400\n",
    "    if bisiesto % 4 == 0 and bisiesto % 100 != 0: \n",
    "        #se imprime que es bisiesto\n",
    "        return(f'Es bisiesto')\n",
    "    # se verifica que no sea multiplo de 4\n",
    "    elif bisiesto % 4 != 0: \n",
    "        #se imprime que no es bisiesto\n",
    "        return(f'No es bisiesto')\n",
    "    # se verifica que sea multiplo de 4 pero no de 100\n",
    "    elif bisiesto % 4 != 0 and bisisesto % 100 != 0: \n",
    "        #se imprime que no es bisiesto\n",
    "        return(f'Es bisiesto')\n",
    "    # se verifica que sea multiplo de 4,100,400\n",
    "    elif bisiesto % 4 == 0 and bisiesto % 100 == 0 and bisiesto % 400 == 0: \n",
    "        #se imprime que es bisiesto\n",
    "        return(f'Es bisiesto')\n",
    "    else:\n",
    "        return (False)"
   ]
  },
  {
   "cell_type": "code",
   "execution_count": 82,
   "metadata": {},
   "outputs": [
    {
     "data": {
      "text/plain": [
       "False"
      ]
     },
     "execution_count": 82,
     "metadata": {},
     "output_type": "execute_result"
    }
   ],
   "source": [
    "ano_bisiesto(1900)"
   ]
  },
  {
   "cell_type": "markdown",
   "metadata": {},
   "source": [
    "### 2. Escriba un programa que pida dos años y escriba cuántos años bisiestos hay entre esas dos fechas (incluidos los dos años)."
   ]
  },
  {
   "cell_type": "code",
   "execution_count": 2,
   "metadata": {},
   "outputs": [
    {
     "name": "stdout",
     "output_type": "stream",
     "text": [
      "Escribe un año: 1890\n",
      "Escribe un año: 2023\n",
      "Entre el 1890 y el 2023 hay 32 años bisiestos\n"
     ]
    }
   ],
   "source": [
    "def es_bisiesto(ano):\n",
    "    if ano % 4 == 0:\n",
    "        if ano % 100 == 0:\n",
    "            if ano % 400 == 0:\n",
    "                return True\n",
    "            else:\n",
    "                return False\n",
    "        else:\n",
    "            return True\n",
    "    else:\n",
    "        return False\n",
    "año1 = int(input('Escribe un año: '))\n",
    "año2 = int(input('Escribe un año: '))\n",
    "suma = 0\n",
    "for año in range(año1, año2+1):\n",
    "    if es_bisiesto(año):\n",
    "        suma += 1\n",
    "print(f'Entre el {año1} y el {año2} hay {suma} años bisiestos')"
   ]
  },
  {
   "cell_type": "markdown",
   "metadata": {},
   "source": [
    "### 3. Definir una función que tome dos listas y devuelva True si tienen al menos 1 elemento en común o devuelva False de lo contrario."
   ]
  },
  {
   "cell_type": "code",
   "execution_count": 43,
   "metadata": {},
   "outputs": [],
   "source": [
    "# defino la variable de la funcion\n",
    "def booleano (lst_1,lst_2):\n",
    "    # aplico la condicion de si lista_1 es igual a lista 2\n",
    "    for i in lst_1:\n",
    "        if lst_1 == lst_2:\n",
    "        #si se cumple la condicion que me arroje True\n",
    "            return True\n",
    "    #de lo contrario me de False\n",
    "    return False"
   ]
  },
  {
   "cell_type": "code",
   "execution_count": 46,
   "metadata": {},
   "outputs": [
    {
     "data": {
      "text/plain": [
       "False"
      ]
     },
     "execution_count": 46,
     "metadata": {},
     "output_type": "execute_result"
    }
   ],
   "source": [
    "lst_1 = [28,45,98,78,33]\n",
    "lst_2 = [15,33,24,87,55]\n",
    "booleano(lst_1,lst_2)"
   ]
  },
  {
   "cell_type": "markdown",
   "metadata": {},
   "source": [
    "### 4. Escribe (y utiliza) una función que calcule el área de un círculo, recibiendo como parámetro (opcional de valor por defecto 1) su radio. El módulo math de Python contiene una constante para PI."
   ]
  },
  {
   "cell_type": "code",
   "execution_count": 47,
   "metadata": {},
   "outputs": [],
   "source": [
    "import math"
   ]
  },
  {
   "cell_type": "code",
   "execution_count": 62,
   "metadata": {},
   "outputs": [],
   "source": [
    "def area_circulo(radio):\n",
    "    area = round((radio**2)*math.pi,2)\n",
    "    print(f'El valor de mi area es: {area}')"
   ]
  },
  {
   "cell_type": "code",
   "execution_count": 63,
   "metadata": {},
   "outputs": [
    {
     "name": "stdout",
     "output_type": "stream",
     "text": [
      "El valor de mi area es: 78.54\n"
     ]
    }
   ],
   "source": [
    "area_circulo(5)"
   ]
  },
  {
   "cell_type": "markdown",
   "metadata": {},
   "source": [
    "### 5. Escribe (y utiliza) una función que calcule la longitud y el área de un círculo, recibiendo como parámetro (opcional de valor por defecto 1) su radio. El módulo math de Python contiene una constante para PI. \n",
    "#### Nota: la función debe devolver dos valores: la longitud y el área."
   ]
  },
  {
   "cell_type": "code",
   "execution_count": 65,
   "metadata": {},
   "outputs": [],
   "source": [
    "def area_long(radio):\n",
    "    ar = round((radio**2)*math.pi,2)\n",
    "    lon = round((2*math.pi)*radio,2)\n",
    "    print(f'El valor de mi area es: {ar}, y el valor de mi longitud es {lon}')"
   ]
  },
  {
   "cell_type": "code",
   "execution_count": 67,
   "metadata": {},
   "outputs": [
    {
     "name": "stdout",
     "output_type": "stream",
     "text": [
      "El valor de mi area es: 103.87, y el valor de mi longitud es 36.13\n"
     ]
    }
   ],
   "source": [
    "area_long(5.75)"
   ]
  },
  {
   "cell_type": "markdown",
   "metadata": {},
   "source": [
    "\n",
    "### 6. Escribe una función que reciba un nombre de fichero, lo abra y devuelva un diccionario con las palabras (asume que están separadas siempre por espacios) del fichero y sus frecuencias. Se deberá controlar la posibilidad de que el fichero indicado no exista.\n"
   ]
  },
  {
   "cell_type": "code",
   "execution_count": null,
   "metadata": {},
   "outputs": [],
   "source": [
    "#def fiche_diccionario(fichero)\n",
    "fichero = open(\"diccionario.txt\",'w')\n",
    "fichero.write(\"Hola\\nmi\\nnombre\\nes\\nwilmer\\neduardo\")\n",
    "    "
   ]
  },
  {
   "cell_type": "markdown",
   "metadata": {},
   "source": [
    "### 7. Escribe una función que reciba dos nombres de ficheros, el primero se utilizará para generar el diccionario del ejercicio anterior, el segundo para almacenar dicho diccionario en formato .tsv (tabulador = \\t; salto de linea = \\n)"
   ]
  },
  {
   "cell_type": "code",
   "execution_count": null,
   "metadata": {},
   "outputs": [],
   "source": []
  }
 ],
 "metadata": {
  "kernelspec": {
   "display_name": "Python 3 (ipykernel)",
   "language": "python",
   "name": "python3"
  },
  "language_info": {
   "codemirror_mode": {
    "name": "ipython",
    "version": 3
   },
   "file_extension": ".py",
   "mimetype": "text/x-python",
   "name": "python",
   "nbconvert_exporter": "python",
   "pygments_lexer": "ipython3",
   "version": "3.11.2"
  }
 },
 "nbformat": 4,
 "nbformat_minor": 2
}
