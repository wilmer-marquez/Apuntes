{
 "cells": [
  {
   "cell_type": "markdown",
   "id": "12e6c46e",
   "metadata": {},
   "source": [
    "# limpiar cadenas de espacios, acentos y ponerlo en minuscula."
   ]
  },
  {
   "cell_type": "code",
   "execution_count": 1,
   "id": "ce0afdb7",
   "metadata": {},
   "outputs": [],
   "source": [
    "def limpieza_cadenas(cadena):\n",
    "    #cadena = cadena.lower()\n",
    "    cadena = cadena.replace(',','')\n",
    "    cadena = cadena.replace('!','')\n",
    "    cadena = cadena.replace('¡','')\n",
    "    cadena = cadena.replace('?','')\n",
    "    cadena = cadena.replace('¿','')\n",
    "    cadena = cadena.replace('#','')\n",
    "    cadena = cadena.replace('&','')\n",
    "    cadena = cadena.replace(':','')\n",
    "    cadena = cadena.replace(';','')\n",
    "    cadena = cadena.replace('\\n','')\n",
    "    cadena = cadena.replace(\" \", \"\")\n",
    "    cadena = cadena.replace(\"á\", \"a\")\n",
    "    cadena = cadena.replace(\"é\", \"e\")\n",
    "    cadena = cadena.replace(\"í\", \"i\")\n",
    "    cadena = cadena.replace(\"ó\", \"o\")\n",
    "    cadena = cadena.replace(\"ú\", \"u\")\n",
    "    palabras = cadena.split()\n",
    "    cadena = \" \".join([palabra.capitalize() for palabra in palabras])\n",
    "    return cadena"
   ]
  }
 ],
 "metadata": {
  "kernelspec": {
   "display_name": "Python 3 (ipykernel)",
   "language": "python",
   "name": "python3"
  },
  "language_info": {
   "codemirror_mode": {
    "name": "ipython",
    "version": 3
   },
   "file_extension": ".py",
   "mimetype": "text/x-python",
   "name": "python",
   "nbconvert_exporter": "python",
   "pygments_lexer": "ipython3",
   "version": "3.11.2"
  }
 },
 "nbformat": 4,
 "nbformat_minor": 5
}
