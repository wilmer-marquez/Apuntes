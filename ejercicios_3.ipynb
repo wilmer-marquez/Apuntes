{
 "cells": [
  {
   "cell_type": "markdown",
   "metadata": {},
   "source": [
    "### 1. Escriba un programa que pida dos números enteros y que calcule su división, escribiendo si la división es exacta o no."
   ]
  },
  {
   "cell_type": "code",
   "execution_count": 5,
   "metadata": {},
   "outputs": [
    {
     "name": "stdout",
     "output_type": "stream",
     "text": [
      "Ingrese el primer numero entero: 187\n",
      "Ingrese el segundo numero entero: 19\n",
      "El valor de la division de 187 entre 19 es: 9\n",
      "La division no es exacta\n"
     ]
    }
   ],
   "source": [
    "valor_1 = int(input('Ingrese el primer numero entero: '))\n",
    "valor_2 = int(input('Ingrese el segundo numero entero: '))\n",
    "valor_3 = valor_1//valor_2\n",
    "resto = valor_1 % valor_2\n",
    "\n",
    "print(f'El valor de la division de {valor_1} entre {valor_2} es: {valor_3}')\n",
    "if resto == 0:\n",
    "    print('la division es exacta')\n",
    "else:\n",
    "    print('La division no es exacta')"
   ]
  },
  {
   "cell_type": "markdown",
   "metadata": {},
   "source": [
    "### 2. Escriba un programa que pida dos números y que conteste cuál es el menor y cuál el mayor o que escriba que son iguales."
   ]
  },
  {
   "cell_type": "code",
   "execution_count": 7,
   "metadata": {},
   "outputs": [
    {
     "name": "stdout",
     "output_type": "stream",
     "text": [
      "Ingrese el primer numero: 18\n",
      "Ingrese el segundo valor: 79\n",
      "El segundo valor es mayor 79\n"
     ]
    }
   ],
   "source": [
    "va_1 = input('Ingrese el primer numero: ')\n",
    "va_2 = input('Ingrese el segundo valor: ')\n",
    "\n",
    "if va_1>va_2:\n",
    "    print(f'El primer valor es mayor {va_1}')\n",
    "elif va_1==va_2:\n",
    "     print(f'Los Valores son iguales')\n",
    "else:     \n",
    "    print(f'El segundo valor es mayor {va_2}')\n"
   ]
  },
  {
   "cell_type": "markdown",
   "metadata": {},
   "source": [
    "### 3. Escriba un programa que pida dos números enteros y que escriba si el mayor es múltiplo del menor."
   ]
  },
  {
   "cell_type": "code",
   "execution_count": 8,
   "metadata": {},
   "outputs": [
    {
     "name": "stdout",
     "output_type": "stream",
     "text": [
      "Ingrese el primer valor: 15\n",
      "Ingrese el segundo valor: 35\n",
      "Este valor 35 no es multiplo de 15\n",
      "Fin del Programa\n"
     ]
    }
   ],
   "source": [
    "val_1 = int(input('Ingrese el primer valor: '))\n",
    "val_2 = int(input('Ingrese el segundo valor: '))\n",
    "\n",
    "if val_1 > val_2:\n",
    "    if val_1 % val_2 == 0:\n",
    "        print(f'Este valor {val_1} es multiplo de {val_2}')\n",
    "    else:\n",
    "        print(f'Este valor {val_1} no es multiplo de {val_2}')\n",
    "else:\n",
    "    if val_2 % val_1==0:\n",
    "        print(f'Este valor {val_2} es multiplo de {val_1}')\n",
    "    else:\n",
    "        print(f'Este valor {val_2} no es multiplo de {val_1}')\n",
    "print(f'Fin del Programa')    "
   ]
  },
  {
   "cell_type": "markdown",
   "metadata": {},
   "source": [
    "### 4.  Escriba un programa que pida la edad de una persona y diga si es bebé (menor de 4 años), niño (menor de 15 años), adolescente (menor de 19 años), adulto (menor de 70 años o igual) o anciano (mayor de 70 años)."
   ]
  },
  {
   "cell_type": "code",
   "execution_count": 20,
   "metadata": {},
   "outputs": [
    {
     "name": "stdout",
     "output_type": "stream",
     "text": [
      "Ingrese su edad: 119\n",
      "Edad correcta\n",
      "Es un Anciano\n",
      "Fin del Programa\n"
     ]
    }
   ],
   "source": [
    "edad = int(input('Ingrese su edad: '))\n",
    "\n",
    "\n",
    "while edad >= 0 and edad <= 125:\n",
    "    print('Edad correcta')\n",
    "    if edad <= 4:\n",
    "        print('Es un Bebe')\n",
    "    elif edad <= 15:\n",
    "        print('Es un Niño')\n",
    "    elif edad <= 19:\n",
    "        print('Es un Adolescente')\n",
    "    elif edad <= 70:\n",
    "        print('Es un Adulto')\n",
    "    elif edad > 70:\n",
    "        print('Es un Anciano')\n",
    "    break\n",
    "print('Fin del Programa')"
   ]
  },
  {
   "cell_type": "markdown",
   "metadata": {},
   "source": [
    "### 5. Escriba un programa que pida un número entero mayor que cero y que escriba sus divisores."
   ]
  },
  {
   "cell_type": "code",
   "execution_count": 40,
   "metadata": {},
   "outputs": [
    {
     "name": "stdout",
     "output_type": "stream",
     "text": [
      "Ingrese un numero mayor a 0: 77\n",
      "Los divisores del numero 77 son: 1\n",
      "Los divisores del numero 77 son: 7\n",
      "Los divisores del numero 77 son: 11\n",
      "Los divisores del numero 77 son: 77\n"
     ]
    }
   ],
   "source": [
    "numero = int(input('Ingrese un numero mayor a 0: '))\n",
    "for i in range(1,numero+1):\n",
    "    if numero % i == 0:\n",
    "        print(f'Los divisores del numero {numero} son: {i}')\n",
    "        \n",
    "\n"
   ]
  },
  {
   "cell_type": "markdown",
   "metadata": {},
   "source": [
    "### 6. Escriba un programa que pida un número entero mayor que 1 y que escriba si el número es un número primo o no."
   ]
  },
  {
   "cell_type": "code",
   "execution_count": 29,
   "metadata": {},
   "outputs": [
    {
     "name": "stdout",
     "output_type": "stream",
     "text": [
      "Ingrese un numero entero mayor a 1: 15\n",
      "El numero ingresado es primo\n"
     ]
    }
   ],
   "source": [
    "valor = int(input('Ingrese un numero entero mayor a 1: '))\n",
    " \n",
    "if valor%2 == True:\n",
    "        \n",
    "    print(f'El numero ingresado es primo')\n",
    "          \n",
    "else: \n",
    "    print(f'El numero no es primo')"
   ]
  },
  {
   "cell_type": "markdown",
   "metadata": {},
   "source": [
    "### 7. Escribir un programa que pida un número y calcule la suma desde 1 hasta ese número"
   ]
  },
  {
   "cell_type": "code",
   "execution_count": 56,
   "metadata": {},
   "outputs": [
    {
     "name": "stdout",
     "output_type": "stream",
     "text": [
      "Ingrese un numero: 25\n",
      "La suma de 1 hasta 25 es: 325\n"
     ]
    }
   ],
   "source": [
    "num = int(input('Ingrese un numero: '))\n",
    "suma = 0\n",
    "for i in range(num):\n",
    "    suma += i+1 \n",
    "print(f'La suma de 1 hasta {num} es: {suma}')"
   ]
  },
  {
   "cell_type": "markdown",
   "metadata": {},
   "source": [
    "### 8. Imprime por pantalla la sucesión de Fibonacci de los 100 primeros números."
   ]
  },
  {
   "cell_type": "code",
   "execution_count": 19,
   "metadata": {},
   "outputs": [
    {
     "name": "stdout",
     "output_type": "stream",
     "text": [
      "1\n",
      "1\n",
      "2\n",
      "3\n",
      "5\n",
      "8\n",
      "13\n",
      "21\n",
      "34\n",
      "55\n",
      "89\n",
      "144\n",
      "233\n",
      "377\n",
      "610\n",
      "987\n",
      "1597\n",
      "2584\n",
      "4181\n",
      "6765\n",
      "10946\n",
      "17711\n",
      "28657\n",
      "46368\n",
      "75025\n",
      "121393\n",
      "196418\n",
      "317811\n",
      "514229\n",
      "832040\n",
      "1346269\n",
      "2178309\n",
      "3524578\n",
      "5702887\n",
      "9227465\n",
      "14930352\n",
      "24157817\n",
      "39088169\n",
      "63245986\n",
      "102334155\n",
      "165580141\n",
      "267914296\n",
      "433494437\n",
      "701408733\n",
      "1134903170\n",
      "1836311903\n",
      "2971215073\n",
      "4807526976\n",
      "7778742049\n",
      "12586269025\n",
      "20365011074\n",
      "32951280099\n",
      "53316291173\n",
      "86267571272\n",
      "139583862445\n",
      "225851433717\n",
      "365435296162\n",
      "591286729879\n",
      "956722026041\n",
      "1548008755920\n",
      "2504730781961\n",
      "4052739537881\n",
      "6557470319842\n",
      "10610209857723\n",
      "17167680177565\n",
      "27777890035288\n",
      "44945570212853\n",
      "72723460248141\n",
      "117669030460994\n",
      "190392490709135\n",
      "308061521170129\n",
      "498454011879264\n",
      "806515533049393\n",
      "1304969544928657\n",
      "2111485077978050\n",
      "3416454622906707\n",
      "5527939700884757\n",
      "8944394323791464\n",
      "14472334024676221\n",
      "23416728348467685\n",
      "37889062373143906\n",
      "61305790721611591\n",
      "99194853094755497\n",
      "160500643816367088\n",
      "259695496911122585\n",
      "420196140727489673\n",
      "679891637638612258\n",
      "1100087778366101931\n",
      "1779979416004714189\n",
      "2880067194370816120\n",
      "4660046610375530309\n",
      "7540113804746346429\n",
      "12200160415121876738\n",
      "19740274219868223167\n",
      "31940434634990099905\n",
      "51680708854858323072\n",
      "83621143489848422977\n",
      "135301852344706746049\n",
      "218922995834555169026\n",
      "354224848179261915075\n"
     ]
    }
   ],
   "source": [
    "a = 0\n",
    "b = 1\n",
    "for i in range(100):\n",
    "    c= a + b\n",
    "    a = b\n",
    "    b = c\n",
    "    print(a)"
   ]
  },
  {
   "cell_type": "markdown",
   "metadata": {},
   "source": [
    "### 9. Sumar los números impares del 1 al 100 y mostrar sólo el resultado, usando while."
   ]
  },
  {
   "cell_type": "code",
   "execution_count": 21,
   "metadata": {},
   "outputs": [
    {
     "name": "stdout",
     "output_type": "stream",
     "text": [
      "2500\n"
     ]
    }
   ],
   "source": [
    "contador = 0\n",
    "cuantos = 100\n",
    "suma = 0\n",
    "while contador < cuantos:\n",
    "    if contador % 2 == 1:\n",
    "        suma = suma + contador\n",
    "    contador = contador + 1\n",
    "print(suma)"
   ]
  },
  {
   "cell_type": "markdown",
   "metadata": {},
   "source": [
    "### tabla de multiplicar"
   ]
  },
  {
   "cell_type": "code",
   "execution_count": 33,
   "metadata": {},
   "outputs": [
    {
     "name": "stdout",
     "output_type": "stream",
     "text": [
      "Tabla de multiplicar del 1:\n",
      "1 x 1 = 1\n",
      "1 x 2 = 2\n",
      "1 x 3 = 3\n",
      "1 x 4 = 4\n",
      "1 x 5 = 5\n",
      "1 x 6 = 6\n",
      "1 x 7 = 7\n",
      "1 x 8 = 8\n",
      "1 x 9 = 9\n",
      "1 x 10 = 10\n",
      "\n",
      "Tabla de multiplicar del 2:\n",
      "2 x 1 = 2\n",
      "2 x 2 = 4\n",
      "2 x 3 = 6\n",
      "2 x 4 = 8\n",
      "2 x 5 = 10\n",
      "2 x 6 = 12\n",
      "2 x 7 = 14\n",
      "2 x 8 = 16\n",
      "2 x 9 = 18\n",
      "2 x 10 = 20\n",
      "\n",
      "Tabla de multiplicar del 3:\n",
      "3 x 1 = 3\n",
      "3 x 2 = 6\n",
      "3 x 3 = 9\n",
      "3 x 4 = 12\n",
      "3 x 5 = 15\n",
      "3 x 6 = 18\n",
      "3 x 7 = 21\n",
      "3 x 8 = 24\n",
      "3 x 9 = 27\n",
      "3 x 10 = 30\n",
      "\n",
      "Tabla de multiplicar del 4:\n",
      "4 x 1 = 4\n",
      "4 x 2 = 8\n",
      "4 x 3 = 12\n",
      "4 x 4 = 16\n",
      "4 x 5 = 20\n",
      "4 x 6 = 24\n",
      "4 x 7 = 28\n",
      "4 x 8 = 32\n",
      "4 x 9 = 36\n",
      "4 x 10 = 40\n",
      "\n",
      "Tabla de multiplicar del 5:\n",
      "5 x 1 = 5\n",
      "5 x 2 = 10\n",
      "5 x 3 = 15\n",
      "5 x 4 = 20\n",
      "5 x 5 = 25\n",
      "5 x 6 = 30\n",
      "5 x 7 = 35\n",
      "5 x 8 = 40\n",
      "5 x 9 = 45\n",
      "5 x 10 = 50\n",
      "\n"
     ]
    }
   ],
   "source": [
    "for i in range(1, 6):\n",
    "    \n",
    "    print(f\"Tabla de multiplicar del {i}:\")\n",
    "    \n",
    "    for j in range(1, 11):\n",
    "\n",
    "        resultado = i * j\n",
    "        \n",
    "        print(f\"{i} x {j} = {resultado}\")\n",
    "        \n",
    "    print()\n",
    "tabla_de_multiplicar = [(i,j,i*j) for i in range(1,6) for j in range(1,11)]"
   ]
  },
  {
   "cell_type": "code",
   "execution_count": 34,
   "metadata": {},
   "outputs": [
    {
     "name": "stdout",
     "output_type": "stream",
     "text": [
      "1 x 1 = 1\n",
      "1 x 2 = 2\n",
      "1 x 3 = 3\n",
      "1 x 4 = 4\n",
      "1 x 5 = 5\n",
      "1 x 6 = 6\n",
      "1 x 7 = 7\n",
      "1 x 8 = 8\n",
      "1 x 9 = 9\n",
      "1 x 10 = 10\n",
      "2 x 1 = 2\n",
      "2 x 2 = 4\n",
      "2 x 3 = 6\n",
      "2 x 4 = 8\n",
      "2 x 5 = 10\n",
      "2 x 6 = 12\n",
      "2 x 7 = 14\n",
      "2 x 8 = 16\n",
      "2 x 9 = 18\n",
      "2 x 10 = 20\n",
      "3 x 1 = 3\n",
      "3 x 2 = 6\n",
      "3 x 3 = 9\n",
      "3 x 4 = 12\n",
      "3 x 5 = 15\n",
      "3 x 6 = 18\n",
      "3 x 7 = 21\n",
      "3 x 8 = 24\n",
      "3 x 9 = 27\n",
      "3 x 10 = 30\n",
      "4 x 1 = 4\n",
      "4 x 2 = 8\n",
      "4 x 3 = 12\n",
      "4 x 4 = 16\n",
      "4 x 5 = 20\n",
      "4 x 6 = 24\n",
      "4 x 7 = 28\n",
      "4 x 8 = 32\n",
      "4 x 9 = 36\n",
      "4 x 10 = 40\n",
      "5 x 1 = 5\n",
      "5 x 2 = 10\n",
      "5 x 3 = 15\n",
      "5 x 4 = 20\n",
      "5 x 5 = 25\n",
      "5 x 6 = 30\n",
      "5 x 7 = 35\n",
      "5 x 8 = 40\n",
      "5 x 9 = 45\n",
      "5 x 10 = 50\n"
     ]
    }
   ],
   "source": [
    "tabla_de_multiplicar = [(i,j,i*j) for i in range(1,6) for j in range(1,11)]\n",
    "\n",
    "for i, j, resultado in tabla_de_multiplicar:\n",
    "    print(f\"{i} x {j} = {resultado}\")"
   ]
  },
  {
   "cell_type": "markdown",
   "metadata": {},
   "source": [
    "### 10.  Crea una lista de nombres y devuelve otra lista con las iniciales de los nombres que aparecen en la primera. Hazlo de dos formas: usando bucles y usando lista por compresión.\n"
   ]
  },
  {
   "cell_type": "code",
   "execution_count": 30,
   "metadata": {},
   "outputs": [
    {
     "name": "stdout",
     "output_type": "stream",
     "text": [
      "['V', 'E', 'N', 'E', 'Z', 'U', 'E', 'L', 'A']\n"
     ]
    }
   ],
   "source": [
    "nombres = ['Veronica','Eduardo','Nancy','Estela','Zulma','Unai','Enrique','Laura','Angelica']\n",
    "iniciales = []\n",
    "for i in nombres:\n",
    "    inicial = i[0]\n",
    "    iniciales.append(inicial)\n",
    "print(iniciales)"
   ]
  },
  {
   "cell_type": "code",
   "execution_count": 31,
   "metadata": {},
   "outputs": [
    {
     "name": "stdout",
     "output_type": "stream",
     "text": [
      "['V', 'E', 'N', 'E', 'Z', 'U', 'E', 'L', 'A']\n"
     ]
    }
   ],
   "source": [
    "nombres = ['Veronica','Eduardo','Nancy','Estela','Zulma','Unai','Enrique','Laura','Angelica']\n",
    "iniciales = [nombres[0] for nombres in nombres]\n",
    "print(iniciales)"
   ]
  },
  {
   "cell_type": "markdown",
   "metadata": {},
   "source": [
    "### 11.  Crea una lista de nombres y apellidos, y devuelve otra lista sólo con los apellidos."
   ]
  },
  {
   "cell_type": "code",
   "execution_count": 32,
   "metadata": {},
   "outputs": [
    {
     "name": "stdout",
     "output_type": "stream",
     "text": [
      "['Gonzalez', 'Marquez', 'Hernandez']\n"
     ]
    }
   ],
   "source": [
    "nombres = ['Veronica Gonzalez','Eduardo Marquez','Nancy Hernandez']\n",
    "apellidos = []\n",
    "for i in nombres:\n",
    "    apellido = i.split()[1]\n",
    "    apellidos.append(apellido)\n",
    "    \n",
    "\n",
    "print(apellidos)"
   ]
  },
  {
   "cell_type": "markdown",
   "metadata": {},
   "source": [
    "### 12. Crea un diccionario de nombres de alumnos y notas y devuelve los nombres de los alumnos que estén suspensos."
   ]
  },
  {
   "cell_type": "code",
   "execution_count": 61,
   "metadata": {},
   "outputs": [
    {
     "name": "stdout",
     "output_type": "stream",
     "text": [
      "Maria 4.5\n",
      "Pedro 3\n",
      "Jesus 2\n"
     ]
    }
   ],
   "source": [
    "alum ={'Luis':8,'Sara': 9,'Enrique': 6,'Ainhoa': 7.5,'Maria': 4.5,'Pedro':3,'Jesus':2,'Fernanda':5.5}\n",
    " \n",
    "for k,v in alum.items():\n",
    "    if v < 5:\n",
    "        print(k,v)"
   ]
  },
  {
   "cell_type": "markdown",
   "metadata": {},
   "source": [
    "### 13. Crea un programa que pida al usuario dos números y haga su división. Haz control de excepciones para que avise al usuario si el denominador es cero. "
   ]
  },
  {
   "cell_type": "code",
   "execution_count": 86,
   "metadata": {},
   "outputs": [
    {
     "name": "stdout",
     "output_type": "stream",
     "text": [
      "Ingrese un numero: 15\n",
      "Ingrese otro numero: 0\n",
      "Ingrese un numero diferente a 0: \n",
      "Ingrese otro numero 0\n",
      "Ingrese un numero diferente a 0: \n",
      "Ingrese otro numero 0\n",
      "Ingrese un numero diferente a 0: \n",
      "Ingrese otro numero 0\n",
      "Ingrese un numero diferente a 0: \n",
      "Ingrese otro numero 0\n",
      "Ingrese un numero diferente a 0: \n",
      "Ingrese otro numero 3\n",
      "La division entre 15.0 y 3.0 es: 5.0\n"
     ]
    }
   ],
   "source": [
    "num_1 = float(input('Ingrese un numero: '))\n",
    "num_2 = float(input('Ingrese otro numero: '))\n",
    "while num_2 == 0:\n",
    "    print('Ingrese un numero diferente a 0: ')\n",
    "    num_2 = float(input('Ingrese otro numero '))\n",
    "num_3 = num_1/num_2\n",
    "print(f'La division entre {num_1} y {num_2} es: {num_3}')    "
   ]
  },
  {
   "cell_type": "markdown",
   "metadata": {},
   "source": [
    "### 14. Escribe un programa que pida al usuario un número entero. El programa debe pedir al usuario números, hasta que éste introduzca el número 13. En este caso, el programa debe devolver: \"Enhorabuena, le ha tocado el premio\". \n",
    "##### Pista: debes usar un bucle while con \"algo más.\""
   ]
  },
  {
   "cell_type": "code",
   "execution_count": 35,
   "metadata": {},
   "outputs": [
    {
     "name": "stdout",
     "output_type": "stream",
     "text": [
      "Introduzca un numero: 15\n",
      "Introduzca un numero: 18\n",
      "Introduzca un numero: 17\n",
      "Introduzca un numero: 13\n",
      "Enhorabuena,le ha tocado el premio\n"
     ]
    }
   ],
   "source": [
    "valor = int(input('Introduzca un numero: '))\n",
    "while valor != 13:\n",
    "    valor = int(input('Introduzca un numero: '))\n",
    "print('Enhorabuena,le ha tocado el premio')"
   ]
  },
  {
   "cell_type": "markdown",
   "metadata": {},
   "source": [
    "### 15. Escribe un programa que pida al usuario una cadena de texto y cuente cuántas veces aparece cada letra en la cadena utilizando un bucle for."
   ]
  },
  {
   "cell_type": "code",
   "execution_count": 4,
   "metadata": {},
   "outputs": [
    {
     "name": "stdout",
     "output_type": "stream",
     "text": [
      "Ingrese una frase: Luke, yo soy tu padre. Conquistemos la galaxia juntos.\n",
      ". 54\n"
     ]
    }
   ],
   "source": [
    "cadena = input('Ingrese una frase: ')\n",
    "contador = 0\n",
    "for i in cadena:\n",
    "    cadena.count(i)\n",
    "    contador += 1\n",
    "print(i,contador)    "
   ]
  },
  {
   "cell_type": "code",
   "execution_count": 2,
   "metadata": {},
   "outputs": [
    {
     "name": "stdout",
     "output_type": "stream",
     "text": [
      "Ingrese una frase: mi cadena\n"
     ]
    },
    {
     "data": {
      "text/plain": [
       "[('d', 1),\n",
       " ('m', 1),\n",
       " (' ', 1),\n",
       " ('i', 1),\n",
       " ('c', 1),\n",
       " ('n', 1),\n",
       " ('e', 1),\n",
       " ('a', 2)]"
      ]
     },
     "execution_count": 2,
     "metadata": {},
     "output_type": "execute_result"
    }
   ],
   "source": [
    "cadena_2 = input('Ingrese una frase: ')\n",
    "lista_resultados = []\n",
    "set_1 = set(cadena_2)\n",
    "for i in set_1:\n",
    "    tupla = (i,cadena_2.count(i))\n",
    "    lista_resultados.append(tupla)\n",
    "lista_resultados"
   ]
  },
  {
   "cell_type": "code",
   "execution_count": 109,
   "metadata": {},
   "outputs": [
    {
     "name": "stdout",
     "output_type": "stream",
     "text": [
      "Ingrese una frase: Luke, yo soy tu padre. Conquistemos la galaxia juntos.\n",
      "'L' aparece 1 veces en la cadena\n",
      "'u' aparece 4 veces en la cadena\n",
      "'k' aparece 1 veces en la cadena\n",
      "'e' aparece 3 veces en la cadena\n",
      "',' aparece 1 veces en la cadena\n",
      "' ' aparece 8 veces en la cadena\n",
      "'y' aparece 2 veces en la cadena\n",
      "'o' aparece 5 veces en la cadena\n",
      "'s' aparece 4 veces en la cadena\n",
      "'t' aparece 3 veces en la cadena\n",
      "'p' aparece 1 veces en la cadena\n",
      "'a' aparece 5 veces en la cadena\n",
      "'d' aparece 1 veces en la cadena\n",
      "'r' aparece 1 veces en la cadena\n",
      "'.' aparece 2 veces en la cadena\n",
      "'C' aparece 1 veces en la cadena\n",
      "'n' aparece 2 veces en la cadena\n",
      "'q' aparece 1 veces en la cadena\n",
      "'i' aparece 2 veces en la cadena\n",
      "'m' aparece 1 veces en la cadena\n",
      "'l' aparece 2 veces en la cadena\n",
      "'g' aparece 1 veces en la cadena\n",
      "'x' aparece 1 veces en la cadena\n",
      "'j' aparece 1 veces en la cadena\n"
     ]
    }
   ],
   "source": [
    "cadena.lower()\n",
    "conteo = {}\n",
    "for letra in cadena:\n",
    "    if letra in conteo:\n",
    "        conteo[letra] += 1\n",
    "    else:\n",
    "        conteo[letra] = 1\n",
    "for letra, count in conteo.items():\n",
    "    print(f\"'{letra}' aparece {count} veces en la cadena\")"
   ]
  },
  {
   "cell_type": "markdown",
   "metadata": {},
   "source": [
    "### 16. Escribe un programa que pida al usuario una cadena de texto y determine si es un palíndromo (es decir, si se lee igual de izquierda a derecha que de derecha a izquierda) utilizando un bucle for."
   ]
  },
  {
   "cell_type": "code",
   "execution_count": 5,
   "metadata": {},
   "outputs": [
    {
     "name": "stdout",
     "output_type": "stream",
     "text": [
      "Ingrese una frase o palabra: luz azul\n",
      "No es palíndromo\n"
     ]
    }
   ],
   "source": [
    "frase = input('Ingrese una frase o palabra: ')\n",
    "\n",
    "if frase == frase [::-1]:\n",
    "    print('Es palíndromo')\n",
    "else:\n",
    "    print('No es palíndromo')"
   ]
  }
 ],
 "metadata": {
  "kernelspec": {
   "display_name": "Python 3 (ipykernel)",
   "language": "python",
   "name": "python3"
  },
  "language_info": {
   "codemirror_mode": {
    "name": "ipython",
    "version": 3
   },
   "file_extension": ".py",
   "mimetype": "text/x-python",
   "name": "python",
   "nbconvert_exporter": "python",
   "pygments_lexer": "ipython3",
   "version": "3.11.2"
  }
 },
 "nbformat": 4,
 "nbformat_minor": 2
}
