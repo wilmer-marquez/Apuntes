{
 "cells": [
  {
   "cell_type": "markdown",
   "metadata": {},
   "source": [
    "# Retillos para practicar un poco de python"
   ]
  },
  {
   "cell_type": "markdown",
   "metadata": {},
   "source": [
    "1 - Los alumnos de un curso se han dividido en dos grupos A y B de acuerdo al sexo y el nombre. El grupo A esta formado por las mujeres con un nombre anterior a la M y los hombres con un nombre posterior a la N y el grupo B por el resto. Escribir un programa que pregunte al usuario su nombre y sexo, y muestre por pantalla el grupo que le corresponde."
   ]
  },
  {
   "cell_type": "code",
   "execution_count": null,
   "metadata": {},
   "outputs": [],
   "source": []
  },
  {
   "cell_type": "markdown",
   "metadata": {},
   "source": [
    "2 - Lee los números enteros del teclado, hasta que el usuario introduzca el 0. Finalmente, muestra la suma de todos los números positivos introducidos."
   ]
  },
  {
   "cell_type": "code",
   "execution_count": 7,
   "metadata": {},
   "outputs": [
    {
     "name": "stdout",
     "output_type": "stream",
     "text": [
      "Ingrese un numero: 15\n",
      "Ingrese un numero: 25\n",
      "Ingrese un numero: 45\n",
      "Ingrese un numero: 35\n",
      "Ingrese un numero: 0\n",
      "La suma es 120\n"
     ]
    }
   ],
   "source": [
    "suma = 0\n",
    "\n",
    "while numero != 0:\n",
    "    numero = int(input('Ingrese un numero: '))\n",
    "   \n",
    "    if numero > 0:\n",
    "        suma += numero\n",
    "        \n",
    "print(f'La suma es {suma}')        "
   ]
  },
  {
   "cell_type": "markdown",
   "metadata": {},
   "source": [
    "3 - Lee los números enteros del teclado, hasta que el usuario introduzca el 0. Finalmente, devuelve el mayor de los números introducidos\n"
   ]
  },
  {
   "cell_type": "code",
   "execution_count": 10,
   "metadata": {},
   "outputs": [
    {
     "name": "stdout",
     "output_type": "stream",
     "text": [
      "Ingrese un numero: 15\n",
      "Ingrese un numero: 25\n",
      "Ingrese un numero: 35\n",
      "Ingrese un numero: 0\n",
      "el numero maximo es 35\n"
     ]
    }
   ],
   "source": [
    "nunmax = 0\n",
    "numero = 1\n",
    "while numero != 0:\n",
    "    numero = int(input('Ingrese un numero: '))\n",
    "   \n",
    "    if numero > nunmax:\n",
    "        nunmax = numero \n",
    "        \n",
    "print(f'el numero maximo es {nunmax}')  "
   ]
  },
  {
   "cell_type": "markdown",
   "metadata": {},
   "source": [
    "4 - Escribe un programa que pregunte al usuario por su edad y muestre todos los años que ha alcanzado (desde el 1 hasta su edad)."
   ]
  },
  {
   "cell_type": "code",
   "execution_count": 15,
   "metadata": {},
   "outputs": [
    {
     "name": "stdout",
     "output_type": "stream",
     "text": [
      "Ingrese su edad: 5\n",
      "Haz cumplido 0 años\n",
      "Haz cumplido 1 años\n",
      "Haz cumplido 2 años\n",
      "Haz cumplido 3 años\n",
      "Haz cumplido 4 años\n"
     ]
    }
   ],
   "source": [
    "edad = int(input('Ingrese su edad: '))\n",
    "for i in range(edad):\n",
    "    print('Haz cumplido ' + str(i) + ' años')"
   ]
  },
  {
   "cell_type": "markdown",
   "metadata": {},
   "source": [
    "5 - El mismo programa tiene que hacer lo mismo pero mostrar todos los años en los que has vivido."
   ]
  },
  {
   "cell_type": "code",
   "execution_count": null,
   "metadata": {},
   "outputs": [],
   "source": [
    "edad = int(input('Ingrese su edad: '))\n",
    "for i in range(edad):\n",
    "    print('Haz cumplido ' + str(i) + ' años')"
   ]
  },
  {
   "cell_type": "code",
   "execution_count": 16,
   "metadata": {},
   "outputs": [],
   "source": [
    "import datetime # libreria incluida en python para manejar fechas e incluso saber hora y dia actual"
   ]
  },
  {
   "cell_type": "code",
   "execution_count": 18,
   "metadata": {},
   "outputs": [
    {
     "name": "stdout",
     "output_type": "stream",
     "text": [
      "Escribe tu edad: 33\n",
      "1990\n",
      "1991\n",
      "1992\n",
      "1993\n",
      "1994\n",
      "1995\n",
      "1996\n",
      "1997\n",
      "1998\n",
      "1999\n",
      "2000\n",
      "2001\n",
      "2002\n",
      "2003\n",
      "2004\n",
      "2005\n",
      "2006\n",
      "2007\n",
      "2008\n",
      "2009\n",
      "2010\n",
      "2011\n",
      "2012\n",
      "2013\n",
      "2014\n",
      "2015\n",
      "2016\n",
      "2017\n",
      "2018\n",
      "2019\n",
      "2020\n",
      "2021\n",
      "2022\n",
      "2023\n"
     ]
    }
   ],
   "source": [
    "edad = int(input('Escribe tu edad: ')) #33\n",
    "\n",
    "today= datetime.date.today()\n",
    "year= today.strftime('%Y') #2023\n",
    "\n",
    "año_nac = int(year) - edad #1990\n",
    "\n",
    "while año_nac <= int(year):\n",
    "    print(año_nac)\n",
    "    año_nac = año_nac + 1"
   ]
  },
  {
   "cell_type": "code",
   "execution_count": 21,
   "metadata": {},
   "outputs": [
    {
     "name": "stdout",
     "output_type": "stream",
     "text": [
      "Ingresas tu edad: 33\n",
      "1990\n",
      "1991\n",
      "1992\n",
      "1993\n",
      "1994\n",
      "1995\n",
      "1996\n",
      "1997\n",
      "1998\n",
      "1999\n",
      "2000\n",
      "2001\n",
      "2002\n",
      "2003\n",
      "2004\n",
      "2005\n",
      "2006\n",
      "2007\n",
      "2008\n",
      "2009\n",
      "2010\n",
      "2011\n",
      "2012\n",
      "2013\n",
      "2014\n",
      "2015\n",
      "2016\n",
      "2017\n",
      "2018\n",
      "2019\n",
      "2020\n",
      "2021\n",
      "2022\n",
      "2023\n"
     ]
    }
   ],
   "source": [
    "edad = int(input('Ingresas tu edad: '))\n",
    "año_actual = 2023\n",
    "\n",
    "año_nac = año_actual - edad\n",
    "\n",
    "while año_nac <= año_actual:\n",
    "    print(año_nac)\n",
    "    año_nac = año_nac +1"
   ]
  },
  {
   "cell_type": "markdown",
   "metadata": {},
   "source": [
    "6 - Escribir un programa que pida al usuario un número entero positivo y muestre por pantalla todos los números impares desde 1 hasta ese número separados por comas."
   ]
  },
  {
   "cell_type": "code",
   "execution_count": 27,
   "metadata": {},
   "outputs": [
    {
     "name": "stdout",
     "output_type": "stream",
     "text": [
      "Ingrese un numero: 25\n",
      "[1, 3, 5, 7, 9, 11, 13, 15, 17, 19, 21, 23, 25]\n"
     ]
    }
   ],
   "source": [
    "num_1 = int(input('Ingrese un numero: '))\n",
    "lst_1 = []\n",
    "for i in range(1,num_1+1,2):\n",
    "    lst_1.append(i)\n",
    "print(lst_1)"
   ]
  },
  {
   "cell_type": "markdown",
   "metadata": {},
   "source": [
    "7 - Escribir un programa que pida al usuario una palabra y luego muestre por pantalla una a una las letras de la palabra introducida empezando por la última."
   ]
  },
  {
   "cell_type": "code",
   "execution_count": 36,
   "metadata": {},
   "outputs": [
    {
     "name": "stdout",
     "output_type": "stream",
     "text": [
      "Ingrese una palabra: Tangamandapia\n",
      "13\n"
     ]
    }
   ],
   "source": [
    "palabra = input('Ingrese una palabra: ')\n",
    "letra = []\n",
    "for i in range(len(palabra),0,-1):\n",
    "    letra.append(i)\n",
    "print(letra[i-1])    "
   ]
  },
  {
   "cell_type": "code",
   "execution_count": 38,
   "metadata": {},
   "outputs": [
    {
     "name": "stdout",
     "output_type": "stream",
     "text": [
      "Ingrese una palabra: Tangamandapia\n"
     ]
    },
    {
     "data": {
      "text/plain": [
       "'aipadnamagnaT'"
      ]
     },
     "execution_count": 38,
     "metadata": {},
     "output_type": "execute_result"
    }
   ],
   "source": [
    "palabra = input('Ingrese una palabra: ')\n",
    "palabra_invertida = palabra [::-1]\n",
    "palabra_invertida"
   ]
  }
 ],
 "metadata": {
  "kernelspec": {
   "display_name": "Python 3 (ipykernel)",
   "language": "python",
   "name": "python3"
  },
  "language_info": {
   "codemirror_mode": {
    "name": "ipython",
    "version": 3
   },
   "file_extension": ".py",
   "mimetype": "text/x-python",
   "name": "python",
   "nbconvert_exporter": "python",
   "pygments_lexer": "ipython3",
   "version": "3.11.2"
  }
 },
 "nbformat": 4,
 "nbformat_minor": 2
}
