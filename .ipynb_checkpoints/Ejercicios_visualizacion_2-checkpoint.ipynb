{
 "cells": [
  {
   "cell_type": "code",
   "execution_count": null,
   "id": "4e8241fb",
   "metadata": {},
   "outputs": [],
   "source": [
    "import seaborn as sns\n",
    "import pandas as pd\n",
    "import matplotlib.pyplot as plt\n",
    "import plotly.express as px\n",
    "import plotly.graph_objects as go"
   ]
  },
  {
   "cell_type": "code",
   "execution_count": null,
   "id": "2d9dbc15",
   "metadata": {},
   "outputs": [],
   "source": [
    "# Matplotlib inline para visualizar los gráficos de Matplotlib\n",
    "#Para que se vean los gráficos en el notebook\n",
    "%matplotlib inline \n",
    "#Para que se vean los gráficos en alta resolución\n",
    "%config Inlinebackend.figure_format= 'retina' \n",
    "# Configuración para setear y que todas las fig de Seaborn salgan por defecto con este tamaño\n",
    "# Se puede especificar el tamaño de cada figura\n",
    "sns.set_context(\"poster\") #paper, notebook, talk, poster\n",
    "sns.set(rc={\"figure.figsize\": (12.,6.)}) #Tamaño de las figuras\n",
    "sns.set_style(\"darkgrid\") #darkgrid, whitegrid, dark, white, ticks"
   ]
  },
  {
   "cell_type": "code",
   "execution_count": null,
   "id": "a385e793",
   "metadata": {},
   "outputs": [],
   "source": [
    "from IPython.display import HTML\n",
    "import random\n",
    "\n",
    "def hide_toggle(for_next=False):\n",
    "    this_cell = \"\"\"$('div.cell.code_cell.rendered.selected')\"\"\"\n",
    "    next_cell = this_cell + '.next()'\n",
    "\n",
    "    toggle_text = 'Pista'  # text shown on toggle link\n",
    "    target_cell = this_cell  # target cell to control with toggle\n",
    "    js_hide_current = ''  # bit of JS to permanently hide code in current cell (only when toggling next cell)\n",
    "\n",
    "    if for_next:\n",
    "        target_cell = next_cell\n",
    "        toggle_text += ' next cell'\n",
    "        js_hide_current = this_cell + '.find(\"div.input\").hide();'\n",
    "\n",
    "    js_f_name = 'code_toggle_{}'.format(str(random.randint(1,2**64)))\n",
    "\n",
    "    html = \"\"\"\n",
    "        <script>\n",
    "            function {f_name}() {{\n",
    "                {cell_selector}.find('div.input').toggle();\n",
    "            }}\n",
    "\n",
    "            {js_hide_current}\n",
    "        </script>\n",
    "\n",
    "        <a href=\"javascript:{f_name}()\">{toggle_text}</a>\n",
    "    \"\"\".format(\n",
    "        f_name=js_f_name,\n",
    "        cell_selector=target_cell,\n",
    "        js_hide_current=js_hide_current, \n",
    "        toggle_text=toggle_text\n",
    "    )\n",
    "\n",
    "    return HTML(html)"
   ]
  },
  {
   "cell_type": "markdown",
   "id": "b725f79e",
   "metadata": {},
   "source": [
    "## 1. Carga el set de datos mpg de seaborn."
   ]
  },
  {
   "cell_type": "code",
   "execution_count": null,
   "id": "b3f36f6f",
   "metadata": {},
   "outputs": [],
   "source": [
    "mpg = sns.load_dataset('mpg')\n",
    "mpg"
   ]
  },
  {
   "cell_type": "markdown",
   "id": "77aacae1",
   "metadata": {},
   "source": [
    "## 2. Haz un grafico de barras para ver cuantas coches provienen de cada país."
   ]
  },
  {
   "cell_type": "code",
   "execution_count": null,
   "id": "61d00b44",
   "metadata": {},
   "outputs": [],
   "source": [
    "fig = px.bar(mpg, x=mpg['origin'], color='origin' )\n",
    "fig.show()"
   ]
  },
  {
   "cell_type": "markdown",
   "id": "06447813",
   "metadata": {},
   "source": [
    "## 3. Seaborn tiene muchos tipos de paletas, por ejemplo: deep , muted , pastel , bright , dark , y colorblind. Prueba a cambiar la paleta del anterior grafico de barras y escoge el que menos te guste."
   ]
  },
  {
   "cell_type": "code",
   "execution_count": null,
   "id": "035f5101",
   "metadata": {},
   "outputs": [],
   "source": [
    "sns.barplot(data=mpg, x='model_year',y = 'weight', palette='magma')"
   ]
  },
  {
   "cell_type": "code",
   "execution_count": null,
   "id": "8f91e5b4",
   "metadata": {},
   "outputs": [],
   "source": [
    "fig = px.bar(mpg,x='model_year',y='weight')\n",
    "fig.show()"
   ]
  },
  {
   "cell_type": "markdown",
   "id": "5b35b103",
   "metadata": {},
   "source": [
    "## 4. Ahora, modifica el gráfico anterior agrupando por la columna cylinders."
   ]
  },
  {
   "cell_type": "code",
   "execution_count": null,
   "id": "af0c2536",
   "metadata": {
    "tags": [
     "hide_cell"
    ]
   },
   "outputs": [],
   "source": [
    "## Pista_ usa el parámetro hue\n",
    "hide_toggle()"
   ]
  },
  {
   "cell_type": "code",
   "execution_count": null,
   "id": "f6f59f59",
   "metadata": {
    "scrolled": true
   },
   "outputs": [],
   "source": [
    "barras = sns.barplot(data=mpg, x='model_year',y = 'acceleration', palette='magma',hue='cylinders')\n",
    "sns.move_legend(barras, \"upper left\", bbox_to_anchor=(1, 1))"
   ]
  },
  {
   "cell_type": "code",
   "execution_count": null,
   "id": "b77b333c",
   "metadata": {},
   "outputs": [],
   "source": [
    "fig = px.bar(mpg,x='model_year',y='weight',color='cylinders')\n",
    "fig.show()"
   ]
  },
  {
   "cell_type": "markdown",
   "id": "2da4e5ba",
   "metadata": {},
   "source": [
    "## 5. Puedes hacer que el gráfico se vea horizintalmente?"
   ]
  },
  {
   "cell_type": "code",
   "execution_count": null,
   "id": "6a8d140d",
   "metadata": {},
   "outputs": [],
   "source": [
    "barras = sns.countplot(data=mpg,y = 'origin', palette='magma',hue='cylinders')\n",
    "sns.move_legend(barras, \"upper left\", bbox_to_anchor=(1, 1))"
   ]
  },
  {
   "cell_type": "code",
   "execution_count": null,
   "id": "e620bdf7",
   "metadata": {},
   "outputs": [],
   "source": [
    "fig_h = px.bar(mpg,y='origin',color='cylinders')\n",
    "fig_h.show()"
   ]
  },
  {
   "cell_type": "markdown",
   "id": "09e9f2d0",
   "metadata": {},
   "source": [
    "## 6. Haz que el gráfico tenga unos colores muy saturados."
   ]
  },
  {
   "cell_type": "code",
   "execution_count": null,
   "id": "58b6ee95",
   "metadata": {
    "scrolled": true
   },
   "outputs": [],
   "source": [
    "barras = sns.countplot(data=mpg,y = 'origin', palette='magma',hue='cylinders',saturation = 1)\n",
    "sns.move_legend(barras, \"upper left\", bbox_to_anchor=(1, 1))"
   ]
  },
  {
   "cell_type": "code",
   "execution_count": null,
   "id": "fdc6ac70",
   "metadata": {},
   "outputs": [],
   "source": [
    "fig_h = px.bar(mpg,y='origin',color='cylinders',opacity=1)\n",
    "fig_h.show()"
   ]
  },
  {
   "cell_type": "markdown",
   "id": "45c2bb27",
   "metadata": {},
   "source": [
    "## 7. Volviendo a que sea el grafico en vertical, puedes añadir etiquetas para ver cuantos coches hay de cada tipo?"
   ]
  },
  {
   "cell_type": "code",
   "execution_count": null,
   "id": "4d3373d1",
   "metadata": {},
   "outputs": [],
   "source": [
    "## Pista: usa el comnado que Víctor enseñó en los apuntes\n",
    "## y quítale la suma y la división\n",
    "hide_toggle()"
   ]
  },
  {
   "cell_type": "code",
   "execution_count": null,
   "id": "e742e37d",
   "metadata": {
    "scrolled": true
   },
   "outputs": [],
   "source": [
    "barras = sns.countplot(data=mpg, x='origin', palette='magma',hue='cylinders',saturation = 1)\n",
    "sns.move_legend(barras, \"upper left\", bbox_to_anchor=(1, 1))\n",
    "for p in barras.patches:\n",
    "    barras.annotate(p.get_height(), (p.get_x(), p.get_height()))"
   ]
  },
  {
   "cell_type": "code",
   "execution_count": null,
   "id": "9bf68281",
   "metadata": {},
   "outputs": [],
   "source": [
    "fig = px.bar(mpg,x='model_year',y='weight',color='cylinders')\n",
    "fig.add_trace(go.Scatter(\n",
    "    x=mpg['model_year'], \n",
    "    y=mpg['weight'],\n",
    "    text=mpg['weight'],\n",
    "    mode='text',\n",
    "    textposition='top center',\n",
    "    textfont=dict(\n",
    "        size=18,\n",
    "    ),\n",
    "    showlegend=False\n",
    "))\n",
    "\n",
    "fig.show()"
   ]
  },
  {
   "cell_type": "markdown",
   "id": "08c91d86",
   "metadata": {},
   "source": [
    "## 8. Haz un histograma de una columna numérica."
   ]
  },
  {
   "cell_type": "code",
   "execution_count": null,
   "id": "7b9e2218",
   "metadata": {},
   "outputs": [],
   "source": [
    "mpg.sample(3)"
   ]
  },
  {
   "cell_type": "code",
   "execution_count": null,
   "id": "28a7ba78",
   "metadata": {},
   "outputs": [],
   "source": [
    "sns.histplot(x=mpg.acceleration)"
   ]
  },
  {
   "cell_type": "code",
   "execution_count": null,
   "id": "040449e5",
   "metadata": {},
   "outputs": [],
   "source": [
    "fig_hist = px.histogram(mpg,x='acceleration')\n",
    "fig_hist.show()"
   ]
  },
  {
   "cell_type": "markdown",
   "id": "7a57ea41",
   "metadata": {},
   "source": [
    "## 9. Cambiale el número de barras a 20 (por defecto son 10)"
   ]
  },
  {
   "cell_type": "code",
   "execution_count": null,
   "id": "d7187f40",
   "metadata": {
    "scrolled": true
   },
   "outputs": [],
   "source": [
    "sns.histplot(x=mpg.acceleration,bins=30)"
   ]
  },
  {
   "cell_type": "code",
   "execution_count": null,
   "id": "71ac271c",
   "metadata": {},
   "outputs": [],
   "source": [
    "fig_hist = px.histogram(mpg,x='acceleration',nbins=30,facet_row_spacing =1)\n",
    "fig_hist.show()"
   ]
  },
  {
   "cell_type": "markdown",
   "id": "3ff2b95a",
   "metadata": {},
   "source": [
    "## 10. Haz que cada barra esté vacía y cambiale el color."
   ]
  },
  {
   "cell_type": "code",
   "execution_count": null,
   "id": "40266686",
   "metadata": {
    "scrolled": true
   },
   "outputs": [],
   "source": [
    "sns.histplot(x=mpg.acceleration,bins=30,fill=None,color='darkgreen')"
   ]
  },
  {
   "cell_type": "code",
   "execution_count": null,
   "id": "f9ba71a2",
   "metadata": {},
   "outputs": [],
   "source": [
    "fig_hist = px.histogram(mpg,x='acceleration',nbins=30,facet_row_spacing =1)\n",
    "fig.update_traces(marker_color='rgba(0,0,0,0)', marker_line_color='black', marker_line_width=1)\n",
    "fig_hist.show()"
   ]
  },
  {
   "cell_type": "markdown",
   "id": "bf224fae",
   "metadata": {},
   "source": [
    "## 11. Añade la estimación de la densidad. "
   ]
  },
  {
   "cell_type": "code",
   "execution_count": null,
   "id": "234f4883",
   "metadata": {},
   "outputs": [],
   "source": [
    "## Pista: usa el parámetro kde\n",
    "hide_toggle()"
   ]
  },
  {
   "cell_type": "code",
   "execution_count": null,
   "id": "dbcafa52",
   "metadata": {},
   "outputs": [],
   "source": [
    "sns.histplot(x=mpg.acceleration,bins=30,fill=None,color='darkgreen',kde= True)"
   ]
  },
  {
   "cell_type": "markdown",
   "id": "2b77dfab",
   "metadata": {},
   "source": [
    "## 12. Ahora haz el histograma agrupando por origen. (usa el histograma de la actividad 8 si quieres)"
   ]
  },
  {
   "cell_type": "code",
   "execution_count": null,
   "id": "32388e82",
   "metadata": {},
   "outputs": [],
   "source": [
    "sns.histplot(data= mpg,x='acceleration',hue='origin')"
   ]
  },
  {
   "cell_type": "markdown",
   "id": "a5566232",
   "metadata": {},
   "source": [
    "## 13. Se están solapando algunos no? Como puedes hacer que estén uno encima de otro?"
   ]
  },
  {
   "cell_type": "code",
   "execution_count": null,
   "id": "d21b749a",
   "metadata": {},
   "outputs": [],
   "source": [
    "## Pista: usa el parámetro multiple\n",
    "hide_toggle()"
   ]
  },
  {
   "cell_type": "code",
   "execution_count": null,
   "id": "a3ed35ea",
   "metadata": {},
   "outputs": [],
   "source": [
    "sns.histplot(data= mpg,x='acceleration',hue='origin',multiple='stack')"
   ]
  },
  {
   "cell_type": "markdown",
   "id": "1f6db256",
   "metadata": {},
   "source": [
    "## 14. Cambia la leyenda para que esté en español."
   ]
  },
  {
   "cell_type": "code",
   "execution_count": null,
   "id": "543dcaad",
   "metadata": {},
   "outputs": [],
   "source": [
    "sns.histplot(data= mpg,x='acceleration',hue='origin',multiple='stack')\n",
    "plt.legend(title='Origen', labels=['Estados Unidos', 'Japón', 'Europa'])"
   ]
  },
  {
   "cell_type": "markdown",
   "id": "e5cf07ce",
   "metadata": {},
   "source": [
    "## 15. En vez de que las barras esten una encima de otra, haz que estén separadas"
   ]
  },
  {
   "cell_type": "code",
   "execution_count": null,
   "id": "6c2d02ab",
   "metadata": {},
   "outputs": [],
   "source": [
    "sns.histplot(data= mpg,x='acceleration',hue='origin',multiple='dodge')\n",
    "plt.legend(title='Origen', labels=['Estados Unidos', 'Japón', 'Europa'])"
   ]
  },
  {
   "cell_type": "markdown",
   "id": "843adc7f",
   "metadata": {},
   "source": [
    "## 16. Haz un scatterplot con las variables weight y housepower"
   ]
  },
  {
   "cell_type": "code",
   "execution_count": null,
   "id": "6e4993fb",
   "metadata": {},
   "outputs": [],
   "source": [
    "mpg.sample(3)"
   ]
  },
  {
   "cell_type": "code",
   "execution_count": null,
   "id": "d09fbb03",
   "metadata": {
    "scrolled": true
   },
   "outputs": [],
   "source": [
    "sns.scatterplot(data=mpg, x='weight', y='horsepower')"
   ]
  },
  {
   "cell_type": "code",
   "execution_count": null,
   "id": "662ac700",
   "metadata": {},
   "outputs": [],
   "source": [
    "scatter_3d([data_frame, x, y, z, color, …])"
   ]
  },
  {
   "cell_type": "markdown",
   "id": "3eb99793",
   "metadata": {},
   "source": [
    "## 17. Colorealo según el origen"
   ]
  },
  {
   "cell_type": "code",
   "execution_count": null,
   "id": "e46a5477",
   "metadata": {},
   "outputs": [],
   "source": [
    "sns.scatterplot(data=mpg, x='weight', y='horsepower',hue='origin')"
   ]
  },
  {
   "cell_type": "markdown",
   "id": "851c0fa8",
   "metadata": {},
   "source": [
    "## 18. Haz que el tamaño de cada pelota dependa de cylinders"
   ]
  },
  {
   "cell_type": "code",
   "execution_count": null,
   "id": "8b7f77d1",
   "metadata": {},
   "outputs": [],
   "source": [
    "sns.scatterplot(data=mpg, x='weight', y='horsepower',size='cylinders',hue='origin')"
   ]
  },
  {
   "cell_type": "markdown",
   "id": "61eee289",
   "metadata": {},
   "source": [
    "## 19. Haz que la opacidad sea de 0.5"
   ]
  },
  {
   "cell_type": "code",
   "execution_count": null,
   "id": "03424441",
   "metadata": {},
   "outputs": [],
   "source": [
    "sns.scatterplot(data=mpg, x='weight', y='horsepower',size='cylinders',hue='origin',alpha=0.5)"
   ]
  },
  {
   "cell_type": "markdown",
   "id": "dad85afd",
   "metadata": {},
   "source": [
    "## 20. Cambia el estilo de punto según el origen."
   ]
  },
  {
   "cell_type": "code",
   "execution_count": null,
   "id": "7eb8713a",
   "metadata": {},
   "outputs": [],
   "source": [
    "mpg.sample(3)"
   ]
  },
  {
   "cell_type": "code",
   "execution_count": null,
   "id": "1e02f3b1",
   "metadata": {},
   "outputs": [],
   "source": [
    "puntos = sns.scatterplot(data=mpg, x='weight', y='horsepower',size='cylinders',style='origin',hue='model_year')\n",
    "sns.move_legend(puntos, \"upper left\", bbox_to_anchor=(1, 1))"
   ]
  },
  {
   "cell_type": "markdown",
   "id": "2fdb431e",
   "metadata": {},
   "source": [
    "## 21. Haz un pairplot y agrupa por el origen."
   ]
  },
  {
   "cell_type": "code",
   "execution_count": null,
   "id": "cec9de17",
   "metadata": {},
   "outputs": [],
   "source": [
    "sns.pairplot(mpg,hue='origin')"
   ]
  },
  {
   "cell_type": "markdown",
   "id": "9eacf6fc",
   "metadata": {},
   "source": [
    "## 22. Haz un boxplot de la variable weight según los cylinders con plotly"
   ]
  },
  {
   "cell_type": "code",
   "execution_count": null,
   "id": "101f5850",
   "metadata": {},
   "outputs": [],
   "source": [
    "import plotly.express as px"
   ]
  },
  {
   "cell_type": "code",
   "execution_count": null,
   "id": "69a4325b",
   "metadata": {},
   "outputs": [],
   "source": [
    "fig = px.box(mpg, x='cylinders',y='weight')\n",
    "fig.show()"
   ]
  },
  {
   "cell_type": "markdown",
   "id": "fb3234b3",
   "metadata": {},
   "source": [
    "## 23. Ahora, hazlo con seaborn"
   ]
  },
  {
   "cell_type": "code",
   "execution_count": null,
   "id": "10369e18",
   "metadata": {},
   "outputs": [],
   "source": [
    "sns.boxplot(x=\"cylinders\", y=\"weight\", data=mpg)"
   ]
  }
 ],
 "metadata": {
  "kernelspec": {
   "display_name": "Python 3 (ipykernel)",
   "language": "python",
   "name": "python3"
  },
  "language_info": {
   "codemirror_mode": {
    "name": "ipython",
    "version": 3
   },
   "file_extension": ".py",
   "mimetype": "text/x-python",
   "name": "python",
   "nbconvert_exporter": "python",
   "pygments_lexer": "ipython3",
   "version": "3.11.2"
  }
 },
 "nbformat": 4,
 "nbformat_minor": 5
}
