{
 "cells": [
  {
   "cell_type": "code",
   "execution_count": 1,
   "id": "8d783f9f",
   "metadata": {},
   "outputs": [],
   "source": [
    "%config Completer.use_jedi = False"
   ]
  },
  {
   "cell_type": "markdown",
   "id": "adaptive-irrigation",
   "metadata": {
    "toc": true
   },
   "source": [
    "<h1>Table of Contents<span class=\"tocSkip\"></span></h1>\n",
    "<div class=\"toc\"><ul class=\"toc-item\"><li><span><a href=\"#Introducción\" data-toc-modified-id=\"Introducción-1\"><span class=\"toc-item-num\">1&nbsp;&nbsp;</span>Introducción</a></span></li><li><span><a href=\"#Instalación\" data-toc-modified-id=\"Instalación-2\"><span class=\"toc-item-num\">2&nbsp;&nbsp;</span>Instalación</a></span></li><li><span><a href=\"#Introducción-a-las-estructuras-de-datos-de-pandas\" data-toc-modified-id=\"Introducción-a-las-estructuras-de-datos-de-pandas-3\"><span class=\"toc-item-num\">3&nbsp;&nbsp;</span>Introducción a las estructuras de datos de pandas</a></span><ul class=\"toc-item\"><li><span><a href=\"#Series\" data-toc-modified-id=\"Series-3.1\"><span class=\"toc-item-num\">3.1&nbsp;&nbsp;</span>Series</a></span></li><li><span><a href=\"#Buscar-valores-NaN\" data-toc-modified-id=\"Buscar-valores-NaN-3.2\"><span class=\"toc-item-num\">3.2&nbsp;&nbsp;</span>Buscar valores NaN</a></span></li></ul></li><li><span><a href=\"#Datos-de-lectura/escritura\" data-toc-modified-id=\"Datos-de-lectura/escritura-4\"><span class=\"toc-item-num\">4&nbsp;&nbsp;</span>Datos de lectura/escritura</a></span><ul class=\"toc-item\"><li><span><a href=\"#Cargamos-datos-de-formato-CSV\" data-toc-modified-id=\"Cargamos-datos-de-formato-CSV-4.1\"><span class=\"toc-item-num\">4.1&nbsp;&nbsp;</span>Cargamos datos de formato CSV</a></span></li><li><span><a href=\"#Cargamos-datos-de-formato-xlsx\" data-toc-modified-id=\"Cargamos-datos-de-formato-xlsx-4.2\"><span class=\"toc-item-num\">4.2&nbsp;&nbsp;</span>Cargamos datos de formato xlsx</a></span></li><li><span><a href=\"#Visualizamos-las-primeras-filas\" data-toc-modified-id=\"Visualizamos-las-primeras-filas-4.3\"><span class=\"toc-item-num\">4.3&nbsp;&nbsp;</span>Visualizamos las primeras filas</a></span></li><li><span><a href=\"#Visualizamos-las-últimas-filas\" data-toc-modified-id=\"Visualizamos-las-últimas-filas-4.4\"><span class=\"toc-item-num\">4.4&nbsp;&nbsp;</span>Visualizamos las últimas filas</a></span></li><li><span><a href=\"#Visualizamos-una-muestra-aleatoria\" data-toc-modified-id=\"Visualizamos-una-muestra-aleatoria-4.5\"><span class=\"toc-item-num\">4.5&nbsp;&nbsp;</span>Visualizamos una muestra aleatoria</a></span></li></ul></li><li><span><a href=\"#Análisis-exploratorio-de-un-dataframe\" data-toc-modified-id=\"Análisis-exploratorio-de-un-dataframe-5\"><span class=\"toc-item-num\">5&nbsp;&nbsp;</span>Análisis exploratorio de un dataframe</a></span></li><li><span><a href=\"#Operaciones-básicas-con-los-dataframes\" data-toc-modified-id=\"Operaciones-básicas-con-los-dataframes-6\"><span class=\"toc-item-num\">6&nbsp;&nbsp;</span>Operaciones básicas con los dataframes</a></span><ul class=\"toc-item\"><li><span><a href=\"#Seleccionamos-una-columna\" data-toc-modified-id=\"Seleccionamos-una-columna-6.1\"><span class=\"toc-item-num\">6.1&nbsp;&nbsp;</span>Seleccionamos una columna</a></span></li><li><span><a href=\"#Seleccionamos-varias-columnas\" data-toc-modified-id=\"Seleccionamos-varias-columnas-6.2\"><span class=\"toc-item-num\">6.2&nbsp;&nbsp;</span>Seleccionamos varias columnas</a></span></li></ul></li><li><span><a href=\"#siN-EMBARGO.....-🚨º\" data-toc-modified-id=\"siN-EMBARGO.....-🚨º-7\"><span class=\"toc-item-num\">7&nbsp;&nbsp;</span>siN EMBARGO..... 🚨º</a></span><ul class=\"toc-item\"><li><span><a href=\"#Obtener-los-valores-únicos-de-una-columna-(es-decir,-una-serie)\" data-toc-modified-id=\"Obtener-los-valores-únicos-de-una-columna-(es-decir,-una-serie)-7.1\"><span class=\"toc-item-num\">7.1&nbsp;&nbsp;</span>Obtener los valores únicos de una columna (es decir, una serie)</a></span></li><li><span><a href=\"#Cambiar-el-tipo-de-datos-de-una-columna\" data-toc-modified-id=\"Cambiar-el-tipo-de-datos-de-una-columna-7.2\"><span class=\"toc-item-num\">7.2&nbsp;&nbsp;</span>Cambiar el tipo de datos de una columna</a></span></li><li><span><a href=\"#Filtramos-los-datos-por-el-valor-de-las-columnas\" data-toc-modified-id=\"Filtramos-los-datos-por-el-valor-de-las-columnas-7.3\"><span class=\"toc-item-num\">7.3&nbsp;&nbsp;</span>Filtramos los datos por el valor de las columnas</a></span></li><li><span><a href=\"#Copia-de-un-dataframe-y-renombrar-columnas\" data-toc-modified-id=\"Copia-de-un-dataframe-y-renombrar-columnas-7.4\"><span class=\"toc-item-num\">7.4&nbsp;&nbsp;</span>Copia de un dataframe y renombrar columnas</a></span><ul class=\"toc-item\"><li><span><a href=\"#Renombramos-columnas\" data-toc-modified-id=\"Renombramos-columnas-7.4.1\"><span class=\"toc-item-num\">7.4.1&nbsp;&nbsp;</span>Renombramos columnas</a></span></li><li><span><a href=\"#Podemos-renombrar-las-columnas-machacando-el-atributo-de-la-instancia...-¿os-suena-esto?\" data-toc-modified-id=\"Podemos-renombrar-las-columnas-machacando-el-atributo-de-la-instancia...-¿os-suena-esto?-7.4.2\"><span class=\"toc-item-num\">7.4.2&nbsp;&nbsp;</span>Podemos renombrar las columnas machacando el atributo de la instancia... ¿os suena esto?</a></span></li></ul></li><li><span><a href=\"#Borramos-columnas\" data-toc-modified-id=\"Borramos-columnas-7.5\"><span class=\"toc-item-num\">7.5&nbsp;&nbsp;</span>Borramos columnas</a></span></li><li><span><a href=\"#Borramos-filas\" data-toc-modified-id=\"Borramos-filas-7.6\"><span class=\"toc-item-num\">7.6&nbsp;&nbsp;</span>Borramos filas</a></span></li><li><span><a href=\"#Reset_index-y-set_index\" data-toc-modified-id=\"Reset_index-y-set_index-7.7\"><span class=\"toc-item-num\">7.7&nbsp;&nbsp;</span>Reset_index y set_index</a></span><ul class=\"toc-item\"><li><span><a href=\"#SET_INDEX\" data-toc-modified-id=\"SET_INDEX-7.7.1\"><span class=\"toc-item-num\">7.7.1&nbsp;&nbsp;</span>SET_INDEX</a></span></li></ul></li><li><span><a href=\"#Operaciones-entre-columnas\" data-toc-modified-id=\"Operaciones-entre-columnas-7.8\"><span class=\"toc-item-num\">7.8&nbsp;&nbsp;</span>Operaciones entre columnas</a></span></li></ul></li><li><span><a href=\"#Apply-!!\" data-toc-modified-id=\"Apply-!!-8\"><span class=\"toc-item-num\">8&nbsp;&nbsp;</span>Apply !!</a></span></li><li><span><a href=\"#Df-.loc-e-.iloc\" data-toc-modified-id=\"Df-.loc-e-.iloc-9\"><span class=\"toc-item-num\">9&nbsp;&nbsp;</span>Df .loc e .iloc</a></span><ul class=\"toc-item\"><li><span><a href=\"#Seleccionar-filas-y-columnas-en-Pandas-mediante-posición-con-iloc\" data-toc-modified-id=\"Seleccionar-filas-y-columnas-en-Pandas-mediante-posición-con-iloc-9.1\"><span class=\"toc-item-num\">9.1&nbsp;&nbsp;</span>Seleccionar filas y columnas en Pandas mediante posición con iloc</a></span></li><li><span><a href=\"#Seleccionar-filas-y-columnas-en-Pandas-en-base-a-etiquetas-con-loc\" data-toc-modified-id=\"Seleccionar-filas-y-columnas-en-Pandas-en-base-a-etiquetas-con-loc-9.2\"><span class=\"toc-item-num\">9.2&nbsp;&nbsp;</span>Seleccionar filas y columnas en Pandas en base a etiquetas con loc</a></span><ul class=\"toc-item\"><li><span><a href=\"#En-base-a-etiqueta\" data-toc-modified-id=\"En-base-a-etiqueta-9.2.1\"><span class=\"toc-item-num\">9.2.1&nbsp;&nbsp;</span>En base a etiqueta</a></span></li></ul></li></ul></li><li><span><a href=\"#Ordenamos-un-dataframe\" data-toc-modified-id=\"Ordenamos-un-dataframe-10\"><span class=\"toc-item-num\">10&nbsp;&nbsp;</span>Ordenamos un dataframe</a></span><ul class=\"toc-item\"><li><span><a href=\"#Buscamos-valores-nulos\" data-toc-modified-id=\"Buscamos-valores-nulos-10.1\"><span class=\"toc-item-num\">10.1&nbsp;&nbsp;</span>Buscamos valores nulos</a></span><ul class=\"toc-item\"><li><span><a href=\"#¿Es-nulo?\" data-toc-modified-id=\"¿Es-nulo?-10.1.1\"><span class=\"toc-item-num\">10.1.1&nbsp;&nbsp;</span>¿Es nulo?</a></span></li><li><span><a href=\"#¿Es-NO-nulo?\" data-toc-modified-id=\"¿Es-NO-nulo?-10.1.2\"><span class=\"toc-item-num\">10.1.2&nbsp;&nbsp;</span>¿Es NO nulo?</a></span></li><li><span><a href=\"#Sacar-una-suma-de-los-valores-nulos-de-cada-columna\" data-toc-modified-id=\"Sacar-una-suma-de-los-valores-nulos-de-cada-columna-10.1.3\"><span class=\"toc-item-num\">10.1.3&nbsp;&nbsp;</span>Sacar una suma de los valores nulos de cada columna</a></span></li></ul></li><li><span><a href=\"#Borramos-los-valores-nulos\" data-toc-modified-id=\"Borramos-los-valores-nulos-10.2\"><span class=\"toc-item-num\">10.2&nbsp;&nbsp;</span>Borramos los valores nulos</a></span></li><li><span><a href=\"#Cómo-rellenar-los-datos-que-faltan\" data-toc-modified-id=\"Cómo-rellenar-los-datos-que-faltan-10.3\"><span class=\"toc-item-num\">10.3&nbsp;&nbsp;</span>Cómo rellenar los datos que faltan</a></span><ul class=\"toc-item\"><li><ul class=\"toc-item\"><li><span><a href=\"#CATEGÓRICAS-EN-DATAFRAME-Y-DEJAR-DOCUMENTACIÓN\" data-toc-modified-id=\"CATEGÓRICAS-EN-DATAFRAME-Y-DEJAR-DOCUMENTACIÓN-10.3.0.1\"><span class=\"toc-item-num\">10.3.0.1&nbsp;&nbsp;</span>CATEGÓRICAS EN DATAFRAME Y DEJAR DOCUMENTACIÓN</a></span></li></ul></li></ul></li></ul></li><li><span><a href=\"#Borramos-los-duplicados\" data-toc-modified-id=\"Borramos-los-duplicados-11\"><span class=\"toc-item-num\">11&nbsp;&nbsp;</span>Borramos los duplicados</a></span></li><li><span><a href=\"#Agregación-de-datos\" data-toc-modified-id=\"Agregación-de-datos-12\"><span class=\"toc-item-num\">12&nbsp;&nbsp;</span>Agregación de datos</a></span><ul class=\"toc-item\"><li><span><a href=\"#GroupBy\" data-toc-modified-id=\"GroupBy-12.1\"><span class=\"toc-item-num\">12.1&nbsp;&nbsp;</span>GroupBy</a></span><ul class=\"toc-item\"><li><span><a href=\"#Me-preguntaréis-¿y-si-quiero-agrupar-por-más-columnas?\" data-toc-modified-id=\"Me-preguntaréis-¿y-si-quiero-agrupar-por-más-columnas?-12.1.1\"><span class=\"toc-item-num\">12.1.1&nbsp;&nbsp;</span>Me preguntaréis ¿y si quiero agrupar por más columnas?</a></span></li></ul></li><li><span><a href=\"#Unión-de-Dataframes\" data-toc-modified-id=\"Unión-de-Dataframes-12.2\"><span class=\"toc-item-num\">12.2&nbsp;&nbsp;</span>Unión de Dataframes</a></span></li><li><span><a href=\"#Concat\" data-toc-modified-id=\"Concat-12.3\"><span class=\"toc-item-num\">12.3&nbsp;&nbsp;</span>Concat</a></span></li><li><span><a href=\"#Merge\" data-toc-modified-id=\"Merge-12.4\"><span class=\"toc-item-num\">12.4&nbsp;&nbsp;</span>Merge</a></span></li><li><span><a href=\"#Join\" data-toc-modified-id=\"Join-12.5\"><span class=\"toc-item-num\">12.5&nbsp;&nbsp;</span>Join</a></span></li></ul></li><li><span><a href=\"#Exportar-datos\" data-toc-modified-id=\"Exportar-datos-13\"><span class=\"toc-item-num\">13&nbsp;&nbsp;</span>Exportar datos</a></span></li><li><span><a href=\"#Métodos-habituales-de-pandas\" data-toc-modified-id=\"Métodos-habituales-de-pandas-14\"><span class=\"toc-item-num\">14&nbsp;&nbsp;</span>Métodos habituales de pandas</a></span></li><li><span><a href=\"#Resumen\" data-toc-modified-id=\"Resumen-15\"><span class=\"toc-item-num\">15&nbsp;&nbsp;</span>Resumen</a></span></li><li><span><a href=\"#Further-materials\" data-toc-modified-id=\"Further-materials-16\"><span class=\"toc-item-num\">16&nbsp;&nbsp;</span>Further materials</a></span></li></ul></div>"
   ]
  },
  {
   "cell_type": "markdown",
   "id": "anonymous-academy",
   "metadata": {},
   "source": [
    "# Pandas"
   ]
  },
  {
   "cell_type": "markdown",
   "id": "residential-needle",
   "metadata": {},
   "source": [
    "![pandas](https://media.giphy.com/media/nVsLCrW5iHf6E/giphy.gif)"
   ]
  },
  {
   "cell_type": "markdown",
   "id": "secure-barcelona",
   "metadata": {},
   "source": [
    "Mi gif favorito para la que, a partir de ahora, será tu librería favorita 😍"
   ]
  },
  {
   "cell_type": "markdown",
   "id": "major-audience",
   "metadata": {},
   "source": [
    "## Introducción \n",
    "Pandas es, sin duda, la biblioteca más utilizada en el ecosistema de Python para el análisis y la manipulación de datos. Es rápida, potente, flexible, fácil de usar y de código abierto. \n",
    "\n",
    "\n",
    "Entre sus principales características están\n",
    "* Un objeto **DataFrame** rápido y eficiente para la manipulación de datos con indexación integrada\n",
    "* **Lectura y escritura** de datos en multitud de formatos: Microsoflt Excel, CSV, bases de datos SQL, JSON, diccionarios, etc;\n",
    "* Métodos integrados y eficientes para todo tipo de manipulación de datos: datos faltantes, subconjunto, unión, fusión, etc; \n",
    "* Facilidad para trabajar con datos temporales (de hecho, Pandas se llama así por \"PANnel DAta\") \n",
    "* Buena **integración con otras librerías** de análisis de datos o Machine learning: scikit-learn, scipy, seaborn, plotly, etc;\n",
    "* Es **ampliamente utilizado** tanto en el sector privado como en el académico     \n",
    "\n",
    "\n",
    "Pandas proporciona estructuras de datos de alto nivel y funciones diseñadas para hacer que el trabajo con datos estructurados o tabulares sea rápido, fácil y expresivo. Desde su aparición en 2010, ha ayudado a que Python sea un entorno de análisis de datos potente y productivo. Los principales objetos de pandas que se utilizarán en este libro son el DataFrame, una estructura de datos tabular orientada a columnas con etiquetas de filas y columnas, y la Serie, un objeto de matriz unidimensional etiquetado.\n",
    "\n",
    "Pandas combina las ideas de alto rendimiento de NumPy con las capacidades flexibles de manipulación de datos de las hojas de cálculo y las bases de datos relacionales (como SQL). Proporciona una sofisticada funcionalidad de indexación para facilitar la remodelación, el corte y la división, la realización de agregaciones y la selección de subconjuntos de datos. \n"
   ]
  },
  {
   "cell_type": "markdown",
   "id": "hourly-nutrition",
   "metadata": {},
   "source": [
    "![image](https://thumbor.forbes.com/thumbor/960x0/https%3A%2F%2Fblogs-images.forbes.com%2Fgilpress%2Ffiles%2F2016%2F03%2FTime-1200x511.jpg)\n",
    "\n",
    "\n",
    "\n",
    "Fuente: [Forbes](https://www.forbes.com/sites/gilpress/2016/03/23/data-preparation-most-time-consuming-least-enjoyable-data-science-task-survey-says/#1ba071616f63)"
   ]
  },
  {
   "cell_type": "markdown",
   "id": "fantastic-steps",
   "metadata": {},
   "source": [
    "##  Instalación"
   ]
  },
  {
   "cell_type": "markdown",
   "id": "dedicated-level",
   "metadata": {},
   "source": [
    "Lo primerito que deberás hacer, siempre será     \n",
    "pip install pandas / conda install pandas"
   ]
  },
  {
   "cell_type": "code",
   "execution_count": 2,
   "id": "psychological-theorem",
   "metadata": {},
   "outputs": [],
   "source": [
    "#%conda install pandas\n",
    "import pandas as pd"
   ]
  },
  {
   "cell_type": "markdown",
   "id": "explicit-harvest",
   "metadata": {},
   "source": [
    "## Introducción a las estructuras de datos de pandas\n",
    "Para empezar con pandas, necesitarás sentirte cómodo con sus dos estructuras de datos de trabajo: Series y DataFrame. Aunque no son una solución universal para todos los problemas, proporcionan una base sólida y fácil de usar para la mayoría de las aplicaciones."
   ]
  },
  {
   "cell_type": "markdown",
   "id": "angry-hamburg",
   "metadata": {},
   "source": [
    "### Series\n",
    "Una Serie es un objeto tipo array unidimensional que contiene una secuencia de valores y un array asociado de etiquetas de datos, llamado su índice. La Serie más sencilla se forma a partir de un único array de datos:"
   ]
  },
  {
   "cell_type": "code",
   "execution_count": 3,
   "id": "beautiful-stylus",
   "metadata": {},
   "outputs": [],
   "source": [
    "serie = pd.Series([\"hola\",1,23,4, [1,2,3],\"otro string\"]) "
   ]
  },
  {
   "cell_type": "code",
   "execution_count": 4,
   "id": "waiting-lodge",
   "metadata": {},
   "outputs": [
    {
     "data": {
      "text/plain": [
       "0           hola\n",
       "1              1\n",
       "2             23\n",
       "3              4\n",
       "4      [1, 2, 3]\n",
       "5    otro string\n",
       "dtype: object"
      ]
     },
     "execution_count": 4,
     "metadata": {},
     "output_type": "execute_result"
    }
   ],
   "source": [
    "serie"
   ]
  },
  {
   "cell_type": "code",
   "execution_count": 5,
   "id": "increasing-rwanda",
   "metadata": {},
   "outputs": [
    {
     "data": {
      "text/plain": [
       "pandas.core.series.Series"
      ]
     },
     "execution_count": 5,
     "metadata": {},
     "output_type": "execute_result"
    }
   ],
   "source": [
    "type(serie)"
   ]
  },
  {
   "cell_type": "code",
   "execution_count": 6,
   "id": "double-composition",
   "metadata": {},
   "outputs": [
    {
     "data": {
      "text/plain": [
       "array(['hola', 1, 23, 4, list([1, 2, 3]), 'otro string'], dtype=object)"
      ]
     },
     "execution_count": 6,
     "metadata": {},
     "output_type": "execute_result"
    }
   ],
   "source": [
    "serie.values"
   ]
  },
  {
   "cell_type": "code",
   "execution_count": 7,
   "id": "modified-track",
   "metadata": {},
   "outputs": [
    {
     "data": {
      "text/plain": [
       "RangeIndex(start=0, stop=6, step=1)"
      ]
     },
     "execution_count": 7,
     "metadata": {},
     "output_type": "execute_result"
    }
   ],
   "source": [
    "serie.index"
   ]
  },
  {
   "cell_type": "code",
   "execution_count": 8,
   "id": "agreed-chancellor",
   "metadata": {},
   "outputs": [
    {
     "data": {
      "text/plain": [
       "['hola', 1, 23, 4, [1, 2, 3], 'otro string']"
      ]
     },
     "execution_count": 8,
     "metadata": {},
     "output_type": "execute_result"
    }
   ],
   "source": [
    "list(serie.values)"
   ]
  },
  {
   "cell_type": "code",
   "execution_count": 9,
   "id": "ongoing-entity",
   "metadata": {},
   "outputs": [
    {
     "data": {
      "text/plain": [
       "[0, 1, 2, 3, 4, 5]"
      ]
     },
     "execution_count": 9,
     "metadata": {},
     "output_type": "execute_result"
    }
   ],
   "source": [
    "list(serie.index)"
   ]
  },
  {
   "cell_type": "markdown",
   "id": "adolescent-species",
   "metadata": {},
   "source": [
    "La representación en cadena de una Serie mostrada interactivamente muestra el índice a la izquierda y los valores a la derecha. Como no especificamos un índice para los datos, se crea uno por defecto formado por los enteros 0 a N - 1 (donde N es la longitud de los datos). Puedes obtener la representación del array y el objeto índice de la Serie a través de sus atributos values e index, respectivamente:"
   ]
  },
  {
   "cell_type": "code",
   "execution_count": 10,
   "id": "sporting-stereo",
   "metadata": {},
   "outputs": [
    {
     "data": {
      "text/plain": [
       "array(['hola', 1, 23, 4, list([1, 2, 3]), 'otro string'], dtype=object)"
      ]
     },
     "execution_count": 10,
     "metadata": {},
     "output_type": "execute_result"
    }
   ],
   "source": [
    "serie.values"
   ]
  },
  {
   "cell_type": "code",
   "execution_count": 11,
   "id": "controversial-fifty",
   "metadata": {},
   "outputs": [
    {
     "data": {
      "text/plain": [
       "RangeIndex(start=0, stop=6, step=1)"
      ]
     },
     "execution_count": 11,
     "metadata": {},
     "output_type": "execute_result"
    }
   ],
   "source": [
    "serie.index"
   ]
  },
  {
   "cell_type": "markdown",
   "id": "educated-tourism",
   "metadata": {},
   "source": [
    "Otra forma de pensar en una Serie es como un diccionario ordenado de longitud fija, ya que es un mapeo de valores de índice a valores de datos. Se puede utilizar en muchos contextos en los que se podría utilizar un diccionario.\n",
    "Si tienes datos contenidos en un dict de Python, puedes crear una Serie a partir de ellos pasando el dict:"
   ]
  },
  {
   "cell_type": "code",
   "execution_count": 12,
   "id": "incorrect-washington",
   "metadata": {},
   "outputs": [],
   "source": [
    "sdata = {'Ohio': 35000, 'Texas': 71000, 'Oregon': 16000, 'Utah': 5000}"
   ]
  },
  {
   "cell_type": "code",
   "execution_count": 13,
   "id": "human-civilian",
   "metadata": {},
   "outputs": [],
   "source": [
    "seriedata = pd.Series(sdata)"
   ]
  },
  {
   "cell_type": "code",
   "execution_count": 14,
   "id": "charitable-transparency",
   "metadata": {},
   "outputs": [
    {
     "data": {
      "text/plain": [
       "Ohio      35000\n",
       "Texas     71000\n",
       "Oregon    16000\n",
       "Utah       5000\n",
       "dtype: int64"
      ]
     },
     "execution_count": 14,
     "metadata": {},
     "output_type": "execute_result"
    }
   ],
   "source": [
    "seriedata"
   ]
  },
  {
   "cell_type": "code",
   "execution_count": 15,
   "id": "wired-projection",
   "metadata": {},
   "outputs": [
    {
     "data": {
      "text/plain": [
       "['Ohio', 'Texas', 'Oregon', 'Utah']"
      ]
     },
     "execution_count": 15,
     "metadata": {},
     "output_type": "execute_result"
    }
   ],
   "source": [
    "list(seriedata.index)"
   ]
  },
  {
   "cell_type": "code",
   "execution_count": 16,
   "id": "unauthorized-samuel",
   "metadata": {},
   "outputs": [
    {
     "data": {
      "text/plain": [
       "[35000, 71000, 16000, 5000]"
      ]
     },
     "execution_count": 16,
     "metadata": {},
     "output_type": "execute_result"
    }
   ],
   "source": [
    "list(seriedata.values)"
   ]
  },
  {
   "cell_type": "code",
   "execution_count": 17,
   "id": "breathing-paris",
   "metadata": {},
   "outputs": [
    {
     "data": {
      "text/plain": [
       "Ohio      35000\n",
       "Texas     71000\n",
       "Oregon    16000\n",
       "Utah       5000\n",
       "dtype: int64"
      ]
     },
     "metadata": {},
     "output_type": "display_data"
    }
   ],
   "source": [
    "display(seriedata)"
   ]
  },
  {
   "cell_type": "markdown",
   "id": "exposed-performer",
   "metadata": {},
   "source": [
    "Cuando sólo se pasa un dict, el índice de la Serie resultante tendrá las claves del dict en orden. Puedes modificar el comportamientopasando las claves del dict en el orden que desee que aparezcan en la Serie resultante:"
   ]
  },
  {
   "cell_type": "code",
   "execution_count": 18,
   "id": "convenient-encyclopedia",
   "metadata": {},
   "outputs": [],
   "source": [
    "estados = ['California', 'Ohio', 'Oregon', 'Texas']"
   ]
  },
  {
   "cell_type": "code",
   "execution_count": 19,
   "id": "e5e00a5a",
   "metadata": {},
   "outputs": [],
   "source": [
    "sdata = {'Ohio': 35000, 'Texas': 71000, 'Oregon': 16000, 'Utah': 5000}"
   ]
  },
  {
   "cell_type": "code",
   "execution_count": 20,
   "id": "hispanic-degree",
   "metadata": {},
   "outputs": [],
   "source": [
    "serie2 = pd.Series(sdata, index=estados)"
   ]
  },
  {
   "cell_type": "code",
   "execution_count": 21,
   "id": "bd249372",
   "metadata": {},
   "outputs": [
    {
     "data": {
      "text/plain": [
       "California        NaN\n",
       "Ohio          35000.0\n",
       "Oregon        16000.0\n",
       "Texas         71000.0\n",
       "dtype: float64"
      ]
     },
     "execution_count": 21,
     "metadata": {},
     "output_type": "execute_result"
    }
   ],
   "source": [
    "serie2"
   ]
  },
  {
   "cell_type": "markdown",
   "id": "composite-collaboration",
   "metadata": {},
   "source": [
    "Aquí, los tres valores encontrados en sdata se colocaron en los lugares apropiados, pero como no se encontró ningún valor para 'California', aparece como NaN (Not a Number / no es un número), lo que se considera en pandas para marcar valores perdidos o NA. Como \"Utah\" no se incluyó en los estados, se excluye del objeto resultante."
   ]
  },
  {
   "cell_type": "code",
   "execution_count": 22,
   "id": "excited-culture",
   "metadata": {},
   "outputs": [],
   "source": [
    "#%conda install numpy\n",
    "import numpy as np"
   ]
  },
  {
   "cell_type": "code",
   "execution_count": 23,
   "id": "green-general",
   "metadata": {},
   "outputs": [
    {
     "name": "stdout",
     "output_type": "stream",
     "text": [
      "nan\n"
     ]
    }
   ],
   "source": [
    "print(np.nan)"
   ]
  },
  {
   "cell_type": "code",
   "execution_count": 24,
   "id": "different-wildlife",
   "metadata": {},
   "outputs": [
    {
     "data": {
      "text/plain": [
       "float"
      ]
     },
     "execution_count": 24,
     "metadata": {},
     "output_type": "execute_result"
    }
   ],
   "source": [
    "type(np.nan)"
   ]
  },
  {
   "cell_type": "code",
   "execution_count": 25,
   "id": "integrated-falls",
   "metadata": {},
   "outputs": [
    {
     "data": {
      "text/plain": [
       "'NaN'"
      ]
     },
     "execution_count": 25,
     "metadata": {},
     "output_type": "execute_result"
    }
   ],
   "source": [
    "\"NaN\""
   ]
  },
  {
   "cell_type": "code",
   "execution_count": 26,
   "id": "676cb90e",
   "metadata": {},
   "outputs": [
    {
     "data": {
      "text/plain": [
       "nan"
      ]
     },
     "execution_count": 26,
     "metadata": {},
     "output_type": "execute_result"
    }
   ],
   "source": [
    "a = np.nan\n",
    "a"
   ]
  },
  {
   "cell_type": "code",
   "execution_count": 27,
   "id": "south-insulation",
   "metadata": {},
   "outputs": [
    {
     "name": "stdout",
     "output_type": "stream",
     "text": [
      "Hola\n"
     ]
    }
   ],
   "source": [
    "if np.isnan(a):\n",
    "    print(\"Hola\")"
   ]
  },
  {
   "cell_type": "code",
   "execution_count": 28,
   "id": "fecc2f22",
   "metadata": {},
   "outputs": [
    {
     "data": {
      "text/plain": [
       "False"
      ]
     },
     "execution_count": 28,
     "metadata": {},
     "output_type": "execute_result"
    }
   ],
   "source": [
    "# No no puedo comprobar si a es un nan así \n",
    "a == np.nan"
   ]
  },
  {
   "cell_type": "markdown",
   "id": "sublime-challenge",
   "metadata": {},
   "source": [
    "### Buscar valores NaN\n",
    "NaN significa Not A Number (No es un número) y es una de las formas habituales de representar el valor que falta en los datos. Es un valor especial de punto flotante y no puede ser convertido a otro tipo que no sea float.\n",
    "El valor NaN es uno de los principales problemas en el análisis de datos. Es muy esencial tratar con NaN para obtener los resultados deseados."
   ]
  },
  {
   "cell_type": "code",
   "execution_count": 29,
   "id": "after-healthcare",
   "metadata": {},
   "outputs": [
    {
     "data": {
      "text/plain": [
       "California     True\n",
       "Ohio          False\n",
       "Oregon        False\n",
       "Texas         False\n",
       "dtype: bool"
      ]
     },
     "execution_count": 29,
     "metadata": {},
     "output_type": "execute_result"
    }
   ],
   "source": [
    "# El método de pandas para buscar NaN es pd.isnull\n",
    "pd.isnull(serie2)"
   ]
  },
  {
   "cell_type": "code",
   "execution_count": 30,
   "id": "religious-migration",
   "metadata": {},
   "outputs": [
    {
     "data": {
      "text/plain": [
       "1"
      ]
     },
     "execution_count": 30,
     "metadata": {},
     "output_type": "execute_result"
    }
   ],
   "source": [
    "pd.isnull(serie2).sum()"
   ]
  },
  {
   "cell_type": "code",
   "execution_count": 31,
   "id": "a7b63d80",
   "metadata": {},
   "outputs": [
    {
     "data": {
      "text/plain": [
       "California     True\n",
       "Ohio          False\n",
       "Oregon        False\n",
       "Texas         False\n",
       "dtype: bool"
      ]
     },
     "execution_count": 31,
     "metadata": {},
     "output_type": "execute_result"
    }
   ],
   "source": [
    "pd.isna(serie2)"
   ]
  },
  {
   "cell_type": "code",
   "execution_count": 32,
   "id": "after-netherlands",
   "metadata": {},
   "outputs": [
    {
     "data": {
      "text/plain": [
       "1"
      ]
     },
     "execution_count": 32,
     "metadata": {},
     "output_type": "execute_result"
    }
   ],
   "source": [
    "pd.isna(serie2).sum()"
   ]
  },
  {
   "cell_type": "markdown",
   "id": "19667495",
   "metadata": {},
   "source": [
    "[Isna vs isnull](https://datascience.stackexchange.com/questions/37878/difference-between-isna-and-isnull-in-pandas)"
   ]
  },
  {
   "cell_type": "markdown",
   "id": "2926c04b",
   "metadata": {},
   "source": [
    "🙃🚀---> Nos hemos quedado aquí <--- 🚀🙃"
   ]
  },
  {
   "cell_type": "markdown",
   "id": "lyric-navigation",
   "metadata": {},
   "source": [
    "## Datos de lectura/escritura\n",
    "\n",
    "Pandas puede leer y escribir datos de una gran variedad de formatos. [Lee la documentación](https://pandas.pydata.org/pandas-docs/stable/user_guide/io.html)\n",
    "Aunque una de las más comunes es a partir de un diccionario de listas de igual longitud o arrays NumPy:"
   ]
  },
  {
   "cell_type": "code",
   "execution_count": 33,
   "id": "ongoing-input",
   "metadata": {},
   "outputs": [],
   "source": [
    "# Desde un diccionario\n",
    "data = {'state': ['Ohio', 'Ohio', 'Ohio', 'Nevada', 'Nevada', 'Nevada'],\n",
    "        'year': [2000, 2001, 2002, 2001, 2002, 2003],\n",
    "        'pop': [1.5, 1.7, 3.6, 2.4, 2.9, np.nan]}"
   ]
  },
  {
   "cell_type": "code",
   "execution_count": 34,
   "id": "beginning-sentence",
   "metadata": {},
   "outputs": [],
   "source": [
    "frame = pd.DataFrame(data)"
   ]
  },
  {
   "cell_type": "code",
   "execution_count": 35,
   "id": "079a11c5",
   "metadata": {},
   "outputs": [
    {
     "data": {
      "text/html": [
       "<div>\n",
       "<style scoped>\n",
       "    .dataframe tbody tr th:only-of-type {\n",
       "        vertical-align: middle;\n",
       "    }\n",
       "\n",
       "    .dataframe tbody tr th {\n",
       "        vertical-align: top;\n",
       "    }\n",
       "\n",
       "    .dataframe thead th {\n",
       "        text-align: right;\n",
       "    }\n",
       "</style>\n",
       "<table border=\"1\" class=\"dataframe\">\n",
       "  <thead>\n",
       "    <tr style=\"text-align: right;\">\n",
       "      <th></th>\n",
       "      <th>state</th>\n",
       "      <th>year</th>\n",
       "      <th>pop</th>\n",
       "    </tr>\n",
       "  </thead>\n",
       "  <tbody>\n",
       "    <tr>\n",
       "      <th>0</th>\n",
       "      <td>Ohio</td>\n",
       "      <td>2000</td>\n",
       "      <td>1.5</td>\n",
       "    </tr>\n",
       "    <tr>\n",
       "      <th>1</th>\n",
       "      <td>Ohio</td>\n",
       "      <td>2001</td>\n",
       "      <td>1.7</td>\n",
       "    </tr>\n",
       "    <tr>\n",
       "      <th>2</th>\n",
       "      <td>Ohio</td>\n",
       "      <td>2002</td>\n",
       "      <td>3.6</td>\n",
       "    </tr>\n",
       "    <tr>\n",
       "      <th>3</th>\n",
       "      <td>Nevada</td>\n",
       "      <td>2001</td>\n",
       "      <td>2.4</td>\n",
       "    </tr>\n",
       "    <tr>\n",
       "      <th>4</th>\n",
       "      <td>Nevada</td>\n",
       "      <td>2002</td>\n",
       "      <td>2.9</td>\n",
       "    </tr>\n",
       "    <tr>\n",
       "      <th>5</th>\n",
       "      <td>Nevada</td>\n",
       "      <td>2003</td>\n",
       "      <td>NaN</td>\n",
       "    </tr>\n",
       "  </tbody>\n",
       "</table>\n",
       "</div>"
      ],
      "text/plain": [
       "    state  year  pop\n",
       "0    Ohio  2000  1.5\n",
       "1    Ohio  2001  1.7\n",
       "2    Ohio  2002  3.6\n",
       "3  Nevada  2001  2.4\n",
       "4  Nevada  2002  2.9\n",
       "5  Nevada  2003  NaN"
      ]
     },
     "metadata": {},
     "output_type": "display_data"
    }
   ],
   "source": [
    "display(frame)"
   ]
  },
  {
   "cell_type": "code",
   "execution_count": 36,
   "id": "53df5dbc",
   "metadata": {},
   "outputs": [
    {
     "data": {
      "text/plain": [
       "2.4200000000000004"
      ]
     },
     "execution_count": 36,
     "metadata": {},
     "output_type": "execute_result"
    }
   ],
   "source": [
    "frame['pop'].mean()"
   ]
  },
  {
   "cell_type": "code",
   "execution_count": 37,
   "id": "65e86a3d",
   "metadata": {},
   "outputs": [
    {
     "data": {
      "text/plain": [
       "0      Ohio\n",
       "1      Ohio\n",
       "2      Ohio\n",
       "3    Nevada\n",
       "4    Nevada\n",
       "5    Nevada\n",
       "Name: state, dtype: object"
      ]
     },
     "execution_count": 37,
     "metadata": {},
     "output_type": "execute_result"
    }
   ],
   "source": [
    "frame['state']"
   ]
  },
  {
   "cell_type": "code",
   "execution_count": 38,
   "id": "further-remains",
   "metadata": {
    "scrolled": true
   },
   "outputs": [
    {
     "name": "stdout",
     "output_type": "stream",
     "text": [
      "    state  year  pop\n",
      "0    Ohio  2000  1.5\n",
      "1    Ohio  2001  1.7\n",
      "2    Ohio  2002  3.6\n",
      "3  Nevada  2001  2.4\n",
      "4  Nevada  2002  2.9\n",
      "5  Nevada  2003  NaN\n"
     ]
    }
   ],
   "source": [
    "# Para visualizar un dataframe utilizaremos display y NO print\n",
    "print(frame)"
   ]
  },
  {
   "cell_type": "code",
   "execution_count": 39,
   "id": "august-fleet",
   "metadata": {},
   "outputs": [
    {
     "data": {
      "text/html": [
       "<div>\n",
       "<style scoped>\n",
       "    .dataframe tbody tr th:only-of-type {\n",
       "        vertical-align: middle;\n",
       "    }\n",
       "\n",
       "    .dataframe tbody tr th {\n",
       "        vertical-align: top;\n",
       "    }\n",
       "\n",
       "    .dataframe thead th {\n",
       "        text-align: right;\n",
       "    }\n",
       "</style>\n",
       "<table border=\"1\" class=\"dataframe\">\n",
       "  <thead>\n",
       "    <tr style=\"text-align: right;\">\n",
       "      <th></th>\n",
       "      <th>state</th>\n",
       "      <th>year</th>\n",
       "      <th>pop</th>\n",
       "    </tr>\n",
       "  </thead>\n",
       "  <tbody>\n",
       "    <tr>\n",
       "      <th>0</th>\n",
       "      <td>Ohio</td>\n",
       "      <td>2000</td>\n",
       "      <td>1.5</td>\n",
       "    </tr>\n",
       "    <tr>\n",
       "      <th>1</th>\n",
       "      <td>Ohio</td>\n",
       "      <td>2001</td>\n",
       "      <td>1.7</td>\n",
       "    </tr>\n",
       "    <tr>\n",
       "      <th>2</th>\n",
       "      <td>Ohio</td>\n",
       "      <td>2002</td>\n",
       "      <td>3.6</td>\n",
       "    </tr>\n",
       "    <tr>\n",
       "      <th>3</th>\n",
       "      <td>Nevada</td>\n",
       "      <td>2001</td>\n",
       "      <td>2.4</td>\n",
       "    </tr>\n",
       "    <tr>\n",
       "      <th>4</th>\n",
       "      <td>Nevada</td>\n",
       "      <td>2002</td>\n",
       "      <td>2.9</td>\n",
       "    </tr>\n",
       "    <tr>\n",
       "      <th>5</th>\n",
       "      <td>Nevada</td>\n",
       "      <td>2003</td>\n",
       "      <td>NaN</td>\n",
       "    </tr>\n",
       "  </tbody>\n",
       "</table>\n",
       "</div>"
      ],
      "text/plain": [
       "    state  year  pop\n",
       "0    Ohio  2000  1.5\n",
       "1    Ohio  2001  1.7\n",
       "2    Ohio  2002  3.6\n",
       "3  Nevada  2001  2.4\n",
       "4  Nevada  2002  2.9\n",
       "5  Nevada  2003  NaN"
      ]
     },
     "metadata": {},
     "output_type": "display_data"
    }
   ],
   "source": [
    "display(frame)"
   ]
  },
  {
   "cell_type": "code",
   "execution_count": 40,
   "id": "2a760a7c",
   "metadata": {},
   "outputs": [],
   "source": [
    "lista = [1.5, 1.7, 3.6, 2.4, 2.9] #Los NaN no entran en el cálculo, los omite"
   ]
  },
  {
   "cell_type": "code",
   "execution_count": 41,
   "id": "ec315d2d",
   "metadata": {},
   "outputs": [
    {
     "data": {
      "text/plain": [
       "2.4200000000000004"
      ]
     },
     "execution_count": 41,
     "metadata": {},
     "output_type": "execute_result"
    }
   ],
   "source": [
    "sum(lista)/len(lista)"
   ]
  },
  {
   "cell_type": "markdown",
   "id": "ecb04343",
   "metadata": {},
   "source": [
    "https://pandas.pydata.org/docs/reference/api/pandas.DataFrame.from_dict.html"
   ]
  },
  {
   "cell_type": "code",
   "execution_count": 42,
   "id": "destroyed-couple",
   "metadata": {},
   "outputs": [
    {
     "data": {
      "text/html": [
       "<div>\n",
       "<style scoped>\n",
       "    .dataframe tbody tr th:only-of-type {\n",
       "        vertical-align: middle;\n",
       "    }\n",
       "\n",
       "    .dataframe tbody tr th {\n",
       "        vertical-align: top;\n",
       "    }\n",
       "\n",
       "    .dataframe thead th {\n",
       "        text-align: right;\n",
       "    }\n",
       "</style>\n",
       "<table border=\"1\" class=\"dataframe\">\n",
       "  <thead>\n",
       "    <tr style=\"text-align: right;\">\n",
       "      <th></th>\n",
       "      <th>state</th>\n",
       "      <th>year</th>\n",
       "      <th>pop</th>\n",
       "    </tr>\n",
       "  </thead>\n",
       "  <tbody>\n",
       "    <tr>\n",
       "      <th>0</th>\n",
       "      <td>Ohio</td>\n",
       "      <td>2000</td>\n",
       "      <td>1.5</td>\n",
       "    </tr>\n",
       "    <tr>\n",
       "      <th>1</th>\n",
       "      <td>Ohio</td>\n",
       "      <td>2001</td>\n",
       "      <td>1.7</td>\n",
       "    </tr>\n",
       "    <tr>\n",
       "      <th>2</th>\n",
       "      <td>Ohio</td>\n",
       "      <td>2002</td>\n",
       "      <td>3.6</td>\n",
       "    </tr>\n",
       "    <tr>\n",
       "      <th>3</th>\n",
       "      <td>Nevada</td>\n",
       "      <td>2001</td>\n",
       "      <td>2.4</td>\n",
       "    </tr>\n",
       "    <tr>\n",
       "      <th>4</th>\n",
       "      <td>Nevada</td>\n",
       "      <td>2002</td>\n",
       "      <td>2.9</td>\n",
       "    </tr>\n",
       "    <tr>\n",
       "      <th>5</th>\n",
       "      <td>Nevada</td>\n",
       "      <td>2003</td>\n",
       "      <td>NaN</td>\n",
       "    </tr>\n",
       "  </tbody>\n",
       "</table>\n",
       "</div>"
      ],
      "text/plain": [
       "    state  year  pop\n",
       "0    Ohio  2000  1.5\n",
       "1    Ohio  2001  1.7\n",
       "2    Ohio  2002  3.6\n",
       "3  Nevada  2001  2.4\n",
       "4  Nevada  2002  2.9\n",
       "5  Nevada  2003  NaN"
      ]
     },
     "execution_count": 42,
     "metadata": {},
     "output_type": "execute_result"
    }
   ],
   "source": [
    "pd.DataFrame.from_dict(data, orient=\"columns\") # orient=\"index\""
   ]
  },
  {
   "cell_type": "code",
   "execution_count": 43,
   "id": "c69a8633",
   "metadata": {},
   "outputs": [
    {
     "data": {
      "text/html": [
       "<div>\n",
       "<style scoped>\n",
       "    .dataframe tbody tr th:only-of-type {\n",
       "        vertical-align: middle;\n",
       "    }\n",
       "\n",
       "    .dataframe tbody tr th {\n",
       "        vertical-align: top;\n",
       "    }\n",
       "\n",
       "    .dataframe thead th {\n",
       "        text-align: right;\n",
       "    }\n",
       "</style>\n",
       "<table border=\"1\" class=\"dataframe\">\n",
       "  <thead>\n",
       "    <tr style=\"text-align: right;\">\n",
       "      <th></th>\n",
       "      <th>0</th>\n",
       "      <th>1</th>\n",
       "      <th>2</th>\n",
       "      <th>3</th>\n",
       "      <th>4</th>\n",
       "      <th>5</th>\n",
       "    </tr>\n",
       "  </thead>\n",
       "  <tbody>\n",
       "    <tr>\n",
       "      <th>state</th>\n",
       "      <td>Ohio</td>\n",
       "      <td>Ohio</td>\n",
       "      <td>Ohio</td>\n",
       "      <td>Nevada</td>\n",
       "      <td>Nevada</td>\n",
       "      <td>Nevada</td>\n",
       "    </tr>\n",
       "    <tr>\n",
       "      <th>year</th>\n",
       "      <td>2000</td>\n",
       "      <td>2001</td>\n",
       "      <td>2002</td>\n",
       "      <td>2001</td>\n",
       "      <td>2002</td>\n",
       "      <td>2003</td>\n",
       "    </tr>\n",
       "    <tr>\n",
       "      <th>pop</th>\n",
       "      <td>1.5</td>\n",
       "      <td>1.7</td>\n",
       "      <td>3.6</td>\n",
       "      <td>2.4</td>\n",
       "      <td>2.9</td>\n",
       "      <td>NaN</td>\n",
       "    </tr>\n",
       "  </tbody>\n",
       "</table>\n",
       "</div>"
      ],
      "text/plain": [
       "          0     1     2       3       4       5\n",
       "state  Ohio  Ohio  Ohio  Nevada  Nevada  Nevada\n",
       "year   2000  2001  2002    2001    2002    2003\n",
       "pop     1.5   1.7   3.6     2.4     2.9     NaN"
      ]
     },
     "execution_count": 43,
     "metadata": {},
     "output_type": "execute_result"
    }
   ],
   "source": [
    "pd.DataFrame.from_dict(data, orient=\"index\") # orient=\"index\""
   ]
  },
  {
   "cell_type": "code",
   "execution_count": 44,
   "id": "57d3103c",
   "metadata": {},
   "outputs": [],
   "source": [
    "import pandas as pd\n",
    "import numpy as np"
   ]
  },
  {
   "cell_type": "code",
   "execution_count": 45,
   "id": "christian-battery",
   "metadata": {},
   "outputs": [],
   "source": [
    "# Desde una lista de diccionarios\n",
    "datos = [{'nombre': 'Victor',\n",
    "               'apellido': 'Pablo',\n",
    "               'email': 'victor.pablo@gamma.com',\n",
    "               'vacaciones': 10,\n",
    "               'saludo': lambda: print('Hacedme la Pull Request!!!!')} ,\n",
    "         \n",
    "         {'nombre': 'Javier',\n",
    "               'apellido': 'García',\n",
    "                  'email': 'javi.garcia@gamma.com',\n",
    "               'vacaciones': 15,\n",
    "               'saludo': lambda : print('Hola soy Javi, cuidado con los print infinitos') },\n",
    "        {'nombre': 'Pablo',\n",
    "               'apellido': 'Martinez',\n",
    "                  'email': 'pablo.martinez@gamma.com',\n",
    "               'vacaciones': np.nan,\n",
    "               'saludo': lambda: print('Hola, soy Pablo y no tengo vacaciones definidas') }]"
   ]
  },
  {
   "cell_type": "code",
   "execution_count": 46,
   "id": "every-accounting",
   "metadata": {},
   "outputs": [
    {
     "name": "stdout",
     "output_type": "stream",
     "text": [
      "Hacedme la Pull Request!!!!\n"
     ]
    }
   ],
   "source": [
    "datos[0][\"saludo\"]()"
   ]
  },
  {
   "cell_type": "code",
   "execution_count": 47,
   "id": "aging-angola",
   "metadata": {},
   "outputs": [],
   "source": [
    "df_datos = pd.DataFrame(datos)"
   ]
  },
  {
   "cell_type": "code",
   "execution_count": 48,
   "id": "proper-appliance",
   "metadata": {},
   "outputs": [
    {
     "data": {
      "text/html": [
       "<div>\n",
       "<style scoped>\n",
       "    .dataframe tbody tr th:only-of-type {\n",
       "        vertical-align: middle;\n",
       "    }\n",
       "\n",
       "    .dataframe tbody tr th {\n",
       "        vertical-align: top;\n",
       "    }\n",
       "\n",
       "    .dataframe thead th {\n",
       "        text-align: right;\n",
       "    }\n",
       "</style>\n",
       "<table border=\"1\" class=\"dataframe\">\n",
       "  <thead>\n",
       "    <tr style=\"text-align: right;\">\n",
       "      <th></th>\n",
       "      <th>nombre</th>\n",
       "      <th>apellido</th>\n",
       "      <th>email</th>\n",
       "      <th>vacaciones</th>\n",
       "      <th>saludo</th>\n",
       "    </tr>\n",
       "  </thead>\n",
       "  <tbody>\n",
       "    <tr>\n",
       "      <th>0</th>\n",
       "      <td>Victor</td>\n",
       "      <td>Pablo</td>\n",
       "      <td>victor.pablo@gamma.com</td>\n",
       "      <td>10.0</td>\n",
       "      <td>&lt;function &lt;lambda&gt; at 0x7f9b94c5a550&gt;</td>\n",
       "    </tr>\n",
       "    <tr>\n",
       "      <th>1</th>\n",
       "      <td>Javier</td>\n",
       "      <td>García</td>\n",
       "      <td>javi.garcia@gamma.com</td>\n",
       "      <td>15.0</td>\n",
       "      <td>&lt;function &lt;lambda&gt; at 0x7f9b94c5a5e0&gt;</td>\n",
       "    </tr>\n",
       "    <tr>\n",
       "      <th>2</th>\n",
       "      <td>Pablo</td>\n",
       "      <td>Martinez</td>\n",
       "      <td>pablo.martinez@gamma.com</td>\n",
       "      <td>NaN</td>\n",
       "      <td>&lt;function &lt;lambda&gt; at 0x7f9b94c5a820&gt;</td>\n",
       "    </tr>\n",
       "  </tbody>\n",
       "</table>\n",
       "</div>"
      ],
      "text/plain": [
       "   nombre  apellido                     email  vacaciones   \n",
       "0  Victor     Pablo    victor.pablo@gamma.com        10.0  \\\n",
       "1  Javier    García     javi.garcia@gamma.com        15.0   \n",
       "2   Pablo  Martinez  pablo.martinez@gamma.com         NaN   \n",
       "\n",
       "                                  saludo  \n",
       "0  <function <lambda> at 0x7f9b94c5a550>  \n",
       "1  <function <lambda> at 0x7f9b94c5a5e0>  \n",
       "2  <function <lambda> at 0x7f9b94c5a820>  "
      ]
     },
     "metadata": {},
     "output_type": "display_data"
    }
   ],
   "source": [
    "display(df_datos)"
   ]
  },
  {
   "cell_type": "markdown",
   "id": "regional-watershed",
   "metadata": {},
   "source": [
    "Si hago un dataframe a través de una lista de diccionarios:       \n",
    "    - Cada diccionario será una fila   \n",
    "    - Las keys serán los nombres de las columnas    \n",
    "    - Tienen que tener la misma estructura     "
   ]
  },
  {
   "cell_type": "markdown",
   "id": "arbitrary-editing",
   "metadata": {},
   "source": [
    "Como estamos usando Jupyter Notebook, los objetos DataFrame de pandas se mostrarán como una tabla HTML más amigable para el navegador.\n"
   ]
  },
  {
   "cell_type": "markdown",
   "id": "mexican-catch",
   "metadata": {},
   "source": [
    "### Cargamos datos de formato CSV"
   ]
  },
  {
   "cell_type": "code",
   "execution_count": 49,
   "id": "bronze-corruption",
   "metadata": {},
   "outputs": [],
   "source": [
    "df = pd.read_csv(\"datasets/avocado_kaggle.csv\") # MI VARIABLE SE LLAMA DF"
   ]
  },
  {
   "cell_type": "code",
   "execution_count": 50,
   "id": "agreed-eclipse",
   "metadata": {},
   "outputs": [
    {
     "data": {
      "text/html": [
       "<div>\n",
       "<style scoped>\n",
       "    .dataframe tbody tr th:only-of-type {\n",
       "        vertical-align: middle;\n",
       "    }\n",
       "\n",
       "    .dataframe tbody tr th {\n",
       "        vertical-align: top;\n",
       "    }\n",
       "\n",
       "    .dataframe thead th {\n",
       "        text-align: right;\n",
       "    }\n",
       "</style>\n",
       "<table border=\"1\" class=\"dataframe\">\n",
       "  <thead>\n",
       "    <tr style=\"text-align: right;\">\n",
       "      <th></th>\n",
       "      <th>Unnamed: 0</th>\n",
       "      <th>Date</th>\n",
       "      <th>AveragePrice</th>\n",
       "      <th>Total Volume</th>\n",
       "      <th>4046</th>\n",
       "      <th>4225</th>\n",
       "      <th>4770</th>\n",
       "      <th>Total Bags</th>\n",
       "      <th>Small Bags</th>\n",
       "      <th>Large Bags</th>\n",
       "      <th>XLarge Bags</th>\n",
       "      <th>type</th>\n",
       "      <th>year</th>\n",
       "      <th>region</th>\n",
       "    </tr>\n",
       "  </thead>\n",
       "  <tbody>\n",
       "    <tr>\n",
       "      <th>0</th>\n",
       "      <td>0</td>\n",
       "      <td>2015-12-27</td>\n",
       "      <td>1.33</td>\n",
       "      <td>64236.62</td>\n",
       "      <td>1036.74</td>\n",
       "      <td>54454.85</td>\n",
       "      <td>48.16</td>\n",
       "      <td>8696.87</td>\n",
       "      <td>8603.62</td>\n",
       "      <td>93.25</td>\n",
       "      <td>0.0</td>\n",
       "      <td>conventional</td>\n",
       "      <td>2015</td>\n",
       "      <td>Albany</td>\n",
       "    </tr>\n",
       "    <tr>\n",
       "      <th>1</th>\n",
       "      <td>1</td>\n",
       "      <td>2015-12-20</td>\n",
       "      <td>1.35</td>\n",
       "      <td>54876.98</td>\n",
       "      <td>674.28</td>\n",
       "      <td>44638.81</td>\n",
       "      <td>58.33</td>\n",
       "      <td>9505.56</td>\n",
       "      <td>9408.07</td>\n",
       "      <td>97.49</td>\n",
       "      <td>0.0</td>\n",
       "      <td>conventional</td>\n",
       "      <td>2015</td>\n",
       "      <td>Albany</td>\n",
       "    </tr>\n",
       "    <tr>\n",
       "      <th>2</th>\n",
       "      <td>2</td>\n",
       "      <td>2015-12-13</td>\n",
       "      <td>0.93</td>\n",
       "      <td>118220.22</td>\n",
       "      <td>794.70</td>\n",
       "      <td>109149.67</td>\n",
       "      <td>130.50</td>\n",
       "      <td>8145.35</td>\n",
       "      <td>8042.21</td>\n",
       "      <td>103.14</td>\n",
       "      <td>0.0</td>\n",
       "      <td>conventional</td>\n",
       "      <td>2015</td>\n",
       "      <td>Albany</td>\n",
       "    </tr>\n",
       "    <tr>\n",
       "      <th>3</th>\n",
       "      <td>3</td>\n",
       "      <td>2015-12-06</td>\n",
       "      <td>1.08</td>\n",
       "      <td>78992.15</td>\n",
       "      <td>1132.00</td>\n",
       "      <td>71976.41</td>\n",
       "      <td>72.58</td>\n",
       "      <td>5811.16</td>\n",
       "      <td>5677.40</td>\n",
       "      <td>133.76</td>\n",
       "      <td>0.0</td>\n",
       "      <td>conventional</td>\n",
       "      <td>2015</td>\n",
       "      <td>Albany</td>\n",
       "    </tr>\n",
       "    <tr>\n",
       "      <th>4</th>\n",
       "      <td>4</td>\n",
       "      <td>2015-11-29</td>\n",
       "      <td>1.28</td>\n",
       "      <td>51039.60</td>\n",
       "      <td>941.48</td>\n",
       "      <td>43838.39</td>\n",
       "      <td>75.78</td>\n",
       "      <td>6183.95</td>\n",
       "      <td>5986.26</td>\n",
       "      <td>197.69</td>\n",
       "      <td>0.0</td>\n",
       "      <td>conventional</td>\n",
       "      <td>2015</td>\n",
       "      <td>Albany</td>\n",
       "    </tr>\n",
       "    <tr>\n",
       "      <th>...</th>\n",
       "      <td>...</td>\n",
       "      <td>...</td>\n",
       "      <td>...</td>\n",
       "      <td>...</td>\n",
       "      <td>...</td>\n",
       "      <td>...</td>\n",
       "      <td>...</td>\n",
       "      <td>...</td>\n",
       "      <td>...</td>\n",
       "      <td>...</td>\n",
       "      <td>...</td>\n",
       "      <td>...</td>\n",
       "      <td>...</td>\n",
       "      <td>...</td>\n",
       "    </tr>\n",
       "    <tr>\n",
       "      <th>18244</th>\n",
       "      <td>7</td>\n",
       "      <td>2018-02-04</td>\n",
       "      <td>1.63</td>\n",
       "      <td>17074.83</td>\n",
       "      <td>2046.96</td>\n",
       "      <td>1529.20</td>\n",
       "      <td>0.00</td>\n",
       "      <td>13498.67</td>\n",
       "      <td>13066.82</td>\n",
       "      <td>431.85</td>\n",
       "      <td>0.0</td>\n",
       "      <td>organic</td>\n",
       "      <td>2018</td>\n",
       "      <td>WestTexNewMexico</td>\n",
       "    </tr>\n",
       "    <tr>\n",
       "      <th>18245</th>\n",
       "      <td>8</td>\n",
       "      <td>2018-01-28</td>\n",
       "      <td>1.71</td>\n",
       "      <td>13888.04</td>\n",
       "      <td>1191.70</td>\n",
       "      <td>3431.50</td>\n",
       "      <td>0.00</td>\n",
       "      <td>9264.84</td>\n",
       "      <td>8940.04</td>\n",
       "      <td>324.80</td>\n",
       "      <td>0.0</td>\n",
       "      <td>organic</td>\n",
       "      <td>2018</td>\n",
       "      <td>WestTexNewMexico</td>\n",
       "    </tr>\n",
       "    <tr>\n",
       "      <th>18246</th>\n",
       "      <td>9</td>\n",
       "      <td>2018-01-21</td>\n",
       "      <td>1.87</td>\n",
       "      <td>13766.76</td>\n",
       "      <td>1191.92</td>\n",
       "      <td>2452.79</td>\n",
       "      <td>727.94</td>\n",
       "      <td>9394.11</td>\n",
       "      <td>9351.80</td>\n",
       "      <td>42.31</td>\n",
       "      <td>0.0</td>\n",
       "      <td>organic</td>\n",
       "      <td>2018</td>\n",
       "      <td>WestTexNewMexico</td>\n",
       "    </tr>\n",
       "    <tr>\n",
       "      <th>18247</th>\n",
       "      <td>10</td>\n",
       "      <td>2018-01-14</td>\n",
       "      <td>1.93</td>\n",
       "      <td>16205.22</td>\n",
       "      <td>1527.63</td>\n",
       "      <td>2981.04</td>\n",
       "      <td>727.01</td>\n",
       "      <td>10969.54</td>\n",
       "      <td>10919.54</td>\n",
       "      <td>50.00</td>\n",
       "      <td>0.0</td>\n",
       "      <td>organic</td>\n",
       "      <td>2018</td>\n",
       "      <td>WestTexNewMexico</td>\n",
       "    </tr>\n",
       "    <tr>\n",
       "      <th>18248</th>\n",
       "      <td>11</td>\n",
       "      <td>2018-01-07</td>\n",
       "      <td>1.62</td>\n",
       "      <td>17489.58</td>\n",
       "      <td>2894.77</td>\n",
       "      <td>2356.13</td>\n",
       "      <td>224.53</td>\n",
       "      <td>12014.15</td>\n",
       "      <td>11988.14</td>\n",
       "      <td>26.01</td>\n",
       "      <td>0.0</td>\n",
       "      <td>organic</td>\n",
       "      <td>2018</td>\n",
       "      <td>WestTexNewMexico</td>\n",
       "    </tr>\n",
       "  </tbody>\n",
       "</table>\n",
       "<p>18249 rows × 14 columns</p>\n",
       "</div>"
      ],
      "text/plain": [
       "       Unnamed: 0        Date  AveragePrice  Total Volume     4046       4225   \n",
       "0               0  2015-12-27          1.33      64236.62  1036.74   54454.85  \\\n",
       "1               1  2015-12-20          1.35      54876.98   674.28   44638.81   \n",
       "2               2  2015-12-13          0.93     118220.22   794.70  109149.67   \n",
       "3               3  2015-12-06          1.08      78992.15  1132.00   71976.41   \n",
       "4               4  2015-11-29          1.28      51039.60   941.48   43838.39   \n",
       "...           ...         ...           ...           ...      ...        ...   \n",
       "18244           7  2018-02-04          1.63      17074.83  2046.96    1529.20   \n",
       "18245           8  2018-01-28          1.71      13888.04  1191.70    3431.50   \n",
       "18246           9  2018-01-21          1.87      13766.76  1191.92    2452.79   \n",
       "18247          10  2018-01-14          1.93      16205.22  1527.63    2981.04   \n",
       "18248          11  2018-01-07          1.62      17489.58  2894.77    2356.13   \n",
       "\n",
       "         4770  Total Bags  Small Bags  Large Bags  XLarge Bags          type   \n",
       "0       48.16     8696.87     8603.62       93.25          0.0  conventional  \\\n",
       "1       58.33     9505.56     9408.07       97.49          0.0  conventional   \n",
       "2      130.50     8145.35     8042.21      103.14          0.0  conventional   \n",
       "3       72.58     5811.16     5677.40      133.76          0.0  conventional   \n",
       "4       75.78     6183.95     5986.26      197.69          0.0  conventional   \n",
       "...       ...         ...         ...         ...          ...           ...   \n",
       "18244    0.00    13498.67    13066.82      431.85          0.0       organic   \n",
       "18245    0.00     9264.84     8940.04      324.80          0.0       organic   \n",
       "18246  727.94     9394.11     9351.80       42.31          0.0       organic   \n",
       "18247  727.01    10969.54    10919.54       50.00          0.0       organic   \n",
       "18248  224.53    12014.15    11988.14       26.01          0.0       organic   \n",
       "\n",
       "       year            region  \n",
       "0      2015            Albany  \n",
       "1      2015            Albany  \n",
       "2      2015            Albany  \n",
       "3      2015            Albany  \n",
       "4      2015            Albany  \n",
       "...     ...               ...  \n",
       "18244  2018  WestTexNewMexico  \n",
       "18245  2018  WestTexNewMexico  \n",
       "18246  2018  WestTexNewMexico  \n",
       "18247  2018  WestTexNewMexico  \n",
       "18248  2018  WestTexNewMexico  \n",
       "\n",
       "[18249 rows x 14 columns]"
      ]
     },
     "metadata": {},
     "output_type": "display_data"
    }
   ],
   "source": [
    "display(df) "
   ]
  },
  {
   "cell_type": "code",
   "execution_count": 51,
   "id": "dependent-swift",
   "metadata": {},
   "outputs": [
    {
     "data": {
      "text/plain": [
       "(18249, 14)"
      ]
     },
     "execution_count": 51,
     "metadata": {},
     "output_type": "execute_result"
    }
   ],
   "source": [
    "df.shape"
   ]
  },
  {
   "cell_type": "code",
   "execution_count": 52,
   "id": "99a54c80",
   "metadata": {},
   "outputs": [
    {
     "data": {
      "text/plain": [
       "18249"
      ]
     },
     "execution_count": 52,
     "metadata": {},
     "output_type": "execute_result"
    }
   ],
   "source": [
    "df.shape[0] #Filas"
   ]
  },
  {
   "cell_type": "code",
   "execution_count": 53,
   "id": "3c10b61c",
   "metadata": {},
   "outputs": [
    {
     "data": {
      "text/plain": [
       "14"
      ]
     },
     "execution_count": 53,
     "metadata": {},
     "output_type": "execute_result"
    }
   ],
   "source": [
    "df.shape[1] #Columnas"
   ]
  },
  {
   "cell_type": "markdown",
   "id": "surprised-dinner",
   "metadata": {},
   "source": [
    "### Cargamos datos de formato xlsx"
   ]
  },
  {
   "cell_type": "code",
   "execution_count": 54,
   "id": "2282e423",
   "metadata": {},
   "outputs": [],
   "source": [
    "#%conda install openpyxl"
   ]
  },
  {
   "cell_type": "code",
   "execution_count": 55,
   "id": "469b87a5",
   "metadata": {},
   "outputs": [],
   "source": [
    "import openpyxl"
   ]
  },
  {
   "cell_type": "code",
   "execution_count": 56,
   "id": "technological-constitution",
   "metadata": {},
   "outputs": [],
   "source": [
    "retail = pd.read_excel(\"datasets/Online Retail.xlsx\")"
   ]
  },
  {
   "cell_type": "code",
   "execution_count": 57,
   "id": "multiple-priest",
   "metadata": {},
   "outputs": [
    {
     "data": {
      "text/plain": [
       "(396034, 9)"
      ]
     },
     "execution_count": 57,
     "metadata": {},
     "output_type": "execute_result"
    }
   ],
   "source": [
    "retail.shape"
   ]
  },
  {
   "cell_type": "markdown",
   "id": "blocked-philippines",
   "metadata": {},
   "source": [
    "### Visualizamos las primeras filas"
   ]
  },
  {
   "cell_type": "code",
   "execution_count": 58,
   "id": "requested-memorial",
   "metadata": {},
   "outputs": [
    {
     "data": {
      "text/html": [
       "<div>\n",
       "<style scoped>\n",
       "    .dataframe tbody tr th:only-of-type {\n",
       "        vertical-align: middle;\n",
       "    }\n",
       "\n",
       "    .dataframe tbody tr th {\n",
       "        vertical-align: top;\n",
       "    }\n",
       "\n",
       "    .dataframe thead th {\n",
       "        text-align: right;\n",
       "    }\n",
       "</style>\n",
       "<table border=\"1\" class=\"dataframe\">\n",
       "  <thead>\n",
       "    <tr style=\"text-align: right;\">\n",
       "      <th></th>\n",
       "      <th>Unnamed: 0</th>\n",
       "      <th>Date</th>\n",
       "      <th>AveragePrice</th>\n",
       "      <th>Total Volume</th>\n",
       "      <th>4046</th>\n",
       "      <th>4225</th>\n",
       "      <th>4770</th>\n",
       "      <th>Total Bags</th>\n",
       "      <th>Small Bags</th>\n",
       "      <th>Large Bags</th>\n",
       "      <th>XLarge Bags</th>\n",
       "      <th>type</th>\n",
       "      <th>year</th>\n",
       "      <th>region</th>\n",
       "    </tr>\n",
       "  </thead>\n",
       "  <tbody>\n",
       "    <tr>\n",
       "      <th>0</th>\n",
       "      <td>0</td>\n",
       "      <td>2015-12-27</td>\n",
       "      <td>1.33</td>\n",
       "      <td>64236.62</td>\n",
       "      <td>1036.74</td>\n",
       "      <td>54454.85</td>\n",
       "      <td>48.16</td>\n",
       "      <td>8696.87</td>\n",
       "      <td>8603.62</td>\n",
       "      <td>93.25</td>\n",
       "      <td>0.0</td>\n",
       "      <td>conventional</td>\n",
       "      <td>2015</td>\n",
       "      <td>Albany</td>\n",
       "    </tr>\n",
       "    <tr>\n",
       "      <th>1</th>\n",
       "      <td>1</td>\n",
       "      <td>2015-12-20</td>\n",
       "      <td>1.35</td>\n",
       "      <td>54876.98</td>\n",
       "      <td>674.28</td>\n",
       "      <td>44638.81</td>\n",
       "      <td>58.33</td>\n",
       "      <td>9505.56</td>\n",
       "      <td>9408.07</td>\n",
       "      <td>97.49</td>\n",
       "      <td>0.0</td>\n",
       "      <td>conventional</td>\n",
       "      <td>2015</td>\n",
       "      <td>Albany</td>\n",
       "    </tr>\n",
       "    <tr>\n",
       "      <th>2</th>\n",
       "      <td>2</td>\n",
       "      <td>2015-12-13</td>\n",
       "      <td>0.93</td>\n",
       "      <td>118220.22</td>\n",
       "      <td>794.70</td>\n",
       "      <td>109149.67</td>\n",
       "      <td>130.50</td>\n",
       "      <td>8145.35</td>\n",
       "      <td>8042.21</td>\n",
       "      <td>103.14</td>\n",
       "      <td>0.0</td>\n",
       "      <td>conventional</td>\n",
       "      <td>2015</td>\n",
       "      <td>Albany</td>\n",
       "    </tr>\n",
       "    <tr>\n",
       "      <th>3</th>\n",
       "      <td>3</td>\n",
       "      <td>2015-12-06</td>\n",
       "      <td>1.08</td>\n",
       "      <td>78992.15</td>\n",
       "      <td>1132.00</td>\n",
       "      <td>71976.41</td>\n",
       "      <td>72.58</td>\n",
       "      <td>5811.16</td>\n",
       "      <td>5677.40</td>\n",
       "      <td>133.76</td>\n",
       "      <td>0.0</td>\n",
       "      <td>conventional</td>\n",
       "      <td>2015</td>\n",
       "      <td>Albany</td>\n",
       "    </tr>\n",
       "    <tr>\n",
       "      <th>4</th>\n",
       "      <td>4</td>\n",
       "      <td>2015-11-29</td>\n",
       "      <td>1.28</td>\n",
       "      <td>51039.60</td>\n",
       "      <td>941.48</td>\n",
       "      <td>43838.39</td>\n",
       "      <td>75.78</td>\n",
       "      <td>6183.95</td>\n",
       "      <td>5986.26</td>\n",
       "      <td>197.69</td>\n",
       "      <td>0.0</td>\n",
       "      <td>conventional</td>\n",
       "      <td>2015</td>\n",
       "      <td>Albany</td>\n",
       "    </tr>\n",
       "  </tbody>\n",
       "</table>\n",
       "</div>"
      ],
      "text/plain": [
       "   Unnamed: 0        Date  AveragePrice  Total Volume     4046       4225   \n",
       "0           0  2015-12-27          1.33      64236.62  1036.74   54454.85  \\\n",
       "1           1  2015-12-20          1.35      54876.98   674.28   44638.81   \n",
       "2           2  2015-12-13          0.93     118220.22   794.70  109149.67   \n",
       "3           3  2015-12-06          1.08      78992.15  1132.00   71976.41   \n",
       "4           4  2015-11-29          1.28      51039.60   941.48   43838.39   \n",
       "\n",
       "     4770  Total Bags  Small Bags  Large Bags  XLarge Bags          type   \n",
       "0   48.16     8696.87     8603.62       93.25          0.0  conventional  \\\n",
       "1   58.33     9505.56     9408.07       97.49          0.0  conventional   \n",
       "2  130.50     8145.35     8042.21      103.14          0.0  conventional   \n",
       "3   72.58     5811.16     5677.40      133.76          0.0  conventional   \n",
       "4   75.78     6183.95     5986.26      197.69          0.0  conventional   \n",
       "\n",
       "   year  region  \n",
       "0  2015  Albany  \n",
       "1  2015  Albany  \n",
       "2  2015  Albany  \n",
       "3  2015  Albany  \n",
       "4  2015  Albany  "
      ]
     },
     "execution_count": 58,
     "metadata": {},
     "output_type": "execute_result"
    }
   ],
   "source": [
    "df.head()"
   ]
  },
  {
   "cell_type": "markdown",
   "id": "acting-milton",
   "metadata": {},
   "source": [
    "Por defecto head me muestra las 5 primeras filas, puedo ver algunas más o algunas menos pasándole un número como parámetro "
   ]
  },
  {
   "cell_type": "code",
   "execution_count": 59,
   "id": "first-identity",
   "metadata": {},
   "outputs": [
    {
     "data": {
      "text/html": [
       "<div>\n",
       "<style scoped>\n",
       "    .dataframe tbody tr th:only-of-type {\n",
       "        vertical-align: middle;\n",
       "    }\n",
       "\n",
       "    .dataframe tbody tr th {\n",
       "        vertical-align: top;\n",
       "    }\n",
       "\n",
       "    .dataframe thead th {\n",
       "        text-align: right;\n",
       "    }\n",
       "</style>\n",
       "<table border=\"1\" class=\"dataframe\">\n",
       "  <thead>\n",
       "    <tr style=\"text-align: right;\">\n",
       "      <th></th>\n",
       "      <th>Unnamed: 0</th>\n",
       "      <th>Date</th>\n",
       "      <th>AveragePrice</th>\n",
       "      <th>Total Volume</th>\n",
       "      <th>4046</th>\n",
       "      <th>4225</th>\n",
       "      <th>4770</th>\n",
       "      <th>Total Bags</th>\n",
       "      <th>Small Bags</th>\n",
       "      <th>Large Bags</th>\n",
       "      <th>XLarge Bags</th>\n",
       "      <th>type</th>\n",
       "      <th>year</th>\n",
       "      <th>region</th>\n",
       "    </tr>\n",
       "  </thead>\n",
       "  <tbody>\n",
       "    <tr>\n",
       "      <th>0</th>\n",
       "      <td>0</td>\n",
       "      <td>2015-12-27</td>\n",
       "      <td>1.33</td>\n",
       "      <td>64236.62</td>\n",
       "      <td>1036.74</td>\n",
       "      <td>54454.85</td>\n",
       "      <td>48.16</td>\n",
       "      <td>8696.87</td>\n",
       "      <td>8603.62</td>\n",
       "      <td>93.25</td>\n",
       "      <td>0.0</td>\n",
       "      <td>conventional</td>\n",
       "      <td>2015</td>\n",
       "      <td>Albany</td>\n",
       "    </tr>\n",
       "    <tr>\n",
       "      <th>1</th>\n",
       "      <td>1</td>\n",
       "      <td>2015-12-20</td>\n",
       "      <td>1.35</td>\n",
       "      <td>54876.98</td>\n",
       "      <td>674.28</td>\n",
       "      <td>44638.81</td>\n",
       "      <td>58.33</td>\n",
       "      <td>9505.56</td>\n",
       "      <td>9408.07</td>\n",
       "      <td>97.49</td>\n",
       "      <td>0.0</td>\n",
       "      <td>conventional</td>\n",
       "      <td>2015</td>\n",
       "      <td>Albany</td>\n",
       "    </tr>\n",
       "    <tr>\n",
       "      <th>2</th>\n",
       "      <td>2</td>\n",
       "      <td>2015-12-13</td>\n",
       "      <td>0.93</td>\n",
       "      <td>118220.22</td>\n",
       "      <td>794.70</td>\n",
       "      <td>109149.67</td>\n",
       "      <td>130.50</td>\n",
       "      <td>8145.35</td>\n",
       "      <td>8042.21</td>\n",
       "      <td>103.14</td>\n",
       "      <td>0.0</td>\n",
       "      <td>conventional</td>\n",
       "      <td>2015</td>\n",
       "      <td>Albany</td>\n",
       "    </tr>\n",
       "  </tbody>\n",
       "</table>\n",
       "</div>"
      ],
      "text/plain": [
       "   Unnamed: 0        Date  AveragePrice  Total Volume     4046       4225   \n",
       "0           0  2015-12-27          1.33      64236.62  1036.74   54454.85  \\\n",
       "1           1  2015-12-20          1.35      54876.98   674.28   44638.81   \n",
       "2           2  2015-12-13          0.93     118220.22   794.70  109149.67   \n",
       "\n",
       "     4770  Total Bags  Small Bags  Large Bags  XLarge Bags          type   \n",
       "0   48.16     8696.87     8603.62       93.25          0.0  conventional  \\\n",
       "1   58.33     9505.56     9408.07       97.49          0.0  conventional   \n",
       "2  130.50     8145.35     8042.21      103.14          0.0  conventional   \n",
       "\n",
       "   year  region  \n",
       "0  2015  Albany  \n",
       "1  2015  Albany  \n",
       "2  2015  Albany  "
      ]
     },
     "execution_count": 59,
     "metadata": {},
     "output_type": "execute_result"
    }
   ],
   "source": [
    "df.head(3)"
   ]
  },
  {
   "cell_type": "markdown",
   "id": "finite-foundation",
   "metadata": {},
   "source": [
    "### Visualizamos las últimas filas "
   ]
  },
  {
   "cell_type": "code",
   "execution_count": 60,
   "id": "lined-switzerland",
   "metadata": {},
   "outputs": [
    {
     "data": {
      "text/html": [
       "<div>\n",
       "<style scoped>\n",
       "    .dataframe tbody tr th:only-of-type {\n",
       "        vertical-align: middle;\n",
       "    }\n",
       "\n",
       "    .dataframe tbody tr th {\n",
       "        vertical-align: top;\n",
       "    }\n",
       "\n",
       "    .dataframe thead th {\n",
       "        text-align: right;\n",
       "    }\n",
       "</style>\n",
       "<table border=\"1\" class=\"dataframe\">\n",
       "  <thead>\n",
       "    <tr style=\"text-align: right;\">\n",
       "      <th></th>\n",
       "      <th>Unnamed: 0</th>\n",
       "      <th>Date</th>\n",
       "      <th>AveragePrice</th>\n",
       "      <th>Total Volume</th>\n",
       "      <th>4046</th>\n",
       "      <th>4225</th>\n",
       "      <th>4770</th>\n",
       "      <th>Total Bags</th>\n",
       "      <th>Small Bags</th>\n",
       "      <th>Large Bags</th>\n",
       "      <th>XLarge Bags</th>\n",
       "      <th>type</th>\n",
       "      <th>year</th>\n",
       "      <th>region</th>\n",
       "    </tr>\n",
       "  </thead>\n",
       "  <tbody>\n",
       "    <tr>\n",
       "      <th>18244</th>\n",
       "      <td>7</td>\n",
       "      <td>2018-02-04</td>\n",
       "      <td>1.63</td>\n",
       "      <td>17074.83</td>\n",
       "      <td>2046.96</td>\n",
       "      <td>1529.20</td>\n",
       "      <td>0.00</td>\n",
       "      <td>13498.67</td>\n",
       "      <td>13066.82</td>\n",
       "      <td>431.85</td>\n",
       "      <td>0.0</td>\n",
       "      <td>organic</td>\n",
       "      <td>2018</td>\n",
       "      <td>WestTexNewMexico</td>\n",
       "    </tr>\n",
       "    <tr>\n",
       "      <th>18245</th>\n",
       "      <td>8</td>\n",
       "      <td>2018-01-28</td>\n",
       "      <td>1.71</td>\n",
       "      <td>13888.04</td>\n",
       "      <td>1191.70</td>\n",
       "      <td>3431.50</td>\n",
       "      <td>0.00</td>\n",
       "      <td>9264.84</td>\n",
       "      <td>8940.04</td>\n",
       "      <td>324.80</td>\n",
       "      <td>0.0</td>\n",
       "      <td>organic</td>\n",
       "      <td>2018</td>\n",
       "      <td>WestTexNewMexico</td>\n",
       "    </tr>\n",
       "    <tr>\n",
       "      <th>18246</th>\n",
       "      <td>9</td>\n",
       "      <td>2018-01-21</td>\n",
       "      <td>1.87</td>\n",
       "      <td>13766.76</td>\n",
       "      <td>1191.92</td>\n",
       "      <td>2452.79</td>\n",
       "      <td>727.94</td>\n",
       "      <td>9394.11</td>\n",
       "      <td>9351.80</td>\n",
       "      <td>42.31</td>\n",
       "      <td>0.0</td>\n",
       "      <td>organic</td>\n",
       "      <td>2018</td>\n",
       "      <td>WestTexNewMexico</td>\n",
       "    </tr>\n",
       "    <tr>\n",
       "      <th>18247</th>\n",
       "      <td>10</td>\n",
       "      <td>2018-01-14</td>\n",
       "      <td>1.93</td>\n",
       "      <td>16205.22</td>\n",
       "      <td>1527.63</td>\n",
       "      <td>2981.04</td>\n",
       "      <td>727.01</td>\n",
       "      <td>10969.54</td>\n",
       "      <td>10919.54</td>\n",
       "      <td>50.00</td>\n",
       "      <td>0.0</td>\n",
       "      <td>organic</td>\n",
       "      <td>2018</td>\n",
       "      <td>WestTexNewMexico</td>\n",
       "    </tr>\n",
       "    <tr>\n",
       "      <th>18248</th>\n",
       "      <td>11</td>\n",
       "      <td>2018-01-07</td>\n",
       "      <td>1.62</td>\n",
       "      <td>17489.58</td>\n",
       "      <td>2894.77</td>\n",
       "      <td>2356.13</td>\n",
       "      <td>224.53</td>\n",
       "      <td>12014.15</td>\n",
       "      <td>11988.14</td>\n",
       "      <td>26.01</td>\n",
       "      <td>0.0</td>\n",
       "      <td>organic</td>\n",
       "      <td>2018</td>\n",
       "      <td>WestTexNewMexico</td>\n",
       "    </tr>\n",
       "  </tbody>\n",
       "</table>\n",
       "</div>"
      ],
      "text/plain": [
       "       Unnamed: 0        Date  AveragePrice  Total Volume     4046     4225   \n",
       "18244           7  2018-02-04          1.63      17074.83  2046.96  1529.20  \\\n",
       "18245           8  2018-01-28          1.71      13888.04  1191.70  3431.50   \n",
       "18246           9  2018-01-21          1.87      13766.76  1191.92  2452.79   \n",
       "18247          10  2018-01-14          1.93      16205.22  1527.63  2981.04   \n",
       "18248          11  2018-01-07          1.62      17489.58  2894.77  2356.13   \n",
       "\n",
       "         4770  Total Bags  Small Bags  Large Bags  XLarge Bags     type  year   \n",
       "18244    0.00    13498.67    13066.82      431.85          0.0  organic  2018  \\\n",
       "18245    0.00     9264.84     8940.04      324.80          0.0  organic  2018   \n",
       "18246  727.94     9394.11     9351.80       42.31          0.0  organic  2018   \n",
       "18247  727.01    10969.54    10919.54       50.00          0.0  organic  2018   \n",
       "18248  224.53    12014.15    11988.14       26.01          0.0  organic  2018   \n",
       "\n",
       "                 region  \n",
       "18244  WestTexNewMexico  \n",
       "18245  WestTexNewMexico  \n",
       "18246  WestTexNewMexico  \n",
       "18247  WestTexNewMexico  \n",
       "18248  WestTexNewMexico  "
      ]
     },
     "execution_count": 60,
     "metadata": {},
     "output_type": "execute_result"
    }
   ],
   "source": [
    "df.tail()"
   ]
  },
  {
   "cell_type": "markdown",
   "id": "deadly-richards",
   "metadata": {},
   "source": [
    "Excatamente igual que con .head() le pasamos un parámetro a .tail()"
   ]
  },
  {
   "cell_type": "code",
   "execution_count": 61,
   "id": "suited-variation",
   "metadata": {},
   "outputs": [
    {
     "data": {
      "text/html": [
       "<div>\n",
       "<style scoped>\n",
       "    .dataframe tbody tr th:only-of-type {\n",
       "        vertical-align: middle;\n",
       "    }\n",
       "\n",
       "    .dataframe tbody tr th {\n",
       "        vertical-align: top;\n",
       "    }\n",
       "\n",
       "    .dataframe thead th {\n",
       "        text-align: right;\n",
       "    }\n",
       "</style>\n",
       "<table border=\"1\" class=\"dataframe\">\n",
       "  <thead>\n",
       "    <tr style=\"text-align: right;\">\n",
       "      <th></th>\n",
       "      <th>Unnamed: 0</th>\n",
       "      <th>Date</th>\n",
       "      <th>AveragePrice</th>\n",
       "      <th>Total Volume</th>\n",
       "      <th>4046</th>\n",
       "      <th>4225</th>\n",
       "      <th>4770</th>\n",
       "      <th>Total Bags</th>\n",
       "      <th>Small Bags</th>\n",
       "      <th>Large Bags</th>\n",
       "      <th>XLarge Bags</th>\n",
       "      <th>type</th>\n",
       "      <th>year</th>\n",
       "      <th>region</th>\n",
       "    </tr>\n",
       "  </thead>\n",
       "  <tbody>\n",
       "    <tr>\n",
       "      <th>18246</th>\n",
       "      <td>9</td>\n",
       "      <td>2018-01-21</td>\n",
       "      <td>1.87</td>\n",
       "      <td>13766.76</td>\n",
       "      <td>1191.92</td>\n",
       "      <td>2452.79</td>\n",
       "      <td>727.94</td>\n",
       "      <td>9394.11</td>\n",
       "      <td>9351.80</td>\n",
       "      <td>42.31</td>\n",
       "      <td>0.0</td>\n",
       "      <td>organic</td>\n",
       "      <td>2018</td>\n",
       "      <td>WestTexNewMexico</td>\n",
       "    </tr>\n",
       "    <tr>\n",
       "      <th>18247</th>\n",
       "      <td>10</td>\n",
       "      <td>2018-01-14</td>\n",
       "      <td>1.93</td>\n",
       "      <td>16205.22</td>\n",
       "      <td>1527.63</td>\n",
       "      <td>2981.04</td>\n",
       "      <td>727.01</td>\n",
       "      <td>10969.54</td>\n",
       "      <td>10919.54</td>\n",
       "      <td>50.00</td>\n",
       "      <td>0.0</td>\n",
       "      <td>organic</td>\n",
       "      <td>2018</td>\n",
       "      <td>WestTexNewMexico</td>\n",
       "    </tr>\n",
       "    <tr>\n",
       "      <th>18248</th>\n",
       "      <td>11</td>\n",
       "      <td>2018-01-07</td>\n",
       "      <td>1.62</td>\n",
       "      <td>17489.58</td>\n",
       "      <td>2894.77</td>\n",
       "      <td>2356.13</td>\n",
       "      <td>224.53</td>\n",
       "      <td>12014.15</td>\n",
       "      <td>11988.14</td>\n",
       "      <td>26.01</td>\n",
       "      <td>0.0</td>\n",
       "      <td>organic</td>\n",
       "      <td>2018</td>\n",
       "      <td>WestTexNewMexico</td>\n",
       "    </tr>\n",
       "  </tbody>\n",
       "</table>\n",
       "</div>"
      ],
      "text/plain": [
       "       Unnamed: 0        Date  AveragePrice  Total Volume     4046     4225   \n",
       "18246           9  2018-01-21          1.87      13766.76  1191.92  2452.79  \\\n",
       "18247          10  2018-01-14          1.93      16205.22  1527.63  2981.04   \n",
       "18248          11  2018-01-07          1.62      17489.58  2894.77  2356.13   \n",
       "\n",
       "         4770  Total Bags  Small Bags  Large Bags  XLarge Bags     type  year   \n",
       "18246  727.94     9394.11     9351.80       42.31          0.0  organic  2018  \\\n",
       "18247  727.01    10969.54    10919.54       50.00          0.0  organic  2018   \n",
       "18248  224.53    12014.15    11988.14       26.01          0.0  organic  2018   \n",
       "\n",
       "                 region  \n",
       "18246  WestTexNewMexico  \n",
       "18247  WestTexNewMexico  \n",
       "18248  WestTexNewMexico  "
      ]
     },
     "execution_count": 61,
     "metadata": {},
     "output_type": "execute_result"
    }
   ],
   "source": [
    "df.tail(3)"
   ]
  },
  {
   "cell_type": "markdown",
   "id": "developed-distance",
   "metadata": {},
   "source": [
    "### Visualizamos una muestra aleatoria"
   ]
  },
  {
   "cell_type": "code",
   "execution_count": 62,
   "id": "emotional-workshop",
   "metadata": {},
   "outputs": [
    {
     "data": {
      "text/html": [
       "<div>\n",
       "<style scoped>\n",
       "    .dataframe tbody tr th:only-of-type {\n",
       "        vertical-align: middle;\n",
       "    }\n",
       "\n",
       "    .dataframe tbody tr th {\n",
       "        vertical-align: top;\n",
       "    }\n",
       "\n",
       "    .dataframe thead th {\n",
       "        text-align: right;\n",
       "    }\n",
       "</style>\n",
       "<table border=\"1\" class=\"dataframe\">\n",
       "  <thead>\n",
       "    <tr style=\"text-align: right;\">\n",
       "      <th></th>\n",
       "      <th>Unnamed: 0</th>\n",
       "      <th>Date</th>\n",
       "      <th>AveragePrice</th>\n",
       "      <th>Total Volume</th>\n",
       "      <th>4046</th>\n",
       "      <th>4225</th>\n",
       "      <th>4770</th>\n",
       "      <th>Total Bags</th>\n",
       "      <th>Small Bags</th>\n",
       "      <th>Large Bags</th>\n",
       "      <th>XLarge Bags</th>\n",
       "      <th>type</th>\n",
       "      <th>year</th>\n",
       "      <th>region</th>\n",
       "    </tr>\n",
       "  </thead>\n",
       "  <tbody>\n",
       "    <tr>\n",
       "      <th>12790</th>\n",
       "      <td>25</td>\n",
       "      <td>2016-07-03</td>\n",
       "      <td>1.81</td>\n",
       "      <td>7342.95</td>\n",
       "      <td>290.67</td>\n",
       "      <td>289.24</td>\n",
       "      <td>308.49</td>\n",
       "      <td>6454.55</td>\n",
       "      <td>5908.2</td>\n",
       "      <td>546.35</td>\n",
       "      <td>0.0</td>\n",
       "      <td>organic</td>\n",
       "      <td>2016</td>\n",
       "      <td>HarrisburgScranton</td>\n",
       "    </tr>\n",
       "  </tbody>\n",
       "</table>\n",
       "</div>"
      ],
      "text/plain": [
       "       Unnamed: 0        Date  AveragePrice  Total Volume    4046    4225   \n",
       "12790          25  2016-07-03          1.81       7342.95  290.67  289.24  \\\n",
       "\n",
       "         4770  Total Bags  Small Bags  Large Bags  XLarge Bags     type  year   \n",
       "12790  308.49     6454.55      5908.2      546.35          0.0  organic  2016  \\\n",
       "\n",
       "                   region  \n",
       "12790  HarrisburgScranton  "
      ]
     },
     "execution_count": 62,
     "metadata": {},
     "output_type": "execute_result"
    }
   ],
   "source": [
    "df.sample() #si no le pasamos un parámetro, visualiza una sola fila de forma aleatoria."
   ]
  },
  {
   "cell_type": "code",
   "execution_count": 63,
   "id": "little-category",
   "metadata": {},
   "outputs": [
    {
     "data": {
      "text/html": [
       "<div>\n",
       "<style scoped>\n",
       "    .dataframe tbody tr th:only-of-type {\n",
       "        vertical-align: middle;\n",
       "    }\n",
       "\n",
       "    .dataframe tbody tr th {\n",
       "        vertical-align: top;\n",
       "    }\n",
       "\n",
       "    .dataframe thead th {\n",
       "        text-align: right;\n",
       "    }\n",
       "</style>\n",
       "<table border=\"1\" class=\"dataframe\">\n",
       "  <thead>\n",
       "    <tr style=\"text-align: right;\">\n",
       "      <th></th>\n",
       "      <th>Unnamed: 0</th>\n",
       "      <th>Date</th>\n",
       "      <th>AveragePrice</th>\n",
       "      <th>Total Volume</th>\n",
       "      <th>4046</th>\n",
       "      <th>4225</th>\n",
       "      <th>4770</th>\n",
       "      <th>Total Bags</th>\n",
       "      <th>Small Bags</th>\n",
       "      <th>Large Bags</th>\n",
       "      <th>XLarge Bags</th>\n",
       "      <th>type</th>\n",
       "      <th>year</th>\n",
       "      <th>region</th>\n",
       "    </tr>\n",
       "  </thead>\n",
       "  <tbody>\n",
       "    <tr>\n",
       "      <th>1721</th>\n",
       "      <td>5</td>\n",
       "      <td>2015-11-22</td>\n",
       "      <td>0.77</td>\n",
       "      <td>737834.48</td>\n",
       "      <td>441712.62</td>\n",
       "      <td>220374.84</td>\n",
       "      <td>11102.75</td>\n",
       "      <td>64644.27</td>\n",
       "      <td>63088.81</td>\n",
       "      <td>1555.46</td>\n",
       "      <td>0.0</td>\n",
       "      <td>conventional</td>\n",
       "      <td>2015</td>\n",
       "      <td>PhoenixTucson</td>\n",
       "    </tr>\n",
       "    <tr>\n",
       "      <th>7030</th>\n",
       "      <td>36</td>\n",
       "      <td>2017-04-23</td>\n",
       "      <td>1.10</td>\n",
       "      <td>226088.30</td>\n",
       "      <td>109053.98</td>\n",
       "      <td>8877.76</td>\n",
       "      <td>75.09</td>\n",
       "      <td>108081.47</td>\n",
       "      <td>97879.10</td>\n",
       "      <td>8397.37</td>\n",
       "      <td>1805.0</td>\n",
       "      <td>conventional</td>\n",
       "      <td>2017</td>\n",
       "      <td>Nashville</td>\n",
       "    </tr>\n",
       "    <tr>\n",
       "      <th>2650</th>\n",
       "      <td>50</td>\n",
       "      <td>2015-01-11</td>\n",
       "      <td>1.24</td>\n",
       "      <td>235231.08</td>\n",
       "      <td>142237.71</td>\n",
       "      <td>36017.93</td>\n",
       "      <td>56.25</td>\n",
       "      <td>56919.19</td>\n",
       "      <td>19605.39</td>\n",
       "      <td>37313.80</td>\n",
       "      <td>0.0</td>\n",
       "      <td>conventional</td>\n",
       "      <td>2015</td>\n",
       "      <td>Tampa</td>\n",
       "    </tr>\n",
       "    <tr>\n",
       "      <th>3218</th>\n",
       "      <td>46</td>\n",
       "      <td>2016-02-07</td>\n",
       "      <td>0.80</td>\n",
       "      <td>325941.39</td>\n",
       "      <td>63128.71</td>\n",
       "      <td>160544.54</td>\n",
       "      <td>42056.68</td>\n",
       "      <td>60211.46</td>\n",
       "      <td>42529.78</td>\n",
       "      <td>17681.68</td>\n",
       "      <td>0.0</td>\n",
       "      <td>conventional</td>\n",
       "      <td>2016</td>\n",
       "      <td>Charlotte</td>\n",
       "    </tr>\n",
       "    <tr>\n",
       "      <th>16077</th>\n",
       "      <td>11</td>\n",
       "      <td>2017-10-15</td>\n",
       "      <td>1.84</td>\n",
       "      <td>174355.00</td>\n",
       "      <td>2928.11</td>\n",
       "      <td>35554.07</td>\n",
       "      <td>556.45</td>\n",
       "      <td>135316.37</td>\n",
       "      <td>127686.14</td>\n",
       "      <td>7630.23</td>\n",
       "      <td>0.0</td>\n",
       "      <td>organic</td>\n",
       "      <td>2017</td>\n",
       "      <td>Midsouth</td>\n",
       "    </tr>\n",
       "  </tbody>\n",
       "</table>\n",
       "</div>"
      ],
      "text/plain": [
       "       Unnamed: 0        Date  AveragePrice  Total Volume       4046   \n",
       "1721            5  2015-11-22          0.77     737834.48  441712.62  \\\n",
       "7030           36  2017-04-23          1.10     226088.30  109053.98   \n",
       "2650           50  2015-01-11          1.24     235231.08  142237.71   \n",
       "3218           46  2016-02-07          0.80     325941.39   63128.71   \n",
       "16077          11  2017-10-15          1.84     174355.00    2928.11   \n",
       "\n",
       "            4225      4770  Total Bags  Small Bags  Large Bags  XLarge Bags   \n",
       "1721   220374.84  11102.75    64644.27    63088.81     1555.46          0.0  \\\n",
       "7030     8877.76     75.09   108081.47    97879.10     8397.37       1805.0   \n",
       "2650    36017.93     56.25    56919.19    19605.39    37313.80          0.0   \n",
       "3218   160544.54  42056.68    60211.46    42529.78    17681.68          0.0   \n",
       "16077   35554.07    556.45   135316.37   127686.14     7630.23          0.0   \n",
       "\n",
       "               type  year         region  \n",
       "1721   conventional  2015  PhoenixTucson  \n",
       "7030   conventional  2017      Nashville  \n",
       "2650   conventional  2015          Tampa  \n",
       "3218   conventional  2016      Charlotte  \n",
       "16077       organic  2017       Midsouth  "
      ]
     },
     "execution_count": 63,
     "metadata": {},
     "output_type": "execute_result"
    }
   ],
   "source": [
    "# Muestra aleatoria de 5 filas\n",
    "df.sample(5)"
   ]
  },
  {
   "cell_type": "code",
   "execution_count": 64,
   "id": "electric-england",
   "metadata": {},
   "outputs": [
    {
     "data": {
      "text/html": [
       "<div>\n",
       "<style scoped>\n",
       "    .dataframe tbody tr th:only-of-type {\n",
       "        vertical-align: middle;\n",
       "    }\n",
       "\n",
       "    .dataframe tbody tr th {\n",
       "        vertical-align: top;\n",
       "    }\n",
       "\n",
       "    .dataframe thead th {\n",
       "        text-align: right;\n",
       "    }\n",
       "</style>\n",
       "<table border=\"1\" class=\"dataframe\">\n",
       "  <thead>\n",
       "    <tr style=\"text-align: right;\">\n",
       "      <th></th>\n",
       "      <th>Unnamed: 0</th>\n",
       "      <th>Date</th>\n",
       "      <th>AveragePrice</th>\n",
       "      <th>Total Volume</th>\n",
       "      <th>4046</th>\n",
       "      <th>4225</th>\n",
       "      <th>4770</th>\n",
       "      <th>Total Bags</th>\n",
       "      <th>Small Bags</th>\n",
       "      <th>Large Bags</th>\n",
       "      <th>XLarge Bags</th>\n",
       "      <th>type</th>\n",
       "      <th>year</th>\n",
       "      <th>region</th>\n",
       "    </tr>\n",
       "  </thead>\n",
       "  <tbody>\n",
       "    <tr>\n",
       "      <th>9460</th>\n",
       "      <td>22</td>\n",
       "      <td>2015-07-26</td>\n",
       "      <td>1.93</td>\n",
       "      <td>98449.84</td>\n",
       "      <td>31604.24</td>\n",
       "      <td>57990.08</td>\n",
       "      <td>0.00</td>\n",
       "      <td>8855.52</td>\n",
       "      <td>8855.52</td>\n",
       "      <td>0.00</td>\n",
       "      <td>0.00</td>\n",
       "      <td>organic</td>\n",
       "      <td>2015</td>\n",
       "      <td>California</td>\n",
       "    </tr>\n",
       "    <tr>\n",
       "      <th>2344</th>\n",
       "      <td>4</td>\n",
       "      <td>2015-11-29</td>\n",
       "      <td>0.82</td>\n",
       "      <td>3969578.89</td>\n",
       "      <td>2105670.46</td>\n",
       "      <td>1234911.39</td>\n",
       "      <td>27985.18</td>\n",
       "      <td>601011.86</td>\n",
       "      <td>505843.61</td>\n",
       "      <td>95136.58</td>\n",
       "      <td>31.67</td>\n",
       "      <td>conventional</td>\n",
       "      <td>2015</td>\n",
       "      <td>SouthCentral</td>\n",
       "    </tr>\n",
       "    <tr>\n",
       "      <th>17564</th>\n",
       "      <td>14</td>\n",
       "      <td>2017-09-24</td>\n",
       "      <td>2.26</td>\n",
       "      <td>9528.64</td>\n",
       "      <td>1545.34</td>\n",
       "      <td>2234.23</td>\n",
       "      <td>0.00</td>\n",
       "      <td>5749.07</td>\n",
       "      <td>5722.40</td>\n",
       "      <td>26.67</td>\n",
       "      <td>0.00</td>\n",
       "      <td>organic</td>\n",
       "      <td>2017</td>\n",
       "      <td>WestTexNewMexico</td>\n",
       "    </tr>\n",
       "    <tr>\n",
       "      <th>16350</th>\n",
       "      <td>19</td>\n",
       "      <td>2017-08-20</td>\n",
       "      <td>1.68</td>\n",
       "      <td>17812.78</td>\n",
       "      <td>11.35</td>\n",
       "      <td>258.45</td>\n",
       "      <td>0.00</td>\n",
       "      <td>17542.98</td>\n",
       "      <td>17542.98</td>\n",
       "      <td>0.00</td>\n",
       "      <td>0.00</td>\n",
       "      <td>organic</td>\n",
       "      <td>2017</td>\n",
       "      <td>NorthernNewEngland</td>\n",
       "    </tr>\n",
       "    <tr>\n",
       "      <th>7016</th>\n",
       "      <td>22</td>\n",
       "      <td>2017-07-30</td>\n",
       "      <td>1.14</td>\n",
       "      <td>217774.89</td>\n",
       "      <td>106460.13</td>\n",
       "      <td>29771.49</td>\n",
       "      <td>52.14</td>\n",
       "      <td>81491.13</td>\n",
       "      <td>65555.61</td>\n",
       "      <td>14827.94</td>\n",
       "      <td>1107.58</td>\n",
       "      <td>conventional</td>\n",
       "      <td>2017</td>\n",
       "      <td>Nashville</td>\n",
       "    </tr>\n",
       "    <tr>\n",
       "      <th>...</th>\n",
       "      <td>...</td>\n",
       "      <td>...</td>\n",
       "      <td>...</td>\n",
       "      <td>...</td>\n",
       "      <td>...</td>\n",
       "      <td>...</td>\n",
       "      <td>...</td>\n",
       "      <td>...</td>\n",
       "      <td>...</td>\n",
       "      <td>...</td>\n",
       "      <td>...</td>\n",
       "      <td>...</td>\n",
       "      <td>...</td>\n",
       "      <td>...</td>\n",
       "    </tr>\n",
       "    <tr>\n",
       "      <th>13300</th>\n",
       "      <td>15</td>\n",
       "      <td>2016-09-11</td>\n",
       "      <td>0.93</td>\n",
       "      <td>14786.96</td>\n",
       "      <td>553.66</td>\n",
       "      <td>3278.67</td>\n",
       "      <td>0.00</td>\n",
       "      <td>10954.63</td>\n",
       "      <td>2812.11</td>\n",
       "      <td>8142.52</td>\n",
       "      <td>0.00</td>\n",
       "      <td>organic</td>\n",
       "      <td>2016</td>\n",
       "      <td>Nashville</td>\n",
       "    </tr>\n",
       "    <tr>\n",
       "      <th>17497</th>\n",
       "      <td>0</td>\n",
       "      <td>2017-12-31</td>\n",
       "      <td>1.48</td>\n",
       "      <td>229477.07</td>\n",
       "      <td>26883.07</td>\n",
       "      <td>53165.30</td>\n",
       "      <td>86.61</td>\n",
       "      <td>149342.09</td>\n",
       "      <td>66254.72</td>\n",
       "      <td>82977.60</td>\n",
       "      <td>109.77</td>\n",
       "      <td>organic</td>\n",
       "      <td>2017</td>\n",
       "      <td>West</td>\n",
       "    </tr>\n",
       "    <tr>\n",
       "      <th>12859</th>\n",
       "      <td>42</td>\n",
       "      <td>2016-03-06</td>\n",
       "      <td>2.18</td>\n",
       "      <td>6367.65</td>\n",
       "      <td>657.42</td>\n",
       "      <td>3388.23</td>\n",
       "      <td>0.00</td>\n",
       "      <td>2322.00</td>\n",
       "      <td>2313.06</td>\n",
       "      <td>8.94</td>\n",
       "      <td>0.00</td>\n",
       "      <td>organic</td>\n",
       "      <td>2016</td>\n",
       "      <td>HartfordSpringfield</td>\n",
       "    </tr>\n",
       "    <tr>\n",
       "      <th>16846</th>\n",
       "      <td>38</td>\n",
       "      <td>2017-04-09</td>\n",
       "      <td>0.89</td>\n",
       "      <td>15201.67</td>\n",
       "      <td>382.49</td>\n",
       "      <td>2930.05</td>\n",
       "      <td>0.00</td>\n",
       "      <td>11889.13</td>\n",
       "      <td>2331.66</td>\n",
       "      <td>9557.47</td>\n",
       "      <td>0.00</td>\n",
       "      <td>organic</td>\n",
       "      <td>2017</td>\n",
       "      <td>Roanoke</td>\n",
       "    </tr>\n",
       "    <tr>\n",
       "      <th>12274</th>\n",
       "      <td>29</td>\n",
       "      <td>2016-06-05</td>\n",
       "      <td>1.55</td>\n",
       "      <td>182778.37</td>\n",
       "      <td>26377.62</td>\n",
       "      <td>88667.93</td>\n",
       "      <td>7.66</td>\n",
       "      <td>67725.16</td>\n",
       "      <td>67138.56</td>\n",
       "      <td>586.60</td>\n",
       "      <td>0.00</td>\n",
       "      <td>organic</td>\n",
       "      <td>2016</td>\n",
       "      <td>California</td>\n",
       "    </tr>\n",
       "  </tbody>\n",
       "</table>\n",
       "<p>1825 rows × 14 columns</p>\n",
       "</div>"
      ],
      "text/plain": [
       "       Unnamed: 0        Date  AveragePrice  Total Volume        4046   \n",
       "9460           22  2015-07-26          1.93      98449.84    31604.24  \\\n",
       "2344            4  2015-11-29          0.82    3969578.89  2105670.46   \n",
       "17564          14  2017-09-24          2.26       9528.64     1545.34   \n",
       "16350          19  2017-08-20          1.68      17812.78       11.35   \n",
       "7016           22  2017-07-30          1.14     217774.89   106460.13   \n",
       "...           ...         ...           ...           ...         ...   \n",
       "13300          15  2016-09-11          0.93      14786.96      553.66   \n",
       "17497           0  2017-12-31          1.48     229477.07    26883.07   \n",
       "12859          42  2016-03-06          2.18       6367.65      657.42   \n",
       "16846          38  2017-04-09          0.89      15201.67      382.49   \n",
       "12274          29  2016-06-05          1.55     182778.37    26377.62   \n",
       "\n",
       "             4225      4770  Total Bags  Small Bags  Large Bags  XLarge Bags   \n",
       "9460     57990.08      0.00     8855.52     8855.52        0.00         0.00  \\\n",
       "2344   1234911.39  27985.18   601011.86   505843.61    95136.58        31.67   \n",
       "17564     2234.23      0.00     5749.07     5722.40       26.67         0.00   \n",
       "16350      258.45      0.00    17542.98    17542.98        0.00         0.00   \n",
       "7016     29771.49     52.14    81491.13    65555.61    14827.94      1107.58   \n",
       "...           ...       ...         ...         ...         ...          ...   \n",
       "13300     3278.67      0.00    10954.63     2812.11     8142.52         0.00   \n",
       "17497    53165.30     86.61   149342.09    66254.72    82977.60       109.77   \n",
       "12859     3388.23      0.00     2322.00     2313.06        8.94         0.00   \n",
       "16846     2930.05      0.00    11889.13     2331.66     9557.47         0.00   \n",
       "12274    88667.93      7.66    67725.16    67138.56      586.60         0.00   \n",
       "\n",
       "               type  year               region  \n",
       "9460        organic  2015           California  \n",
       "2344   conventional  2015         SouthCentral  \n",
       "17564       organic  2017     WestTexNewMexico  \n",
       "16350       organic  2017   NorthernNewEngland  \n",
       "7016   conventional  2017            Nashville  \n",
       "...             ...   ...                  ...  \n",
       "13300       organic  2016            Nashville  \n",
       "17497       organic  2017                 West  \n",
       "12859       organic  2016  HartfordSpringfield  \n",
       "16846       organic  2017              Roanoke  \n",
       "12274       organic  2016           California  \n",
       "\n",
       "[1825 rows x 14 columns]"
      ]
     },
     "execution_count": 64,
     "metadata": {},
     "output_type": "execute_result"
    }
   ],
   "source": [
    "df.sample(frac=0.1) # Muestra aleatoria del 10%"
   ]
  },
  {
   "cell_type": "code",
   "execution_count": 65,
   "id": "3bd1f451",
   "metadata": {},
   "outputs": [],
   "source": [
    "#pd.set_option('display.max_rows', 20)"
   ]
  },
  {
   "cell_type": "code",
   "execution_count": 66,
   "id": "headed-college",
   "metadata": {},
   "outputs": [],
   "source": [
    "guardo_sample = df.sample(frac=0.1)"
   ]
  },
  {
   "cell_type": "code",
   "execution_count": 67,
   "id": "151f9edf",
   "metadata": {},
   "outputs": [
    {
     "data": {
      "text/html": [
       "<div>\n",
       "<style scoped>\n",
       "    .dataframe tbody tr th:only-of-type {\n",
       "        vertical-align: middle;\n",
       "    }\n",
       "\n",
       "    .dataframe tbody tr th {\n",
       "        vertical-align: top;\n",
       "    }\n",
       "\n",
       "    .dataframe thead th {\n",
       "        text-align: right;\n",
       "    }\n",
       "</style>\n",
       "<table border=\"1\" class=\"dataframe\">\n",
       "  <thead>\n",
       "    <tr style=\"text-align: right;\">\n",
       "      <th></th>\n",
       "      <th>Unnamed: 0</th>\n",
       "      <th>Date</th>\n",
       "      <th>AveragePrice</th>\n",
       "      <th>Total Volume</th>\n",
       "      <th>4046</th>\n",
       "      <th>4225</th>\n",
       "      <th>4770</th>\n",
       "      <th>Total Bags</th>\n",
       "      <th>Small Bags</th>\n",
       "      <th>Large Bags</th>\n",
       "      <th>XLarge Bags</th>\n",
       "      <th>type</th>\n",
       "      <th>year</th>\n",
       "      <th>region</th>\n",
       "    </tr>\n",
       "  </thead>\n",
       "  <tbody>\n",
       "    <tr>\n",
       "      <th>17222</th>\n",
       "      <td>43</td>\n",
       "      <td>2017-03-05</td>\n",
       "      <td>1.11</td>\n",
       "      <td>95526.15</td>\n",
       "      <td>13231.55</td>\n",
       "      <td>12552.42</td>\n",
       "      <td>275.95</td>\n",
       "      <td>69466.23</td>\n",
       "      <td>12241.84</td>\n",
       "      <td>57224.39</td>\n",
       "      <td>0.00</td>\n",
       "      <td>organic</td>\n",
       "      <td>2017</td>\n",
       "      <td>Southeast</td>\n",
       "    </tr>\n",
       "    <tr>\n",
       "      <th>6227</th>\n",
       "      <td>28</td>\n",
       "      <td>2017-06-18</td>\n",
       "      <td>0.90</td>\n",
       "      <td>1441940.59</td>\n",
       "      <td>734956.89</td>\n",
       "      <td>307811.08</td>\n",
       "      <td>4290.60</td>\n",
       "      <td>394882.02</td>\n",
       "      <td>391342.54</td>\n",
       "      <td>3444.02</td>\n",
       "      <td>95.46</td>\n",
       "      <td>conventional</td>\n",
       "      <td>2017</td>\n",
       "      <td>DallasFtWorth</td>\n",
       "    </tr>\n",
       "    <tr>\n",
       "      <th>1645</th>\n",
       "      <td>33</td>\n",
       "      <td>2015-05-10</td>\n",
       "      <td>1.23</td>\n",
       "      <td>257032.99</td>\n",
       "      <td>185586.20</td>\n",
       "      <td>19590.84</td>\n",
       "      <td>138.92</td>\n",
       "      <td>51717.03</td>\n",
       "      <td>35990.16</td>\n",
       "      <td>15726.87</td>\n",
       "      <td>0.00</td>\n",
       "      <td>conventional</td>\n",
       "      <td>2015</td>\n",
       "      <td>Orlando</td>\n",
       "    </tr>\n",
       "    <tr>\n",
       "      <th>16581</th>\n",
       "      <td>38</td>\n",
       "      <td>2017-04-09</td>\n",
       "      <td>1.51</td>\n",
       "      <td>9893.97</td>\n",
       "      <td>923.93</td>\n",
       "      <td>5.47</td>\n",
       "      <td>0.00</td>\n",
       "      <td>8964.57</td>\n",
       "      <td>8364.69</td>\n",
       "      <td>599.88</td>\n",
       "      <td>0.00</td>\n",
       "      <td>organic</td>\n",
       "      <td>2017</td>\n",
       "      <td>Pittsburgh</td>\n",
       "    </tr>\n",
       "    <tr>\n",
       "      <th>3342</th>\n",
       "      <td>14</td>\n",
       "      <td>2016-09-18</td>\n",
       "      <td>1.07</td>\n",
       "      <td>167438.32</td>\n",
       "      <td>85331.98</td>\n",
       "      <td>26634.72</td>\n",
       "      <td>2505.47</td>\n",
       "      <td>52966.15</td>\n",
       "      <td>51334.31</td>\n",
       "      <td>1631.84</td>\n",
       "      <td>0.00</td>\n",
       "      <td>conventional</td>\n",
       "      <td>2016</td>\n",
       "      <td>Columbus</td>\n",
       "    </tr>\n",
       "  </tbody>\n",
       "</table>\n",
       "</div>"
      ],
      "text/plain": [
       "       Unnamed: 0        Date  AveragePrice  Total Volume       4046   \n",
       "17222          43  2017-03-05          1.11      95526.15   13231.55  \\\n",
       "6227           28  2017-06-18          0.90    1441940.59  734956.89   \n",
       "1645           33  2015-05-10          1.23     257032.99  185586.20   \n",
       "16581          38  2017-04-09          1.51       9893.97     923.93   \n",
       "3342           14  2016-09-18          1.07     167438.32   85331.98   \n",
       "\n",
       "            4225     4770  Total Bags  Small Bags  Large Bags  XLarge Bags   \n",
       "17222   12552.42   275.95    69466.23    12241.84    57224.39         0.00  \\\n",
       "6227   307811.08  4290.60   394882.02   391342.54     3444.02        95.46   \n",
       "1645    19590.84   138.92    51717.03    35990.16    15726.87         0.00   \n",
       "16581       5.47     0.00     8964.57     8364.69      599.88         0.00   \n",
       "3342    26634.72  2505.47    52966.15    51334.31     1631.84         0.00   \n",
       "\n",
       "               type  year         region  \n",
       "17222       organic  2017      Southeast  \n",
       "6227   conventional  2017  DallasFtWorth  \n",
       "1645   conventional  2015        Orlando  \n",
       "16581       organic  2017     Pittsburgh  \n",
       "3342   conventional  2016       Columbus  "
      ]
     },
     "execution_count": 67,
     "metadata": {},
     "output_type": "execute_result"
    }
   ],
   "source": [
    "guardo_sample.head()"
   ]
  },
  {
   "cell_type": "code",
   "execution_count": 68,
   "id": "b1c9a419",
   "metadata": {},
   "outputs": [
    {
     "data": {
      "text/plain": [
       "(1825, 14)"
      ]
     },
     "execution_count": 68,
     "metadata": {},
     "output_type": "execute_result"
    }
   ],
   "source": [
    "guardo_sample.shape"
   ]
  },
  {
   "cell_type": "markdown",
   "id": "brown-princeton",
   "metadata": {},
   "source": [
    "## Análisis exploratorio de un dataframe"
   ]
  },
  {
   "cell_type": "code",
   "execution_count": 69,
   "id": "previous-release",
   "metadata": {},
   "outputs": [
    {
     "data": {
      "text/plain": [
       "(18249, 14)"
      ]
     },
     "execution_count": 69,
     "metadata": {},
     "output_type": "execute_result"
    }
   ],
   "source": [
    "df.shape"
   ]
  },
  {
   "cell_type": "code",
   "execution_count": 70,
   "id": "disabled-suggestion",
   "metadata": {},
   "outputs": [
    {
     "name": "stdout",
     "output_type": "stream",
     "text": [
      "<class 'pandas.core.frame.DataFrame'>\n",
      "RangeIndex: 18249 entries, 0 to 18248\n",
      "Data columns (total 14 columns):\n",
      " #   Column        Non-Null Count  Dtype  \n",
      "---  ------        --------------  -----  \n",
      " 0   Unnamed: 0    18249 non-null  int64  \n",
      " 1   Date          18249 non-null  object \n",
      " 2   AveragePrice  18249 non-null  float64\n",
      " 3   Total Volume  18249 non-null  float64\n",
      " 4   4046          18249 non-null  float64\n",
      " 5   4225          18249 non-null  float64\n",
      " 6   4770          18249 non-null  float64\n",
      " 7   Total Bags    18249 non-null  float64\n",
      " 8   Small Bags    18249 non-null  float64\n",
      " 9   Large Bags    18249 non-null  float64\n",
      " 10  XLarge Bags   18249 non-null  float64\n",
      " 11  type          18249 non-null  object \n",
      " 12  year          18249 non-null  int64  \n",
      " 13  region        18249 non-null  object \n",
      "dtypes: float64(9), int64(2), object(3)\n",
      "memory usage: 1.9+ MB\n"
     ]
    }
   ],
   "source": [
    "df.info()"
   ]
  },
  {
   "cell_type": "code",
   "execution_count": 71,
   "id": "documentary-contract",
   "metadata": {},
   "outputs": [
    {
     "data": {
      "text/plain": [
       "Unnamed: 0      0\n",
       "Date            0\n",
       "AveragePrice    0\n",
       "Total Volume    0\n",
       "4046            0\n",
       "4225            0\n",
       "4770            0\n",
       "Total Bags      0\n",
       "Small Bags      0\n",
       "Large Bags      0\n",
       "XLarge Bags     0\n",
       "type            0\n",
       "year            0\n",
       "region          0\n",
       "dtype: int64"
      ]
     },
     "execution_count": 71,
     "metadata": {},
     "output_type": "execute_result"
    }
   ],
   "source": [
    "df.isnull().sum()"
   ]
  },
  {
   "cell_type": "code",
   "execution_count": 72,
   "id": "ecological-balance",
   "metadata": {},
   "outputs": [
    {
     "data": {
      "text/html": [
       "<div>\n",
       "<style scoped>\n",
       "    .dataframe tbody tr th:only-of-type {\n",
       "        vertical-align: middle;\n",
       "    }\n",
       "\n",
       "    .dataframe tbody tr th {\n",
       "        vertical-align: top;\n",
       "    }\n",
       "\n",
       "    .dataframe thead th {\n",
       "        text-align: right;\n",
       "    }\n",
       "</style>\n",
       "<table border=\"1\" class=\"dataframe\">\n",
       "  <thead>\n",
       "    <tr style=\"text-align: right;\">\n",
       "      <th></th>\n",
       "      <th>Unnamed: 0</th>\n",
       "      <th>AveragePrice</th>\n",
       "      <th>Total Volume</th>\n",
       "      <th>4046</th>\n",
       "      <th>4225</th>\n",
       "      <th>4770</th>\n",
       "      <th>Total Bags</th>\n",
       "      <th>Small Bags</th>\n",
       "      <th>Large Bags</th>\n",
       "      <th>XLarge Bags</th>\n",
       "      <th>year</th>\n",
       "    </tr>\n",
       "  </thead>\n",
       "  <tbody>\n",
       "    <tr>\n",
       "      <th>count</th>\n",
       "      <td>18249.000000</td>\n",
       "      <td>18249.000000</td>\n",
       "      <td>1.824900e+04</td>\n",
       "      <td>1.824900e+04</td>\n",
       "      <td>1.824900e+04</td>\n",
       "      <td>1.824900e+04</td>\n",
       "      <td>1.824900e+04</td>\n",
       "      <td>1.824900e+04</td>\n",
       "      <td>1.824900e+04</td>\n",
       "      <td>18249.000000</td>\n",
       "      <td>18249.000000</td>\n",
       "    </tr>\n",
       "    <tr>\n",
       "      <th>mean</th>\n",
       "      <td>24.232232</td>\n",
       "      <td>1.405978</td>\n",
       "      <td>8.506440e+05</td>\n",
       "      <td>2.930084e+05</td>\n",
       "      <td>2.951546e+05</td>\n",
       "      <td>2.283974e+04</td>\n",
       "      <td>2.396392e+05</td>\n",
       "      <td>1.821947e+05</td>\n",
       "      <td>5.433809e+04</td>\n",
       "      <td>3106.426507</td>\n",
       "      <td>2016.147899</td>\n",
       "    </tr>\n",
       "    <tr>\n",
       "      <th>std</th>\n",
       "      <td>15.481045</td>\n",
       "      <td>0.402677</td>\n",
       "      <td>3.453545e+06</td>\n",
       "      <td>1.264989e+06</td>\n",
       "      <td>1.204120e+06</td>\n",
       "      <td>1.074641e+05</td>\n",
       "      <td>9.862424e+05</td>\n",
       "      <td>7.461785e+05</td>\n",
       "      <td>2.439660e+05</td>\n",
       "      <td>17692.894652</td>\n",
       "      <td>0.939938</td>\n",
       "    </tr>\n",
       "    <tr>\n",
       "      <th>min</th>\n",
       "      <td>0.000000</td>\n",
       "      <td>0.440000</td>\n",
       "      <td>8.456000e+01</td>\n",
       "      <td>0.000000e+00</td>\n",
       "      <td>0.000000e+00</td>\n",
       "      <td>0.000000e+00</td>\n",
       "      <td>0.000000e+00</td>\n",
       "      <td>0.000000e+00</td>\n",
       "      <td>0.000000e+00</td>\n",
       "      <td>0.000000</td>\n",
       "      <td>2015.000000</td>\n",
       "    </tr>\n",
       "    <tr>\n",
       "      <th>25%</th>\n",
       "      <td>10.000000</td>\n",
       "      <td>1.100000</td>\n",
       "      <td>1.083858e+04</td>\n",
       "      <td>8.540700e+02</td>\n",
       "      <td>3.008780e+03</td>\n",
       "      <td>0.000000e+00</td>\n",
       "      <td>5.088640e+03</td>\n",
       "      <td>2.849420e+03</td>\n",
       "      <td>1.274700e+02</td>\n",
       "      <td>0.000000</td>\n",
       "      <td>2015.000000</td>\n",
       "    </tr>\n",
       "    <tr>\n",
       "      <th>50%</th>\n",
       "      <td>24.000000</td>\n",
       "      <td>1.370000</td>\n",
       "      <td>1.073768e+05</td>\n",
       "      <td>8.645300e+03</td>\n",
       "      <td>2.906102e+04</td>\n",
       "      <td>1.849900e+02</td>\n",
       "      <td>3.974383e+04</td>\n",
       "      <td>2.636282e+04</td>\n",
       "      <td>2.647710e+03</td>\n",
       "      <td>0.000000</td>\n",
       "      <td>2016.000000</td>\n",
       "    </tr>\n",
       "    <tr>\n",
       "      <th>75%</th>\n",
       "      <td>38.000000</td>\n",
       "      <td>1.660000</td>\n",
       "      <td>4.329623e+05</td>\n",
       "      <td>1.110202e+05</td>\n",
       "      <td>1.502069e+05</td>\n",
       "      <td>6.243420e+03</td>\n",
       "      <td>1.107834e+05</td>\n",
       "      <td>8.333767e+04</td>\n",
       "      <td>2.202925e+04</td>\n",
       "      <td>132.500000</td>\n",
       "      <td>2017.000000</td>\n",
       "    </tr>\n",
       "    <tr>\n",
       "      <th>max</th>\n",
       "      <td>52.000000</td>\n",
       "      <td>3.250000</td>\n",
       "      <td>6.250565e+07</td>\n",
       "      <td>2.274362e+07</td>\n",
       "      <td>2.047057e+07</td>\n",
       "      <td>2.546439e+06</td>\n",
       "      <td>1.937313e+07</td>\n",
       "      <td>1.338459e+07</td>\n",
       "      <td>5.719097e+06</td>\n",
       "      <td>551693.650000</td>\n",
       "      <td>2018.000000</td>\n",
       "    </tr>\n",
       "  </tbody>\n",
       "</table>\n",
       "</div>"
      ],
      "text/plain": [
       "         Unnamed: 0  AveragePrice  Total Volume          4046          4225   \n",
       "count  18249.000000  18249.000000  1.824900e+04  1.824900e+04  1.824900e+04  \\\n",
       "mean      24.232232      1.405978  8.506440e+05  2.930084e+05  2.951546e+05   \n",
       "std       15.481045      0.402677  3.453545e+06  1.264989e+06  1.204120e+06   \n",
       "min        0.000000      0.440000  8.456000e+01  0.000000e+00  0.000000e+00   \n",
       "25%       10.000000      1.100000  1.083858e+04  8.540700e+02  3.008780e+03   \n",
       "50%       24.000000      1.370000  1.073768e+05  8.645300e+03  2.906102e+04   \n",
       "75%       38.000000      1.660000  4.329623e+05  1.110202e+05  1.502069e+05   \n",
       "max       52.000000      3.250000  6.250565e+07  2.274362e+07  2.047057e+07   \n",
       "\n",
       "               4770    Total Bags    Small Bags    Large Bags    XLarge Bags   \n",
       "count  1.824900e+04  1.824900e+04  1.824900e+04  1.824900e+04   18249.000000  \\\n",
       "mean   2.283974e+04  2.396392e+05  1.821947e+05  5.433809e+04    3106.426507   \n",
       "std    1.074641e+05  9.862424e+05  7.461785e+05  2.439660e+05   17692.894652   \n",
       "min    0.000000e+00  0.000000e+00  0.000000e+00  0.000000e+00       0.000000   \n",
       "25%    0.000000e+00  5.088640e+03  2.849420e+03  1.274700e+02       0.000000   \n",
       "50%    1.849900e+02  3.974383e+04  2.636282e+04  2.647710e+03       0.000000   \n",
       "75%    6.243420e+03  1.107834e+05  8.333767e+04  2.202925e+04     132.500000   \n",
       "max    2.546439e+06  1.937313e+07  1.338459e+07  5.719097e+06  551693.650000   \n",
       "\n",
       "               year  \n",
       "count  18249.000000  \n",
       "mean    2016.147899  \n",
       "std        0.939938  \n",
       "min     2015.000000  \n",
       "25%     2015.000000  \n",
       "50%     2016.000000  \n",
       "75%     2017.000000  \n",
       "max     2018.000000  "
      ]
     },
     "execution_count": 72,
     "metadata": {},
     "output_type": "execute_result"
    }
   ],
   "source": [
    "df.describe() #Solo lo hace con columnas que tienen datos de tipo numerio"
   ]
  },
  {
   "cell_type": "code",
   "execution_count": 73,
   "id": "immune-thread",
   "metadata": {},
   "outputs": [
    {
     "data": {
      "text/html": [
       "<div>\n",
       "<style scoped>\n",
       "    .dataframe tbody tr th:only-of-type {\n",
       "        vertical-align: middle;\n",
       "    }\n",
       "\n",
       "    .dataframe tbody tr th {\n",
       "        vertical-align: top;\n",
       "    }\n",
       "\n",
       "    .dataframe thead th {\n",
       "        text-align: right;\n",
       "    }\n",
       "</style>\n",
       "<table border=\"1\" class=\"dataframe\">\n",
       "  <thead>\n",
       "    <tr style=\"text-align: right;\">\n",
       "      <th></th>\n",
       "      <th>count</th>\n",
       "      <th>mean</th>\n",
       "      <th>std</th>\n",
       "      <th>min</th>\n",
       "      <th>25%</th>\n",
       "      <th>50%</th>\n",
       "      <th>75%</th>\n",
       "      <th>max</th>\n",
       "    </tr>\n",
       "  </thead>\n",
       "  <tbody>\n",
       "    <tr>\n",
       "      <th>Unnamed: 0</th>\n",
       "      <td>18249.0</td>\n",
       "      <td>24.232232</td>\n",
       "      <td>1.548104e+01</td>\n",
       "      <td>0.00</td>\n",
       "      <td>10.00</td>\n",
       "      <td>24.00</td>\n",
       "      <td>38.00</td>\n",
       "      <td>52.00</td>\n",
       "    </tr>\n",
       "    <tr>\n",
       "      <th>AveragePrice</th>\n",
       "      <td>18249.0</td>\n",
       "      <td>1.405978</td>\n",
       "      <td>4.026766e-01</td>\n",
       "      <td>0.44</td>\n",
       "      <td>1.10</td>\n",
       "      <td>1.37</td>\n",
       "      <td>1.66</td>\n",
       "      <td>3.25</td>\n",
       "    </tr>\n",
       "    <tr>\n",
       "      <th>Total Volume</th>\n",
       "      <td>18249.0</td>\n",
       "      <td>850644.013009</td>\n",
       "      <td>3.453545e+06</td>\n",
       "      <td>84.56</td>\n",
       "      <td>10838.58</td>\n",
       "      <td>107376.76</td>\n",
       "      <td>432962.29</td>\n",
       "      <td>62505646.52</td>\n",
       "    </tr>\n",
       "    <tr>\n",
       "      <th>4046</th>\n",
       "      <td>18249.0</td>\n",
       "      <td>293008.424531</td>\n",
       "      <td>1.264989e+06</td>\n",
       "      <td>0.00</td>\n",
       "      <td>854.07</td>\n",
       "      <td>8645.30</td>\n",
       "      <td>111020.20</td>\n",
       "      <td>22743616.17</td>\n",
       "    </tr>\n",
       "    <tr>\n",
       "      <th>4225</th>\n",
       "      <td>18249.0</td>\n",
       "      <td>295154.568356</td>\n",
       "      <td>1.204120e+06</td>\n",
       "      <td>0.00</td>\n",
       "      <td>3008.78</td>\n",
       "      <td>29061.02</td>\n",
       "      <td>150206.86</td>\n",
       "      <td>20470572.61</td>\n",
       "    </tr>\n",
       "    <tr>\n",
       "      <th>4770</th>\n",
       "      <td>18249.0</td>\n",
       "      <td>22839.735993</td>\n",
       "      <td>1.074641e+05</td>\n",
       "      <td>0.00</td>\n",
       "      <td>0.00</td>\n",
       "      <td>184.99</td>\n",
       "      <td>6243.42</td>\n",
       "      <td>2546439.11</td>\n",
       "    </tr>\n",
       "    <tr>\n",
       "      <th>Total Bags</th>\n",
       "      <td>18249.0</td>\n",
       "      <td>239639.202060</td>\n",
       "      <td>9.862424e+05</td>\n",
       "      <td>0.00</td>\n",
       "      <td>5088.64</td>\n",
       "      <td>39743.83</td>\n",
       "      <td>110783.37</td>\n",
       "      <td>19373134.37</td>\n",
       "    </tr>\n",
       "    <tr>\n",
       "      <th>Small Bags</th>\n",
       "      <td>18249.0</td>\n",
       "      <td>182194.686696</td>\n",
       "      <td>7.461785e+05</td>\n",
       "      <td>0.00</td>\n",
       "      <td>2849.42</td>\n",
       "      <td>26362.82</td>\n",
       "      <td>83337.67</td>\n",
       "      <td>13384586.80</td>\n",
       "    </tr>\n",
       "    <tr>\n",
       "      <th>Large Bags</th>\n",
       "      <td>18249.0</td>\n",
       "      <td>54338.088145</td>\n",
       "      <td>2.439660e+05</td>\n",
       "      <td>0.00</td>\n",
       "      <td>127.47</td>\n",
       "      <td>2647.71</td>\n",
       "      <td>22029.25</td>\n",
       "      <td>5719096.61</td>\n",
       "    </tr>\n",
       "    <tr>\n",
       "      <th>XLarge Bags</th>\n",
       "      <td>18249.0</td>\n",
       "      <td>3106.426507</td>\n",
       "      <td>1.769289e+04</td>\n",
       "      <td>0.00</td>\n",
       "      <td>0.00</td>\n",
       "      <td>0.00</td>\n",
       "      <td>132.50</td>\n",
       "      <td>551693.65</td>\n",
       "    </tr>\n",
       "    <tr>\n",
       "      <th>year</th>\n",
       "      <td>18249.0</td>\n",
       "      <td>2016.147899</td>\n",
       "      <td>9.399385e-01</td>\n",
       "      <td>2015.00</td>\n",
       "      <td>2015.00</td>\n",
       "      <td>2016.00</td>\n",
       "      <td>2017.00</td>\n",
       "      <td>2018.00</td>\n",
       "    </tr>\n",
       "  </tbody>\n",
       "</table>\n",
       "</div>"
      ],
      "text/plain": [
       "                count           mean           std      min       25%   \n",
       "Unnamed: 0    18249.0      24.232232  1.548104e+01     0.00     10.00  \\\n",
       "AveragePrice  18249.0       1.405978  4.026766e-01     0.44      1.10   \n",
       "Total Volume  18249.0  850644.013009  3.453545e+06    84.56  10838.58   \n",
       "4046          18249.0  293008.424531  1.264989e+06     0.00    854.07   \n",
       "4225          18249.0  295154.568356  1.204120e+06     0.00   3008.78   \n",
       "4770          18249.0   22839.735993  1.074641e+05     0.00      0.00   \n",
       "Total Bags    18249.0  239639.202060  9.862424e+05     0.00   5088.64   \n",
       "Small Bags    18249.0  182194.686696  7.461785e+05     0.00   2849.42   \n",
       "Large Bags    18249.0   54338.088145  2.439660e+05     0.00    127.47   \n",
       "XLarge Bags   18249.0    3106.426507  1.769289e+04     0.00      0.00   \n",
       "year          18249.0    2016.147899  9.399385e-01  2015.00   2015.00   \n",
       "\n",
       "                    50%        75%          max  \n",
       "Unnamed: 0        24.00      38.00        52.00  \n",
       "AveragePrice       1.37       1.66         3.25  \n",
       "Total Volume  107376.76  432962.29  62505646.52  \n",
       "4046            8645.30  111020.20  22743616.17  \n",
       "4225           29061.02  150206.86  20470572.61  \n",
       "4770             184.99    6243.42   2546439.11  \n",
       "Total Bags     39743.83  110783.37  19373134.37  \n",
       "Small Bags     26362.82   83337.67  13384586.80  \n",
       "Large Bags      2647.71   22029.25   5719096.61  \n",
       "XLarge Bags        0.00     132.50    551693.65  \n",
       "year            2016.00    2017.00      2018.00  "
      ]
     },
     "execution_count": 73,
     "metadata": {},
     "output_type": "execute_result"
    }
   ],
   "source": [
    "df.describe().T"
   ]
  },
  {
   "cell_type": "code",
   "execution_count": 74,
   "id": "imperial-colony",
   "metadata": {},
   "outputs": [
    {
     "data": {
      "text/plain": [
       "pandas.core.frame.DataFrame"
      ]
     },
     "execution_count": 74,
     "metadata": {},
     "output_type": "execute_result"
    }
   ],
   "source": [
    "type(df.describe())"
   ]
  },
  {
   "cell_type": "code",
   "execution_count": 75,
   "id": "fuzzy-joining",
   "metadata": {},
   "outputs": [
    {
     "data": {
      "text/plain": [
       "Unnamed: 0          24.232232\n",
       "AveragePrice         1.405978\n",
       "Total Volume    850644.013009\n",
       "4046            293008.424531\n",
       "4225            295154.568356\n",
       "4770             22839.735993\n",
       "Total Bags      239639.202060\n",
       "Small Bags      182194.686696\n",
       "Large Bags       54338.088145\n",
       "XLarge Bags       3106.426507\n",
       "year              2016.147899\n",
       "dtype: float64"
      ]
     },
     "execution_count": 75,
     "metadata": {},
     "output_type": "execute_result"
    }
   ],
   "source": [
    "df.mean(numeric_only=True) # numeric_only=True"
   ]
  },
  {
   "cell_type": "code",
   "execution_count": 76,
   "id": "appointed-salad",
   "metadata": {},
   "outputs": [
    {
     "data": {
      "text/plain": [
       "1.405978409775878"
      ]
     },
     "execution_count": 76,
     "metadata": {},
     "output_type": "execute_result"
    }
   ],
   "source": [
    "df.AveragePrice.mean()"
   ]
  },
  {
   "cell_type": "code",
   "execution_count": 77,
   "id": "caroline-village",
   "metadata": {},
   "outputs": [
    {
     "data": {
      "text/plain": [
       "850644.0130089321"
      ]
     },
     "execution_count": 77,
     "metadata": {},
     "output_type": "execute_result"
    }
   ],
   "source": [
    "df[\"Total Volume\"].mean()"
   ]
  },
  {
   "cell_type": "code",
   "execution_count": 78,
   "id": "african-stanley",
   "metadata": {},
   "outputs": [
    {
     "data": {
      "text/plain": [
       "84.56"
      ]
     },
     "execution_count": 78,
     "metadata": {},
     "output_type": "execute_result"
    }
   ],
   "source": [
    "df[\"Total Volume\"].min()"
   ]
  },
  {
   "cell_type": "code",
   "execution_count": 79,
   "id": "female-county",
   "metadata": {},
   "outputs": [
    {
     "data": {
      "text/plain": [
       "62505646.52"
      ]
     },
     "execution_count": 79,
     "metadata": {},
     "output_type": "execute_result"
    }
   ],
   "source": [
    "df[\"Total Volume\"].max()"
   ]
  },
  {
   "cell_type": "code",
   "execution_count": 80,
   "id": "funny-cyprus",
   "metadata": {},
   "outputs": [
    {
     "data": {
      "text/plain": [
       "3453545.3553994712"
      ]
     },
     "execution_count": 80,
     "metadata": {},
     "output_type": "execute_result"
    }
   ],
   "source": [
    "df[\"Total Volume\"].std()"
   ]
  },
  {
   "cell_type": "code",
   "execution_count": 81,
   "id": "bacterial-colors",
   "metadata": {},
   "outputs": [
    {
     "data": {
      "text/plain": [
       "type\n",
       "conventional    9126\n",
       "organic         9123\n",
       "Name: count, dtype: int64"
      ]
     },
     "execution_count": 81,
     "metadata": {},
     "output_type": "execute_result"
    }
   ],
   "source": [
    "df.type.value_counts()"
   ]
  },
  {
   "cell_type": "code",
   "execution_count": 82,
   "id": "f99ef099",
   "metadata": {},
   "outputs": [
    {
     "data": {
      "text/plain": [
       "year\n",
       "2017    5722\n",
       "2016    5616\n",
       "2015    5615\n",
       "2018    1296\n",
       "Name: count, dtype: int64"
      ]
     },
     "execution_count": 82,
     "metadata": {},
     "output_type": "execute_result"
    }
   ],
   "source": [
    "df.year.value_counts()"
   ]
  },
  {
   "cell_type": "code",
   "execution_count": 83,
   "id": "702b88de",
   "metadata": {},
   "outputs": [
    {
     "data": {
      "text/plain": [
       "region\n",
       "Albany                 338\n",
       "Sacramento             338\n",
       "Northeast              338\n",
       "NorthernNewEngland     338\n",
       "Orlando                338\n",
       "Philadelphia           338\n",
       "PhoenixTucson          338\n",
       "Pittsburgh             338\n",
       "Plains                 338\n",
       "Portland               338\n",
       "RaleighGreensboro      338\n",
       "RichmondNorfolk        338\n",
       "Roanoke                338\n",
       "SanDiego               338\n",
       "Atlanta                338\n",
       "SanFrancisco           338\n",
       "Seattle                338\n",
       "SouthCarolina          338\n",
       "SouthCentral           338\n",
       "Southeast              338\n",
       "Spokane                338\n",
       "StLouis                338\n",
       "Syracuse               338\n",
       "Tampa                  338\n",
       "TotalUS                338\n",
       "West                   338\n",
       "NewYork                338\n",
       "NewOrleansMobile       338\n",
       "Nashville              338\n",
       "Midsouth               338\n",
       "BaltimoreWashington    338\n",
       "Boise                  338\n",
       "Boston                 338\n",
       "BuffaloRochester       338\n",
       "California             338\n",
       "Charlotte              338\n",
       "Chicago                338\n",
       "CincinnatiDayton       338\n",
       "Columbus               338\n",
       "DallasFtWorth          338\n",
       "Denver                 338\n",
       "Detroit                338\n",
       "GrandRapids            338\n",
       "GreatLakes             338\n",
       "HarrisburgScranton     338\n",
       "HartfordSpringfield    338\n",
       "Houston                338\n",
       "Indianapolis           338\n",
       "Jacksonville           338\n",
       "LasVegas               338\n",
       "LosAngeles             338\n",
       "Louisville             338\n",
       "MiamiFtLauderdale      338\n",
       "WestTexNewMexico       335\n",
       "Name: count, dtype: int64"
      ]
     },
     "execution_count": 83,
     "metadata": {},
     "output_type": "execute_result"
    }
   ],
   "source": [
    "df.region.value_counts()"
   ]
  },
  {
   "cell_type": "code",
   "execution_count": 84,
   "id": "05c30765",
   "metadata": {},
   "outputs": [
    {
     "data": {
      "text/plain": [
       "region\n",
       "Albany                 338\n",
       "Sacramento             338\n",
       "Northeast              338\n",
       "NorthernNewEngland     338\n",
       "Orlando                338\n",
       "Philadelphia           338\n",
       "PhoenixTucson          338\n",
       "Pittsburgh             338\n",
       "Plains                 338\n",
       "Portland               338\n",
       "RaleighGreensboro      338\n",
       "RichmondNorfolk        338\n",
       "Roanoke                338\n",
       "SanDiego               338\n",
       "Atlanta                338\n",
       "SanFrancisco           338\n",
       "Seattle                338\n",
       "SouthCarolina          338\n",
       "SouthCentral           338\n",
       "Southeast              338\n",
       "Spokane                338\n",
       "StLouis                338\n",
       "Syracuse               338\n",
       "Tampa                  338\n",
       "TotalUS                338\n",
       "West                   338\n",
       "NewYork                338\n",
       "NewOrleansMobile       338\n",
       "Nashville              338\n",
       "Midsouth               338\n",
       "BaltimoreWashington    338\n",
       "Boise                  338\n",
       "Boston                 338\n",
       "BuffaloRochester       338\n",
       "California             338\n",
       "Charlotte              338\n",
       "Chicago                338\n",
       "CincinnatiDayton       338\n",
       "Columbus               338\n",
       "DallasFtWorth          338\n",
       "Denver                 338\n",
       "Detroit                338\n",
       "GrandRapids            338\n",
       "GreatLakes             338\n",
       "HarrisburgScranton     338\n",
       "HartfordSpringfield    338\n",
       "Houston                338\n",
       "Indianapolis           338\n",
       "Jacksonville           338\n",
       "LasVegas               338\n",
       "LosAngeles             338\n",
       "Louisville             338\n",
       "MiamiFtLauderdale      338\n",
       "WestTexNewMexico       335\n",
       "Name: count, dtype: int64"
      ]
     },
     "execution_count": 84,
     "metadata": {},
     "output_type": "execute_result"
    }
   ],
   "source": [
    "df.region.value_counts()"
   ]
  },
  {
   "cell_type": "code",
   "execution_count": 85,
   "id": "ebc10a4b",
   "metadata": {},
   "outputs": [],
   "source": [
    "#df[\"Large Bags\"].value_counts()"
   ]
  },
  {
   "cell_type": "code",
   "execution_count": 86,
   "id": "behavioral-forest",
   "metadata": {},
   "outputs": [],
   "source": [
    "# Seleccionamos las columnas cuyo tipo de dato es int64\n",
    "columnas_numericas = df._get_numeric_data()"
   ]
  },
  {
   "cell_type": "code",
   "execution_count": 87,
   "id": "responsible-liberty",
   "metadata": {},
   "outputs": [
    {
     "data": {
      "text/html": [
       "<div>\n",
       "<style scoped>\n",
       "    .dataframe tbody tr th:only-of-type {\n",
       "        vertical-align: middle;\n",
       "    }\n",
       "\n",
       "    .dataframe tbody tr th {\n",
       "        vertical-align: top;\n",
       "    }\n",
       "\n",
       "    .dataframe thead th {\n",
       "        text-align: right;\n",
       "    }\n",
       "</style>\n",
       "<table border=\"1\" class=\"dataframe\">\n",
       "  <thead>\n",
       "    <tr style=\"text-align: right;\">\n",
       "      <th></th>\n",
       "      <th>Unnamed: 0</th>\n",
       "      <th>AveragePrice</th>\n",
       "      <th>Total Volume</th>\n",
       "      <th>4046</th>\n",
       "      <th>4225</th>\n",
       "      <th>4770</th>\n",
       "      <th>Total Bags</th>\n",
       "      <th>Small Bags</th>\n",
       "      <th>Large Bags</th>\n",
       "      <th>XLarge Bags</th>\n",
       "      <th>year</th>\n",
       "    </tr>\n",
       "  </thead>\n",
       "  <tbody>\n",
       "    <tr>\n",
       "      <th>0</th>\n",
       "      <td>0</td>\n",
       "      <td>1.33</td>\n",
       "      <td>64236.62</td>\n",
       "      <td>1036.74</td>\n",
       "      <td>54454.85</td>\n",
       "      <td>48.16</td>\n",
       "      <td>8696.87</td>\n",
       "      <td>8603.62</td>\n",
       "      <td>93.25</td>\n",
       "      <td>0.0</td>\n",
       "      <td>2015</td>\n",
       "    </tr>\n",
       "    <tr>\n",
       "      <th>1</th>\n",
       "      <td>1</td>\n",
       "      <td>1.35</td>\n",
       "      <td>54876.98</td>\n",
       "      <td>674.28</td>\n",
       "      <td>44638.81</td>\n",
       "      <td>58.33</td>\n",
       "      <td>9505.56</td>\n",
       "      <td>9408.07</td>\n",
       "      <td>97.49</td>\n",
       "      <td>0.0</td>\n",
       "      <td>2015</td>\n",
       "    </tr>\n",
       "    <tr>\n",
       "      <th>2</th>\n",
       "      <td>2</td>\n",
       "      <td>0.93</td>\n",
       "      <td>118220.22</td>\n",
       "      <td>794.70</td>\n",
       "      <td>109149.67</td>\n",
       "      <td>130.50</td>\n",
       "      <td>8145.35</td>\n",
       "      <td>8042.21</td>\n",
       "      <td>103.14</td>\n",
       "      <td>0.0</td>\n",
       "      <td>2015</td>\n",
       "    </tr>\n",
       "    <tr>\n",
       "      <th>3</th>\n",
       "      <td>3</td>\n",
       "      <td>1.08</td>\n",
       "      <td>78992.15</td>\n",
       "      <td>1132.00</td>\n",
       "      <td>71976.41</td>\n",
       "      <td>72.58</td>\n",
       "      <td>5811.16</td>\n",
       "      <td>5677.40</td>\n",
       "      <td>133.76</td>\n",
       "      <td>0.0</td>\n",
       "      <td>2015</td>\n",
       "    </tr>\n",
       "    <tr>\n",
       "      <th>4</th>\n",
       "      <td>4</td>\n",
       "      <td>1.28</td>\n",
       "      <td>51039.60</td>\n",
       "      <td>941.48</td>\n",
       "      <td>43838.39</td>\n",
       "      <td>75.78</td>\n",
       "      <td>6183.95</td>\n",
       "      <td>5986.26</td>\n",
       "      <td>197.69</td>\n",
       "      <td>0.0</td>\n",
       "      <td>2015</td>\n",
       "    </tr>\n",
       "    <tr>\n",
       "      <th>...</th>\n",
       "      <td>...</td>\n",
       "      <td>...</td>\n",
       "      <td>...</td>\n",
       "      <td>...</td>\n",
       "      <td>...</td>\n",
       "      <td>...</td>\n",
       "      <td>...</td>\n",
       "      <td>...</td>\n",
       "      <td>...</td>\n",
       "      <td>...</td>\n",
       "      <td>...</td>\n",
       "    </tr>\n",
       "    <tr>\n",
       "      <th>18244</th>\n",
       "      <td>7</td>\n",
       "      <td>1.63</td>\n",
       "      <td>17074.83</td>\n",
       "      <td>2046.96</td>\n",
       "      <td>1529.20</td>\n",
       "      <td>0.00</td>\n",
       "      <td>13498.67</td>\n",
       "      <td>13066.82</td>\n",
       "      <td>431.85</td>\n",
       "      <td>0.0</td>\n",
       "      <td>2018</td>\n",
       "    </tr>\n",
       "    <tr>\n",
       "      <th>18245</th>\n",
       "      <td>8</td>\n",
       "      <td>1.71</td>\n",
       "      <td>13888.04</td>\n",
       "      <td>1191.70</td>\n",
       "      <td>3431.50</td>\n",
       "      <td>0.00</td>\n",
       "      <td>9264.84</td>\n",
       "      <td>8940.04</td>\n",
       "      <td>324.80</td>\n",
       "      <td>0.0</td>\n",
       "      <td>2018</td>\n",
       "    </tr>\n",
       "    <tr>\n",
       "      <th>18246</th>\n",
       "      <td>9</td>\n",
       "      <td>1.87</td>\n",
       "      <td>13766.76</td>\n",
       "      <td>1191.92</td>\n",
       "      <td>2452.79</td>\n",
       "      <td>727.94</td>\n",
       "      <td>9394.11</td>\n",
       "      <td>9351.80</td>\n",
       "      <td>42.31</td>\n",
       "      <td>0.0</td>\n",
       "      <td>2018</td>\n",
       "    </tr>\n",
       "    <tr>\n",
       "      <th>18247</th>\n",
       "      <td>10</td>\n",
       "      <td>1.93</td>\n",
       "      <td>16205.22</td>\n",
       "      <td>1527.63</td>\n",
       "      <td>2981.04</td>\n",
       "      <td>727.01</td>\n",
       "      <td>10969.54</td>\n",
       "      <td>10919.54</td>\n",
       "      <td>50.00</td>\n",
       "      <td>0.0</td>\n",
       "      <td>2018</td>\n",
       "    </tr>\n",
       "    <tr>\n",
       "      <th>18248</th>\n",
       "      <td>11</td>\n",
       "      <td>1.62</td>\n",
       "      <td>17489.58</td>\n",
       "      <td>2894.77</td>\n",
       "      <td>2356.13</td>\n",
       "      <td>224.53</td>\n",
       "      <td>12014.15</td>\n",
       "      <td>11988.14</td>\n",
       "      <td>26.01</td>\n",
       "      <td>0.0</td>\n",
       "      <td>2018</td>\n",
       "    </tr>\n",
       "  </tbody>\n",
       "</table>\n",
       "<p>18249 rows × 11 columns</p>\n",
       "</div>"
      ],
      "text/plain": [
       "       Unnamed: 0  AveragePrice  Total Volume     4046       4225    4770   \n",
       "0               0          1.33      64236.62  1036.74   54454.85   48.16  \\\n",
       "1               1          1.35      54876.98   674.28   44638.81   58.33   \n",
       "2               2          0.93     118220.22   794.70  109149.67  130.50   \n",
       "3               3          1.08      78992.15  1132.00   71976.41   72.58   \n",
       "4               4          1.28      51039.60   941.48   43838.39   75.78   \n",
       "...           ...           ...           ...      ...        ...     ...   \n",
       "18244           7          1.63      17074.83  2046.96    1529.20    0.00   \n",
       "18245           8          1.71      13888.04  1191.70    3431.50    0.00   \n",
       "18246           9          1.87      13766.76  1191.92    2452.79  727.94   \n",
       "18247          10          1.93      16205.22  1527.63    2981.04  727.01   \n",
       "18248          11          1.62      17489.58  2894.77    2356.13  224.53   \n",
       "\n",
       "       Total Bags  Small Bags  Large Bags  XLarge Bags  year  \n",
       "0         8696.87     8603.62       93.25          0.0  2015  \n",
       "1         9505.56     9408.07       97.49          0.0  2015  \n",
       "2         8145.35     8042.21      103.14          0.0  2015  \n",
       "3         5811.16     5677.40      133.76          0.0  2015  \n",
       "4         6183.95     5986.26      197.69          0.0  2015  \n",
       "...           ...         ...         ...          ...   ...  \n",
       "18244    13498.67    13066.82      431.85          0.0  2018  \n",
       "18245     9264.84     8940.04      324.80          0.0  2018  \n",
       "18246     9394.11     9351.80       42.31          0.0  2018  \n",
       "18247    10969.54    10919.54       50.00          0.0  2018  \n",
       "18248    12014.15    11988.14       26.01          0.0  2018  \n",
       "\n",
       "[18249 rows x 11 columns]"
      ]
     },
     "execution_count": 87,
     "metadata": {},
     "output_type": "execute_result"
    }
   ],
   "source": [
    "columnas_numericas"
   ]
  },
  {
   "cell_type": "code",
   "execution_count": 88,
   "id": "29743fcc",
   "metadata": {},
   "outputs": [
    {
     "data": {
      "text/plain": [
       "Unnamed: 0        int64\n",
       "Date             object\n",
       "AveragePrice    float64\n",
       "Total Volume    float64\n",
       "4046            float64\n",
       "4225            float64\n",
       "4770            float64\n",
       "Total Bags      float64\n",
       "Small Bags      float64\n",
       "Large Bags      float64\n",
       "XLarge Bags     float64\n",
       "type             object\n",
       "year              int64\n",
       "region           object\n",
       "dtype: object"
      ]
     },
     "execution_count": 88,
     "metadata": {},
     "output_type": "execute_result"
    }
   ],
   "source": [
    "df.dtypes #tipo de dato que contiene cada columna"
   ]
  },
  {
   "cell_type": "code",
   "execution_count": 89,
   "id": "assigned-scanner",
   "metadata": {},
   "outputs": [
    {
     "data": {
      "text/html": [
       "<div>\n",
       "<style scoped>\n",
       "    .dataframe tbody tr th:only-of-type {\n",
       "        vertical-align: middle;\n",
       "    }\n",
       "\n",
       "    .dataframe tbody tr th {\n",
       "        vertical-align: top;\n",
       "    }\n",
       "\n",
       "    .dataframe thead th {\n",
       "        text-align: right;\n",
       "    }\n",
       "</style>\n",
       "<table border=\"1\" class=\"dataframe\">\n",
       "  <thead>\n",
       "    <tr style=\"text-align: right;\">\n",
       "      <th></th>\n",
       "      <th>Date</th>\n",
       "      <th>type</th>\n",
       "      <th>region</th>\n",
       "    </tr>\n",
       "  </thead>\n",
       "  <tbody>\n",
       "    <tr>\n",
       "      <th>0</th>\n",
       "      <td>2015-12-27</td>\n",
       "      <td>conventional</td>\n",
       "      <td>Albany</td>\n",
       "    </tr>\n",
       "    <tr>\n",
       "      <th>1</th>\n",
       "      <td>2015-12-20</td>\n",
       "      <td>conventional</td>\n",
       "      <td>Albany</td>\n",
       "    </tr>\n",
       "    <tr>\n",
       "      <th>2</th>\n",
       "      <td>2015-12-13</td>\n",
       "      <td>conventional</td>\n",
       "      <td>Albany</td>\n",
       "    </tr>\n",
       "    <tr>\n",
       "      <th>3</th>\n",
       "      <td>2015-12-06</td>\n",
       "      <td>conventional</td>\n",
       "      <td>Albany</td>\n",
       "    </tr>\n",
       "    <tr>\n",
       "      <th>4</th>\n",
       "      <td>2015-11-29</td>\n",
       "      <td>conventional</td>\n",
       "      <td>Albany</td>\n",
       "    </tr>\n",
       "  </tbody>\n",
       "</table>\n",
       "</div>"
      ],
      "text/plain": [
       "         Date          type  region\n",
       "0  2015-12-27  conventional  Albany\n",
       "1  2015-12-20  conventional  Albany\n",
       "2  2015-12-13  conventional  Albany\n",
       "3  2015-12-06  conventional  Albany\n",
       "4  2015-11-29  conventional  Albany"
      ]
     },
     "execution_count": 89,
     "metadata": {},
     "output_type": "execute_result"
    }
   ],
   "source": [
    "# Podemos incluir y excluir\n",
    "df.select_dtypes(include=\"object\").head()"
   ]
  },
  {
   "cell_type": "code",
   "execution_count": 90,
   "id": "interpreted-phase",
   "metadata": {},
   "outputs": [
    {
     "data": {
      "text/html": [
       "<div>\n",
       "<style scoped>\n",
       "    .dataframe tbody tr th:only-of-type {\n",
       "        vertical-align: middle;\n",
       "    }\n",
       "\n",
       "    .dataframe tbody tr th {\n",
       "        vertical-align: top;\n",
       "    }\n",
       "\n",
       "    .dataframe thead th {\n",
       "        text-align: right;\n",
       "    }\n",
       "</style>\n",
       "<table border=\"1\" class=\"dataframe\">\n",
       "  <thead>\n",
       "    <tr style=\"text-align: right;\">\n",
       "      <th></th>\n",
       "      <th>AveragePrice</th>\n",
       "      <th>Total Volume</th>\n",
       "      <th>4046</th>\n",
       "      <th>4225</th>\n",
       "      <th>4770</th>\n",
       "      <th>Total Bags</th>\n",
       "      <th>Small Bags</th>\n",
       "      <th>Large Bags</th>\n",
       "      <th>XLarge Bags</th>\n",
       "    </tr>\n",
       "  </thead>\n",
       "  <tbody>\n",
       "    <tr>\n",
       "      <th>0</th>\n",
       "      <td>1.33</td>\n",
       "      <td>64236.62</td>\n",
       "      <td>1036.74</td>\n",
       "      <td>54454.85</td>\n",
       "      <td>48.16</td>\n",
       "      <td>8696.87</td>\n",
       "      <td>8603.62</td>\n",
       "      <td>93.25</td>\n",
       "      <td>0.0</td>\n",
       "    </tr>\n",
       "    <tr>\n",
       "      <th>1</th>\n",
       "      <td>1.35</td>\n",
       "      <td>54876.98</td>\n",
       "      <td>674.28</td>\n",
       "      <td>44638.81</td>\n",
       "      <td>58.33</td>\n",
       "      <td>9505.56</td>\n",
       "      <td>9408.07</td>\n",
       "      <td>97.49</td>\n",
       "      <td>0.0</td>\n",
       "    </tr>\n",
       "    <tr>\n",
       "      <th>2</th>\n",
       "      <td>0.93</td>\n",
       "      <td>118220.22</td>\n",
       "      <td>794.70</td>\n",
       "      <td>109149.67</td>\n",
       "      <td>130.50</td>\n",
       "      <td>8145.35</td>\n",
       "      <td>8042.21</td>\n",
       "      <td>103.14</td>\n",
       "      <td>0.0</td>\n",
       "    </tr>\n",
       "    <tr>\n",
       "      <th>3</th>\n",
       "      <td>1.08</td>\n",
       "      <td>78992.15</td>\n",
       "      <td>1132.00</td>\n",
       "      <td>71976.41</td>\n",
       "      <td>72.58</td>\n",
       "      <td>5811.16</td>\n",
       "      <td>5677.40</td>\n",
       "      <td>133.76</td>\n",
       "      <td>0.0</td>\n",
       "    </tr>\n",
       "    <tr>\n",
       "      <th>4</th>\n",
       "      <td>1.28</td>\n",
       "      <td>51039.60</td>\n",
       "      <td>941.48</td>\n",
       "      <td>43838.39</td>\n",
       "      <td>75.78</td>\n",
       "      <td>6183.95</td>\n",
       "      <td>5986.26</td>\n",
       "      <td>197.69</td>\n",
       "      <td>0.0</td>\n",
       "    </tr>\n",
       "  </tbody>\n",
       "</table>\n",
       "</div>"
      ],
      "text/plain": [
       "   AveragePrice  Total Volume     4046       4225    4770  Total Bags   \n",
       "0          1.33      64236.62  1036.74   54454.85   48.16     8696.87  \\\n",
       "1          1.35      54876.98   674.28   44638.81   58.33     9505.56   \n",
       "2          0.93     118220.22   794.70  109149.67  130.50     8145.35   \n",
       "3          1.08      78992.15  1132.00   71976.41   72.58     5811.16   \n",
       "4          1.28      51039.60   941.48   43838.39   75.78     6183.95   \n",
       "\n",
       "   Small Bags  Large Bags  XLarge Bags  \n",
       "0     8603.62       93.25          0.0  \n",
       "1     9408.07       97.49          0.0  \n",
       "2     8042.21      103.14          0.0  \n",
       "3     5677.40      133.76          0.0  \n",
       "4     5986.26      197.69          0.0  "
      ]
     },
     "execution_count": 90,
     "metadata": {},
     "output_type": "execute_result"
    }
   ],
   "source": [
    "df.select_dtypes( include=\"float\").head()"
   ]
  },
  {
   "cell_type": "code",
   "execution_count": 91,
   "id": "b4840d9c",
   "metadata": {},
   "outputs": [
    {
     "data": {
      "text/html": [
       "<div>\n",
       "<style scoped>\n",
       "    .dataframe tbody tr th:only-of-type {\n",
       "        vertical-align: middle;\n",
       "    }\n",
       "\n",
       "    .dataframe tbody tr th {\n",
       "        vertical-align: top;\n",
       "    }\n",
       "\n",
       "    .dataframe thead th {\n",
       "        text-align: right;\n",
       "    }\n",
       "</style>\n",
       "<table border=\"1\" class=\"dataframe\">\n",
       "  <thead>\n",
       "    <tr style=\"text-align: right;\">\n",
       "      <th></th>\n",
       "      <th>Unnamed: 0</th>\n",
       "      <th>Date</th>\n",
       "      <th>AveragePrice</th>\n",
       "      <th>Total Volume</th>\n",
       "      <th>4046</th>\n",
       "      <th>4225</th>\n",
       "      <th>4770</th>\n",
       "      <th>Total Bags</th>\n",
       "      <th>Small Bags</th>\n",
       "      <th>Large Bags</th>\n",
       "      <th>XLarge Bags</th>\n",
       "      <th>type</th>\n",
       "      <th>year</th>\n",
       "      <th>region</th>\n",
       "    </tr>\n",
       "  </thead>\n",
       "  <tbody>\n",
       "    <tr>\n",
       "      <th>4476</th>\n",
       "      <td>4</td>\n",
       "      <td>2016-11-27</td>\n",
       "      <td>1.57</td>\n",
       "      <td>279131.45</td>\n",
       "      <td>10693.47</td>\n",
       "      <td>180338.49</td>\n",
       "      <td>859.82</td>\n",
       "      <td>87239.67</td>\n",
       "      <td>82183.54</td>\n",
       "      <td>5056.13</td>\n",
       "      <td>0.0</td>\n",
       "      <td>conventional</td>\n",
       "      <td>2016</td>\n",
       "      <td>Philadelphia</td>\n",
       "    </tr>\n",
       "  </tbody>\n",
       "</table>\n",
       "</div>"
      ],
      "text/plain": [
       "      Unnamed: 0        Date  AveragePrice  Total Volume      4046       4225   \n",
       "4476           4  2016-11-27          1.57     279131.45  10693.47  180338.49  \\\n",
       "\n",
       "        4770  Total Bags  Small Bags  Large Bags  XLarge Bags          type   \n",
       "4476  859.82    87239.67    82183.54     5056.13          0.0  conventional  \\\n",
       "\n",
       "      year        region  \n",
       "4476  2016  Philadelphia  "
      ]
     },
     "execution_count": 91,
     "metadata": {},
     "output_type": "execute_result"
    }
   ],
   "source": [
    "df.sample()"
   ]
  },
  {
   "cell_type": "markdown",
   "id": "varying-candy",
   "metadata": {},
   "source": [
    "## Operaciones básicas con los dataframes"
   ]
  },
  {
   "cell_type": "markdown",
   "id": "higher-bridges",
   "metadata": {},
   "source": [
    "### Seleccionamos una columna"
   ]
  },
  {
   "cell_type": "code",
   "execution_count": 92,
   "id": "39f18493",
   "metadata": {},
   "outputs": [
    {
     "data": {
      "text/plain": [
       "Index(['Unnamed: 0', 'Date', 'AveragePrice', 'Total Volume', '4046', '4225',\n",
       "       '4770', 'Total Bags', 'Small Bags', 'Large Bags', 'XLarge Bags', 'type',\n",
       "       'year', 'region'],\n",
       "      dtype='object')"
      ]
     },
     "execution_count": 92,
     "metadata": {},
     "output_type": "execute_result"
    }
   ],
   "source": [
    "df.columns #Podemos ver las columnas del df"
   ]
  },
  {
   "cell_type": "code",
   "execution_count": 93,
   "id": "harmful-breeding",
   "metadata": {
    "scrolled": true
   },
   "outputs": [
    {
     "data": {
      "text/plain": [
       "['Unnamed: 0',\n",
       " 'Date',\n",
       " 'AveragePrice',\n",
       " 'Total Volume',\n",
       " '4046',\n",
       " '4225',\n",
       " '4770',\n",
       " 'Total Bags',\n",
       " 'Small Bags',\n",
       " 'Large Bags',\n",
       " 'XLarge Bags',\n",
       " 'type',\n",
       " 'year',\n",
       " 'region']"
      ]
     },
     "execution_count": 93,
     "metadata": {},
     "output_type": "execute_result"
    }
   ],
   "source": [
    "df.columns.tolist() #Sacar listado de las columnas del df"
   ]
  },
  {
   "cell_type": "code",
   "execution_count": 94,
   "id": "proof-township",
   "metadata": {},
   "outputs": [
    {
     "data": {
      "text/plain": [
       "0         8696.87\n",
       "1         9505.56\n",
       "2         8145.35\n",
       "3         5811.16\n",
       "4         6183.95\n",
       "           ...   \n",
       "18244    13498.67\n",
       "18245     9264.84\n",
       "18246     9394.11\n",
       "18247    10969.54\n",
       "18248    12014.15\n",
       "Name: Total Bags, Length: 18249, dtype: float64"
      ]
     },
     "execution_count": 94,
     "metadata": {},
     "output_type": "execute_result"
    }
   ],
   "source": [
    "# Tengo una serie de pandas\n",
    "unacolumna = df[\"Total Bags\"]\n",
    "unacolumna"
   ]
  },
  {
   "cell_type": "code",
   "execution_count": 95,
   "id": "inside-viking",
   "metadata": {},
   "outputs": [
    {
     "data": {
      "text/html": [
       "<div>\n",
       "<style scoped>\n",
       "    .dataframe tbody tr th:only-of-type {\n",
       "        vertical-align: middle;\n",
       "    }\n",
       "\n",
       "    .dataframe tbody tr th {\n",
       "        vertical-align: top;\n",
       "    }\n",
       "\n",
       "    .dataframe thead th {\n",
       "        text-align: right;\n",
       "    }\n",
       "</style>\n",
       "<table border=\"1\" class=\"dataframe\">\n",
       "  <thead>\n",
       "    <tr style=\"text-align: right;\">\n",
       "      <th></th>\n",
       "      <th>Total Bags</th>\n",
       "    </tr>\n",
       "  </thead>\n",
       "  <tbody>\n",
       "    <tr>\n",
       "      <th>0</th>\n",
       "      <td>8696.87</td>\n",
       "    </tr>\n",
       "    <tr>\n",
       "      <th>1</th>\n",
       "      <td>9505.56</td>\n",
       "    </tr>\n",
       "    <tr>\n",
       "      <th>2</th>\n",
       "      <td>8145.35</td>\n",
       "    </tr>\n",
       "    <tr>\n",
       "      <th>3</th>\n",
       "      <td>5811.16</td>\n",
       "    </tr>\n",
       "    <tr>\n",
       "      <th>4</th>\n",
       "      <td>6183.95</td>\n",
       "    </tr>\n",
       "  </tbody>\n",
       "</table>\n",
       "</div>"
      ],
      "text/plain": [
       "   Total Bags\n",
       "0     8696.87\n",
       "1     9505.56\n",
       "2     8145.35\n",
       "3     5811.16\n",
       "4     6183.95"
      ]
     },
     "execution_count": 95,
     "metadata": {},
     "output_type": "execute_result"
    }
   ],
   "source": [
    "# Si solo pongo unos corchetes, tengo una serie de pandas\n",
    "unacolumna_dataframe = df[[\"Total Bags\"]]\n",
    "unacolumna_dataframe.head()"
   ]
  },
  {
   "cell_type": "code",
   "execution_count": 96,
   "id": "driving-writer",
   "metadata": {},
   "outputs": [],
   "source": [
    "# Si a pesar de pasarle una lista, solo tiene un elemento, tengo un dataframe con una sola columna"
   ]
  },
  {
   "cell_type": "code",
   "execution_count": 97,
   "id": "ancient-trouble",
   "metadata": {},
   "outputs": [],
   "source": [
    "# O dos :), o las que queramos"
   ]
  },
  {
   "cell_type": "markdown",
   "id": "industrial-amazon",
   "metadata": {},
   "source": [
    "### Seleccionamos varias columnas"
   ]
  },
  {
   "cell_type": "code",
   "execution_count": 98,
   "id": "941d3afb",
   "metadata": {},
   "outputs": [
    {
     "data": {
      "text/plain": [
       "Index(['Unnamed: 0', 'Date', 'AveragePrice', 'Total Volume', '4046', '4225',\n",
       "       '4770', 'Total Bags', 'Small Bags', 'Large Bags', 'XLarge Bags', 'type',\n",
       "       'year', 'region'],\n",
       "      dtype='object')"
      ]
     },
     "execution_count": 98,
     "metadata": {},
     "output_type": "execute_result"
    }
   ],
   "source": [
    "df.columns"
   ]
  },
  {
   "cell_type": "code",
   "execution_count": 99,
   "id": "dense-decimal",
   "metadata": {},
   "outputs": [],
   "source": [
    "df2 = df[[\"Total Bags\", \"AveragePrice\", \"region\"]]"
   ]
  },
  {
   "cell_type": "code",
   "execution_count": 100,
   "id": "00ed22c6",
   "metadata": {},
   "outputs": [
    {
     "data": {
      "text/html": [
       "<div>\n",
       "<style scoped>\n",
       "    .dataframe tbody tr th:only-of-type {\n",
       "        vertical-align: middle;\n",
       "    }\n",
       "\n",
       "    .dataframe tbody tr th {\n",
       "        vertical-align: top;\n",
       "    }\n",
       "\n",
       "    .dataframe thead th {\n",
       "        text-align: right;\n",
       "    }\n",
       "</style>\n",
       "<table border=\"1\" class=\"dataframe\">\n",
       "  <thead>\n",
       "    <tr style=\"text-align: right;\">\n",
       "      <th></th>\n",
       "      <th>Total Bags</th>\n",
       "      <th>AveragePrice</th>\n",
       "      <th>region</th>\n",
       "    </tr>\n",
       "  </thead>\n",
       "  <tbody>\n",
       "    <tr>\n",
       "      <th>928</th>\n",
       "      <td>73550.85</td>\n",
       "      <td>1.38</td>\n",
       "      <td>HartfordSpringfield</td>\n",
       "    </tr>\n",
       "    <tr>\n",
       "      <th>5157</th>\n",
       "      <td>1397084.84</td>\n",
       "      <td>1.09</td>\n",
       "      <td>SouthCentral</td>\n",
       "    </tr>\n",
       "    <tr>\n",
       "      <th>7390</th>\n",
       "      <td>534479.18</td>\n",
       "      <td>0.75</td>\n",
       "      <td>PhoenixTucson</td>\n",
       "    </tr>\n",
       "    <tr>\n",
       "      <th>1567</th>\n",
       "      <td>33770.89</td>\n",
       "      <td>0.96</td>\n",
       "      <td>NorthernNewEngland</td>\n",
       "    </tr>\n",
       "    <tr>\n",
       "      <th>4</th>\n",
       "      <td>6183.95</td>\n",
       "      <td>1.28</td>\n",
       "      <td>Albany</td>\n",
       "    </tr>\n",
       "    <tr>\n",
       "      <th>8246</th>\n",
       "      <td>30706.59</td>\n",
       "      <td>1.66</td>\n",
       "      <td>Syracuse</td>\n",
       "    </tr>\n",
       "    <tr>\n",
       "      <th>5651</th>\n",
       "      <td>22819.87</td>\n",
       "      <td>1.13</td>\n",
       "      <td>Albany</td>\n",
       "    </tr>\n",
       "    <tr>\n",
       "      <th>4233</th>\n",
       "      <td>73192.73</td>\n",
       "      <td>1.20</td>\n",
       "      <td>NewOrleansMobile</td>\n",
       "    </tr>\n",
       "    <tr>\n",
       "      <th>1756</th>\n",
       "      <td>60883.78</td>\n",
       "      <td>0.71</td>\n",
       "      <td>PhoenixTucson</td>\n",
       "    </tr>\n",
       "    <tr>\n",
       "      <th>4797</th>\n",
       "      <td>51228.61</td>\n",
       "      <td>1.27</td>\n",
       "      <td>RichmondNorfolk</td>\n",
       "    </tr>\n",
       "  </tbody>\n",
       "</table>\n",
       "</div>"
      ],
      "text/plain": [
       "      Total Bags  AveragePrice               region\n",
       "928     73550.85          1.38  HartfordSpringfield\n",
       "5157  1397084.84          1.09         SouthCentral\n",
       "7390   534479.18          0.75        PhoenixTucson\n",
       "1567    33770.89          0.96   NorthernNewEngland\n",
       "4        6183.95          1.28               Albany\n",
       "8246    30706.59          1.66             Syracuse\n",
       "5651    22819.87          1.13               Albany\n",
       "4233    73192.73          1.20     NewOrleansMobile\n",
       "1756    60883.78          0.71        PhoenixTucson\n",
       "4797    51228.61          1.27      RichmondNorfolk"
      ]
     },
     "execution_count": 100,
     "metadata": {},
     "output_type": "execute_result"
    }
   ],
   "source": [
    "df2.sample(10)"
   ]
  },
  {
   "cell_type": "code",
   "execution_count": 101,
   "id": "plastic-mills",
   "metadata": {},
   "outputs": [],
   "source": [
    "#le podemos pasar directamente una lista con los nombres de las columnas\n",
    "lista_columnas = ['Total Bags', 'Small Bags', 'Large Bags', 'XLarge Bags']"
   ]
  },
  {
   "cell_type": "code",
   "execution_count": 102,
   "id": "photographic-writing",
   "metadata": {},
   "outputs": [],
   "source": [
    "df_nuevo = df[lista_columnas]"
   ]
  },
  {
   "cell_type": "code",
   "execution_count": 103,
   "id": "5383c56e",
   "metadata": {},
   "outputs": [
    {
     "data": {
      "text/html": [
       "<div>\n",
       "<style scoped>\n",
       "    .dataframe tbody tr th:only-of-type {\n",
       "        vertical-align: middle;\n",
       "    }\n",
       "\n",
       "    .dataframe tbody tr th {\n",
       "        vertical-align: top;\n",
       "    }\n",
       "\n",
       "    .dataframe thead th {\n",
       "        text-align: right;\n",
       "    }\n",
       "</style>\n",
       "<table border=\"1\" class=\"dataframe\">\n",
       "  <thead>\n",
       "    <tr style=\"text-align: right;\">\n",
       "      <th></th>\n",
       "      <th>Total Bags</th>\n",
       "      <th>Small Bags</th>\n",
       "      <th>Large Bags</th>\n",
       "      <th>XLarge Bags</th>\n",
       "    </tr>\n",
       "  </thead>\n",
       "  <tbody>\n",
       "    <tr>\n",
       "      <th>1462</th>\n",
       "      <td>225327.84</td>\n",
       "      <td>196060.17</td>\n",
       "      <td>29267.67</td>\n",
       "      <td>0.0</td>\n",
       "    </tr>\n",
       "  </tbody>\n",
       "</table>\n",
       "</div>"
      ],
      "text/plain": [
       "      Total Bags  Small Bags  Large Bags  XLarge Bags\n",
       "1462   225327.84   196060.17    29267.67          0.0"
      ]
     },
     "execution_count": 103,
     "metadata": {},
     "output_type": "execute_result"
    }
   ],
   "source": [
    "df_nuevo.sample()"
   ]
  },
  {
   "cell_type": "code",
   "execution_count": 104,
   "id": "previous-maximum",
   "metadata": {},
   "outputs": [
    {
     "data": {
      "text/plain": [
       "['Unnamed: 0',\n",
       " 'Date',\n",
       " 'AveragePrice',\n",
       " 'Total Volume',\n",
       " '4046',\n",
       " '4225',\n",
       " '4770',\n",
       " 'Total Bags',\n",
       " 'Small Bags',\n",
       " 'Large Bags',\n",
       " 'XLarge Bags',\n",
       " 'type',\n",
       " 'year',\n",
       " 'region']"
      ]
     },
     "execution_count": 104,
     "metadata": {},
     "output_type": "execute_result"
    }
   ],
   "source": [
    "# Listar los nombres de columnas de un dataframe\n",
    "columnas = list(df.columns)\n",
    "columnas"
   ]
  },
  {
   "cell_type": "code",
   "execution_count": 105,
   "id": "iraqi-jones",
   "metadata": {},
   "outputs": [],
   "source": [
    "copia = df.copy() # Hacemos una copia "
   ]
  },
  {
   "cell_type": "code",
   "execution_count": 106,
   "id": "64ccffaa",
   "metadata": {},
   "outputs": [
    {
     "data": {
      "text/plain": [
       "Index(['Unnamed: 0', 'Date', 'Total Volume', '4046', '4225', '4770',\n",
       "       'Total Bags', 'Small Bags', 'Large Bags', 'XLarge Bags', 'type', 'year',\n",
       "       'region'],\n",
       "      dtype='object')"
      ]
     },
     "execution_count": 106,
     "metadata": {},
     "output_type": "execute_result"
    }
   ],
   "source": [
    "copia.drop(columns=\"AveragePrice\", inplace=True) #Por defecto inplace = False\n",
    "copia.columns"
   ]
  },
  {
   "cell_type": "code",
   "execution_count": 107,
   "id": "2895642b",
   "metadata": {},
   "outputs": [
    {
     "data": {
      "text/html": [
       "<div>\n",
       "<style scoped>\n",
       "    .dataframe tbody tr th:only-of-type {\n",
       "        vertical-align: middle;\n",
       "    }\n",
       "\n",
       "    .dataframe tbody tr th {\n",
       "        vertical-align: top;\n",
       "    }\n",
       "\n",
       "    .dataframe thead th {\n",
       "        text-align: right;\n",
       "    }\n",
       "</style>\n",
       "<table border=\"1\" class=\"dataframe\">\n",
       "  <thead>\n",
       "    <tr style=\"text-align: right;\">\n",
       "      <th></th>\n",
       "      <th>Unnamed: 0</th>\n",
       "      <th>Date</th>\n",
       "      <th>AveragePrice</th>\n",
       "      <th>Total Volume</th>\n",
       "      <th>4046</th>\n",
       "      <th>4225</th>\n",
       "      <th>4770</th>\n",
       "      <th>Total Bags</th>\n",
       "      <th>Small Bags</th>\n",
       "      <th>Large Bags</th>\n",
       "      <th>XLarge Bags</th>\n",
       "      <th>type</th>\n",
       "      <th>year</th>\n",
       "      <th>region</th>\n",
       "    </tr>\n",
       "  </thead>\n",
       "  <tbody>\n",
       "    <tr>\n",
       "      <th>0</th>\n",
       "      <td>0</td>\n",
       "      <td>2015-12-27</td>\n",
       "      <td>1.33</td>\n",
       "      <td>64236.62</td>\n",
       "      <td>1036.74</td>\n",
       "      <td>54454.85</td>\n",
       "      <td>48.16</td>\n",
       "      <td>8696.87</td>\n",
       "      <td>8603.62</td>\n",
       "      <td>93.25</td>\n",
       "      <td>0.0</td>\n",
       "      <td>conventional</td>\n",
       "      <td>2015</td>\n",
       "      <td>Albany</td>\n",
       "    </tr>\n",
       "  </tbody>\n",
       "</table>\n",
       "</div>"
      ],
      "text/plain": [
       "   Unnamed: 0        Date  AveragePrice  Total Volume     4046      4225   \n",
       "0           0  2015-12-27          1.33      64236.62  1036.74  54454.85  \\\n",
       "\n",
       "    4770  Total Bags  Small Bags  Large Bags  XLarge Bags          type  year   \n",
       "0  48.16     8696.87     8603.62       93.25          0.0  conventional  2015  \\\n",
       "\n",
       "   region  \n",
       "0  Albany  "
      ]
     },
     "execution_count": 107,
     "metadata": {},
     "output_type": "execute_result"
    }
   ],
   "source": [
    "df.head(1) # Las modificaciones que hago en la copia son independientes del original y no afectan"
   ]
  },
  {
   "cell_type": "code",
   "execution_count": 108,
   "id": "excessive-armstrong",
   "metadata": {},
   "outputs": [
    {
     "data": {
      "text/plain": [
       "False"
      ]
     },
     "execution_count": 108,
     "metadata": {},
     "output_type": "execute_result"
    }
   ],
   "source": [
    "copia is df# PORQUE COPIA NO ES DF"
   ]
  },
  {
   "cell_type": "markdown",
   "id": "2f2b1d4c",
   "metadata": {},
   "source": [
    "## 🚨🚨🚨 OJO CUIDADO!!🚨🚨🚨🚨"
   ]
  },
  {
   "cell_type": "code",
   "execution_count": 109,
   "id": "thorough-taiwan",
   "metadata": {},
   "outputs": [],
   "source": [
    "copia2 = df # si igualo la variable sin hacer copy me cargo el original"
   ]
  },
  {
   "cell_type": "code",
   "execution_count": 110,
   "id": "advanced-upset",
   "metadata": {},
   "outputs": [],
   "source": [
    "copia2.drop(columns=\"Total Bags\", inplace=True)"
   ]
  },
  {
   "cell_type": "code",
   "execution_count": 111,
   "id": "704b2d75",
   "metadata": {},
   "outputs": [
    {
     "data": {
      "text/plain": [
       "True"
      ]
     },
     "execution_count": 111,
     "metadata": {},
     "output_type": "execute_result"
    }
   ],
   "source": [
    "copia2 is df # PORQUE COPIA2 SÍ ES DFdf."
   ]
  },
  {
   "cell_type": "code",
   "execution_count": 112,
   "id": "internal-falls",
   "metadata": {},
   "outputs": [
    {
     "data": {
      "text/html": [
       "<div>\n",
       "<style scoped>\n",
       "    .dataframe tbody tr th:only-of-type {\n",
       "        vertical-align: middle;\n",
       "    }\n",
       "\n",
       "    .dataframe tbody tr th {\n",
       "        vertical-align: top;\n",
       "    }\n",
       "\n",
       "    .dataframe thead th {\n",
       "        text-align: right;\n",
       "    }\n",
       "</style>\n",
       "<table border=\"1\" class=\"dataframe\">\n",
       "  <thead>\n",
       "    <tr style=\"text-align: right;\">\n",
       "      <th></th>\n",
       "      <th>Unnamed: 0</th>\n",
       "      <th>Date</th>\n",
       "      <th>AveragePrice</th>\n",
       "      <th>Total Volume</th>\n",
       "      <th>4046</th>\n",
       "      <th>4225</th>\n",
       "      <th>4770</th>\n",
       "      <th>Small Bags</th>\n",
       "      <th>Large Bags</th>\n",
       "      <th>XLarge Bags</th>\n",
       "      <th>type</th>\n",
       "      <th>year</th>\n",
       "      <th>region</th>\n",
       "    </tr>\n",
       "  </thead>\n",
       "  <tbody>\n",
       "    <tr>\n",
       "      <th>0</th>\n",
       "      <td>0</td>\n",
       "      <td>2015-12-27</td>\n",
       "      <td>1.33</td>\n",
       "      <td>64236.62</td>\n",
       "      <td>1036.74</td>\n",
       "      <td>54454.85</td>\n",
       "      <td>48.16</td>\n",
       "      <td>8603.62</td>\n",
       "      <td>93.25</td>\n",
       "      <td>0.0</td>\n",
       "      <td>conventional</td>\n",
       "      <td>2015</td>\n",
       "      <td>Albany</td>\n",
       "    </tr>\n",
       "    <tr>\n",
       "      <th>1</th>\n",
       "      <td>1</td>\n",
       "      <td>2015-12-20</td>\n",
       "      <td>1.35</td>\n",
       "      <td>54876.98</td>\n",
       "      <td>674.28</td>\n",
       "      <td>44638.81</td>\n",
       "      <td>58.33</td>\n",
       "      <td>9408.07</td>\n",
       "      <td>97.49</td>\n",
       "      <td>0.0</td>\n",
       "      <td>conventional</td>\n",
       "      <td>2015</td>\n",
       "      <td>Albany</td>\n",
       "    </tr>\n",
       "    <tr>\n",
       "      <th>2</th>\n",
       "      <td>2</td>\n",
       "      <td>2015-12-13</td>\n",
       "      <td>0.93</td>\n",
       "      <td>118220.22</td>\n",
       "      <td>794.70</td>\n",
       "      <td>109149.67</td>\n",
       "      <td>130.50</td>\n",
       "      <td>8042.21</td>\n",
       "      <td>103.14</td>\n",
       "      <td>0.0</td>\n",
       "      <td>conventional</td>\n",
       "      <td>2015</td>\n",
       "      <td>Albany</td>\n",
       "    </tr>\n",
       "    <tr>\n",
       "      <th>3</th>\n",
       "      <td>3</td>\n",
       "      <td>2015-12-06</td>\n",
       "      <td>1.08</td>\n",
       "      <td>78992.15</td>\n",
       "      <td>1132.00</td>\n",
       "      <td>71976.41</td>\n",
       "      <td>72.58</td>\n",
       "      <td>5677.40</td>\n",
       "      <td>133.76</td>\n",
       "      <td>0.0</td>\n",
       "      <td>conventional</td>\n",
       "      <td>2015</td>\n",
       "      <td>Albany</td>\n",
       "    </tr>\n",
       "    <tr>\n",
       "      <th>4</th>\n",
       "      <td>4</td>\n",
       "      <td>2015-11-29</td>\n",
       "      <td>1.28</td>\n",
       "      <td>51039.60</td>\n",
       "      <td>941.48</td>\n",
       "      <td>43838.39</td>\n",
       "      <td>75.78</td>\n",
       "      <td>5986.26</td>\n",
       "      <td>197.69</td>\n",
       "      <td>0.0</td>\n",
       "      <td>conventional</td>\n",
       "      <td>2015</td>\n",
       "      <td>Albany</td>\n",
       "    </tr>\n",
       "  </tbody>\n",
       "</table>\n",
       "</div>"
      ],
      "text/plain": [
       "   Unnamed: 0        Date  AveragePrice  Total Volume     4046       4225   \n",
       "0           0  2015-12-27          1.33      64236.62  1036.74   54454.85  \\\n",
       "1           1  2015-12-20          1.35      54876.98   674.28   44638.81   \n",
       "2           2  2015-12-13          0.93     118220.22   794.70  109149.67   \n",
       "3           3  2015-12-06          1.08      78992.15  1132.00   71976.41   \n",
       "4           4  2015-11-29          1.28      51039.60   941.48   43838.39   \n",
       "\n",
       "     4770  Small Bags  Large Bags  XLarge Bags          type  year  region  \n",
       "0   48.16     8603.62       93.25          0.0  conventional  2015  Albany  \n",
       "1   58.33     9408.07       97.49          0.0  conventional  2015  Albany  \n",
       "2  130.50     8042.21      103.14          0.0  conventional  2015  Albany  \n",
       "3   72.58     5677.40      133.76          0.0  conventional  2015  Albany  \n",
       "4   75.78     5986.26      197.69          0.0  conventional  2015  Albany  "
      ]
     },
     "execution_count": 112,
     "metadata": {},
     "output_type": "execute_result"
    }
   ],
   "source": [
    "df.head()"
   ]
  },
  {
   "cell_type": "markdown",
   "id": "local-appointment",
   "metadata": {},
   "source": [
    "### Obtener los valores únicos de una columna (es decir, una serie)"
   ]
  },
  {
   "cell_type": "code",
   "execution_count": 113,
   "id": "limited-worse",
   "metadata": {},
   "outputs": [
    {
     "data": {
      "text/plain": [
       "array(['Albany', 'Atlanta', 'BaltimoreWashington', 'Boise', 'Boston',\n",
       "       'BuffaloRochester', 'California', 'Charlotte', 'Chicago',\n",
       "       'CincinnatiDayton', 'Columbus', 'DallasFtWorth', 'Denver',\n",
       "       'Detroit', 'GrandRapids', 'GreatLakes', 'HarrisburgScranton',\n",
       "       'HartfordSpringfield', 'Houston', 'Indianapolis', 'Jacksonville',\n",
       "       'LasVegas', 'LosAngeles', 'Louisville', 'MiamiFtLauderdale',\n",
       "       'Midsouth', 'Nashville', 'NewOrleansMobile', 'NewYork',\n",
       "       'Northeast', 'NorthernNewEngland', 'Orlando', 'Philadelphia',\n",
       "       'PhoenixTucson', 'Pittsburgh', 'Plains', 'Portland',\n",
       "       'RaleighGreensboro', 'RichmondNorfolk', 'Roanoke', 'Sacramento',\n",
       "       'SanDiego', 'SanFrancisco', 'Seattle', 'SouthCarolina',\n",
       "       'SouthCentral', 'Southeast', 'Spokane', 'StLouis', 'Syracuse',\n",
       "       'Tampa', 'TotalUS', 'West', 'WestTexNewMexico'], dtype=object)"
      ]
     },
     "execution_count": 113,
     "metadata": {},
     "output_type": "execute_result"
    }
   ],
   "source": [
    "df.region.unique()"
   ]
  },
  {
   "cell_type": "code",
   "execution_count": 114,
   "id": "bored-score",
   "metadata": {},
   "outputs": [
    {
     "data": {
      "text/plain": [
       "['Albany',\n",
       " 'Atlanta',\n",
       " 'BaltimoreWashington',\n",
       " 'Boise',\n",
       " 'Boston',\n",
       " 'BuffaloRochester',\n",
       " 'California',\n",
       " 'Charlotte',\n",
       " 'Chicago',\n",
       " 'CincinnatiDayton',\n",
       " 'Columbus',\n",
       " 'DallasFtWorth',\n",
       " 'Denver',\n",
       " 'Detroit',\n",
       " 'GrandRapids',\n",
       " 'GreatLakes',\n",
       " 'HarrisburgScranton',\n",
       " 'HartfordSpringfield',\n",
       " 'Houston',\n",
       " 'Indianapolis',\n",
       " 'Jacksonville',\n",
       " 'LasVegas',\n",
       " 'LosAngeles',\n",
       " 'Louisville',\n",
       " 'MiamiFtLauderdale',\n",
       " 'Midsouth',\n",
       " 'Nashville',\n",
       " 'NewOrleansMobile',\n",
       " 'NewYork',\n",
       " 'Northeast',\n",
       " 'NorthernNewEngland',\n",
       " 'Orlando',\n",
       " 'Philadelphia',\n",
       " 'PhoenixTucson',\n",
       " 'Pittsburgh',\n",
       " 'Plains',\n",
       " 'Portland',\n",
       " 'RaleighGreensboro',\n",
       " 'RichmondNorfolk',\n",
       " 'Roanoke',\n",
       " 'Sacramento',\n",
       " 'SanDiego',\n",
       " 'SanFrancisco',\n",
       " 'Seattle',\n",
       " 'SouthCarolina',\n",
       " 'SouthCentral',\n",
       " 'Southeast',\n",
       " 'Spokane',\n",
       " 'StLouis',\n",
       " 'Syracuse',\n",
       " 'Tampa',\n",
       " 'TotalUS',\n",
       " 'West',\n",
       " 'WestTexNewMexico']"
      ]
     },
     "execution_count": 114,
     "metadata": {},
     "output_type": "execute_result"
    }
   ],
   "source": [
    "list(df.region.unique())"
   ]
  },
  {
   "cell_type": "code",
   "execution_count": 115,
   "id": "little-device",
   "metadata": {},
   "outputs": [
    {
     "data": {
      "text/plain": [
       "array(['Victor', 'Javier', 'Pablo'], dtype=object)"
      ]
     },
     "execution_count": 115,
     "metadata": {},
     "output_type": "execute_result"
    }
   ],
   "source": [
    "df_datos.nombre.unique()"
   ]
  },
  {
   "cell_type": "markdown",
   "id": "statutory-chess",
   "metadata": {},
   "source": [
    "### Cambiar el tipo de datos de una columna"
   ]
  },
  {
   "cell_type": "code",
   "execution_count": 116,
   "id": "c8c3b628",
   "metadata": {},
   "outputs": [
    {
     "data": {
      "text/plain": [
       "dtype('float64')"
      ]
     },
     "execution_count": 116,
     "metadata": {},
     "output_type": "execute_result"
    }
   ],
   "source": [
    "df.AveragePrice.dtype"
   ]
  },
  {
   "cell_type": "code",
   "execution_count": 117,
   "id": "8f0a86eb",
   "metadata": {},
   "outputs": [
    {
     "name": "stdout",
     "output_type": "stream",
     "text": [
      "<class 'pandas.core.frame.DataFrame'>\n",
      "RangeIndex: 18249 entries, 0 to 18248\n",
      "Data columns (total 13 columns):\n",
      " #   Column        Non-Null Count  Dtype  \n",
      "---  ------        --------------  -----  \n",
      " 0   Unnamed: 0    18249 non-null  int64  \n",
      " 1   Date          18249 non-null  object \n",
      " 2   AveragePrice  18249 non-null  float64\n",
      " 3   Total Volume  18249 non-null  float64\n",
      " 4   4046          18249 non-null  float64\n",
      " 5   4225          18249 non-null  float64\n",
      " 6   4770          18249 non-null  float64\n",
      " 7   Small Bags    18249 non-null  float64\n",
      " 8   Large Bags    18249 non-null  float64\n",
      " 9   XLarge Bags   18249 non-null  float64\n",
      " 10  type          18249 non-null  object \n",
      " 11  year          18249 non-null  int64  \n",
      " 12  region        18249 non-null  object \n",
      "dtypes: float64(8), int64(2), object(3)\n",
      "memory usage: 1.8+ MB\n"
     ]
    }
   ],
   "source": [
    "df.info()"
   ]
  },
  {
   "cell_type": "code",
   "execution_count": 118,
   "id": "320fd135",
   "metadata": {},
   "outputs": [
    {
     "data": {
      "text/plain": [
       "0    1.33\n",
       "1    1.35\n",
       "2    0.93\n",
       "3    1.08\n",
       "4    1.28\n",
       "5    1.26\n",
       "6    0.99\n",
       "7    0.98\n",
       "8    1.02\n",
       "9    1.07\n",
       "Name: AveragePrice, dtype: float64"
      ]
     },
     "execution_count": 118,
     "metadata": {},
     "output_type": "execute_result"
    }
   ],
   "source": [
    "df.AveragePrice.head(10)"
   ]
  },
  {
   "cell_type": "code",
   "execution_count": 119,
   "id": "three-support",
   "metadata": {},
   "outputs": [
    {
     "data": {
      "text/plain": [
       "0        1\n",
       "1        1\n",
       "2        0\n",
       "3        1\n",
       "4        1\n",
       "        ..\n",
       "18244    1\n",
       "18245    1\n",
       "18246    1\n",
       "18247    1\n",
       "18248    1\n",
       "Name: AveragePrice, Length: 18249, dtype: int8"
      ]
     },
     "execution_count": 119,
     "metadata": {},
     "output_type": "execute_result"
    }
   ],
   "source": [
    "df.AveragePrice.astype(dtype=\"int8\")"
   ]
  },
  {
   "cell_type": "code",
   "execution_count": 120,
   "id": "05f1da01",
   "metadata": {},
   "outputs": [
    {
     "data": {
      "text/plain": [
       "0    1.33\n",
       "1    1.35\n",
       "2    0.93\n",
       "3    1.08\n",
       "4    1.28\n",
       "Name: AveragePrice, dtype: float64"
      ]
     },
     "execution_count": 120,
     "metadata": {},
     "output_type": "execute_result"
    }
   ],
   "source": [
    "df.AveragePrice.head()"
   ]
  },
  {
   "cell_type": "code",
   "execution_count": 121,
   "id": "comic-johns",
   "metadata": {},
   "outputs": [],
   "source": [
    "# Atención!! que no se cambian los datos si no sobreescribimos la columna\n",
    "df.AveragePrice = df.AveragePrice.astype(dtype='int8')"
   ]
  },
  {
   "cell_type": "code",
   "execution_count": 122,
   "id": "apparent-direction",
   "metadata": {},
   "outputs": [
    {
     "data": {
      "text/plain": [
       "0    1\n",
       "1    1\n",
       "2    0\n",
       "3    1\n",
       "4    1\n",
       "Name: AveragePrice, dtype: int8"
      ]
     },
     "execution_count": 122,
     "metadata": {},
     "output_type": "execute_result"
    }
   ],
   "source": [
    "df.AveragePrice.head()"
   ]
  },
  {
   "cell_type": "code",
   "execution_count": 123,
   "id": "single-carpet",
   "metadata": {},
   "outputs": [
    {
     "name": "stdout",
     "output_type": "stream",
     "text": [
      "<class 'pandas.core.frame.DataFrame'>\n",
      "RangeIndex: 18249 entries, 0 to 18248\n",
      "Data columns (total 13 columns):\n",
      " #   Column        Non-Null Count  Dtype  \n",
      "---  ------        --------------  -----  \n",
      " 0   Unnamed: 0    18249 non-null  int64  \n",
      " 1   Date          18249 non-null  object \n",
      " 2   AveragePrice  18249 non-null  int8   \n",
      " 3   Total Volume  18249 non-null  float64\n",
      " 4   4046          18249 non-null  float64\n",
      " 5   4225          18249 non-null  float64\n",
      " 6   4770          18249 non-null  float64\n",
      " 7   Small Bags    18249 non-null  float64\n",
      " 8   Large Bags    18249 non-null  float64\n",
      " 9   XLarge Bags   18249 non-null  float64\n",
      " 10  type          18249 non-null  object \n",
      " 11  year          18249 non-null  int64  \n",
      " 12  region        18249 non-null  object \n",
      "dtypes: float64(7), int64(2), int8(1), object(3)\n",
      "memory usage: 1.7+ MB\n"
     ]
    }
   ],
   "source": [
    "df.info()"
   ]
  },
  {
   "cell_type": "code",
   "execution_count": 124,
   "id": "5cfa0232",
   "metadata": {},
   "outputs": [
    {
     "data": {
      "text/plain": [
       "Index(['Unnamed: 0', 'Date', 'AveragePrice', 'Total Volume', '4046', '4225',\n",
       "       '4770', 'Small Bags', 'Large Bags', 'XLarge Bags', 'type', 'year',\n",
       "       'region'],\n",
       "      dtype='object')"
      ]
     },
     "execution_count": 124,
     "metadata": {},
     "output_type": "execute_result"
    }
   ],
   "source": [
    "df.columns"
   ]
  },
  {
   "cell_type": "code",
   "execution_count": 125,
   "id": "informational-birmingham",
   "metadata": {},
   "outputs": [],
   "source": [
    "df[\"Large Bags\"] = df[\"Large Bags\"].astype(dtype=float) #Puedo crear o reasignar columnas"
   ]
  },
  {
   "cell_type": "code",
   "execution_count": 126,
   "id": "premier-sweden",
   "metadata": {},
   "outputs": [
    {
     "data": {
      "text/html": [
       "<div>\n",
       "<style scoped>\n",
       "    .dataframe tbody tr th:only-of-type {\n",
       "        vertical-align: middle;\n",
       "    }\n",
       "\n",
       "    .dataframe tbody tr th {\n",
       "        vertical-align: top;\n",
       "    }\n",
       "\n",
       "    .dataframe thead th {\n",
       "        text-align: right;\n",
       "    }\n",
       "</style>\n",
       "<table border=\"1\" class=\"dataframe\">\n",
       "  <thead>\n",
       "    <tr style=\"text-align: right;\">\n",
       "      <th></th>\n",
       "      <th>Unnamed: 0</th>\n",
       "      <th>Date</th>\n",
       "      <th>AveragePrice</th>\n",
       "      <th>Total Volume</th>\n",
       "      <th>4046</th>\n",
       "      <th>4225</th>\n",
       "      <th>4770</th>\n",
       "      <th>Small Bags</th>\n",
       "      <th>Large Bags</th>\n",
       "      <th>XLarge Bags</th>\n",
       "      <th>type</th>\n",
       "      <th>year</th>\n",
       "      <th>region</th>\n",
       "    </tr>\n",
       "  </thead>\n",
       "  <tbody>\n",
       "    <tr>\n",
       "      <th>0</th>\n",
       "      <td>0</td>\n",
       "      <td>2015-12-27</td>\n",
       "      <td>1</td>\n",
       "      <td>64236.62</td>\n",
       "      <td>1036.74</td>\n",
       "      <td>54454.85</td>\n",
       "      <td>48.16</td>\n",
       "      <td>8603.62</td>\n",
       "      <td>93.25</td>\n",
       "      <td>0.0</td>\n",
       "      <td>conventional</td>\n",
       "      <td>2015</td>\n",
       "      <td>Albany</td>\n",
       "    </tr>\n",
       "    <tr>\n",
       "      <th>1</th>\n",
       "      <td>1</td>\n",
       "      <td>2015-12-20</td>\n",
       "      <td>1</td>\n",
       "      <td>54876.98</td>\n",
       "      <td>674.28</td>\n",
       "      <td>44638.81</td>\n",
       "      <td>58.33</td>\n",
       "      <td>9408.07</td>\n",
       "      <td>97.49</td>\n",
       "      <td>0.0</td>\n",
       "      <td>conventional</td>\n",
       "      <td>2015</td>\n",
       "      <td>Albany</td>\n",
       "    </tr>\n",
       "    <tr>\n",
       "      <th>2</th>\n",
       "      <td>2</td>\n",
       "      <td>2015-12-13</td>\n",
       "      <td>0</td>\n",
       "      <td>118220.22</td>\n",
       "      <td>794.70</td>\n",
       "      <td>109149.67</td>\n",
       "      <td>130.50</td>\n",
       "      <td>8042.21</td>\n",
       "      <td>103.14</td>\n",
       "      <td>0.0</td>\n",
       "      <td>conventional</td>\n",
       "      <td>2015</td>\n",
       "      <td>Albany</td>\n",
       "    </tr>\n",
       "    <tr>\n",
       "      <th>3</th>\n",
       "      <td>3</td>\n",
       "      <td>2015-12-06</td>\n",
       "      <td>1</td>\n",
       "      <td>78992.15</td>\n",
       "      <td>1132.00</td>\n",
       "      <td>71976.41</td>\n",
       "      <td>72.58</td>\n",
       "      <td>5677.40</td>\n",
       "      <td>133.76</td>\n",
       "      <td>0.0</td>\n",
       "      <td>conventional</td>\n",
       "      <td>2015</td>\n",
       "      <td>Albany</td>\n",
       "    </tr>\n",
       "    <tr>\n",
       "      <th>4</th>\n",
       "      <td>4</td>\n",
       "      <td>2015-11-29</td>\n",
       "      <td>1</td>\n",
       "      <td>51039.60</td>\n",
       "      <td>941.48</td>\n",
       "      <td>43838.39</td>\n",
       "      <td>75.78</td>\n",
       "      <td>5986.26</td>\n",
       "      <td>197.69</td>\n",
       "      <td>0.0</td>\n",
       "      <td>conventional</td>\n",
       "      <td>2015</td>\n",
       "      <td>Albany</td>\n",
       "    </tr>\n",
       "  </tbody>\n",
       "</table>\n",
       "</div>"
      ],
      "text/plain": [
       "   Unnamed: 0        Date  AveragePrice  Total Volume     4046       4225   \n",
       "0           0  2015-12-27             1      64236.62  1036.74   54454.85  \\\n",
       "1           1  2015-12-20             1      54876.98   674.28   44638.81   \n",
       "2           2  2015-12-13             0     118220.22   794.70  109149.67   \n",
       "3           3  2015-12-06             1      78992.15  1132.00   71976.41   \n",
       "4           4  2015-11-29             1      51039.60   941.48   43838.39   \n",
       "\n",
       "     4770  Small Bags  Large Bags  XLarge Bags          type  year  region  \n",
       "0   48.16     8603.62       93.25          0.0  conventional  2015  Albany  \n",
       "1   58.33     9408.07       97.49          0.0  conventional  2015  Albany  \n",
       "2  130.50     8042.21      103.14          0.0  conventional  2015  Albany  \n",
       "3   72.58     5677.40      133.76          0.0  conventional  2015  Albany  \n",
       "4   75.78     5986.26      197.69          0.0  conventional  2015  Albany  "
      ]
     },
     "execution_count": 126,
     "metadata": {},
     "output_type": "execute_result"
    }
   ],
   "source": [
    "df.head()"
   ]
  },
  {
   "cell_type": "code",
   "execution_count": 127,
   "id": "sitting-nitrogen",
   "metadata": {},
   "outputs": [],
   "source": [
    "# Para crear una columna nueva solamente tengo que darle un nombre, por ejemplo df[\"nueva\"]\n",
    "# Como cuando en un diccionario añado una KEY"
   ]
  },
  {
   "cell_type": "code",
   "execution_count": 128,
   "id": "comfortable-health",
   "metadata": {},
   "outputs": [],
   "source": [
    "df[\"otra\"] = df[\"Small Bags\"] * df[\"Total Volume\"]"
   ]
  },
  {
   "cell_type": "code",
   "execution_count": 129,
   "id": "exceptional-bracket",
   "metadata": {},
   "outputs": [
    {
     "data": {
      "text/html": [
       "<div>\n",
       "<style scoped>\n",
       "    .dataframe tbody tr th:only-of-type {\n",
       "        vertical-align: middle;\n",
       "    }\n",
       "\n",
       "    .dataframe tbody tr th {\n",
       "        vertical-align: top;\n",
       "    }\n",
       "\n",
       "    .dataframe thead th {\n",
       "        text-align: right;\n",
       "    }\n",
       "</style>\n",
       "<table border=\"1\" class=\"dataframe\">\n",
       "  <thead>\n",
       "    <tr style=\"text-align: right;\">\n",
       "      <th></th>\n",
       "      <th>Unnamed: 0</th>\n",
       "      <th>Date</th>\n",
       "      <th>AveragePrice</th>\n",
       "      <th>Total Volume</th>\n",
       "      <th>4046</th>\n",
       "      <th>4225</th>\n",
       "      <th>4770</th>\n",
       "      <th>Small Bags</th>\n",
       "      <th>Large Bags</th>\n",
       "      <th>XLarge Bags</th>\n",
       "      <th>type</th>\n",
       "      <th>year</th>\n",
       "      <th>region</th>\n",
       "      <th>otra</th>\n",
       "    </tr>\n",
       "  </thead>\n",
       "  <tbody>\n",
       "    <tr>\n",
       "      <th>8452</th>\n",
       "      <td>27</td>\n",
       "      <td>2017-06-25</td>\n",
       "      <td>0</td>\n",
       "      <td>1022130.10</td>\n",
       "      <td>565529.68</td>\n",
       "      <td>82613.84</td>\n",
       "      <td>8881.62</td>\n",
       "      <td>150840.39</td>\n",
       "      <td>214264.57</td>\n",
       "      <td>0.00</td>\n",
       "      <td>conventional</td>\n",
       "      <td>2017</td>\n",
       "      <td>WestTexNewMexico</td>\n",
       "      <td>1.541785e+11</td>\n",
       "    </tr>\n",
       "    <tr>\n",
       "      <th>16511</th>\n",
       "      <td>21</td>\n",
       "      <td>2017-08-06</td>\n",
       "      <td>1</td>\n",
       "      <td>10737.76</td>\n",
       "      <td>2862.01</td>\n",
       "      <td>2743.00</td>\n",
       "      <td>0.00</td>\n",
       "      <td>5095.53</td>\n",
       "      <td>37.22</td>\n",
       "      <td>0.00</td>\n",
       "      <td>organic</td>\n",
       "      <td>2017</td>\n",
       "      <td>PhoenixTucson</td>\n",
       "      <td>5.471458e+07</td>\n",
       "    </tr>\n",
       "    <tr>\n",
       "      <th>2594</th>\n",
       "      <td>46</td>\n",
       "      <td>2015-02-08</td>\n",
       "      <td>1</td>\n",
       "      <td>51557.01</td>\n",
       "      <td>1093.76</td>\n",
       "      <td>26366.48</td>\n",
       "      <td>14.20</td>\n",
       "      <td>23658.13</td>\n",
       "      <td>424.44</td>\n",
       "      <td>0.00</td>\n",
       "      <td>conventional</td>\n",
       "      <td>2015</td>\n",
       "      <td>Syracuse</td>\n",
       "      <td>1.219742e+09</td>\n",
       "    </tr>\n",
       "    <tr>\n",
       "      <th>16895</th>\n",
       "      <td>34</td>\n",
       "      <td>2017-05-07</td>\n",
       "      <td>2</td>\n",
       "      <td>5321.75</td>\n",
       "      <td>1861.76</td>\n",
       "      <td>3058.89</td>\n",
       "      <td>0.00</td>\n",
       "      <td>401.10</td>\n",
       "      <td>0.00</td>\n",
       "      <td>0.00</td>\n",
       "      <td>organic</td>\n",
       "      <td>2017</td>\n",
       "      <td>Sacramento</td>\n",
       "      <td>2.134554e+06</td>\n",
       "    </tr>\n",
       "    <tr>\n",
       "      <th>12954</th>\n",
       "      <td>33</td>\n",
       "      <td>2016-05-08</td>\n",
       "      <td>1</td>\n",
       "      <td>3820.07</td>\n",
       "      <td>120.00</td>\n",
       "      <td>1964.14</td>\n",
       "      <td>26.94</td>\n",
       "      <td>772.63</td>\n",
       "      <td>936.36</td>\n",
       "      <td>0.00</td>\n",
       "      <td>organic</td>\n",
       "      <td>2016</td>\n",
       "      <td>Indianapolis</td>\n",
       "      <td>2.951501e+06</td>\n",
       "    </tr>\n",
       "    <tr>\n",
       "      <th>1949</th>\n",
       "      <td>25</td>\n",
       "      <td>2015-07-05</td>\n",
       "      <td>1</td>\n",
       "      <td>275670.52</td>\n",
       "      <td>42042.96</td>\n",
       "      <td>103086.21</td>\n",
       "      <td>40891.64</td>\n",
       "      <td>88239.15</td>\n",
       "      <td>1410.56</td>\n",
       "      <td>0.00</td>\n",
       "      <td>conventional</td>\n",
       "      <td>2015</td>\n",
       "      <td>RaleighGreensboro</td>\n",
       "      <td>2.432493e+10</td>\n",
       "    </tr>\n",
       "    <tr>\n",
       "      <th>6733</th>\n",
       "      <td>4</td>\n",
       "      <td>2017-12-03</td>\n",
       "      <td>1</td>\n",
       "      <td>315521.00</td>\n",
       "      <td>66925.00</td>\n",
       "      <td>127968.00</td>\n",
       "      <td>4488.00</td>\n",
       "      <td>47447.00</td>\n",
       "      <td>68396.00</td>\n",
       "      <td>297.00</td>\n",
       "      <td>conventional</td>\n",
       "      <td>2017</td>\n",
       "      <td>LasVegas</td>\n",
       "      <td>1.497052e+10</td>\n",
       "    </tr>\n",
       "    <tr>\n",
       "      <th>11487</th>\n",
       "      <td>21</td>\n",
       "      <td>2015-08-02</td>\n",
       "      <td>1</td>\n",
       "      <td>59918.41</td>\n",
       "      <td>40814.07</td>\n",
       "      <td>6636.20</td>\n",
       "      <td>71.02</td>\n",
       "      <td>12075.30</td>\n",
       "      <td>321.82</td>\n",
       "      <td>0.00</td>\n",
       "      <td>organic</td>\n",
       "      <td>2015</td>\n",
       "      <td>SouthCentral</td>\n",
       "      <td>7.235328e+08</td>\n",
       "    </tr>\n",
       "    <tr>\n",
       "      <th>10364</th>\n",
       "      <td>42</td>\n",
       "      <td>2015-03-08</td>\n",
       "      <td>1</td>\n",
       "      <td>1541.79</td>\n",
       "      <td>2.38</td>\n",
       "      <td>912.87</td>\n",
       "      <td>0.00</td>\n",
       "      <td>532.64</td>\n",
       "      <td>93.90</td>\n",
       "      <td>0.00</td>\n",
       "      <td>organic</td>\n",
       "      <td>2015</td>\n",
       "      <td>Louisville</td>\n",
       "      <td>8.212190e+05</td>\n",
       "    </tr>\n",
       "    <tr>\n",
       "      <th>5210</th>\n",
       "      <td>10</td>\n",
       "      <td>2016-10-16</td>\n",
       "      <td>1</td>\n",
       "      <td>3233029.42</td>\n",
       "      <td>1219511.41</td>\n",
       "      <td>791521.66</td>\n",
       "      <td>10217.86</td>\n",
       "      <td>420581.32</td>\n",
       "      <td>790113.56</td>\n",
       "      <td>1083.61</td>\n",
       "      <td>conventional</td>\n",
       "      <td>2016</td>\n",
       "      <td>Southeast</td>\n",
       "      <td>1.359752e+12</td>\n",
       "    </tr>\n",
       "  </tbody>\n",
       "</table>\n",
       "</div>"
      ],
      "text/plain": [
       "       Unnamed: 0        Date  AveragePrice  Total Volume        4046   \n",
       "8452           27  2017-06-25             0    1022130.10   565529.68  \\\n",
       "16511          21  2017-08-06             1      10737.76     2862.01   \n",
       "2594           46  2015-02-08             1      51557.01     1093.76   \n",
       "16895          34  2017-05-07             2       5321.75     1861.76   \n",
       "12954          33  2016-05-08             1       3820.07      120.00   \n",
       "1949           25  2015-07-05             1     275670.52    42042.96   \n",
       "6733            4  2017-12-03             1     315521.00    66925.00   \n",
       "11487          21  2015-08-02             1      59918.41    40814.07   \n",
       "10364          42  2015-03-08             1       1541.79        2.38   \n",
       "5210           10  2016-10-16             1    3233029.42  1219511.41   \n",
       "\n",
       "            4225      4770  Small Bags  Large Bags  XLarge Bags          type   \n",
       "8452    82613.84   8881.62   150840.39   214264.57         0.00  conventional  \\\n",
       "16511    2743.00      0.00     5095.53       37.22         0.00       organic   \n",
       "2594    26366.48     14.20    23658.13      424.44         0.00  conventional   \n",
       "16895    3058.89      0.00      401.10        0.00         0.00       organic   \n",
       "12954    1964.14     26.94      772.63      936.36         0.00       organic   \n",
       "1949   103086.21  40891.64    88239.15     1410.56         0.00  conventional   \n",
       "6733   127968.00   4488.00    47447.00    68396.00       297.00  conventional   \n",
       "11487    6636.20     71.02    12075.30      321.82         0.00       organic   \n",
       "10364     912.87      0.00      532.64       93.90         0.00       organic   \n",
       "5210   791521.66  10217.86   420581.32   790113.56      1083.61  conventional   \n",
       "\n",
       "       year             region          otra  \n",
       "8452   2017   WestTexNewMexico  1.541785e+11  \n",
       "16511  2017      PhoenixTucson  5.471458e+07  \n",
       "2594   2015           Syracuse  1.219742e+09  \n",
       "16895  2017         Sacramento  2.134554e+06  \n",
       "12954  2016       Indianapolis  2.951501e+06  \n",
       "1949   2015  RaleighGreensboro  2.432493e+10  \n",
       "6733   2017           LasVegas  1.497052e+10  \n",
       "11487  2015       SouthCentral  7.235328e+08  \n",
       "10364  2015         Louisville  8.212190e+05  \n",
       "5210   2016          Southeast  1.359752e+12  "
      ]
     },
     "execution_count": 129,
     "metadata": {},
     "output_type": "execute_result"
    }
   ],
   "source": [
    "df.sample(10)"
   ]
  },
  {
   "cell_type": "code",
   "execution_count": 130,
   "id": "handled-skill",
   "metadata": {},
   "outputs": [],
   "source": [
    "# No puedo sumar strings y números\n",
    "df[\"ejemplo\"] = df.AveragePrice * df.region "
   ]
  },
  {
   "cell_type": "code",
   "execution_count": 131,
   "id": "0b97dcc0",
   "metadata": {},
   "outputs": [
    {
     "data": {
      "text/html": [
       "<div>\n",
       "<style scoped>\n",
       "    .dataframe tbody tr th:only-of-type {\n",
       "        vertical-align: middle;\n",
       "    }\n",
       "\n",
       "    .dataframe tbody tr th {\n",
       "        vertical-align: top;\n",
       "    }\n",
       "\n",
       "    .dataframe thead th {\n",
       "        text-align: right;\n",
       "    }\n",
       "</style>\n",
       "<table border=\"1\" class=\"dataframe\">\n",
       "  <thead>\n",
       "    <tr style=\"text-align: right;\">\n",
       "      <th></th>\n",
       "      <th>AveragePrice</th>\n",
       "      <th>region</th>\n",
       "      <th>ejemplo</th>\n",
       "    </tr>\n",
       "  </thead>\n",
       "  <tbody>\n",
       "    <tr>\n",
       "      <th>9248</th>\n",
       "      <td>1</td>\n",
       "      <td>BaltimoreWashington</td>\n",
       "      <td>BaltimoreWashington</td>\n",
       "    </tr>\n",
       "    <tr>\n",
       "      <th>2161</th>\n",
       "      <td>0</td>\n",
       "      <td>SanDiego</td>\n",
       "      <td></td>\n",
       "    </tr>\n",
       "    <tr>\n",
       "      <th>1569</th>\n",
       "      <td>1</td>\n",
       "      <td>NorthernNewEngland</td>\n",
       "      <td>NorthernNewEngland</td>\n",
       "    </tr>\n",
       "    <tr>\n",
       "      <th>15946</th>\n",
       "      <td>1</td>\n",
       "      <td>LosAngeles</td>\n",
       "      <td>LosAngeles</td>\n",
       "    </tr>\n",
       "    <tr>\n",
       "      <th>12079</th>\n",
       "      <td>1</td>\n",
       "      <td>BaltimoreWashington</td>\n",
       "      <td>BaltimoreWashington</td>\n",
       "    </tr>\n",
       "    <tr>\n",
       "      <th>13200</th>\n",
       "      <td>1</td>\n",
       "      <td>MiamiFtLauderdale</td>\n",
       "      <td>MiamiFtLauderdale</td>\n",
       "    </tr>\n",
       "    <tr>\n",
       "      <th>13324</th>\n",
       "      <td>1</td>\n",
       "      <td>Nashville</td>\n",
       "      <td>Nashville</td>\n",
       "    </tr>\n",
       "    <tr>\n",
       "      <th>637</th>\n",
       "      <td>0</td>\n",
       "      <td>Denver</td>\n",
       "      <td></td>\n",
       "    </tr>\n",
       "    <tr>\n",
       "      <th>6757</th>\n",
       "      <td>1</td>\n",
       "      <td>LasVegas</td>\n",
       "      <td>LasVegas</td>\n",
       "    </tr>\n",
       "    <tr>\n",
       "      <th>7342</th>\n",
       "      <td>1</td>\n",
       "      <td>Philadelphia</td>\n",
       "      <td>Philadelphia</td>\n",
       "    </tr>\n",
       "    <tr>\n",
       "      <th>2779</th>\n",
       "      <td>0</td>\n",
       "      <td>WestTexNewMexico</td>\n",
       "      <td></td>\n",
       "    </tr>\n",
       "    <tr>\n",
       "      <th>7377</th>\n",
       "      <td>1</td>\n",
       "      <td>PhoenixTucson</td>\n",
       "      <td>PhoenixTucson</td>\n",
       "    </tr>\n",
       "    <tr>\n",
       "      <th>17872</th>\n",
       "      <td>1</td>\n",
       "      <td>LosAngeles</td>\n",
       "      <td>LosAngeles</td>\n",
       "    </tr>\n",
       "    <tr>\n",
       "      <th>13995</th>\n",
       "      <td>1</td>\n",
       "      <td>Roanoke</td>\n",
       "      <td>Roanoke</td>\n",
       "    </tr>\n",
       "    <tr>\n",
       "      <th>13669</th>\n",
       "      <td>2</td>\n",
       "      <td>PhoenixTucson</td>\n",
       "      <td>PhoenixTucsonPhoenixTucson</td>\n",
       "    </tr>\n",
       "  </tbody>\n",
       "</table>\n",
       "</div>"
      ],
      "text/plain": [
       "       AveragePrice               region                     ejemplo\n",
       "9248              1  BaltimoreWashington         BaltimoreWashington\n",
       "2161              0             SanDiego                            \n",
       "1569              1   NorthernNewEngland          NorthernNewEngland\n",
       "15946             1           LosAngeles                  LosAngeles\n",
       "12079             1  BaltimoreWashington         BaltimoreWashington\n",
       "13200             1    MiamiFtLauderdale           MiamiFtLauderdale\n",
       "13324             1            Nashville                   Nashville\n",
       "637               0               Denver                            \n",
       "6757              1             LasVegas                    LasVegas\n",
       "7342              1         Philadelphia                Philadelphia\n",
       "2779              0     WestTexNewMexico                            \n",
       "7377              1        PhoenixTucson               PhoenixTucson\n",
       "17872             1           LosAngeles                  LosAngeles\n",
       "13995             1              Roanoke                     Roanoke\n",
       "13669             2        PhoenixTucson  PhoenixTucsonPhoenixTucson"
      ]
     },
     "execution_count": 131,
     "metadata": {},
     "output_type": "execute_result"
    }
   ],
   "source": [
    "df[[\"AveragePrice\",\"region\",\"ejemplo\"]].sample(15)"
   ]
  },
  {
   "cell_type": "code",
   "execution_count": 132,
   "id": "882a12da",
   "metadata": {},
   "outputs": [
    {
     "data": {
      "text/plain": [
       "'te voy a dar te voy a dar '"
      ]
     },
     "execution_count": 132,
     "metadata": {},
     "output_type": "execute_result"
    }
   ],
   "source": [
    "a = \"te voy a dar \"\n",
    "b = 2\n",
    "a*b"
   ]
  },
  {
   "cell_type": "markdown",
   "id": "orange-burden",
   "metadata": {},
   "source": [
    "### Filtramos los datos por el valor de las columnas"
   ]
  },
  {
   "cell_type": "code",
   "execution_count": 133,
   "id": "united-genre",
   "metadata": {},
   "outputs": [
    {
     "data": {
      "text/plain": [
       "54"
      ]
     },
     "execution_count": 133,
     "metadata": {},
     "output_type": "execute_result"
    }
   ],
   "source": [
    "df.region.nunique() #Sacamos el numero de valores unicos"
   ]
  },
  {
   "cell_type": "code",
   "execution_count": 134,
   "id": "c8f77557",
   "metadata": {},
   "outputs": [
    {
     "data": {
      "text/plain": [
       "54"
      ]
     },
     "execution_count": 134,
     "metadata": {},
     "output_type": "execute_result"
    }
   ],
   "source": [
    "len(df.region.unique())"
   ]
  },
  {
   "cell_type": "code",
   "execution_count": 135,
   "id": "surprised-breach",
   "metadata": {},
   "outputs": [],
   "source": [
    "df2 = df[df[\"region\"] == \"Houston\"]"
   ]
  },
  {
   "cell_type": "code",
   "execution_count": 136,
   "id": "brief-heritage",
   "metadata": {},
   "outputs": [
    {
     "data": {
      "text/plain": [
       "region\n",
       "Houston    338\n",
       "Name: count, dtype: int64"
      ]
     },
     "execution_count": 136,
     "metadata": {},
     "output_type": "execute_result"
    }
   ],
   "source": [
    "df2.region.value_counts()"
   ]
  },
  {
   "cell_type": "code",
   "execution_count": 137,
   "id": "cd5e232a",
   "metadata": {},
   "outputs": [
    {
     "data": {
      "text/plain": [
       "array(['Houston'], dtype=object)"
      ]
     },
     "execution_count": 137,
     "metadata": {},
     "output_type": "execute_result"
    }
   ],
   "source": [
    "df2.region.unique()"
   ]
  },
  {
   "cell_type": "code",
   "execution_count": 138,
   "id": "young-speaker",
   "metadata": {},
   "outputs": [],
   "source": [
    "df2 = df[df[\"region\"] != \"Houston\"]"
   ]
  },
  {
   "cell_type": "code",
   "execution_count": 139,
   "id": "metric-auckland",
   "metadata": {},
   "outputs": [
    {
     "data": {
      "text/html": [
       "<div>\n",
       "<style scoped>\n",
       "    .dataframe tbody tr th:only-of-type {\n",
       "        vertical-align: middle;\n",
       "    }\n",
       "\n",
       "    .dataframe tbody tr th {\n",
       "        vertical-align: top;\n",
       "    }\n",
       "\n",
       "    .dataframe thead th {\n",
       "        text-align: right;\n",
       "    }\n",
       "</style>\n",
       "<table border=\"1\" class=\"dataframe\">\n",
       "  <thead>\n",
       "    <tr style=\"text-align: right;\">\n",
       "      <th></th>\n",
       "      <th>Unnamed: 0</th>\n",
       "      <th>Date</th>\n",
       "      <th>AveragePrice</th>\n",
       "      <th>Total Volume</th>\n",
       "      <th>4046</th>\n",
       "      <th>4225</th>\n",
       "      <th>4770</th>\n",
       "      <th>Small Bags</th>\n",
       "      <th>Large Bags</th>\n",
       "      <th>XLarge Bags</th>\n",
       "      <th>type</th>\n",
       "      <th>year</th>\n",
       "      <th>region</th>\n",
       "      <th>otra</th>\n",
       "      <th>ejemplo</th>\n",
       "    </tr>\n",
       "  </thead>\n",
       "  <tbody>\n",
       "    <tr>\n",
       "      <th>13475</th>\n",
       "      <td>34</td>\n",
       "      <td>2016-05-01</td>\n",
       "      <td>1</td>\n",
       "      <td>151476.61</td>\n",
       "      <td>8435.32</td>\n",
       "      <td>33077.84</td>\n",
       "      <td>2206.77</td>\n",
       "      <td>95608.27</td>\n",
       "      <td>12148.41</td>\n",
       "      <td>0.00</td>\n",
       "      <td>organic</td>\n",
       "      <td>2016</td>\n",
       "      <td>Northeast</td>\n",
       "      <td>1.448242e+10</td>\n",
       "      <td>Northeast</td>\n",
       "    </tr>\n",
       "    <tr>\n",
       "      <th>1824</th>\n",
       "      <td>4</td>\n",
       "      <td>2015-11-29</td>\n",
       "      <td>1</td>\n",
       "      <td>1099646.06</td>\n",
       "      <td>460759.58</td>\n",
       "      <td>364748.79</td>\n",
       "      <td>10648.01</td>\n",
       "      <td>248449.51</td>\n",
       "      <td>14157.64</td>\n",
       "      <td>882.53</td>\n",
       "      <td>conventional</td>\n",
       "      <td>2015</td>\n",
       "      <td>Plains</td>\n",
       "      <td>2.732065e+11</td>\n",
       "      <td>Plains</td>\n",
       "    </tr>\n",
       "    <tr>\n",
       "      <th>13414</th>\n",
       "      <td>25</td>\n",
       "      <td>2016-07-03</td>\n",
       "      <td>2</td>\n",
       "      <td>46314.26</td>\n",
       "      <td>4225.62</td>\n",
       "      <td>20280.75</td>\n",
       "      <td>1935.42</td>\n",
       "      <td>19365.45</td>\n",
       "      <td>507.02</td>\n",
       "      <td>0.00</td>\n",
       "      <td>organic</td>\n",
       "      <td>2016</td>\n",
       "      <td>NewYork</td>\n",
       "      <td>8.968965e+08</td>\n",
       "      <td>NewYorkNewYork</td>\n",
       "    </tr>\n",
       "    <tr>\n",
       "      <th>4409</th>\n",
       "      <td>41</td>\n",
       "      <td>2016-03-13</td>\n",
       "      <td>1</td>\n",
       "      <td>476634.67</td>\n",
       "      <td>3165.58</td>\n",
       "      <td>382630.54</td>\n",
       "      <td>36964.09</td>\n",
       "      <td>53859.72</td>\n",
       "      <td>14.74</td>\n",
       "      <td>0.00</td>\n",
       "      <td>conventional</td>\n",
       "      <td>2016</td>\n",
       "      <td>NorthernNewEngland</td>\n",
       "      <td>2.567141e+10</td>\n",
       "      <td>NorthernNewEngland</td>\n",
       "    </tr>\n",
       "  </tbody>\n",
       "</table>\n",
       "</div>"
      ],
      "text/plain": [
       "       Unnamed: 0        Date  AveragePrice  Total Volume       4046   \n",
       "13475          34  2016-05-01             1     151476.61    8435.32  \\\n",
       "1824            4  2015-11-29             1    1099646.06  460759.58   \n",
       "13414          25  2016-07-03             2      46314.26    4225.62   \n",
       "4409           41  2016-03-13             1     476634.67    3165.58   \n",
       "\n",
       "            4225      4770  Small Bags  Large Bags  XLarge Bags          type   \n",
       "13475   33077.84   2206.77    95608.27    12148.41         0.00       organic  \\\n",
       "1824   364748.79  10648.01   248449.51    14157.64       882.53  conventional   \n",
       "13414   20280.75   1935.42    19365.45      507.02         0.00       organic   \n",
       "4409   382630.54  36964.09    53859.72       14.74         0.00  conventional   \n",
       "\n",
       "       year              region          otra             ejemplo  \n",
       "13475  2016           Northeast  1.448242e+10           Northeast  \n",
       "1824   2015              Plains  2.732065e+11              Plains  \n",
       "13414  2016             NewYork  8.968965e+08      NewYorkNewYork  \n",
       "4409   2016  NorthernNewEngland  2.567141e+10  NorthernNewEngland  "
      ]
     },
     "execution_count": 139,
     "metadata": {},
     "output_type": "execute_result"
    }
   ],
   "source": [
    "df2.sample(4)"
   ]
  },
  {
   "cell_type": "code",
   "execution_count": 140,
   "id": "e43e32f6",
   "metadata": {},
   "outputs": [
    {
     "data": {
      "text/plain": [
       "array(['Albany', 'Atlanta', 'BaltimoreWashington', 'Boise', 'Boston',\n",
       "       'BuffaloRochester', 'California', 'Charlotte', 'Chicago',\n",
       "       'CincinnatiDayton', 'Columbus', 'DallasFtWorth', 'Denver',\n",
       "       'Detroit', 'GrandRapids', 'GreatLakes', 'HarrisburgScranton',\n",
       "       'HartfordSpringfield', 'Indianapolis', 'Jacksonville', 'LasVegas',\n",
       "       'LosAngeles', 'Louisville', 'MiamiFtLauderdale', 'Midsouth',\n",
       "       'Nashville', 'NewOrleansMobile', 'NewYork', 'Northeast',\n",
       "       'NorthernNewEngland', 'Orlando', 'Philadelphia', 'PhoenixTucson',\n",
       "       'Pittsburgh', 'Plains', 'Portland', 'RaleighGreensboro',\n",
       "       'RichmondNorfolk', 'Roanoke', 'Sacramento', 'SanDiego',\n",
       "       'SanFrancisco', 'Seattle', 'SouthCarolina', 'SouthCentral',\n",
       "       'Southeast', 'Spokane', 'StLouis', 'Syracuse', 'Tampa', 'TotalUS',\n",
       "       'West', 'WestTexNewMexico'], dtype=object)"
      ]
     },
     "execution_count": 140,
     "metadata": {},
     "output_type": "execute_result"
    }
   ],
   "source": [
    "df2.region.unique()"
   ]
  },
  {
   "cell_type": "code",
   "execution_count": 141,
   "id": "27f9df51",
   "metadata": {},
   "outputs": [],
   "source": [
    "#df.info()"
   ]
  },
  {
   "cell_type": "code",
   "execution_count": 142,
   "id": "offshore-truth",
   "metadata": {},
   "outputs": [],
   "source": [
    "# multicondición, & and lógico\n",
    "multi = df[(df.region == \"Houston\") & (df.year == 2015)]"
   ]
  },
  {
   "cell_type": "markdown",
   "id": "52894696",
   "metadata": {},
   "source": [
    "Podemos exportar estos df en cualquier momento a varios formatos. Por ejemplo a CSV:"
   ]
  },
  {
   "cell_type": "code",
   "execution_count": 143,
   "id": "16fb37e1",
   "metadata": {},
   "outputs": [],
   "source": [
    "multi.to_csv(\"datasets/multi_para_Freddy_2.csv\") #to_csv lo export a fichero csv y le paso como argumento la ruta y el nombre"
   ]
  },
  {
   "cell_type": "code",
   "execution_count": 144,
   "id": "manufactured-asian",
   "metadata": {},
   "outputs": [
    {
     "data": {
      "text/plain": [
       "54"
      ]
     },
     "execution_count": 144,
     "metadata": {},
     "output_type": "execute_result"
    }
   ],
   "source": [
    "df.region.nunique() #No me he cargado ni pisado el df original, estoy creando un df nuevo llamado multi que es una parte filtrada de df"
   ]
  },
  {
   "cell_type": "code",
   "execution_count": 145,
   "id": "3a087eb2",
   "metadata": {},
   "outputs": [],
   "source": [
    "multi_p = df[(df.region == \"Houston\") | (df.region == \"Albany\")] #OR"
   ]
  },
  {
   "cell_type": "code",
   "execution_count": 146,
   "id": "5d856d3a",
   "metadata": {},
   "outputs": [
    {
     "data": {
      "text/plain": [
       "array(['Albany', 'Houston'], dtype=object)"
      ]
     },
     "execution_count": 146,
     "metadata": {},
     "output_type": "execute_result"
    }
   ],
   "source": [
    "multi_p.region.unique()"
   ]
  },
  {
   "cell_type": "code",
   "execution_count": 147,
   "id": "flush-printing",
   "metadata": {},
   "outputs": [
    {
     "data": {
      "text/html": [
       "<div>\n",
       "<style scoped>\n",
       "    .dataframe tbody tr th:only-of-type {\n",
       "        vertical-align: middle;\n",
       "    }\n",
       "\n",
       "    .dataframe tbody tr th {\n",
       "        vertical-align: top;\n",
       "    }\n",
       "\n",
       "    .dataframe thead th {\n",
       "        text-align: right;\n",
       "    }\n",
       "</style>\n",
       "<table border=\"1\" class=\"dataframe\">\n",
       "  <thead>\n",
       "    <tr style=\"text-align: right;\">\n",
       "      <th></th>\n",
       "      <th>Unnamed: 0</th>\n",
       "      <th>Date</th>\n",
       "      <th>AveragePrice</th>\n",
       "      <th>Total Volume</th>\n",
       "      <th>4046</th>\n",
       "      <th>4225</th>\n",
       "      <th>4770</th>\n",
       "      <th>Small Bags</th>\n",
       "      <th>Large Bags</th>\n",
       "      <th>XLarge Bags</th>\n",
       "      <th>type</th>\n",
       "      <th>year</th>\n",
       "      <th>region</th>\n",
       "      <th>otra</th>\n",
       "      <th>ejemplo</th>\n",
       "    </tr>\n",
       "  </thead>\n",
       "  <tbody>\n",
       "    <tr>\n",
       "      <th>3750</th>\n",
       "      <td>6</td>\n",
       "      <td>2016-11-13</td>\n",
       "      <td>1</td>\n",
       "      <td>828866.80</td>\n",
       "      <td>431731.62</td>\n",
       "      <td>231630.38</td>\n",
       "      <td>4850.40</td>\n",
       "      <td>61276.87</td>\n",
       "      <td>99274.75</td>\n",
       "      <td>102.78</td>\n",
       "      <td>conventional</td>\n",
       "      <td>2016</td>\n",
       "      <td>Houston</td>\n",
       "      <td>5.079036e+10</td>\n",
       "      <td>Houston</td>\n",
       "    </tr>\n",
       "    <tr>\n",
       "      <th>3751</th>\n",
       "      <td>7</td>\n",
       "      <td>2016-11-06</td>\n",
       "      <td>1</td>\n",
       "      <td>782911.25</td>\n",
       "      <td>430098.78</td>\n",
       "      <td>168814.95</td>\n",
       "      <td>2921.98</td>\n",
       "      <td>78827.53</td>\n",
       "      <td>102248.01</td>\n",
       "      <td>0.00</td>\n",
       "      <td>conventional</td>\n",
       "      <td>2016</td>\n",
       "      <td>Houston</td>\n",
       "      <td>6.171496e+10</td>\n",
       "      <td>Houston</td>\n",
       "    </tr>\n",
       "    <tr>\n",
       "      <th>3752</th>\n",
       "      <td>8</td>\n",
       "      <td>2016-10-30</td>\n",
       "      <td>1</td>\n",
       "      <td>709890.11</td>\n",
       "      <td>346283.28</td>\n",
       "      <td>181578.62</td>\n",
       "      <td>3192.69</td>\n",
       "      <td>47722.65</td>\n",
       "      <td>131112.87</td>\n",
       "      <td>0.00</td>\n",
       "      <td>conventional</td>\n",
       "      <td>2016</td>\n",
       "      <td>Houston</td>\n",
       "      <td>3.387784e+10</td>\n",
       "      <td>Houston</td>\n",
       "    </tr>\n",
       "    <tr>\n",
       "      <th>3753</th>\n",
       "      <td>9</td>\n",
       "      <td>2016-10-23</td>\n",
       "      <td>1</td>\n",
       "      <td>777847.84</td>\n",
       "      <td>371566.37</td>\n",
       "      <td>145059.25</td>\n",
       "      <td>2488.59</td>\n",
       "      <td>197398.04</td>\n",
       "      <td>61335.59</td>\n",
       "      <td>0.00</td>\n",
       "      <td>conventional</td>\n",
       "      <td>2016</td>\n",
       "      <td>Houston</td>\n",
       "      <td>1.535456e+11</td>\n",
       "      <td>Houston</td>\n",
       "    </tr>\n",
       "    <tr>\n",
       "      <th>10062</th>\n",
       "      <td>0</td>\n",
       "      <td>2015-12-27</td>\n",
       "      <td>1</td>\n",
       "      <td>10598.30</td>\n",
       "      <td>4797.41</td>\n",
       "      <td>57.91</td>\n",
       "      <td>0.00</td>\n",
       "      <td>4815.51</td>\n",
       "      <td>927.47</td>\n",
       "      <td>0.00</td>\n",
       "      <td>organic</td>\n",
       "      <td>2015</td>\n",
       "      <td>Houston</td>\n",
       "      <td>5.103622e+07</td>\n",
       "      <td>Houston</td>\n",
       "    </tr>\n",
       "    <tr>\n",
       "      <th>10063</th>\n",
       "      <td>1</td>\n",
       "      <td>2015-12-20</td>\n",
       "      <td>1</td>\n",
       "      <td>9253.24</td>\n",
       "      <td>4463.03</td>\n",
       "      <td>88.26</td>\n",
       "      <td>0.00</td>\n",
       "      <td>3278.23</td>\n",
       "      <td>1423.72</td>\n",
       "      <td>0.00</td>\n",
       "      <td>organic</td>\n",
       "      <td>2015</td>\n",
       "      <td>Houston</td>\n",
       "      <td>3.033425e+07</td>\n",
       "      <td>Houston</td>\n",
       "    </tr>\n",
       "    <tr>\n",
       "      <th>10064</th>\n",
       "      <td>2</td>\n",
       "      <td>2015-12-13</td>\n",
       "      <td>1</td>\n",
       "      <td>11494.89</td>\n",
       "      <td>4757.11</td>\n",
       "      <td>93.57</td>\n",
       "      <td>0.00</td>\n",
       "      <td>6636.26</td>\n",
       "      <td>7.95</td>\n",
       "      <td>0.00</td>\n",
       "      <td>organic</td>\n",
       "      <td>2015</td>\n",
       "      <td>Houston</td>\n",
       "      <td>7.628308e+07</td>\n",
       "      <td>Houston</td>\n",
       "    </tr>\n",
       "    <tr>\n",
       "      <th>10065</th>\n",
       "      <td>3</td>\n",
       "      <td>2015-12-06</td>\n",
       "      <td>1</td>\n",
       "      <td>8216.98</td>\n",
       "      <td>4787.28</td>\n",
       "      <td>85.70</td>\n",
       "      <td>0.00</td>\n",
       "      <td>3344.00</td>\n",
       "      <td>0.00</td>\n",
       "      <td>0.00</td>\n",
       "      <td>organic</td>\n",
       "      <td>2015</td>\n",
       "      <td>Houston</td>\n",
       "      <td>2.747758e+07</td>\n",
       "      <td>Houston</td>\n",
       "    </tr>\n",
       "  </tbody>\n",
       "</table>\n",
       "</div>"
      ],
      "text/plain": [
       "       Unnamed: 0        Date  AveragePrice  Total Volume       4046   \n",
       "3750            6  2016-11-13             1     828866.80  431731.62  \\\n",
       "3751            7  2016-11-06             1     782911.25  430098.78   \n",
       "3752            8  2016-10-30             1     709890.11  346283.28   \n",
       "3753            9  2016-10-23             1     777847.84  371566.37   \n",
       "10062           0  2015-12-27             1      10598.30    4797.41   \n",
       "10063           1  2015-12-20             1       9253.24    4463.03   \n",
       "10064           2  2015-12-13             1      11494.89    4757.11   \n",
       "10065           3  2015-12-06             1       8216.98    4787.28   \n",
       "\n",
       "            4225     4770  Small Bags  Large Bags  XLarge Bags          type   \n",
       "3750   231630.38  4850.40    61276.87    99274.75       102.78  conventional  \\\n",
       "3751   168814.95  2921.98    78827.53   102248.01         0.00  conventional   \n",
       "3752   181578.62  3192.69    47722.65   131112.87         0.00  conventional   \n",
       "3753   145059.25  2488.59   197398.04    61335.59         0.00  conventional   \n",
       "10062      57.91     0.00     4815.51      927.47         0.00       organic   \n",
       "10063      88.26     0.00     3278.23     1423.72         0.00       organic   \n",
       "10064      93.57     0.00     6636.26        7.95         0.00       organic   \n",
       "10065      85.70     0.00     3344.00        0.00         0.00       organic   \n",
       "\n",
       "       year   region          otra  ejemplo  \n",
       "3750   2016  Houston  5.079036e+10  Houston  \n",
       "3751   2016  Houston  6.171496e+10  Houston  \n",
       "3752   2016  Houston  3.387784e+10  Houston  \n",
       "3753   2016  Houston  1.535456e+11  Houston  \n",
       "10062  2015  Houston  5.103622e+07  Houston  \n",
       "10063  2015  Houston  3.033425e+07  Houston  \n",
       "10064  2015  Houston  7.628308e+07  Houston  \n",
       "10065  2015  Houston  2.747758e+07  Houston  "
      ]
     },
     "execution_count": 147,
     "metadata": {},
     "output_type": "execute_result"
    }
   ],
   "source": [
    "# | or logico\n",
    "df[(df.region==\"Houston\") & (df.AveragePrice >= 0.78) & (df.year != 2017)].head(8)"
   ]
  },
  {
   "cell_type": "markdown",
   "id": "viral-enzyme",
   "metadata": {},
   "source": [
    "### Copia de un dataframe y renombrar columnas"
   ]
  },
  {
   "cell_type": "code",
   "execution_count": 148,
   "id": "intended-merchandise",
   "metadata": {},
   "outputs": [],
   "source": [
    "otracopia = df.copy()"
   ]
  },
  {
   "cell_type": "markdown",
   "id": "apparent-venture",
   "metadata": {},
   "source": [
    "#### Renombramos columnas\n",
    "Para renombrar columnas necesitamos un diccionario"
   ]
  },
  {
   "cell_type": "code",
   "execution_count": 149,
   "id": "beginning-merchandise",
   "metadata": {},
   "outputs": [
    {
     "data": {
      "text/plain": [
       "['Unnamed: 0',\n",
       " 'Date',\n",
       " 'AveragePrice',\n",
       " 'Total Volume',\n",
       " '4046',\n",
       " '4225',\n",
       " '4770',\n",
       " 'Total Bags',\n",
       " 'Small Bags',\n",
       " 'Large Bags',\n",
       " 'XLarge Bags',\n",
       " 'type',\n",
       " 'year',\n",
       " 'region']"
      ]
     },
     "execution_count": 149,
     "metadata": {},
     "output_type": "execute_result"
    }
   ],
   "source": [
    "columnas #la tenía de antes"
   ]
  },
  {
   "cell_type": "code",
   "execution_count": 150,
   "id": "included-coordinator",
   "metadata": {},
   "outputs": [],
   "source": [
    "diccio_nuevas = {columna: columna.replace(\" \", \"_\").lower() for columna in columnas}"
   ]
  },
  {
   "cell_type": "code",
   "execution_count": 151,
   "id": "infinite-definition",
   "metadata": {},
   "outputs": [
    {
     "data": {
      "text/plain": [
       "{'Unnamed: 0': 'unnamed:_0',\n",
       " 'Date': 'date',\n",
       " 'AveragePrice': 'averageprice',\n",
       " 'Total Volume': 'total_volume',\n",
       " '4046': '4046',\n",
       " '4225': '4225',\n",
       " '4770': '4770',\n",
       " 'Total Bags': 'total_bags',\n",
       " 'Small Bags': 'small_bags',\n",
       " 'Large Bags': 'large_bags',\n",
       " 'XLarge Bags': 'xlarge_bags',\n",
       " 'type': 'type',\n",
       " 'year': 'year',\n",
       " 'region': 'region'}"
      ]
     },
     "execution_count": 151,
     "metadata": {},
     "output_type": "execute_result"
    }
   ],
   "source": [
    "diccio_nuevas"
   ]
  },
  {
   "cell_type": "code",
   "execution_count": 152,
   "id": "bed0f971",
   "metadata": {},
   "outputs": [
    {
     "data": {
      "text/plain": [
       "{'Unnamed: 0': 'unnamed:_0',\n",
       " 'Date': 'date',\n",
       " 'AveragePrice': 'average_price',\n",
       " 'Total Volume': 'total_volume',\n",
       " '4046': '4046',\n",
       " '4225': '4225',\n",
       " '4770': '4770',\n",
       " 'Total Bags': 'total_bags',\n",
       " 'Small Bags': 'small_bags',\n",
       " 'Large Bags': 'large_bags',\n",
       " 'XLarge Bags': 'xlarge_bags',\n",
       " 'type': 'type',\n",
       " 'year': 'year',\n",
       " 'region': 'region'}"
      ]
     },
     "execution_count": 152,
     "metadata": {},
     "output_type": "execute_result"
    }
   ],
   "source": [
    "diccio_nuevas['AveragePrice'] = 'average_price' #Reasigno el value del diccionario\n",
    "diccio_nuevas"
   ]
  },
  {
   "cell_type": "code",
   "execution_count": 153,
   "id": "sweet-pocket",
   "metadata": {},
   "outputs": [
    {
     "data": {
      "text/html": [
       "<div>\n",
       "<style scoped>\n",
       "    .dataframe tbody tr th:only-of-type {\n",
       "        vertical-align: middle;\n",
       "    }\n",
       "\n",
       "    .dataframe tbody tr th {\n",
       "        vertical-align: top;\n",
       "    }\n",
       "\n",
       "    .dataframe thead th {\n",
       "        text-align: right;\n",
       "    }\n",
       "</style>\n",
       "<table border=\"1\" class=\"dataframe\">\n",
       "  <thead>\n",
       "    <tr style=\"text-align: right;\">\n",
       "      <th></th>\n",
       "      <th>unnamed:_0</th>\n",
       "      <th>date</th>\n",
       "      <th>average_price</th>\n",
       "      <th>total_volume</th>\n",
       "      <th>4046</th>\n",
       "      <th>4225</th>\n",
       "      <th>4770</th>\n",
       "      <th>small_bags</th>\n",
       "      <th>large_bags</th>\n",
       "      <th>xlarge_bags</th>\n",
       "      <th>type</th>\n",
       "      <th>year</th>\n",
       "      <th>region</th>\n",
       "      <th>otra</th>\n",
       "      <th>ejemplo</th>\n",
       "    </tr>\n",
       "  </thead>\n",
       "  <tbody>\n",
       "    <tr>\n",
       "      <th>15768</th>\n",
       "      <td>20</td>\n",
       "      <td>2017-08-13</td>\n",
       "      <td>1</td>\n",
       "      <td>8976.09</td>\n",
       "      <td>139.95</td>\n",
       "      <td>1290.13</td>\n",
       "      <td>0.00</td>\n",
       "      <td>5339.72</td>\n",
       "      <td>2183.96</td>\n",
       "      <td>0.00</td>\n",
       "      <td>organic</td>\n",
       "      <td>2017</td>\n",
       "      <td>Indianapolis</td>\n",
       "      <td>4.792981e+07</td>\n",
       "      <td>Indianapolis</td>\n",
       "    </tr>\n",
       "    <tr>\n",
       "      <th>3355</th>\n",
       "      <td>27</td>\n",
       "      <td>2016-06-19</td>\n",
       "      <td>1</td>\n",
       "      <td>172220.11</td>\n",
       "      <td>64425.61</td>\n",
       "      <td>36827.16</td>\n",
       "      <td>15000.42</td>\n",
       "      <td>45124.02</td>\n",
       "      <td>6081.41</td>\n",
       "      <td>4761.49</td>\n",
       "      <td>conventional</td>\n",
       "      <td>2016</td>\n",
       "      <td>Columbus</td>\n",
       "      <td>7.771264e+09</td>\n",
       "      <td>Columbus</td>\n",
       "    </tr>\n",
       "    <tr>\n",
       "      <th>2365</th>\n",
       "      <td>25</td>\n",
       "      <td>2015-07-05</td>\n",
       "      <td>0</td>\n",
       "      <td>6380287.71</td>\n",
       "      <td>3835278.13</td>\n",
       "      <td>1639735.99</td>\n",
       "      <td>47955.04</td>\n",
       "      <td>754238.62</td>\n",
       "      <td>103046.99</td>\n",
       "      <td>32.94</td>\n",
       "      <td>conventional</td>\n",
       "      <td>2015</td>\n",
       "      <td>SouthCentral</td>\n",
       "      <td>4.812259e+12</td>\n",
       "      <td></td>\n",
       "    </tr>\n",
       "    <tr>\n",
       "      <th>17877</th>\n",
       "      <td>0</td>\n",
       "      <td>2018-03-25</td>\n",
       "      <td>1</td>\n",
       "      <td>4173.70</td>\n",
       "      <td>8.00</td>\n",
       "      <td>988.64</td>\n",
       "      <td>0.00</td>\n",
       "      <td>2031.65</td>\n",
       "      <td>1145.41</td>\n",
       "      <td>0.00</td>\n",
       "      <td>organic</td>\n",
       "      <td>2018</td>\n",
       "      <td>Louisville</td>\n",
       "      <td>8.479498e+06</td>\n",
       "      <td>Louisville</td>\n",
       "    </tr>\n",
       "    <tr>\n",
       "      <th>373</th>\n",
       "      <td>9</td>\n",
       "      <td>2015-10-25</td>\n",
       "      <td>1</td>\n",
       "      <td>140920.61</td>\n",
       "      <td>23093.86</td>\n",
       "      <td>38356.83</td>\n",
       "      <td>44882.51</td>\n",
       "      <td>30219.23</td>\n",
       "      <td>4368.18</td>\n",
       "      <td>0.00</td>\n",
       "      <td>conventional</td>\n",
       "      <td>2015</td>\n",
       "      <td>Charlotte</td>\n",
       "      <td>4.258512e+09</td>\n",
       "      <td>Charlotte</td>\n",
       "    </tr>\n",
       "  </tbody>\n",
       "</table>\n",
       "</div>"
      ],
      "text/plain": [
       "       unnamed:_0        date  average_price  total_volume        4046   \n",
       "15768          20  2017-08-13              1       8976.09      139.95  \\\n",
       "3355           27  2016-06-19              1     172220.11    64425.61   \n",
       "2365           25  2015-07-05              0    6380287.71  3835278.13   \n",
       "17877           0  2018-03-25              1       4173.70        8.00   \n",
       "373             9  2015-10-25              1     140920.61    23093.86   \n",
       "\n",
       "             4225      4770  small_bags  large_bags  xlarge_bags   \n",
       "15768     1290.13      0.00     5339.72     2183.96         0.00  \\\n",
       "3355     36827.16  15000.42    45124.02     6081.41      4761.49   \n",
       "2365   1639735.99  47955.04   754238.62   103046.99        32.94   \n",
       "17877      988.64      0.00     2031.65     1145.41         0.00   \n",
       "373      38356.83  44882.51    30219.23     4368.18         0.00   \n",
       "\n",
       "               type  year        region          otra       ejemplo  \n",
       "15768       organic  2017  Indianapolis  4.792981e+07  Indianapolis  \n",
       "3355   conventional  2016      Columbus  7.771264e+09      Columbus  \n",
       "2365   conventional  2015  SouthCentral  4.812259e+12                \n",
       "17877       organic  2018    Louisville  8.479498e+06    Louisville  \n",
       "373    conventional  2015     Charlotte  4.258512e+09     Charlotte  "
      ]
     },
     "execution_count": 153,
     "metadata": {},
     "output_type": "execute_result"
    }
   ],
   "source": [
    "df_renombrado = df.rename(columns=diccio_nuevas)\n",
    "df_renombrado.sample(5)"
   ]
  },
  {
   "cell_type": "code",
   "execution_count": 154,
   "id": "8b09cf8c",
   "metadata": {},
   "outputs": [],
   "source": [
    "# Utilizamos el inplace=True para que se ejecute la acción sobre el dataframe\n",
    "df.rename(columns=diccio_nuevas, inplace=True)"
   ]
  },
  {
   "cell_type": "code",
   "execution_count": 155,
   "id": "9edf3219",
   "metadata": {},
   "outputs": [
    {
     "data": {
      "text/html": [
       "<div>\n",
       "<style scoped>\n",
       "    .dataframe tbody tr th:only-of-type {\n",
       "        vertical-align: middle;\n",
       "    }\n",
       "\n",
       "    .dataframe tbody tr th {\n",
       "        vertical-align: top;\n",
       "    }\n",
       "\n",
       "    .dataframe thead th {\n",
       "        text-align: right;\n",
       "    }\n",
       "</style>\n",
       "<table border=\"1\" class=\"dataframe\">\n",
       "  <thead>\n",
       "    <tr style=\"text-align: right;\">\n",
       "      <th></th>\n",
       "      <th>unnamed:_0</th>\n",
       "      <th>date</th>\n",
       "      <th>average_price</th>\n",
       "      <th>total_volume</th>\n",
       "      <th>4046</th>\n",
       "      <th>4225</th>\n",
       "      <th>4770</th>\n",
       "      <th>small_bags</th>\n",
       "      <th>large_bags</th>\n",
       "      <th>xlarge_bags</th>\n",
       "      <th>type</th>\n",
       "      <th>year</th>\n",
       "      <th>region</th>\n",
       "      <th>otra</th>\n",
       "      <th>ejemplo</th>\n",
       "    </tr>\n",
       "  </thead>\n",
       "  <tbody>\n",
       "    <tr>\n",
       "      <th>0</th>\n",
       "      <td>0</td>\n",
       "      <td>2015-12-27</td>\n",
       "      <td>1</td>\n",
       "      <td>64236.62</td>\n",
       "      <td>1036.74</td>\n",
       "      <td>54454.85</td>\n",
       "      <td>48.16</td>\n",
       "      <td>8603.62</td>\n",
       "      <td>93.25</td>\n",
       "      <td>0.0</td>\n",
       "      <td>conventional</td>\n",
       "      <td>2015</td>\n",
       "      <td>Albany</td>\n",
       "      <td>5.526675e+08</td>\n",
       "      <td>Albany</td>\n",
       "    </tr>\n",
       "    <tr>\n",
       "      <th>1</th>\n",
       "      <td>1</td>\n",
       "      <td>2015-12-20</td>\n",
       "      <td>1</td>\n",
       "      <td>54876.98</td>\n",
       "      <td>674.28</td>\n",
       "      <td>44638.81</td>\n",
       "      <td>58.33</td>\n",
       "      <td>9408.07</td>\n",
       "      <td>97.49</td>\n",
       "      <td>0.0</td>\n",
       "      <td>conventional</td>\n",
       "      <td>2015</td>\n",
       "      <td>Albany</td>\n",
       "      <td>5.162865e+08</td>\n",
       "      <td>Albany</td>\n",
       "    </tr>\n",
       "    <tr>\n",
       "      <th>2</th>\n",
       "      <td>2</td>\n",
       "      <td>2015-12-13</td>\n",
       "      <td>0</td>\n",
       "      <td>118220.22</td>\n",
       "      <td>794.70</td>\n",
       "      <td>109149.67</td>\n",
       "      <td>130.50</td>\n",
       "      <td>8042.21</td>\n",
       "      <td>103.14</td>\n",
       "      <td>0.0</td>\n",
       "      <td>conventional</td>\n",
       "      <td>2015</td>\n",
       "      <td>Albany</td>\n",
       "      <td>9.507518e+08</td>\n",
       "      <td></td>\n",
       "    </tr>\n",
       "    <tr>\n",
       "      <th>3</th>\n",
       "      <td>3</td>\n",
       "      <td>2015-12-06</td>\n",
       "      <td>1</td>\n",
       "      <td>78992.15</td>\n",
       "      <td>1132.00</td>\n",
       "      <td>71976.41</td>\n",
       "      <td>72.58</td>\n",
       "      <td>5677.40</td>\n",
       "      <td>133.76</td>\n",
       "      <td>0.0</td>\n",
       "      <td>conventional</td>\n",
       "      <td>2015</td>\n",
       "      <td>Albany</td>\n",
       "      <td>4.484700e+08</td>\n",
       "      <td>Albany</td>\n",
       "    </tr>\n",
       "    <tr>\n",
       "      <th>4</th>\n",
       "      <td>4</td>\n",
       "      <td>2015-11-29</td>\n",
       "      <td>1</td>\n",
       "      <td>51039.60</td>\n",
       "      <td>941.48</td>\n",
       "      <td>43838.39</td>\n",
       "      <td>75.78</td>\n",
       "      <td>5986.26</td>\n",
       "      <td>197.69</td>\n",
       "      <td>0.0</td>\n",
       "      <td>conventional</td>\n",
       "      <td>2015</td>\n",
       "      <td>Albany</td>\n",
       "      <td>3.055363e+08</td>\n",
       "      <td>Albany</td>\n",
       "    </tr>\n",
       "  </tbody>\n",
       "</table>\n",
       "</div>"
      ],
      "text/plain": [
       "   unnamed:_0        date  average_price  total_volume     4046       4225   \n",
       "0           0  2015-12-27              1      64236.62  1036.74   54454.85  \\\n",
       "1           1  2015-12-20              1      54876.98   674.28   44638.81   \n",
       "2           2  2015-12-13              0     118220.22   794.70  109149.67   \n",
       "3           3  2015-12-06              1      78992.15  1132.00   71976.41   \n",
       "4           4  2015-11-29              1      51039.60   941.48   43838.39   \n",
       "\n",
       "     4770  small_bags  large_bags  xlarge_bags          type  year  region   \n",
       "0   48.16     8603.62       93.25          0.0  conventional  2015  Albany  \\\n",
       "1   58.33     9408.07       97.49          0.0  conventional  2015  Albany   \n",
       "2  130.50     8042.21      103.14          0.0  conventional  2015  Albany   \n",
       "3   72.58     5677.40      133.76          0.0  conventional  2015  Albany   \n",
       "4   75.78     5986.26      197.69          0.0  conventional  2015  Albany   \n",
       "\n",
       "           otra ejemplo  \n",
       "0  5.526675e+08  Albany  \n",
       "1  5.162865e+08  Albany  \n",
       "2  9.507518e+08          \n",
       "3  4.484700e+08  Albany  \n",
       "4  3.055363e+08  Albany  "
      ]
     },
     "execution_count": 155,
     "metadata": {},
     "output_type": "execute_result"
    }
   ],
   "source": [
    "df.head()"
   ]
  },
  {
   "cell_type": "markdown",
   "id": "everyday-oregon",
   "metadata": {},
   "source": [
    "El método rename me permite renombrar solamente las columnas que yo quiera, las que estén en el diccionario. No hace falta renombrar todas a la vez "
   ]
  },
  {
   "cell_type": "code",
   "execution_count": 156,
   "id": "30490aa2",
   "metadata": {},
   "outputs": [],
   "source": [
    "otro = {\"unnamed:_0\": \"Inútil\",\"date\":\"fecha\", \"columna que no existe ni de broma\": \"no hace nada\"}"
   ]
  },
  {
   "cell_type": "code",
   "execution_count": 157,
   "id": "cc1e852e",
   "metadata": {},
   "outputs": [
    {
     "data": {
      "text/plain": [
       "Index(['unnamed:_0', 'date', 'average_price', 'total_volume', '4046', '4225',\n",
       "       '4770', 'small_bags', 'large_bags', 'xlarge_bags', 'type', 'year',\n",
       "       'region', 'otra', 'ejemplo'],\n",
       "      dtype='object')"
      ]
     },
     "execution_count": 157,
     "metadata": {},
     "output_type": "execute_result"
    }
   ],
   "source": [
    "df.columns"
   ]
  },
  {
   "cell_type": "code",
   "execution_count": 158,
   "id": "3758e2e7",
   "metadata": {},
   "outputs": [],
   "source": [
    "df.rename(columns = otro, inplace=True)"
   ]
  },
  {
   "cell_type": "code",
   "execution_count": 159,
   "id": "a8cc35e9",
   "metadata": {},
   "outputs": [
    {
     "data": {
      "text/html": [
       "<div>\n",
       "<style scoped>\n",
       "    .dataframe tbody tr th:only-of-type {\n",
       "        vertical-align: middle;\n",
       "    }\n",
       "\n",
       "    .dataframe tbody tr th {\n",
       "        vertical-align: top;\n",
       "    }\n",
       "\n",
       "    .dataframe thead th {\n",
       "        text-align: right;\n",
       "    }\n",
       "</style>\n",
       "<table border=\"1\" class=\"dataframe\">\n",
       "  <thead>\n",
       "    <tr style=\"text-align: right;\">\n",
       "      <th></th>\n",
       "      <th>Inútil</th>\n",
       "      <th>fecha</th>\n",
       "      <th>average_price</th>\n",
       "      <th>total_volume</th>\n",
       "      <th>4046</th>\n",
       "      <th>4225</th>\n",
       "      <th>4770</th>\n",
       "      <th>small_bags</th>\n",
       "      <th>large_bags</th>\n",
       "      <th>xlarge_bags</th>\n",
       "      <th>type</th>\n",
       "      <th>year</th>\n",
       "      <th>region</th>\n",
       "      <th>otra</th>\n",
       "      <th>ejemplo</th>\n",
       "    </tr>\n",
       "  </thead>\n",
       "  <tbody>\n",
       "    <tr>\n",
       "      <th>0</th>\n",
       "      <td>0</td>\n",
       "      <td>2015-12-27</td>\n",
       "      <td>1</td>\n",
       "      <td>64236.62</td>\n",
       "      <td>1036.74</td>\n",
       "      <td>54454.85</td>\n",
       "      <td>48.16</td>\n",
       "      <td>8603.62</td>\n",
       "      <td>93.25</td>\n",
       "      <td>0.0</td>\n",
       "      <td>conventional</td>\n",
       "      <td>2015</td>\n",
       "      <td>Albany</td>\n",
       "      <td>5.526675e+08</td>\n",
       "      <td>Albany</td>\n",
       "    </tr>\n",
       "    <tr>\n",
       "      <th>1</th>\n",
       "      <td>1</td>\n",
       "      <td>2015-12-20</td>\n",
       "      <td>1</td>\n",
       "      <td>54876.98</td>\n",
       "      <td>674.28</td>\n",
       "      <td>44638.81</td>\n",
       "      <td>58.33</td>\n",
       "      <td>9408.07</td>\n",
       "      <td>97.49</td>\n",
       "      <td>0.0</td>\n",
       "      <td>conventional</td>\n",
       "      <td>2015</td>\n",
       "      <td>Albany</td>\n",
       "      <td>5.162865e+08</td>\n",
       "      <td>Albany</td>\n",
       "    </tr>\n",
       "    <tr>\n",
       "      <th>2</th>\n",
       "      <td>2</td>\n",
       "      <td>2015-12-13</td>\n",
       "      <td>0</td>\n",
       "      <td>118220.22</td>\n",
       "      <td>794.70</td>\n",
       "      <td>109149.67</td>\n",
       "      <td>130.50</td>\n",
       "      <td>8042.21</td>\n",
       "      <td>103.14</td>\n",
       "      <td>0.0</td>\n",
       "      <td>conventional</td>\n",
       "      <td>2015</td>\n",
       "      <td>Albany</td>\n",
       "      <td>9.507518e+08</td>\n",
       "      <td></td>\n",
       "    </tr>\n",
       "    <tr>\n",
       "      <th>3</th>\n",
       "      <td>3</td>\n",
       "      <td>2015-12-06</td>\n",
       "      <td>1</td>\n",
       "      <td>78992.15</td>\n",
       "      <td>1132.00</td>\n",
       "      <td>71976.41</td>\n",
       "      <td>72.58</td>\n",
       "      <td>5677.40</td>\n",
       "      <td>133.76</td>\n",
       "      <td>0.0</td>\n",
       "      <td>conventional</td>\n",
       "      <td>2015</td>\n",
       "      <td>Albany</td>\n",
       "      <td>4.484700e+08</td>\n",
       "      <td>Albany</td>\n",
       "    </tr>\n",
       "    <tr>\n",
       "      <th>4</th>\n",
       "      <td>4</td>\n",
       "      <td>2015-11-29</td>\n",
       "      <td>1</td>\n",
       "      <td>51039.60</td>\n",
       "      <td>941.48</td>\n",
       "      <td>43838.39</td>\n",
       "      <td>75.78</td>\n",
       "      <td>5986.26</td>\n",
       "      <td>197.69</td>\n",
       "      <td>0.0</td>\n",
       "      <td>conventional</td>\n",
       "      <td>2015</td>\n",
       "      <td>Albany</td>\n",
       "      <td>3.055363e+08</td>\n",
       "      <td>Albany</td>\n",
       "    </tr>\n",
       "  </tbody>\n",
       "</table>\n",
       "</div>"
      ],
      "text/plain": [
       "   Inútil       fecha  average_price  total_volume     4046       4225   \n",
       "0       0  2015-12-27              1      64236.62  1036.74   54454.85  \\\n",
       "1       1  2015-12-20              1      54876.98   674.28   44638.81   \n",
       "2       2  2015-12-13              0     118220.22   794.70  109149.67   \n",
       "3       3  2015-12-06              1      78992.15  1132.00   71976.41   \n",
       "4       4  2015-11-29              1      51039.60   941.48   43838.39   \n",
       "\n",
       "     4770  small_bags  large_bags  xlarge_bags          type  year  region   \n",
       "0   48.16     8603.62       93.25          0.0  conventional  2015  Albany  \\\n",
       "1   58.33     9408.07       97.49          0.0  conventional  2015  Albany   \n",
       "2  130.50     8042.21      103.14          0.0  conventional  2015  Albany   \n",
       "3   72.58     5677.40      133.76          0.0  conventional  2015  Albany   \n",
       "4   75.78     5986.26      197.69          0.0  conventional  2015  Albany   \n",
       "\n",
       "           otra ejemplo  \n",
       "0  5.526675e+08  Albany  \n",
       "1  5.162865e+08  Albany  \n",
       "2  9.507518e+08          \n",
       "3  4.484700e+08  Albany  \n",
       "4  3.055363e+08  Albany  "
      ]
     },
     "execution_count": 159,
     "metadata": {},
     "output_type": "execute_result"
    }
   ],
   "source": [
    "df.head()"
   ]
  },
  {
   "cell_type": "code",
   "execution_count": 160,
   "id": "3fbe1c3a",
   "metadata": {},
   "outputs": [],
   "source": [
    "df.drop(columns=\"Inútil\", inplace=True)"
   ]
  },
  {
   "cell_type": "code",
   "execution_count": 161,
   "id": "6404c1ac",
   "metadata": {},
   "outputs": [
    {
     "data": {
      "text/html": [
       "<div>\n",
       "<style scoped>\n",
       "    .dataframe tbody tr th:only-of-type {\n",
       "        vertical-align: middle;\n",
       "    }\n",
       "\n",
       "    .dataframe tbody tr th {\n",
       "        vertical-align: top;\n",
       "    }\n",
       "\n",
       "    .dataframe thead th {\n",
       "        text-align: right;\n",
       "    }\n",
       "</style>\n",
       "<table border=\"1\" class=\"dataframe\">\n",
       "  <thead>\n",
       "    <tr style=\"text-align: right;\">\n",
       "      <th></th>\n",
       "      <th>fecha</th>\n",
       "      <th>average_price</th>\n",
       "      <th>total_volume</th>\n",
       "      <th>4046</th>\n",
       "      <th>4225</th>\n",
       "      <th>4770</th>\n",
       "      <th>small_bags</th>\n",
       "      <th>large_bags</th>\n",
       "      <th>xlarge_bags</th>\n",
       "      <th>type</th>\n",
       "      <th>year</th>\n",
       "      <th>region</th>\n",
       "      <th>otra</th>\n",
       "      <th>ejemplo</th>\n",
       "    </tr>\n",
       "  </thead>\n",
       "  <tbody>\n",
       "    <tr>\n",
       "      <th>0</th>\n",
       "      <td>2015-12-27</td>\n",
       "      <td>1</td>\n",
       "      <td>64236.62</td>\n",
       "      <td>1036.74</td>\n",
       "      <td>54454.85</td>\n",
       "      <td>48.16</td>\n",
       "      <td>8603.62</td>\n",
       "      <td>93.25</td>\n",
       "      <td>0.0</td>\n",
       "      <td>conventional</td>\n",
       "      <td>2015</td>\n",
       "      <td>Albany</td>\n",
       "      <td>5.526675e+08</td>\n",
       "      <td>Albany</td>\n",
       "    </tr>\n",
       "    <tr>\n",
       "      <th>1</th>\n",
       "      <td>2015-12-20</td>\n",
       "      <td>1</td>\n",
       "      <td>54876.98</td>\n",
       "      <td>674.28</td>\n",
       "      <td>44638.81</td>\n",
       "      <td>58.33</td>\n",
       "      <td>9408.07</td>\n",
       "      <td>97.49</td>\n",
       "      <td>0.0</td>\n",
       "      <td>conventional</td>\n",
       "      <td>2015</td>\n",
       "      <td>Albany</td>\n",
       "      <td>5.162865e+08</td>\n",
       "      <td>Albany</td>\n",
       "    </tr>\n",
       "    <tr>\n",
       "      <th>2</th>\n",
       "      <td>2015-12-13</td>\n",
       "      <td>0</td>\n",
       "      <td>118220.22</td>\n",
       "      <td>794.70</td>\n",
       "      <td>109149.67</td>\n",
       "      <td>130.50</td>\n",
       "      <td>8042.21</td>\n",
       "      <td>103.14</td>\n",
       "      <td>0.0</td>\n",
       "      <td>conventional</td>\n",
       "      <td>2015</td>\n",
       "      <td>Albany</td>\n",
       "      <td>9.507518e+08</td>\n",
       "      <td></td>\n",
       "    </tr>\n",
       "    <tr>\n",
       "      <th>3</th>\n",
       "      <td>2015-12-06</td>\n",
       "      <td>1</td>\n",
       "      <td>78992.15</td>\n",
       "      <td>1132.00</td>\n",
       "      <td>71976.41</td>\n",
       "      <td>72.58</td>\n",
       "      <td>5677.40</td>\n",
       "      <td>133.76</td>\n",
       "      <td>0.0</td>\n",
       "      <td>conventional</td>\n",
       "      <td>2015</td>\n",
       "      <td>Albany</td>\n",
       "      <td>4.484700e+08</td>\n",
       "      <td>Albany</td>\n",
       "    </tr>\n",
       "    <tr>\n",
       "      <th>4</th>\n",
       "      <td>2015-11-29</td>\n",
       "      <td>1</td>\n",
       "      <td>51039.60</td>\n",
       "      <td>941.48</td>\n",
       "      <td>43838.39</td>\n",
       "      <td>75.78</td>\n",
       "      <td>5986.26</td>\n",
       "      <td>197.69</td>\n",
       "      <td>0.0</td>\n",
       "      <td>conventional</td>\n",
       "      <td>2015</td>\n",
       "      <td>Albany</td>\n",
       "      <td>3.055363e+08</td>\n",
       "      <td>Albany</td>\n",
       "    </tr>\n",
       "  </tbody>\n",
       "</table>\n",
       "</div>"
      ],
      "text/plain": [
       "        fecha  average_price  total_volume     4046       4225    4770   \n",
       "0  2015-12-27              1      64236.62  1036.74   54454.85   48.16  \\\n",
       "1  2015-12-20              1      54876.98   674.28   44638.81   58.33   \n",
       "2  2015-12-13              0     118220.22   794.70  109149.67  130.50   \n",
       "3  2015-12-06              1      78992.15  1132.00   71976.41   72.58   \n",
       "4  2015-11-29              1      51039.60   941.48   43838.39   75.78   \n",
       "\n",
       "   small_bags  large_bags  xlarge_bags          type  year  region   \n",
       "0     8603.62       93.25          0.0  conventional  2015  Albany  \\\n",
       "1     9408.07       97.49          0.0  conventional  2015  Albany   \n",
       "2     8042.21      103.14          0.0  conventional  2015  Albany   \n",
       "3     5677.40      133.76          0.0  conventional  2015  Albany   \n",
       "4     5986.26      197.69          0.0  conventional  2015  Albany   \n",
       "\n",
       "           otra ejemplo  \n",
       "0  5.526675e+08  Albany  \n",
       "1  5.162865e+08  Albany  \n",
       "2  9.507518e+08          \n",
       "3  4.484700e+08  Albany  \n",
       "4  3.055363e+08  Albany  "
      ]
     },
     "execution_count": 161,
     "metadata": {},
     "output_type": "execute_result"
    }
   ],
   "source": [
    "df.head()"
   ]
  },
  {
   "cell_type": "markdown",
   "id": "unexpected-hammer",
   "metadata": {},
   "source": [
    "#### Podemos renombrar las columnas machacando el atributo de la instancia... ¿os suena esto?\n",
    "Requiere una lista con el mismo número de columnas"
   ]
  },
  {
   "cell_type": "code",
   "execution_count": 162,
   "id": "engaging-robert",
   "metadata": {},
   "outputs": [],
   "source": [
    "# O podríamos machacar el atributo del objeto columns\n",
    "df3 = df.copy()"
   ]
  },
  {
   "cell_type": "code",
   "execution_count": 163,
   "id": "funded-radius",
   "metadata": {},
   "outputs": [
    {
     "data": {
      "text/plain": [
       "Index(['fecha', 'average_price', 'total_volume', '4046', '4225', '4770',\n",
       "       'small_bags', 'large_bags', 'xlarge_bags', 'type', 'year', 'region',\n",
       "       'otra', 'ejemplo'],\n",
       "      dtype='object')"
      ]
     },
     "execution_count": 163,
     "metadata": {},
     "output_type": "execute_result"
    }
   ],
   "source": [
    "df3.columns"
   ]
  },
  {
   "cell_type": "markdown",
   "id": "1aef198a",
   "metadata": {},
   "source": [
    "Podemos renombrar las columnas no solo desde un diccionario con .rename().\n",
    "O tambien podemos \"pisar\" la lista de los nombres de las columnas por una de nuestro gusto"
   ]
  },
  {
   "cell_type": "code",
   "execution_count": 164,
   "id": "legal-montana",
   "metadata": {},
   "outputs": [
    {
     "data": {
      "text/plain": [
       "14"
      ]
     },
     "execution_count": 164,
     "metadata": {},
     "output_type": "execute_result"
    }
   ],
   "source": [
    "len(df3.columns)"
   ]
  },
  {
   "cell_type": "code",
   "execution_count": 169,
   "id": "61325d6b",
   "metadata": {},
   "outputs": [],
   "source": [
    "prueba = [\"🐼\"]*14"
   ]
  },
  {
   "cell_type": "code",
   "execution_count": 170,
   "id": "540fb6bb",
   "metadata": {},
   "outputs": [
    {
     "data": {
      "text/plain": [
       "['🐼', '🐼', '🐼', '🐼', '🐼', '🐼', '🐼', '🐼', '🐼', '🐼', '🐼', '🐼', '🐼', '🐼']"
      ]
     },
     "execution_count": 170,
     "metadata": {},
     "output_type": "execute_result"
    }
   ],
   "source": [
    "prueba"
   ]
  },
  {
   "cell_type": "code",
   "execution_count": 171,
   "id": "0208973e",
   "metadata": {},
   "outputs": [
    {
     "data": {
      "text/plain": [
       "Index(['fecha', 'average_price', 'total_volume', '4046', '4225', '4770',\n",
       "       'small_bags', 'large_bags', 'xlarge_bags', 'type', 'year', 'region',\n",
       "       'otra', 'ejemplo'],\n",
       "      dtype='object')"
      ]
     },
     "execution_count": 171,
     "metadata": {},
     "output_type": "execute_result"
    }
   ],
   "source": [
    "df3.columns"
   ]
  },
  {
   "cell_type": "code",
   "execution_count": 172,
   "id": "realistic-links",
   "metadata": {},
   "outputs": [],
   "source": [
    "df3.columns = prueba"
   ]
  },
  {
   "cell_type": "code",
   "execution_count": 173,
   "id": "spanish-cement",
   "metadata": {},
   "outputs": [
    {
     "data": {
      "text/html": [
       "<div>\n",
       "<style scoped>\n",
       "    .dataframe tbody tr th:only-of-type {\n",
       "        vertical-align: middle;\n",
       "    }\n",
       "\n",
       "    .dataframe tbody tr th {\n",
       "        vertical-align: top;\n",
       "    }\n",
       "\n",
       "    .dataframe thead th {\n",
       "        text-align: right;\n",
       "    }\n",
       "</style>\n",
       "<table border=\"1\" class=\"dataframe\">\n",
       "  <thead>\n",
       "    <tr style=\"text-align: right;\">\n",
       "      <th></th>\n",
       "      <th>🐼</th>\n",
       "      <th>🐼</th>\n",
       "      <th>🐼</th>\n",
       "      <th>🐼</th>\n",
       "      <th>🐼</th>\n",
       "      <th>🐼</th>\n",
       "      <th>🐼</th>\n",
       "      <th>🐼</th>\n",
       "      <th>🐼</th>\n",
       "      <th>🐼</th>\n",
       "      <th>🐼</th>\n",
       "      <th>🐼</th>\n",
       "      <th>🐼</th>\n",
       "      <th>🐼</th>\n",
       "    </tr>\n",
       "  </thead>\n",
       "  <tbody>\n",
       "    <tr>\n",
       "      <th>0</th>\n",
       "      <td>2015-12-27</td>\n",
       "      <td>1</td>\n",
       "      <td>64236.62</td>\n",
       "      <td>1036.74</td>\n",
       "      <td>54454.85</td>\n",
       "      <td>48.16</td>\n",
       "      <td>8603.62</td>\n",
       "      <td>93.25</td>\n",
       "      <td>0.0</td>\n",
       "      <td>conventional</td>\n",
       "      <td>2015</td>\n",
       "      <td>Albany</td>\n",
       "      <td>5.526675e+08</td>\n",
       "      <td>Albany</td>\n",
       "    </tr>\n",
       "    <tr>\n",
       "      <th>1</th>\n",
       "      <td>2015-12-20</td>\n",
       "      <td>1</td>\n",
       "      <td>54876.98</td>\n",
       "      <td>674.28</td>\n",
       "      <td>44638.81</td>\n",
       "      <td>58.33</td>\n",
       "      <td>9408.07</td>\n",
       "      <td>97.49</td>\n",
       "      <td>0.0</td>\n",
       "      <td>conventional</td>\n",
       "      <td>2015</td>\n",
       "      <td>Albany</td>\n",
       "      <td>5.162865e+08</td>\n",
       "      <td>Albany</td>\n",
       "    </tr>\n",
       "    <tr>\n",
       "      <th>2</th>\n",
       "      <td>2015-12-13</td>\n",
       "      <td>0</td>\n",
       "      <td>118220.22</td>\n",
       "      <td>794.70</td>\n",
       "      <td>109149.67</td>\n",
       "      <td>130.50</td>\n",
       "      <td>8042.21</td>\n",
       "      <td>103.14</td>\n",
       "      <td>0.0</td>\n",
       "      <td>conventional</td>\n",
       "      <td>2015</td>\n",
       "      <td>Albany</td>\n",
       "      <td>9.507518e+08</td>\n",
       "      <td></td>\n",
       "    </tr>\n",
       "    <tr>\n",
       "      <th>3</th>\n",
       "      <td>2015-12-06</td>\n",
       "      <td>1</td>\n",
       "      <td>78992.15</td>\n",
       "      <td>1132.00</td>\n",
       "      <td>71976.41</td>\n",
       "      <td>72.58</td>\n",
       "      <td>5677.40</td>\n",
       "      <td>133.76</td>\n",
       "      <td>0.0</td>\n",
       "      <td>conventional</td>\n",
       "      <td>2015</td>\n",
       "      <td>Albany</td>\n",
       "      <td>4.484700e+08</td>\n",
       "      <td>Albany</td>\n",
       "    </tr>\n",
       "    <tr>\n",
       "      <th>4</th>\n",
       "      <td>2015-11-29</td>\n",
       "      <td>1</td>\n",
       "      <td>51039.60</td>\n",
       "      <td>941.48</td>\n",
       "      <td>43838.39</td>\n",
       "      <td>75.78</td>\n",
       "      <td>5986.26</td>\n",
       "      <td>197.69</td>\n",
       "      <td>0.0</td>\n",
       "      <td>conventional</td>\n",
       "      <td>2015</td>\n",
       "      <td>Albany</td>\n",
       "      <td>3.055363e+08</td>\n",
       "      <td>Albany</td>\n",
       "    </tr>\n",
       "  </tbody>\n",
       "</table>\n",
       "</div>"
      ],
      "text/plain": [
       "            🐼  🐼          🐼        🐼          🐼       🐼        🐼       🐼    🐼   \n",
       "0  2015-12-27  1   64236.62  1036.74   54454.85   48.16  8603.62   93.25  0.0  \\\n",
       "1  2015-12-20  1   54876.98   674.28   44638.81   58.33  9408.07   97.49  0.0   \n",
       "2  2015-12-13  0  118220.22   794.70  109149.67  130.50  8042.21  103.14  0.0   \n",
       "3  2015-12-06  1   78992.15  1132.00   71976.41   72.58  5677.40  133.76  0.0   \n",
       "4  2015-11-29  1   51039.60   941.48   43838.39   75.78  5986.26  197.69  0.0   \n",
       "\n",
       "              🐼     🐼       🐼             🐼       🐼  \n",
       "0  conventional  2015  Albany  5.526675e+08  Albany  \n",
       "1  conventional  2015  Albany  5.162865e+08  Albany  \n",
       "2  conventional  2015  Albany  9.507518e+08          \n",
       "3  conventional  2015  Albany  4.484700e+08  Albany  \n",
       "4  conventional  2015  Albany  3.055363e+08  Albany  "
      ]
     },
     "execution_count": 173,
     "metadata": {},
     "output_type": "execute_result"
    }
   ],
   "source": [
    "df3.head()"
   ]
  },
  {
   "cell_type": "markdown",
   "id": "unique-circulation",
   "metadata": {},
   "source": [
    "### Borramos columnas"
   ]
  },
  {
   "cell_type": "code",
   "execution_count": 174,
   "id": "9bb5271e",
   "metadata": {},
   "outputs": [
    {
     "data": {
      "text/html": [
       "<div>\n",
       "<style scoped>\n",
       "    .dataframe tbody tr th:only-of-type {\n",
       "        vertical-align: middle;\n",
       "    }\n",
       "\n",
       "    .dataframe tbody tr th {\n",
       "        vertical-align: top;\n",
       "    }\n",
       "\n",
       "    .dataframe thead th {\n",
       "        text-align: right;\n",
       "    }\n",
       "</style>\n",
       "<table border=\"1\" class=\"dataframe\">\n",
       "  <thead>\n",
       "    <tr style=\"text-align: right;\">\n",
       "      <th></th>\n",
       "      <th>fecha</th>\n",
       "      <th>average_price</th>\n",
       "      <th>total_volume</th>\n",
       "      <th>4046</th>\n",
       "      <th>4225</th>\n",
       "      <th>4770</th>\n",
       "      <th>small_bags</th>\n",
       "      <th>large_bags</th>\n",
       "      <th>xlarge_bags</th>\n",
       "      <th>type</th>\n",
       "      <th>year</th>\n",
       "      <th>region</th>\n",
       "      <th>otra</th>\n",
       "      <th>ejemplo</th>\n",
       "    </tr>\n",
       "  </thead>\n",
       "  <tbody>\n",
       "    <tr>\n",
       "      <th>14480</th>\n",
       "      <td>2016-01-03</td>\n",
       "      <td>0</td>\n",
       "      <td>10026.13</td>\n",
       "      <td>1303.08</td>\n",
       "      <td>932.82</td>\n",
       "      <td>5.29</td>\n",
       "      <td>83.92</td>\n",
       "      <td>7701.02</td>\n",
       "      <td>0.0</td>\n",
       "      <td>organic</td>\n",
       "      <td>2016</td>\n",
       "      <td>StLouis</td>\n",
       "      <td>841392.8296</td>\n",
       "      <td></td>\n",
       "    </tr>\n",
       "  </tbody>\n",
       "</table>\n",
       "</div>"
      ],
      "text/plain": [
       "            fecha  average_price  total_volume     4046    4225  4770   \n",
       "14480  2016-01-03              0      10026.13  1303.08  932.82  5.29  \\\n",
       "\n",
       "       small_bags  large_bags  xlarge_bags     type  year   region   \n",
       "14480       83.92     7701.02          0.0  organic  2016  StLouis  \\\n",
       "\n",
       "              otra ejemplo  \n",
       "14480  841392.8296          "
      ]
     },
     "execution_count": 174,
     "metadata": {},
     "output_type": "execute_result"
    }
   ],
   "source": [
    "df.sample()"
   ]
  },
  {
   "cell_type": "code",
   "execution_count": 175,
   "id": "renewable-complexity",
   "metadata": {},
   "outputs": [],
   "source": [
    "# Axis 1 siempre columnas\n",
    "df.drop([\"4046\",\"4225\",\"4770\"],axis=1,inplace=True)"
   ]
  },
  {
   "cell_type": "code",
   "execution_count": 176,
   "id": "sublime-mouth",
   "metadata": {},
   "outputs": [
    {
     "data": {
      "text/html": [
       "<div>\n",
       "<style scoped>\n",
       "    .dataframe tbody tr th:only-of-type {\n",
       "        vertical-align: middle;\n",
       "    }\n",
       "\n",
       "    .dataframe tbody tr th {\n",
       "        vertical-align: top;\n",
       "    }\n",
       "\n",
       "    .dataframe thead th {\n",
       "        text-align: right;\n",
       "    }\n",
       "</style>\n",
       "<table border=\"1\" class=\"dataframe\">\n",
       "  <thead>\n",
       "    <tr style=\"text-align: right;\">\n",
       "      <th></th>\n",
       "      <th>fecha</th>\n",
       "      <th>average_price</th>\n",
       "      <th>total_volume</th>\n",
       "      <th>small_bags</th>\n",
       "      <th>large_bags</th>\n",
       "      <th>xlarge_bags</th>\n",
       "      <th>type</th>\n",
       "      <th>year</th>\n",
       "      <th>region</th>\n",
       "      <th>otra</th>\n",
       "      <th>ejemplo</th>\n",
       "    </tr>\n",
       "  </thead>\n",
       "  <tbody>\n",
       "    <tr>\n",
       "      <th>15298</th>\n",
       "      <td>2017-06-25</td>\n",
       "      <td>1</td>\n",
       "      <td>6043.34</td>\n",
       "      <td>418.74</td>\n",
       "      <td>3551.65</td>\n",
       "      <td>0.0</td>\n",
       "      <td>organic</td>\n",
       "      <td>2017</td>\n",
       "      <td>Columbus</td>\n",
       "      <td>2.530588e+06</td>\n",
       "      <td>Columbus</td>\n",
       "    </tr>\n",
       "  </tbody>\n",
       "</table>\n",
       "</div>"
      ],
      "text/plain": [
       "            fecha  average_price  total_volume  small_bags  large_bags   \n",
       "15298  2017-06-25              1       6043.34      418.74     3551.65  \\\n",
       "\n",
       "       xlarge_bags     type  year    region          otra   ejemplo  \n",
       "15298          0.0  organic  2017  Columbus  2.530588e+06  Columbus  "
      ]
     },
     "execution_count": 176,
     "metadata": {},
     "output_type": "execute_result"
    }
   ],
   "source": [
    "df.sample()"
   ]
  },
  {
   "cell_type": "markdown",
   "id": "native-oxide",
   "metadata": {},
   "source": [
    "### Borramos filas"
   ]
  },
  {
   "cell_type": "code",
   "execution_count": 177,
   "id": "37ecbd09",
   "metadata": {},
   "outputs": [
    {
     "data": {
      "text/html": [
       "<div>\n",
       "<style scoped>\n",
       "    .dataframe tbody tr th:only-of-type {\n",
       "        vertical-align: middle;\n",
       "    }\n",
       "\n",
       "    .dataframe tbody tr th {\n",
       "        vertical-align: top;\n",
       "    }\n",
       "\n",
       "    .dataframe thead th {\n",
       "        text-align: right;\n",
       "    }\n",
       "</style>\n",
       "<table border=\"1\" class=\"dataframe\">\n",
       "  <thead>\n",
       "    <tr style=\"text-align: right;\">\n",
       "      <th></th>\n",
       "      <th>fecha</th>\n",
       "      <th>average_price</th>\n",
       "      <th>total_volume</th>\n",
       "      <th>small_bags</th>\n",
       "      <th>large_bags</th>\n",
       "      <th>xlarge_bags</th>\n",
       "      <th>type</th>\n",
       "      <th>year</th>\n",
       "      <th>region</th>\n",
       "      <th>otra</th>\n",
       "      <th>ejemplo</th>\n",
       "    </tr>\n",
       "  </thead>\n",
       "  <tbody>\n",
       "    <tr>\n",
       "      <th>0</th>\n",
       "      <td>2015-12-27</td>\n",
       "      <td>1</td>\n",
       "      <td>64236.62</td>\n",
       "      <td>8603.62</td>\n",
       "      <td>93.25</td>\n",
       "      <td>0.0</td>\n",
       "      <td>conventional</td>\n",
       "      <td>2015</td>\n",
       "      <td>Albany</td>\n",
       "      <td>5.526675e+08</td>\n",
       "      <td>Albany</td>\n",
       "    </tr>\n",
       "    <tr>\n",
       "      <th>1</th>\n",
       "      <td>2015-12-20</td>\n",
       "      <td>1</td>\n",
       "      <td>54876.98</td>\n",
       "      <td>9408.07</td>\n",
       "      <td>97.49</td>\n",
       "      <td>0.0</td>\n",
       "      <td>conventional</td>\n",
       "      <td>2015</td>\n",
       "      <td>Albany</td>\n",
       "      <td>5.162865e+08</td>\n",
       "      <td>Albany</td>\n",
       "    </tr>\n",
       "    <tr>\n",
       "      <th>2</th>\n",
       "      <td>2015-12-13</td>\n",
       "      <td>0</td>\n",
       "      <td>118220.22</td>\n",
       "      <td>8042.21</td>\n",
       "      <td>103.14</td>\n",
       "      <td>0.0</td>\n",
       "      <td>conventional</td>\n",
       "      <td>2015</td>\n",
       "      <td>Albany</td>\n",
       "      <td>9.507518e+08</td>\n",
       "      <td></td>\n",
       "    </tr>\n",
       "    <tr>\n",
       "      <th>3</th>\n",
       "      <td>2015-12-06</td>\n",
       "      <td>1</td>\n",
       "      <td>78992.15</td>\n",
       "      <td>5677.40</td>\n",
       "      <td>133.76</td>\n",
       "      <td>0.0</td>\n",
       "      <td>conventional</td>\n",
       "      <td>2015</td>\n",
       "      <td>Albany</td>\n",
       "      <td>4.484700e+08</td>\n",
       "      <td>Albany</td>\n",
       "    </tr>\n",
       "    <tr>\n",
       "      <th>4</th>\n",
       "      <td>2015-11-29</td>\n",
       "      <td>1</td>\n",
       "      <td>51039.60</td>\n",
       "      <td>5986.26</td>\n",
       "      <td>197.69</td>\n",
       "      <td>0.0</td>\n",
       "      <td>conventional</td>\n",
       "      <td>2015</td>\n",
       "      <td>Albany</td>\n",
       "      <td>3.055363e+08</td>\n",
       "      <td>Albany</td>\n",
       "    </tr>\n",
       "  </tbody>\n",
       "</table>\n",
       "</div>"
      ],
      "text/plain": [
       "        fecha  average_price  total_volume  small_bags  large_bags   \n",
       "0  2015-12-27              1      64236.62     8603.62       93.25  \\\n",
       "1  2015-12-20              1      54876.98     9408.07       97.49   \n",
       "2  2015-12-13              0     118220.22     8042.21      103.14   \n",
       "3  2015-12-06              1      78992.15     5677.40      133.76   \n",
       "4  2015-11-29              1      51039.60     5986.26      197.69   \n",
       "\n",
       "   xlarge_bags          type  year  region          otra ejemplo  \n",
       "0          0.0  conventional  2015  Albany  5.526675e+08  Albany  \n",
       "1          0.0  conventional  2015  Albany  5.162865e+08  Albany  \n",
       "2          0.0  conventional  2015  Albany  9.507518e+08          \n",
       "3          0.0  conventional  2015  Albany  4.484700e+08  Albany  \n",
       "4          0.0  conventional  2015  Albany  3.055363e+08  Albany  "
      ]
     },
     "execution_count": 177,
     "metadata": {},
     "output_type": "execute_result"
    }
   ],
   "source": [
    "df.head(5)"
   ]
  },
  {
   "cell_type": "code",
   "execution_count": 178,
   "id": "impossible-complaint",
   "metadata": {},
   "outputs": [],
   "source": [
    "# Axis 0 siempre filas\n",
    "df.drop([1,2,4], axis=0, inplace=True)"
   ]
  },
  {
   "cell_type": "code",
   "execution_count": 179,
   "id": "unavailable-madagascar",
   "metadata": {},
   "outputs": [
    {
     "data": {
      "text/html": [
       "<div>\n",
       "<style scoped>\n",
       "    .dataframe tbody tr th:only-of-type {\n",
       "        vertical-align: middle;\n",
       "    }\n",
       "\n",
       "    .dataframe tbody tr th {\n",
       "        vertical-align: top;\n",
       "    }\n",
       "\n",
       "    .dataframe thead th {\n",
       "        text-align: right;\n",
       "    }\n",
       "</style>\n",
       "<table border=\"1\" class=\"dataframe\">\n",
       "  <thead>\n",
       "    <tr style=\"text-align: right;\">\n",
       "      <th></th>\n",
       "      <th>index</th>\n",
       "      <th>fecha</th>\n",
       "      <th>average_price</th>\n",
       "      <th>total_volume</th>\n",
       "      <th>small_bags</th>\n",
       "      <th>large_bags</th>\n",
       "      <th>xlarge_bags</th>\n",
       "      <th>type</th>\n",
       "      <th>year</th>\n",
       "      <th>region</th>\n",
       "      <th>otra</th>\n",
       "      <th>ejemplo</th>\n",
       "    </tr>\n",
       "  </thead>\n",
       "  <tbody>\n",
       "    <tr>\n",
       "      <th>0</th>\n",
       "      <td>0</td>\n",
       "      <td>2015-12-27</td>\n",
       "      <td>1</td>\n",
       "      <td>64236.62</td>\n",
       "      <td>8603.62</td>\n",
       "      <td>93.25</td>\n",
       "      <td>0.0</td>\n",
       "      <td>conventional</td>\n",
       "      <td>2015</td>\n",
       "      <td>Albany</td>\n",
       "      <td>5.526675e+08</td>\n",
       "      <td>Albany</td>\n",
       "    </tr>\n",
       "    <tr>\n",
       "      <th>1</th>\n",
       "      <td>3</td>\n",
       "      <td>2015-12-06</td>\n",
       "      <td>1</td>\n",
       "      <td>78992.15</td>\n",
       "      <td>5677.40</td>\n",
       "      <td>133.76</td>\n",
       "      <td>0.0</td>\n",
       "      <td>conventional</td>\n",
       "      <td>2015</td>\n",
       "      <td>Albany</td>\n",
       "      <td>4.484700e+08</td>\n",
       "      <td>Albany</td>\n",
       "    </tr>\n",
       "    <tr>\n",
       "      <th>2</th>\n",
       "      <td>5</td>\n",
       "      <td>2015-11-22</td>\n",
       "      <td>1</td>\n",
       "      <td>55979.78</td>\n",
       "      <td>6556.47</td>\n",
       "      <td>127.44</td>\n",
       "      <td>0.0</td>\n",
       "      <td>conventional</td>\n",
       "      <td>2015</td>\n",
       "      <td>Albany</td>\n",
       "      <td>3.670297e+08</td>\n",
       "      <td>Albany</td>\n",
       "    </tr>\n",
       "    <tr>\n",
       "      <th>3</th>\n",
       "      <td>6</td>\n",
       "      <td>2015-11-15</td>\n",
       "      <td>0</td>\n",
       "      <td>83453.76</td>\n",
       "      <td>8196.81</td>\n",
       "      <td>122.05</td>\n",
       "      <td>0.0</td>\n",
       "      <td>conventional</td>\n",
       "      <td>2015</td>\n",
       "      <td>Albany</td>\n",
       "      <td>6.840546e+08</td>\n",
       "      <td></td>\n",
       "    </tr>\n",
       "    <tr>\n",
       "      <th>4</th>\n",
       "      <td>7</td>\n",
       "      <td>2015-11-08</td>\n",
       "      <td>0</td>\n",
       "      <td>109428.33</td>\n",
       "      <td>6266.85</td>\n",
       "      <td>562.37</td>\n",
       "      <td>0.0</td>\n",
       "      <td>conventional</td>\n",
       "      <td>2015</td>\n",
       "      <td>Albany</td>\n",
       "      <td>6.857709e+08</td>\n",
       "      <td></td>\n",
       "    </tr>\n",
       "    <tr>\n",
       "      <th>...</th>\n",
       "      <td>...</td>\n",
       "      <td>...</td>\n",
       "      <td>...</td>\n",
       "      <td>...</td>\n",
       "      <td>...</td>\n",
       "      <td>...</td>\n",
       "      <td>...</td>\n",
       "      <td>...</td>\n",
       "      <td>...</td>\n",
       "      <td>...</td>\n",
       "      <td>...</td>\n",
       "      <td>...</td>\n",
       "    </tr>\n",
       "    <tr>\n",
       "      <th>18241</th>\n",
       "      <td>18244</td>\n",
       "      <td>2018-02-04</td>\n",
       "      <td>1</td>\n",
       "      <td>17074.83</td>\n",
       "      <td>13066.82</td>\n",
       "      <td>431.85</td>\n",
       "      <td>0.0</td>\n",
       "      <td>organic</td>\n",
       "      <td>2018</td>\n",
       "      <td>WestTexNewMexico</td>\n",
       "      <td>2.231137e+08</td>\n",
       "      <td>WestTexNewMexico</td>\n",
       "    </tr>\n",
       "    <tr>\n",
       "      <th>18242</th>\n",
       "      <td>18245</td>\n",
       "      <td>2018-01-28</td>\n",
       "      <td>1</td>\n",
       "      <td>13888.04</td>\n",
       "      <td>8940.04</td>\n",
       "      <td>324.80</td>\n",
       "      <td>0.0</td>\n",
       "      <td>organic</td>\n",
       "      <td>2018</td>\n",
       "      <td>WestTexNewMexico</td>\n",
       "      <td>1.241596e+08</td>\n",
       "      <td>WestTexNewMexico</td>\n",
       "    </tr>\n",
       "    <tr>\n",
       "      <th>18243</th>\n",
       "      <td>18246</td>\n",
       "      <td>2018-01-21</td>\n",
       "      <td>1</td>\n",
       "      <td>13766.76</td>\n",
       "      <td>9351.80</td>\n",
       "      <td>42.31</td>\n",
       "      <td>0.0</td>\n",
       "      <td>organic</td>\n",
       "      <td>2018</td>\n",
       "      <td>WestTexNewMexico</td>\n",
       "      <td>1.287440e+08</td>\n",
       "      <td>WestTexNewMexico</td>\n",
       "    </tr>\n",
       "    <tr>\n",
       "      <th>18244</th>\n",
       "      <td>18247</td>\n",
       "      <td>2018-01-14</td>\n",
       "      <td>1</td>\n",
       "      <td>16205.22</td>\n",
       "      <td>10919.54</td>\n",
       "      <td>50.00</td>\n",
       "      <td>0.0</td>\n",
       "      <td>organic</td>\n",
       "      <td>2018</td>\n",
       "      <td>WestTexNewMexico</td>\n",
       "      <td>1.769535e+08</td>\n",
       "      <td>WestTexNewMexico</td>\n",
       "    </tr>\n",
       "    <tr>\n",
       "      <th>18245</th>\n",
       "      <td>18248</td>\n",
       "      <td>2018-01-07</td>\n",
       "      <td>1</td>\n",
       "      <td>17489.58</td>\n",
       "      <td>11988.14</td>\n",
       "      <td>26.01</td>\n",
       "      <td>0.0</td>\n",
       "      <td>organic</td>\n",
       "      <td>2018</td>\n",
       "      <td>WestTexNewMexico</td>\n",
       "      <td>2.096675e+08</td>\n",
       "      <td>WestTexNewMexico</td>\n",
       "    </tr>\n",
       "  </tbody>\n",
       "</table>\n",
       "<p>18246 rows × 12 columns</p>\n",
       "</div>"
      ],
      "text/plain": [
       "       index       fecha  average_price  total_volume  small_bags  large_bags   \n",
       "0          0  2015-12-27              1      64236.62     8603.62       93.25  \\\n",
       "1          3  2015-12-06              1      78992.15     5677.40      133.76   \n",
       "2          5  2015-11-22              1      55979.78     6556.47      127.44   \n",
       "3          6  2015-11-15              0      83453.76     8196.81      122.05   \n",
       "4          7  2015-11-08              0     109428.33     6266.85      562.37   \n",
       "...      ...         ...            ...           ...         ...         ...   \n",
       "18241  18244  2018-02-04              1      17074.83    13066.82      431.85   \n",
       "18242  18245  2018-01-28              1      13888.04     8940.04      324.80   \n",
       "18243  18246  2018-01-21              1      13766.76     9351.80       42.31   \n",
       "18244  18247  2018-01-14              1      16205.22    10919.54       50.00   \n",
       "18245  18248  2018-01-07              1      17489.58    11988.14       26.01   \n",
       "\n",
       "       xlarge_bags          type  year            region          otra   \n",
       "0              0.0  conventional  2015            Albany  5.526675e+08  \\\n",
       "1              0.0  conventional  2015            Albany  4.484700e+08   \n",
       "2              0.0  conventional  2015            Albany  3.670297e+08   \n",
       "3              0.0  conventional  2015            Albany  6.840546e+08   \n",
       "4              0.0  conventional  2015            Albany  6.857709e+08   \n",
       "...            ...           ...   ...               ...           ...   \n",
       "18241          0.0       organic  2018  WestTexNewMexico  2.231137e+08   \n",
       "18242          0.0       organic  2018  WestTexNewMexico  1.241596e+08   \n",
       "18243          0.0       organic  2018  WestTexNewMexico  1.287440e+08   \n",
       "18244          0.0       organic  2018  WestTexNewMexico  1.769535e+08   \n",
       "18245          0.0       organic  2018  WestTexNewMexico  2.096675e+08   \n",
       "\n",
       "                ejemplo  \n",
       "0                Albany  \n",
       "1                Albany  \n",
       "2                Albany  \n",
       "3                        \n",
       "4                        \n",
       "...                 ...  \n",
       "18241  WestTexNewMexico  \n",
       "18242  WestTexNewMexico  \n",
       "18243  WestTexNewMexico  \n",
       "18244  WestTexNewMexico  \n",
       "18245  WestTexNewMexico  \n",
       "\n",
       "[18246 rows x 12 columns]"
      ]
     },
     "execution_count": 179,
     "metadata": {},
     "output_type": "execute_result"
    }
   ],
   "source": [
    "df.reset_index()"
   ]
  },
  {
   "cell_type": "markdown",
   "id": "supposed-recipe",
   "metadata": {},
   "source": [
    "Las filas también se pueden eliminar. Ten en cuenta que los índices no se reinician. El índice se asocia a la fila, no al orden.   \n",
    "¿Se puede reiniciar el index? Correcto\n"
   ]
  },
  {
   "cell_type": "markdown",
   "id": "encouraging-cabin",
   "metadata": {},
   "source": [
    "### Reset_index y set_index"
   ]
  },
  {
   "cell_type": "markdown",
   "id": "hidden-speech",
   "metadata": {},
   "source": [
    "Leemos la [documentación](https://pandas.pydata.org/pandas-docs/stable/reference/api/pandas.DataFrame.reset_index.html) para entender algunos parámetros"
   ]
  },
  {
   "cell_type": "code",
   "execution_count": 180,
   "id": "impressive-going",
   "metadata": {},
   "outputs": [
    {
     "data": {
      "text/html": [
       "<div>\n",
       "<style scoped>\n",
       "    .dataframe tbody tr th:only-of-type {\n",
       "        vertical-align: middle;\n",
       "    }\n",
       "\n",
       "    .dataframe tbody tr th {\n",
       "        vertical-align: top;\n",
       "    }\n",
       "\n",
       "    .dataframe thead th {\n",
       "        text-align: right;\n",
       "    }\n",
       "</style>\n",
       "<table border=\"1\" class=\"dataframe\">\n",
       "  <thead>\n",
       "    <tr style=\"text-align: right;\">\n",
       "      <th></th>\n",
       "      <th>index</th>\n",
       "      <th>fecha</th>\n",
       "      <th>average_price</th>\n",
       "      <th>total_volume</th>\n",
       "      <th>small_bags</th>\n",
       "      <th>large_bags</th>\n",
       "      <th>xlarge_bags</th>\n",
       "      <th>type</th>\n",
       "      <th>year</th>\n",
       "      <th>region</th>\n",
       "      <th>otra</th>\n",
       "      <th>ejemplo</th>\n",
       "    </tr>\n",
       "  </thead>\n",
       "  <tbody>\n",
       "    <tr>\n",
       "      <th>0</th>\n",
       "      <td>0</td>\n",
       "      <td>2015-12-27</td>\n",
       "      <td>1</td>\n",
       "      <td>64236.62</td>\n",
       "      <td>8603.62</td>\n",
       "      <td>93.25</td>\n",
       "      <td>0.0</td>\n",
       "      <td>conventional</td>\n",
       "      <td>2015</td>\n",
       "      <td>Albany</td>\n",
       "      <td>5.526675e+08</td>\n",
       "      <td>Albany</td>\n",
       "    </tr>\n",
       "    <tr>\n",
       "      <th>1</th>\n",
       "      <td>3</td>\n",
       "      <td>2015-12-06</td>\n",
       "      <td>1</td>\n",
       "      <td>78992.15</td>\n",
       "      <td>5677.40</td>\n",
       "      <td>133.76</td>\n",
       "      <td>0.0</td>\n",
       "      <td>conventional</td>\n",
       "      <td>2015</td>\n",
       "      <td>Albany</td>\n",
       "      <td>4.484700e+08</td>\n",
       "      <td>Albany</td>\n",
       "    </tr>\n",
       "    <tr>\n",
       "      <th>2</th>\n",
       "      <td>5</td>\n",
       "      <td>2015-11-22</td>\n",
       "      <td>1</td>\n",
       "      <td>55979.78</td>\n",
       "      <td>6556.47</td>\n",
       "      <td>127.44</td>\n",
       "      <td>0.0</td>\n",
       "      <td>conventional</td>\n",
       "      <td>2015</td>\n",
       "      <td>Albany</td>\n",
       "      <td>3.670297e+08</td>\n",
       "      <td>Albany</td>\n",
       "    </tr>\n",
       "    <tr>\n",
       "      <th>3</th>\n",
       "      <td>6</td>\n",
       "      <td>2015-11-15</td>\n",
       "      <td>0</td>\n",
       "      <td>83453.76</td>\n",
       "      <td>8196.81</td>\n",
       "      <td>122.05</td>\n",
       "      <td>0.0</td>\n",
       "      <td>conventional</td>\n",
       "      <td>2015</td>\n",
       "      <td>Albany</td>\n",
       "      <td>6.840546e+08</td>\n",
       "      <td></td>\n",
       "    </tr>\n",
       "    <tr>\n",
       "      <th>4</th>\n",
       "      <td>7</td>\n",
       "      <td>2015-11-08</td>\n",
       "      <td>0</td>\n",
       "      <td>109428.33</td>\n",
       "      <td>6266.85</td>\n",
       "      <td>562.37</td>\n",
       "      <td>0.0</td>\n",
       "      <td>conventional</td>\n",
       "      <td>2015</td>\n",
       "      <td>Albany</td>\n",
       "      <td>6.857709e+08</td>\n",
       "      <td></td>\n",
       "    </tr>\n",
       "    <tr>\n",
       "      <th>...</th>\n",
       "      <td>...</td>\n",
       "      <td>...</td>\n",
       "      <td>...</td>\n",
       "      <td>...</td>\n",
       "      <td>...</td>\n",
       "      <td>...</td>\n",
       "      <td>...</td>\n",
       "      <td>...</td>\n",
       "      <td>...</td>\n",
       "      <td>...</td>\n",
       "      <td>...</td>\n",
       "      <td>...</td>\n",
       "    </tr>\n",
       "    <tr>\n",
       "      <th>18241</th>\n",
       "      <td>18244</td>\n",
       "      <td>2018-02-04</td>\n",
       "      <td>1</td>\n",
       "      <td>17074.83</td>\n",
       "      <td>13066.82</td>\n",
       "      <td>431.85</td>\n",
       "      <td>0.0</td>\n",
       "      <td>organic</td>\n",
       "      <td>2018</td>\n",
       "      <td>WestTexNewMexico</td>\n",
       "      <td>2.231137e+08</td>\n",
       "      <td>WestTexNewMexico</td>\n",
       "    </tr>\n",
       "    <tr>\n",
       "      <th>18242</th>\n",
       "      <td>18245</td>\n",
       "      <td>2018-01-28</td>\n",
       "      <td>1</td>\n",
       "      <td>13888.04</td>\n",
       "      <td>8940.04</td>\n",
       "      <td>324.80</td>\n",
       "      <td>0.0</td>\n",
       "      <td>organic</td>\n",
       "      <td>2018</td>\n",
       "      <td>WestTexNewMexico</td>\n",
       "      <td>1.241596e+08</td>\n",
       "      <td>WestTexNewMexico</td>\n",
       "    </tr>\n",
       "    <tr>\n",
       "      <th>18243</th>\n",
       "      <td>18246</td>\n",
       "      <td>2018-01-21</td>\n",
       "      <td>1</td>\n",
       "      <td>13766.76</td>\n",
       "      <td>9351.80</td>\n",
       "      <td>42.31</td>\n",
       "      <td>0.0</td>\n",
       "      <td>organic</td>\n",
       "      <td>2018</td>\n",
       "      <td>WestTexNewMexico</td>\n",
       "      <td>1.287440e+08</td>\n",
       "      <td>WestTexNewMexico</td>\n",
       "    </tr>\n",
       "    <tr>\n",
       "      <th>18244</th>\n",
       "      <td>18247</td>\n",
       "      <td>2018-01-14</td>\n",
       "      <td>1</td>\n",
       "      <td>16205.22</td>\n",
       "      <td>10919.54</td>\n",
       "      <td>50.00</td>\n",
       "      <td>0.0</td>\n",
       "      <td>organic</td>\n",
       "      <td>2018</td>\n",
       "      <td>WestTexNewMexico</td>\n",
       "      <td>1.769535e+08</td>\n",
       "      <td>WestTexNewMexico</td>\n",
       "    </tr>\n",
       "    <tr>\n",
       "      <th>18245</th>\n",
       "      <td>18248</td>\n",
       "      <td>2018-01-07</td>\n",
       "      <td>1</td>\n",
       "      <td>17489.58</td>\n",
       "      <td>11988.14</td>\n",
       "      <td>26.01</td>\n",
       "      <td>0.0</td>\n",
       "      <td>organic</td>\n",
       "      <td>2018</td>\n",
       "      <td>WestTexNewMexico</td>\n",
       "      <td>2.096675e+08</td>\n",
       "      <td>WestTexNewMexico</td>\n",
       "    </tr>\n",
       "  </tbody>\n",
       "</table>\n",
       "<p>18246 rows × 12 columns</p>\n",
       "</div>"
      ],
      "text/plain": [
       "       index       fecha  average_price  total_volume  small_bags  large_bags   \n",
       "0          0  2015-12-27              1      64236.62     8603.62       93.25  \\\n",
       "1          3  2015-12-06              1      78992.15     5677.40      133.76   \n",
       "2          5  2015-11-22              1      55979.78     6556.47      127.44   \n",
       "3          6  2015-11-15              0      83453.76     8196.81      122.05   \n",
       "4          7  2015-11-08              0     109428.33     6266.85      562.37   \n",
       "...      ...         ...            ...           ...         ...         ...   \n",
       "18241  18244  2018-02-04              1      17074.83    13066.82      431.85   \n",
       "18242  18245  2018-01-28              1      13888.04     8940.04      324.80   \n",
       "18243  18246  2018-01-21              1      13766.76     9351.80       42.31   \n",
       "18244  18247  2018-01-14              1      16205.22    10919.54       50.00   \n",
       "18245  18248  2018-01-07              1      17489.58    11988.14       26.01   \n",
       "\n",
       "       xlarge_bags          type  year            region          otra   \n",
       "0              0.0  conventional  2015            Albany  5.526675e+08  \\\n",
       "1              0.0  conventional  2015            Albany  4.484700e+08   \n",
       "2              0.0  conventional  2015            Albany  3.670297e+08   \n",
       "3              0.0  conventional  2015            Albany  6.840546e+08   \n",
       "4              0.0  conventional  2015            Albany  6.857709e+08   \n",
       "...            ...           ...   ...               ...           ...   \n",
       "18241          0.0       organic  2018  WestTexNewMexico  2.231137e+08   \n",
       "18242          0.0       organic  2018  WestTexNewMexico  1.241596e+08   \n",
       "18243          0.0       organic  2018  WestTexNewMexico  1.287440e+08   \n",
       "18244          0.0       organic  2018  WestTexNewMexico  1.769535e+08   \n",
       "18245          0.0       organic  2018  WestTexNewMexico  2.096675e+08   \n",
       "\n",
       "                ejemplo  \n",
       "0                Albany  \n",
       "1                Albany  \n",
       "2                Albany  \n",
       "3                        \n",
       "4                        \n",
       "...                 ...  \n",
       "18241  WestTexNewMexico  \n",
       "18242  WestTexNewMexico  \n",
       "18243  WestTexNewMexico  \n",
       "18244  WestTexNewMexico  \n",
       "18245  WestTexNewMexico  \n",
       "\n",
       "[18246 rows x 12 columns]"
      ]
     },
     "execution_count": 180,
     "metadata": {},
     "output_type": "execute_result"
    }
   ],
   "source": [
    "df.reset_index() # Me mete lo que era el indice original como nueva columna"
   ]
  },
  {
   "cell_type": "code",
   "execution_count": 181,
   "id": "1a8ee829",
   "metadata": {},
   "outputs": [
    {
     "data": {
      "text/plain": [
       "Index([    0,     3,     5,     6,     7,     8,     9,    10,    11,    12,\n",
       "       ...\n",
       "       18239, 18240, 18241, 18242, 18243, 18244, 18245, 18246, 18247, 18248],\n",
       "      dtype='int64', length=18246)"
      ]
     },
     "execution_count": 181,
     "metadata": {},
     "output_type": "execute_result"
    }
   ],
   "source": [
    "df.index #Es la columna nueva de índice"
   ]
  },
  {
   "cell_type": "code",
   "execution_count": 182,
   "id": "entertaining-mounting",
   "metadata": {},
   "outputs": [],
   "source": [
    "#Drop = True evita que se genere otra columna con el index anterior"
   ]
  },
  {
   "cell_type": "code",
   "execution_count": 183,
   "id": "dutch-dispute",
   "metadata": {},
   "outputs": [
    {
     "data": {
      "text/html": [
       "<div>\n",
       "<style scoped>\n",
       "    .dataframe tbody tr th:only-of-type {\n",
       "        vertical-align: middle;\n",
       "    }\n",
       "\n",
       "    .dataframe tbody tr th {\n",
       "        vertical-align: top;\n",
       "    }\n",
       "\n",
       "    .dataframe thead th {\n",
       "        text-align: right;\n",
       "    }\n",
       "</style>\n",
       "<table border=\"1\" class=\"dataframe\">\n",
       "  <thead>\n",
       "    <tr style=\"text-align: right;\">\n",
       "      <th></th>\n",
       "      <th>fecha</th>\n",
       "      <th>average_price</th>\n",
       "      <th>total_volume</th>\n",
       "      <th>small_bags</th>\n",
       "      <th>large_bags</th>\n",
       "      <th>xlarge_bags</th>\n",
       "      <th>type</th>\n",
       "      <th>year</th>\n",
       "      <th>region</th>\n",
       "      <th>otra</th>\n",
       "      <th>ejemplo</th>\n",
       "    </tr>\n",
       "  </thead>\n",
       "  <tbody>\n",
       "    <tr>\n",
       "      <th>0</th>\n",
       "      <td>2015-12-27</td>\n",
       "      <td>1</td>\n",
       "      <td>64236.62</td>\n",
       "      <td>8603.62</td>\n",
       "      <td>93.25</td>\n",
       "      <td>0.0</td>\n",
       "      <td>conventional</td>\n",
       "      <td>2015</td>\n",
       "      <td>Albany</td>\n",
       "      <td>5.526675e+08</td>\n",
       "      <td>Albany</td>\n",
       "    </tr>\n",
       "    <tr>\n",
       "      <th>1</th>\n",
       "      <td>2015-12-06</td>\n",
       "      <td>1</td>\n",
       "      <td>78992.15</td>\n",
       "      <td>5677.40</td>\n",
       "      <td>133.76</td>\n",
       "      <td>0.0</td>\n",
       "      <td>conventional</td>\n",
       "      <td>2015</td>\n",
       "      <td>Albany</td>\n",
       "      <td>4.484700e+08</td>\n",
       "      <td>Albany</td>\n",
       "    </tr>\n",
       "    <tr>\n",
       "      <th>2</th>\n",
       "      <td>2015-11-22</td>\n",
       "      <td>1</td>\n",
       "      <td>55979.78</td>\n",
       "      <td>6556.47</td>\n",
       "      <td>127.44</td>\n",
       "      <td>0.0</td>\n",
       "      <td>conventional</td>\n",
       "      <td>2015</td>\n",
       "      <td>Albany</td>\n",
       "      <td>3.670297e+08</td>\n",
       "      <td>Albany</td>\n",
       "    </tr>\n",
       "    <tr>\n",
       "      <th>3</th>\n",
       "      <td>2015-11-15</td>\n",
       "      <td>0</td>\n",
       "      <td>83453.76</td>\n",
       "      <td>8196.81</td>\n",
       "      <td>122.05</td>\n",
       "      <td>0.0</td>\n",
       "      <td>conventional</td>\n",
       "      <td>2015</td>\n",
       "      <td>Albany</td>\n",
       "      <td>6.840546e+08</td>\n",
       "      <td></td>\n",
       "    </tr>\n",
       "    <tr>\n",
       "      <th>4</th>\n",
       "      <td>2015-11-08</td>\n",
       "      <td>0</td>\n",
       "      <td>109428.33</td>\n",
       "      <td>6266.85</td>\n",
       "      <td>562.37</td>\n",
       "      <td>0.0</td>\n",
       "      <td>conventional</td>\n",
       "      <td>2015</td>\n",
       "      <td>Albany</td>\n",
       "      <td>6.857709e+08</td>\n",
       "      <td></td>\n",
       "    </tr>\n",
       "    <tr>\n",
       "      <th>...</th>\n",
       "      <td>...</td>\n",
       "      <td>...</td>\n",
       "      <td>...</td>\n",
       "      <td>...</td>\n",
       "      <td>...</td>\n",
       "      <td>...</td>\n",
       "      <td>...</td>\n",
       "      <td>...</td>\n",
       "      <td>...</td>\n",
       "      <td>...</td>\n",
       "      <td>...</td>\n",
       "    </tr>\n",
       "    <tr>\n",
       "      <th>18241</th>\n",
       "      <td>2018-02-04</td>\n",
       "      <td>1</td>\n",
       "      <td>17074.83</td>\n",
       "      <td>13066.82</td>\n",
       "      <td>431.85</td>\n",
       "      <td>0.0</td>\n",
       "      <td>organic</td>\n",
       "      <td>2018</td>\n",
       "      <td>WestTexNewMexico</td>\n",
       "      <td>2.231137e+08</td>\n",
       "      <td>WestTexNewMexico</td>\n",
       "    </tr>\n",
       "    <tr>\n",
       "      <th>18242</th>\n",
       "      <td>2018-01-28</td>\n",
       "      <td>1</td>\n",
       "      <td>13888.04</td>\n",
       "      <td>8940.04</td>\n",
       "      <td>324.80</td>\n",
       "      <td>0.0</td>\n",
       "      <td>organic</td>\n",
       "      <td>2018</td>\n",
       "      <td>WestTexNewMexico</td>\n",
       "      <td>1.241596e+08</td>\n",
       "      <td>WestTexNewMexico</td>\n",
       "    </tr>\n",
       "    <tr>\n",
       "      <th>18243</th>\n",
       "      <td>2018-01-21</td>\n",
       "      <td>1</td>\n",
       "      <td>13766.76</td>\n",
       "      <td>9351.80</td>\n",
       "      <td>42.31</td>\n",
       "      <td>0.0</td>\n",
       "      <td>organic</td>\n",
       "      <td>2018</td>\n",
       "      <td>WestTexNewMexico</td>\n",
       "      <td>1.287440e+08</td>\n",
       "      <td>WestTexNewMexico</td>\n",
       "    </tr>\n",
       "    <tr>\n",
       "      <th>18244</th>\n",
       "      <td>2018-01-14</td>\n",
       "      <td>1</td>\n",
       "      <td>16205.22</td>\n",
       "      <td>10919.54</td>\n",
       "      <td>50.00</td>\n",
       "      <td>0.0</td>\n",
       "      <td>organic</td>\n",
       "      <td>2018</td>\n",
       "      <td>WestTexNewMexico</td>\n",
       "      <td>1.769535e+08</td>\n",
       "      <td>WestTexNewMexico</td>\n",
       "    </tr>\n",
       "    <tr>\n",
       "      <th>18245</th>\n",
       "      <td>2018-01-07</td>\n",
       "      <td>1</td>\n",
       "      <td>17489.58</td>\n",
       "      <td>11988.14</td>\n",
       "      <td>26.01</td>\n",
       "      <td>0.0</td>\n",
       "      <td>organic</td>\n",
       "      <td>2018</td>\n",
       "      <td>WestTexNewMexico</td>\n",
       "      <td>2.096675e+08</td>\n",
       "      <td>WestTexNewMexico</td>\n",
       "    </tr>\n",
       "  </tbody>\n",
       "</table>\n",
       "<p>18246 rows × 11 columns</p>\n",
       "</div>"
      ],
      "text/plain": [
       "            fecha  average_price  total_volume  small_bags  large_bags   \n",
       "0      2015-12-27              1      64236.62     8603.62       93.25  \\\n",
       "1      2015-12-06              1      78992.15     5677.40      133.76   \n",
       "2      2015-11-22              1      55979.78     6556.47      127.44   \n",
       "3      2015-11-15              0      83453.76     8196.81      122.05   \n",
       "4      2015-11-08              0     109428.33     6266.85      562.37   \n",
       "...           ...            ...           ...         ...         ...   \n",
       "18241  2018-02-04              1      17074.83    13066.82      431.85   \n",
       "18242  2018-01-28              1      13888.04     8940.04      324.80   \n",
       "18243  2018-01-21              1      13766.76     9351.80       42.31   \n",
       "18244  2018-01-14              1      16205.22    10919.54       50.00   \n",
       "18245  2018-01-07              1      17489.58    11988.14       26.01   \n",
       "\n",
       "       xlarge_bags          type  year            region          otra   \n",
       "0              0.0  conventional  2015            Albany  5.526675e+08  \\\n",
       "1              0.0  conventional  2015            Albany  4.484700e+08   \n",
       "2              0.0  conventional  2015            Albany  3.670297e+08   \n",
       "3              0.0  conventional  2015            Albany  6.840546e+08   \n",
       "4              0.0  conventional  2015            Albany  6.857709e+08   \n",
       "...            ...           ...   ...               ...           ...   \n",
       "18241          0.0       organic  2018  WestTexNewMexico  2.231137e+08   \n",
       "18242          0.0       organic  2018  WestTexNewMexico  1.241596e+08   \n",
       "18243          0.0       organic  2018  WestTexNewMexico  1.287440e+08   \n",
       "18244          0.0       organic  2018  WestTexNewMexico  1.769535e+08   \n",
       "18245          0.0       organic  2018  WestTexNewMexico  2.096675e+08   \n",
       "\n",
       "                ejemplo  \n",
       "0                Albany  \n",
       "1                Albany  \n",
       "2                Albany  \n",
       "3                        \n",
       "4                        \n",
       "...                 ...  \n",
       "18241  WestTexNewMexico  \n",
       "18242  WestTexNewMexico  \n",
       "18243  WestTexNewMexico  \n",
       "18244  WestTexNewMexico  \n",
       "18245  WestTexNewMexico  \n",
       "\n",
       "[18246 rows x 11 columns]"
      ]
     },
     "execution_count": 183,
     "metadata": {},
     "output_type": "execute_result"
    }
   ],
   "source": [
    "df_reset_index = df.reset_index(drop=True)\n",
    "df_reset_index"
   ]
  },
  {
   "cell_type": "markdown",
   "id": "invalid-holly",
   "metadata": {},
   "source": [
    "#### SET_INDEX"
   ]
  },
  {
   "cell_type": "code",
   "execution_count": 184,
   "id": "generic-monthly",
   "metadata": {},
   "outputs": [
    {
     "data": {
      "text/html": [
       "<div>\n",
       "<style scoped>\n",
       "    .dataframe tbody tr th:only-of-type {\n",
       "        vertical-align: middle;\n",
       "    }\n",
       "\n",
       "    .dataframe tbody tr th {\n",
       "        vertical-align: top;\n",
       "    }\n",
       "\n",
       "    .dataframe thead th {\n",
       "        text-align: right;\n",
       "    }\n",
       "</style>\n",
       "<table border=\"1\" class=\"dataframe\">\n",
       "  <thead>\n",
       "    <tr style=\"text-align: right;\">\n",
       "      <th></th>\n",
       "      <th>average_price</th>\n",
       "      <th>total_volume</th>\n",
       "      <th>small_bags</th>\n",
       "      <th>large_bags</th>\n",
       "      <th>xlarge_bags</th>\n",
       "      <th>type</th>\n",
       "      <th>year</th>\n",
       "      <th>region</th>\n",
       "      <th>otra</th>\n",
       "      <th>ejemplo</th>\n",
       "    </tr>\n",
       "    <tr>\n",
       "      <th>fecha</th>\n",
       "      <th></th>\n",
       "      <th></th>\n",
       "      <th></th>\n",
       "      <th></th>\n",
       "      <th></th>\n",
       "      <th></th>\n",
       "      <th></th>\n",
       "      <th></th>\n",
       "      <th></th>\n",
       "      <th></th>\n",
       "    </tr>\n",
       "  </thead>\n",
       "  <tbody>\n",
       "    <tr>\n",
       "      <th>2015-12-27</th>\n",
       "      <td>1</td>\n",
       "      <td>64236.62</td>\n",
       "      <td>8603.62</td>\n",
       "      <td>93.25</td>\n",
       "      <td>0.0</td>\n",
       "      <td>conventional</td>\n",
       "      <td>2015</td>\n",
       "      <td>Albany</td>\n",
       "      <td>5.526675e+08</td>\n",
       "      <td>Albany</td>\n",
       "    </tr>\n",
       "    <tr>\n",
       "      <th>2015-12-06</th>\n",
       "      <td>1</td>\n",
       "      <td>78992.15</td>\n",
       "      <td>5677.40</td>\n",
       "      <td>133.76</td>\n",
       "      <td>0.0</td>\n",
       "      <td>conventional</td>\n",
       "      <td>2015</td>\n",
       "      <td>Albany</td>\n",
       "      <td>4.484700e+08</td>\n",
       "      <td>Albany</td>\n",
       "    </tr>\n",
       "    <tr>\n",
       "      <th>2015-11-22</th>\n",
       "      <td>1</td>\n",
       "      <td>55979.78</td>\n",
       "      <td>6556.47</td>\n",
       "      <td>127.44</td>\n",
       "      <td>0.0</td>\n",
       "      <td>conventional</td>\n",
       "      <td>2015</td>\n",
       "      <td>Albany</td>\n",
       "      <td>3.670297e+08</td>\n",
       "      <td>Albany</td>\n",
       "    </tr>\n",
       "    <tr>\n",
       "      <th>2015-11-15</th>\n",
       "      <td>0</td>\n",
       "      <td>83453.76</td>\n",
       "      <td>8196.81</td>\n",
       "      <td>122.05</td>\n",
       "      <td>0.0</td>\n",
       "      <td>conventional</td>\n",
       "      <td>2015</td>\n",
       "      <td>Albany</td>\n",
       "      <td>6.840546e+08</td>\n",
       "      <td></td>\n",
       "    </tr>\n",
       "    <tr>\n",
       "      <th>2015-11-08</th>\n",
       "      <td>0</td>\n",
       "      <td>109428.33</td>\n",
       "      <td>6266.85</td>\n",
       "      <td>562.37</td>\n",
       "      <td>0.0</td>\n",
       "      <td>conventional</td>\n",
       "      <td>2015</td>\n",
       "      <td>Albany</td>\n",
       "      <td>6.857709e+08</td>\n",
       "      <td></td>\n",
       "    </tr>\n",
       "  </tbody>\n",
       "</table>\n",
       "</div>"
      ],
      "text/plain": [
       "            average_price  total_volume  small_bags  large_bags  xlarge_bags   \n",
       "fecha                                                                          \n",
       "2015-12-27              1      64236.62     8603.62       93.25          0.0  \\\n",
       "2015-12-06              1      78992.15     5677.40      133.76          0.0   \n",
       "2015-11-22              1      55979.78     6556.47      127.44          0.0   \n",
       "2015-11-15              0      83453.76     8196.81      122.05          0.0   \n",
       "2015-11-08              0     109428.33     6266.85      562.37          0.0   \n",
       "\n",
       "                    type  year  region          otra ejemplo  \n",
       "fecha                                                         \n",
       "2015-12-27  conventional  2015  Albany  5.526675e+08  Albany  \n",
       "2015-12-06  conventional  2015  Albany  4.484700e+08  Albany  \n",
       "2015-11-22  conventional  2015  Albany  3.670297e+08  Albany  \n",
       "2015-11-15  conventional  2015  Albany  6.840546e+08          \n",
       "2015-11-08  conventional  2015  Albany  6.857709e+08          "
      ]
     },
     "execution_count": 184,
     "metadata": {},
     "output_type": "execute_result"
    }
   ],
   "source": [
    "df_date = df.set_index(\"fecha\") #Le digo que colmna pasa a servir de indice en mi df\n",
    "df_date.head()"
   ]
  },
  {
   "cell_type": "markdown",
   "id": "young-intersection",
   "metadata": {},
   "source": [
    "¿Para qué nos puede servir tener la fecha como índice?    \n",
    "Lo veremos más adelante, para analizar series temporales, pero os avanzo un poco de fantasía"
   ]
  },
  {
   "cell_type": "markdown",
   "id": "6f15452c",
   "metadata": {},
   "source": [
    "![aquí nos hemos quedado](https://media.tenor.com/ZzhRs6kpGGMAAAAC/you-shall-not-pass-gandalf.gif)"
   ]
  },
  {
   "cell_type": "code",
   "execution_count": 185,
   "id": "dfe5a007",
   "metadata": {},
   "outputs": [
    {
     "ename": "NameError",
     "evalue": "name 'PARON' is not defined",
     "output_type": "error",
     "traceback": [
      "\u001b[0;31m---------------------------------------------------------------------------\u001b[0m",
      "\u001b[0;31mNameError\u001b[0m                                 Traceback (most recent call last)",
      "Cell \u001b[0;32mIn[185], line 1\u001b[0m\n\u001b[0;32m----> 1\u001b[0m \u001b[43mPARON\u001b[49m\n",
      "\u001b[0;31mNameError\u001b[0m: name 'PARON' is not defined"
     ]
    }
   ],
   "source": [
    "PARON"
   ]
  },
  {
   "cell_type": "code",
   "execution_count": null,
   "id": "tropical-equity",
   "metadata": {},
   "outputs": [],
   "source": [
    "#%conda install seaborn\n",
    "import seaborn as sns\n",
    "sns.set_context(\"poster\")\n",
    "sns.set(rc={'figure.figsize': (20.,6.)})\n",
    "sns.set_style('whitegrid')"
   ]
  },
  {
   "cell_type": "code",
   "execution_count": null,
   "id": "personal-retailer",
   "metadata": {},
   "outputs": [],
   "source": [
    "df_filtro = df_date[df_date.region == \"Albany\"]\n",
    "df_filtro.head(2)"
   ]
  },
  {
   "cell_type": "code",
   "execution_count": null,
   "id": "a6ace57e",
   "metadata": {},
   "outputs": [],
   "source": [
    "len(list(df_filtro.index))"
   ]
  },
  {
   "cell_type": "code",
   "execution_count": null,
   "id": "0f8f21c6",
   "metadata": {},
   "outputs": [],
   "source": [
    "len(set(list(df_filtro.index)))"
   ]
  },
  {
   "cell_type": "code",
   "execution_count": null,
   "id": "dcdcec3a",
   "metadata": {},
   "outputs": [],
   "source": [
    "#prueba = df_filtro.loc[~df_filtro.index.duplicated(), :]"
   ]
  },
  {
   "cell_type": "code",
   "execution_count": null,
   "id": "cheap-indianapolis",
   "metadata": {},
   "outputs": [],
   "source": [
    "sns.lineplot(data=prueba, x=prueba.index, y=prueba.small_bags)"
   ]
  },
  {
   "cell_type": "code",
   "execution_count": null,
   "id": "7e0d307f",
   "metadata": {},
   "outputs": [],
   "source": [
    "df.index.is_unique"
   ]
  },
  {
   "cell_type": "markdown",
   "id": "neutral-founder",
   "metadata": {},
   "source": [
    "### Operaciones entre columnas"
   ]
  },
  {
   "cell_type": "code",
   "execution_count": null,
   "id": "ready-current",
   "metadata": {},
   "outputs": [],
   "source": [
    "# Para generar una columna nueva solo tengo que ponerle un nombreS"
   ]
  },
  {
   "cell_type": "code",
   "execution_count": null,
   "id": "improved-philosophy",
   "metadata": {},
   "outputs": [],
   "source": [
    "df[\"nueva\"] = df.large_bags * df.small_bags\n",
    "df.head(3)"
   ]
  },
  {
   "cell_type": "markdown",
   "id": "collective-serve",
   "metadata": {},
   "source": [
    "## Apply !! "
   ]
  },
  {
   "cell_type": "markdown",
   "id": "international-james",
   "metadata": {},
   "source": [
    "Aplica una función a lo largo de un eje del DataFrame.      \n",
    "[Lee la doc](https://pandas.pydata.org/docs/reference/api/pandas.DataFrame.apply.html)"
   ]
  },
  {
   "cell_type": "code",
   "execution_count": null,
   "id": "magnetic-technology",
   "metadata": {},
   "outputs": [],
   "source": [
    "#Creamos una función sencilla que vamos a aplicar"
   ]
  },
  {
   "cell_type": "code",
   "execution_count": null,
   "id": "acknowledged-output",
   "metadata": {},
   "outputs": [],
   "source": [
    "def euros(x):\n",
    "    return f\"{x}\""
   ]
  },
  {
   "cell_type": "code",
   "execution_count": null,
   "id": "exclusive-metadata",
   "metadata": {},
   "outputs": [],
   "source": [
    "euros(5)"
   ]
  },
  {
   "cell_type": "code",
   "execution_count": null,
   "id": "prospective-blink",
   "metadata": {},
   "outputs": [],
   "source": [
    "lista = [135,14.16,164.62,23.15,26.15]"
   ]
  },
  {
   "cell_type": "code",
   "execution_count": null,
   "id": "falling-damage",
   "metadata": {},
   "outputs": [],
   "source": [
    "nuevalista = list(map(euros,lista))\n",
    "nuevalista"
   ]
  },
  {
   "cell_type": "code",
   "execution_count": null,
   "id": "799f1fb2",
   "metadata": {},
   "outputs": [],
   "source": [
    "df.head()"
   ]
  },
  {
   "cell_type": "code",
   "execution_count": null,
   "id": "domestic-richardson",
   "metadata": {},
   "outputs": [],
   "source": [
    "# Aplicamos la función a una columna y vemos el resultado en la salida"
   ]
  },
  {
   "cell_type": "code",
   "execution_count": null,
   "id": "essential-connecticut",
   "metadata": {},
   "outputs": [],
   "source": [
    "# Si quiero machacar la columna"
   ]
  },
  {
   "cell_type": "code",
   "execution_count": null,
   "id": "gorgeous-memory",
   "metadata": {},
   "outputs": [],
   "source": [
    "df.averageprice = df.averageprice.apply(euros)"
   ]
  },
  {
   "cell_type": "code",
   "execution_count": null,
   "id": "0ed534a4",
   "metadata": {},
   "outputs": [],
   "source": [
    "df.head()"
   ]
  },
  {
   "cell_type": "code",
   "execution_count": null,
   "id": "political-dining",
   "metadata": {},
   "outputs": [],
   "source": [
    "# Vamos a crear una columna nueva haciendo un apply a otra columna"
   ]
  },
  {
   "cell_type": "code",
   "execution_count": null,
   "id": "unlimited-opinion",
   "metadata": {},
   "outputs": [],
   "source": [
    "df[\"euros\"] = df.total_volume.apply(euros)"
   ]
  },
  {
   "cell_type": "code",
   "execution_count": null,
   "id": "polar-robert",
   "metadata": {},
   "outputs": [],
   "source": [
    "df.head()"
   ]
  },
  {
   "cell_type": "code",
   "execution_count": null,
   "id": "comprehensive-pepper",
   "metadata": {},
   "outputs": [],
   "source": [
    "#Hazlo con lambda!!\n",
    "# Vamos a hacer una columna nueva que junte región y año solamente si en type pone convencional y si no otra cosa"
   ]
  },
  {
   "cell_type": "code",
   "execution_count": null,
   "id": "patent-coordination",
   "metadata": {},
   "outputs": [],
   "source": [
    "df[\"fantasya\"] = df.apply(lambda fila: f\"{fila['year']}, {fila['region']}\" if fila[\"type\"] == \"conventional\" else \"OTRACOSA\", axis=1)"
   ]
  },
  {
   "cell_type": "code",
   "execution_count": null,
   "id": "virgin-client",
   "metadata": {},
   "outputs": [],
   "source": [
    "df.sample(1)"
   ]
  },
  {
   "cell_type": "code",
   "execution_count": null,
   "id": "public-israeli",
   "metadata": {},
   "outputs": [],
   "source": [
    "df[\"prueba\"] = df.apply(lambda palabra: \"loquesea\" if palabra[\"region\"] == \"Albany\" else palabra[\"euros\"], axis=1)"
   ]
  },
  {
   "cell_type": "code",
   "execution_count": null,
   "id": "78696fe9",
   "metadata": {},
   "outputs": [],
   "source": [
    "df.drop(columns=[\"lakdhfgklajh\",\"ejemplo\", \"prueba\"], inplace=True)"
   ]
  },
  {
   "cell_type": "code",
   "execution_count": null,
   "id": "43e4b4b3",
   "metadata": {},
   "outputs": [],
   "source": [
    "df.head()"
   ]
  },
  {
   "cell_type": "code",
   "execution_count": null,
   "id": "clinical-injury",
   "metadata": {},
   "outputs": [],
   "source": [
    "# Aplicamos una función que además de x tiene otro argumento."
   ]
  },
  {
   "cell_type": "code",
   "execution_count": null,
   "id": "annoying-viking",
   "metadata": {},
   "outputs": [],
   "source": [
    "def empiezapora(palabra,x):\n",
    "    if x.lower().startswith(\"a\"):\n",
    "        return x\n",
    "    else:\n",
    "        return palabra"
   ]
  },
  {
   "cell_type": "code",
   "execution_count": null,
   "id": "temporal-grounds",
   "metadata": {},
   "outputs": [],
   "source": [
    "empiezapora(\"hola\", \"gente\")"
   ]
  },
  {
   "cell_type": "code",
   "execution_count": null,
   "id": "dress-window",
   "metadata": {},
   "outputs": [],
   "source": [
    "empiezapora(\"hola\", \"jjajajaja\")"
   ]
  },
  {
   "cell_type": "code",
   "execution_count": null,
   "id": "pleased-overview",
   "metadata": {},
   "outputs": [],
   "source": [
    "df[\"nosemeocurre\"] = df.region.apply(empiezapora(\"NOEMPIEZAPORA\", ¿CÓMO C*** LE DIGO A PANDAS QUE AQUÍ VA CADA REGISTRO)"
   ]
  },
  {
   "cell_type": "code",
   "execution_count": null,
   "id": "associate-hunger",
   "metadata": {},
   "outputs": [],
   "source": [
    "# no puedo, tengo que hacerlo con lambda como hemos hecho arriba"
   ]
  },
  {
   "cell_type": "markdown",
   "id": "organized-central",
   "metadata": {},
   "source": [
    "Cuando hago un apply sobre una columna, aunque use un lambda, no pongo axis porque en el caso de abajo, lo que estoy haciendo es modificar una columna, utilizo lambda para decirle al apply que el primer argumento es un string que viene de fuera y el segundo argumento es el propio registro del dataframe. "
   ]
  },
  {
   "cell_type": "code",
   "execution_count": null,
   "id": "strange-fraction",
   "metadata": {},
   "outputs": [],
   "source": [
    "df[\"columna_a\"] = df.region.apply(lambda registro: (empiezapora(\"OTRACOSA\", registro)))"
   ]
  },
  {
   "cell_type": "code",
   "execution_count": null,
   "id": "assured-medication",
   "metadata": {},
   "outputs": [],
   "source": [
    "df.sample(5)"
   ]
  },
  {
   "cell_type": "markdown",
   "id": "62ff68d7",
   "metadata": {},
   "source": [
    "[Artículo Medium](https://towardsdatascience.com/apply-and-lambda-usage-in-pandas-b13a1ea037f7)     \n",
    "[Otro Artículo](https://www.geeksforgeeks.org/applying-lambda-functions-to-pandas-dataframe/)      \n",
    "[La DOCU es tu amiga](https://pandas.pydata.org/docs/reference/api/pandas.DataFrame.apply.html)"
   ]
  },
  {
   "cell_type": "markdown",
   "id": "occupational-intro",
   "metadata": {},
   "source": [
    "# Df .loc e .iloc"
   ]
  },
  {
   "cell_type": "markdown",
   "id": "confused-tower",
   "metadata": {},
   "source": [
    "### Seleccionar filas y columnas en Pandas mediante posición con iloc"
   ]
  },
  {
   "cell_type": "markdown",
   "id": "affecting-hartford",
   "metadata": {},
   "source": [
    "El método iloc se utiliza en los DataFrames para seleccionar los elementos en base a su ubicación. Su sintaxis es data.iloc[<filas>, <columnas>], donde <filas> y <columnas> son la posición de las filas y columnas que se desean seleccionar en el orden que aparecen en el objeto. Una notación familiar para los usuarios de Matlab. En un DataFrame cada una de las filas tiene un número que va desde 0 hasta el total de filas menos uno. Siendo iloc el método que permite seleccionar los datos en base a estos números. Lo mismo que aplica a las columnas.\n",
    "\n",
    "En iloc hay dos argumentos filas y columnas. En caso de que se omita el segundo, se seleccionarán todas las columnas de la fila. Así para seleccionar diferentes filas se puede utilizar."
   ]
  },
  {
   "cell_type": "code",
   "execution_count": null,
   "id": "welcome-doctor",
   "metadata": {},
   "outputs": [],
   "source": [
    "#seleccionamos un registro completo\n",
    "df.iloc[0]"
   ]
  },
  {
   "cell_type": "code",
   "execution_count": null,
   "id": "sitting-morrison",
   "metadata": {},
   "outputs": [],
   "source": [
    "#un rango de registros con sliding\n",
    "df.iloc[0:5]"
   ]
  },
  {
   "cell_type": "code",
   "execution_count": null,
   "id": "unnecessary-lewis",
   "metadata": {},
   "outputs": [],
   "source": [
    "# Registros de la primera columna\n",
    "df.iloc[-1:, [0]]"
   ]
  },
  {
   "cell_type": "code",
   "execution_count": null,
   "id": "d4a01a34",
   "metadata": {},
   "outputs": [],
   "source": [
    "df.iloc[0:5, [1]]"
   ]
  },
  {
   "cell_type": "code",
   "execution_count": null,
   "id": "capital-bahrain",
   "metadata": {},
   "outputs": [],
   "source": [
    "# El segundo argumento, en este caso el número 1, es la columna, aquí no pasamos string si no posición."
   ]
  },
  {
   "cell_type": "code",
   "execution_count": null,
   "id": "scenic-raising",
   "metadata": {},
   "outputs": [],
   "source": [
    "df.iloc[0:5, [0,3]]"
   ]
  },
  {
   "cell_type": "code",
   "execution_count": null,
   "id": "informational-logic",
   "metadata": {},
   "outputs": [],
   "source": [
    "# COLUMNAS POR RANGO"
   ]
  },
  {
   "cell_type": "code",
   "execution_count": null,
   "id": "blessed-transcript",
   "metadata": {},
   "outputs": [],
   "source": [
    "df.iloc[14:24, 3:7]"
   ]
  },
  {
   "cell_type": "markdown",
   "id": "awful-friday",
   "metadata": {},
   "source": [
    "### Seleccionar filas y columnas en Pandas en base a etiquetas con loc\n",
    "El método loc se puede usar de dos formas diferentes: seleccionar filas o columnas en base a una etiqueta o seleccionar filas o columnas en base a una condición."
   ]
  },
  {
   "cell_type": "markdown",
   "id": "compressed-bookmark",
   "metadata": {},
   "source": [
    "#### En base a etiqueta"
   ]
  },
  {
   "cell_type": "code",
   "execution_count": null,
   "id": "8a05e47d",
   "metadata": {},
   "outputs": [],
   "source": [
    "# Loc busca DENTRO del INDEX algo concreto"
   ]
  },
  {
   "cell_type": "code",
   "execution_count": null,
   "id": "headed-transfer",
   "metadata": {},
   "outputs": [],
   "source": [
    "df_index_date = df.set_index(\"date\") #Creo un data nuevo para probar en el que el index es la fecha\n",
    "df_index_date.head(3)"
   ]
  },
  {
   "cell_type": "code",
   "execution_count": null,
   "id": "norwegian-active",
   "metadata": {},
   "outputs": [],
   "source": [
    "df_index_date.loc[\"2015-12-06\"].head() # Busco una fecha dentro del index con LOC"
   ]
  },
  {
   "cell_type": "code",
   "execution_count": null,
   "id": "preceding-infrastructure",
   "metadata": {},
   "outputs": [],
   "source": [
    "filtrado = df.loc[(df[\"year\"] > 2014) & (df[\"region\"]==\"Albany\")] #Loc funciona pero realmnte NO LO NECESITO"
   ]
  },
  {
   "cell_type": "code",
   "execution_count": null,
   "id": "87ca2374",
   "metadata": {},
   "outputs": [],
   "source": [
    "filtrado.head(2)"
   ]
  },
  {
   "cell_type": "markdown",
   "id": "behind-celebration",
   "metadata": {},
   "source": [
    "Sintaxis del loc con varias condiciones\n",
    "```python \n",
    "df.loc[(df[\"columna\"] condición) & (df[\"columna\"] condición)]\n",
    "````"
   ]
  },
  {
   "cell_type": "markdown",
   "id": "written-canberra",
   "metadata": {},
   "source": [
    "Misma operación, pero dame solo columnas concretas"
   ]
  },
  {
   "cell_type": "code",
   "execution_count": null,
   "id": "found-insulation",
   "metadata": {},
   "outputs": [],
   "source": [
    "# Esta selección de columnas la vimos al principio, pasarle una lista para que coja solo las columnas que quiero"
   ]
  },
  {
   "cell_type": "code",
   "execution_count": null,
   "id": "73ddb28e",
   "metadata": {},
   "outputs": [],
   "source": [
    "filtrado_ = df.loc[(df[\"year\"] > 2014) & (df[\"region\"]==\"Albany\"), [\"type\", \"year\", \"region\"]]\n",
    "filtrado_ .head()"
   ]
  },
  {
   "cell_type": "markdown",
   "id": "photographic-fortune",
   "metadata": {},
   "source": [
    "## Ordenamos un dataframe"
   ]
  },
  {
   "cell_type": "code",
   "execution_count": null,
   "id": "equal-folks",
   "metadata": {},
   "outputs": [],
   "source": [
    "df.sort_values(by=\"year\",ascending=False).head() #Ascending FALSE de mayor a menor"
   ]
  },
  {
   "cell_type": "code",
   "execution_count": null,
   "id": "72092973",
   "metadata": {},
   "outputs": [],
   "source": [
    "df.sort_values(by=\"year\",ascending=False)[\"averageprice\"].head() #Ascending FALSE de mayor a menor"
   ]
  },
  {
   "cell_type": "code",
   "execution_count": null,
   "id": "893afd75",
   "metadata": {},
   "outputs": [],
   "source": [
    "guardar_ordenado = df.sort_values(by=\"large_bags\") #Lo puedo guardar en una variable"
   ]
  },
  {
   "cell_type": "code",
   "execution_count": null,
   "id": "77efa8bc",
   "metadata": {},
   "outputs": [],
   "source": [
    "guardar_ordenado.head()"
   ]
  },
  {
   "cell_type": "code",
   "execution_count": null,
   "id": "f022e43a",
   "metadata": {},
   "outputs": [],
   "source": [
    "df.sort_values(by=[\"date\", \"region\"]).head() #ORDENAR POR VARIAS COLUMNAS"
   ]
  },
  {
   "cell_type": "markdown",
   "id": "defensive-print",
   "metadata": {},
   "source": [
    "### Buscamos valores nulos "
   ]
  },
  {
   "cell_type": "code",
   "execution_count": null,
   "id": "graphic-treasure",
   "metadata": {},
   "outputs": [],
   "source": [
    "import seaborn as sns"
   ]
  },
  {
   "cell_type": "code",
   "execution_count": null,
   "id": "intimate-account",
   "metadata": {},
   "outputs": [],
   "source": [
    "df_titanic = sns.load_dataset(\"titanic\")\n",
    "df_titanic.head()"
   ]
  },
  {
   "cell_type": "markdown",
   "id": "english-baseline",
   "metadata": {},
   "source": [
    "#### ¿Es nulo?"
   ]
  },
  {
   "cell_type": "code",
   "execution_count": null,
   "id": "desirable-separation",
   "metadata": {},
   "outputs": [],
   "source": [
    "df_titanic.isna().head()"
   ]
  },
  {
   "cell_type": "markdown",
   "id": "complicated-official",
   "metadata": {},
   "source": [
    "#### ¿Es NO nulo?"
   ]
  },
  {
   "cell_type": "code",
   "execution_count": null,
   "id": "involved-private",
   "metadata": {},
   "outputs": [],
   "source": [
    "df_titanic.notna().head()"
   ]
  },
  {
   "cell_type": "markdown",
   "id": "aggregate-glass",
   "metadata": {},
   "source": [
    "#### Sacar una suma de los valores nulos de cada columna"
   ]
  },
  {
   "cell_type": "code",
   "execution_count": null,
   "id": "disciplinary-finder",
   "metadata": {},
   "outputs": [],
   "source": [
    "df_titanic.isna().sum()"
   ]
  },
  {
   "cell_type": "markdown",
   "id": "dramatic-victoria",
   "metadata": {},
   "source": [
    "### Borramos los valores nulos\n",
    "Hay varias formas de hacerlo, tenemos en cuenta el parámetro \"how\" y, desde luego, [nos leemos la documentación](https://pandas.pydata.org/pandas-docs/stable/reference/api/pandas.DataFrame.dropna.html)."
   ]
  },
  {
   "cell_type": "code",
   "execution_count": null,
   "id": "distant-nickname",
   "metadata": {},
   "outputs": [],
   "source": [
    "df_titanic.shape"
   ]
  },
  {
   "cell_type": "code",
   "execution_count": null,
   "id": "removable-bridal",
   "metadata": {},
   "outputs": [],
   "source": [
    "#Con \"all\" borramos donde TODOS los registros sean NaN"
   ]
  },
  {
   "cell_type": "code",
   "execution_count": null,
   "id": "9d642d7a",
   "metadata": {},
   "outputs": [],
   "source": [
    "df_titanic.dropna(how=\"all\", inplace=True)"
   ]
  },
  {
   "cell_type": "code",
   "execution_count": null,
   "id": "burning-flood",
   "metadata": {},
   "outputs": [],
   "source": [
    "df_titanic.dropna(inplace=True)"
   ]
  },
  {
   "cell_type": "code",
   "execution_count": null,
   "id": "2a18113c",
   "metadata": {},
   "outputs": [],
   "source": [
    "df_titanic.shape"
   ]
  },
  {
   "cell_type": "code",
   "execution_count": null,
   "id": "according-dressing",
   "metadata": {},
   "outputs": [],
   "source": [
    "# NUNCA BORRAMOS LOS NAN A LO LOCO, OS LO SUPLICO \n",
    "# Si no pongo nada, axis = 0 entonces borra todas las filas que contengan un NaN da igual en qué columna\n",
    "# SI PONGO 1 borramos las columnas"
   ]
  },
  {
   "cell_type": "code",
   "execution_count": null,
   "id": "clean-climb",
   "metadata": {},
   "outputs": [],
   "source": [
    "# si hago drop axis=1 lo que borramos son las columnas, ESTO TAMPOCO LO HACEMOS POR FAVOR\n",
    "df_titanic.dropna(how=\"all\", axis=1)"
   ]
  },
  {
   "cell_type": "code",
   "execution_count": null,
   "id": "found-showcase",
   "metadata": {},
   "outputs": [],
   "source": [
    "# BORRAMOS LOS REGISTROS DONDE TODO SEA NAN (poner axis=0 es lo mismo que nada porque viene por defecto)\n",
    "# si hago drop axis=1 lo que borramos son las columnas, ESTO TAMPOCO LO HACEMOS POR FAVOR\n",
    "df_titanic.dropna(how=\"all\", axis=0)"
   ]
  },
  {
   "cell_type": "code",
   "execution_count": null,
   "id": "worthy-official",
   "metadata": {},
   "outputs": [],
   "source": [
    "# Borramos las columnas donde todo sea NAN\n",
    "df_titanic.dropna(how=\"all\", axis=1)"
   ]
  },
  {
   "cell_type": "markdown",
   "id": "chicken-pregnancy",
   "metadata": {},
   "source": [
    "RECORDAD QUE INPLACE TRUE ES PARA QUE EL MÉTODO ACCIONE SOBRE EL DF, SI NO, TENGO QUE GUARDARLO EN UNA VARIABLE NUEVA"
   ]
  },
  {
   "cell_type": "markdown",
   "id": "american-fluid",
   "metadata": {},
   "source": [
    "🧨🧨🧨🧨\n",
    "\n",
    "Con \"any\" (**parámetro por default**  👀 con no poner nada) se borran todos los registros en los que en ***alguna columna*** haya un NaN \n",
    "\n",
    "🧨🧨🧨🧨"
   ]
  },
  {
   "cell_type": "markdown",
   "id": "partial-medicare",
   "metadata": {},
   "source": [
    "### Cómo rellenar los datos que faltan"
   ]
  },
  {
   "cell_type": "markdown",
   "id": "exclusive-custody",
   "metadata": {},
   "source": [
    "¿Qué os parece un poquito de  📚[DOCU](https://pandas.pydata.org/docs/reference/api/pandas.DataFrame.fillna.html)?"
   ]
  },
  {
   "cell_type": "code",
   "execution_count": null,
   "id": "neural-brown",
   "metadata": {},
   "outputs": [],
   "source": [
    "df_titanic.head()"
   ]
  },
  {
   "cell_type": "code",
   "execution_count": null,
   "id": "medical-methodology",
   "metadata": {},
   "outputs": [],
   "source": [
    "df_titanic.isna().sum()"
   ]
  },
  {
   "cell_type": "code",
   "execution_count": null,
   "id": "intelligent-administration",
   "metadata": {},
   "outputs": [],
   "source": [
    "#FILLNA es el método que me va a permitir rellenar los NAN con lo que yo le ponga\n",
    "df_titanic.age.fillna(df_titanic.age.mean(), inplace=True)"
   ]
  },
  {
   "cell_type": "code",
   "execution_count": null,
   "id": "logical-cleveland",
   "metadata": {},
   "outputs": [],
   "source": [
    "df_titanic.age.isna().sum()"
   ]
  },
  {
   "cell_type": "code",
   "execution_count": null,
   "id": "tracked-mouth",
   "metadata": {},
   "outputs": [],
   "source": [
    "df_titanic.embarked.fillna(\"Otracosa\",inplace=True)"
   ]
  },
  {
   "cell_type": "code",
   "execution_count": null,
   "id": "macro-macedonia",
   "metadata": {},
   "outputs": [],
   "source": [
    "df_titanic.loc[df_titanic[\"embarked\"] == \"Otracosa\"]"
   ]
  },
  {
   "cell_type": "code",
   "execution_count": null,
   "id": "brutal-leave",
   "metadata": {},
   "outputs": [],
   "source": []
  },
  {
   "cell_type": "code",
   "execution_count": null,
   "id": "dried-campus",
   "metadata": {},
   "outputs": [],
   "source": []
  },
  {
   "cell_type": "code",
   "execution_count": null,
   "id": "recovered-provider",
   "metadata": {},
   "outputs": [],
   "source": []
  },
  {
   "cell_type": "code",
   "execution_count": null,
   "id": "complex-radiation",
   "metadata": {},
   "outputs": [],
   "source": []
  },
  {
   "cell_type": "code",
   "execution_count": null,
   "id": "successful-requirement",
   "metadata": {},
   "outputs": [],
   "source": []
  },
  {
   "cell_type": "markdown",
   "id": "israeli-billion",
   "metadata": {},
   "source": [
    "##### CATEGÓRICAS EN DATAFRAME \n",
    "🔎📚➡[DOCU](https://runebook.dev/es/docs/pandas/user_guide/categorical)"
   ]
  },
  {
   "cell_type": "code",
   "execution_count": null,
   "id": "f39579f8",
   "metadata": {},
   "outputs": [],
   "source": [
    "df_titanic = sns.load_dataset(\"titanic\")\n",
    "df_titanic.head()"
   ]
  },
  {
   "cell_type": "code",
   "execution_count": null,
   "id": "b5b69069",
   "metadata": {},
   "outputs": [],
   "source": [
    "df_titanic.info()"
   ]
  },
  {
   "cell_type": "code",
   "execution_count": null,
   "id": "51071b4c",
   "metadata": {},
   "outputs": [],
   "source": [
    "df_titanic.deck.value_counts()"
   ]
  },
  {
   "cell_type": "code",
   "execution_count": null,
   "id": "78d79698",
   "metadata": {},
   "outputs": [],
   "source": [
    "df_titanic.deck.isna().sum()"
   ]
  },
  {
   "cell_type": "code",
   "execution_count": null,
   "id": "c712b323",
   "metadata": {},
   "outputs": [],
   "source": [
    "df_titanic.deck.values.categories"
   ]
  },
  {
   "cell_type": "code",
   "execution_count": null,
   "id": "ac0075f1",
   "metadata": {},
   "outputs": [],
   "source": [
    "#df_titanic.deck.fillna(\"Unknown\", inplace=True) # ERROR LO DEJO A PROPÓSITO porque no puedo añadir una categoría que no está\n"
   ]
  },
  {
   "cell_type": "code",
   "execution_count": null,
   "id": "af90a1f7",
   "metadata": {},
   "outputs": [],
   "source": [
    "df_titanic.deck.cat.add_categories(\"Desconocido\", inplace=True)"
   ]
  },
  {
   "cell_type": "code",
   "execution_count": null,
   "id": "3ff7138c",
   "metadata": {},
   "outputs": [],
   "source": [
    "df_titanic.deck.values.categories"
   ]
  },
  {
   "cell_type": "code",
   "execution_count": null,
   "id": "dd18d6bc",
   "metadata": {},
   "outputs": [],
   "source": [
    "df_titanic.deck.fillna(\"Desconocido\", inplace=True) # Ahora ya puedo hacer fillna con Desconocido "
   ]
  },
  {
   "cell_type": "code",
   "execution_count": null,
   "id": "random-austin",
   "metadata": {},
   "outputs": [],
   "source": [
    "# ValueError: Cannot setitem on a Categorical with a new category, set the categories first\n",
    "df_titanic.info()"
   ]
  },
  {
   "cell_type": "code",
   "execution_count": null,
   "id": "tight-carolina",
   "metadata": {},
   "outputs": [],
   "source": [
    "joder = [{\"key\": 5},{\"key\":6.3}]"
   ]
  },
  {
   "cell_type": "code",
   "execution_count": null,
   "id": "493f9c17",
   "metadata": {},
   "outputs": [],
   "source": [
    "quesale = pd.DataFrame(joder)\n",
    "quesale.info()"
   ]
  },
  {
   "cell_type": "code",
   "execution_count": null,
   "id": "a6a89602",
   "metadata": {},
   "outputs": [],
   "source": [
    "quesale.to_csv(\"probando\", index=False)"
   ]
  },
  {
   "cell_type": "code",
   "execution_count": null,
   "id": "d9cf66c9",
   "metadata": {},
   "outputs": [],
   "source": [
    "data = pd.read_csv(\"probando\")"
   ]
  },
  {
   "cell_type": "code",
   "execution_count": null,
   "id": "f0ac9166",
   "metadata": {},
   "outputs": [],
   "source": [
    "data.head()"
   ]
  },
  {
   "cell_type": "code",
   "execution_count": null,
   "id": "1377720b",
   "metadata": {},
   "outputs": [],
   "source": [
    "data.info()"
   ]
  },
  {
   "cell_type": "code",
   "execution_count": null,
   "id": "4f8d01f9",
   "metadata": {},
   "outputs": [],
   "source": [
    "data.to_csv(\"otravez\", index=False)"
   ]
  },
  {
   "cell_type": "markdown",
   "id": "documentary-declaration",
   "metadata": {},
   "source": [
    "## Borramos los duplicados"
   ]
  },
  {
   "cell_type": "code",
   "execution_count": null,
   "id": "settled-february",
   "metadata": {},
   "outputs": [],
   "source": [
    "df_titanic.drop_duplicates().head()"
   ]
  },
  {
   "cell_type": "code",
   "execution_count": null,
   "id": "90b89a62",
   "metadata": {},
   "outputs": [],
   "source": [
    "np.isnan(df.loc[3][\"large_bags\"])"
   ]
  },
  {
   "cell_type": "code",
   "execution_count": null,
   "id": "b642c667",
   "metadata": {},
   "outputs": [],
   "source": [
    "df.loc[3][\"type\"]"
   ]
  },
  {
   "cell_type": "markdown",
   "id": "tamil-gibson",
   "metadata": {},
   "source": [
    "# Agregación de datos\n",
    "## GroupBy (nos suena?? 🤔)\n",
    "GroupBy de Pandas es una función potente y versátil en Python. Nos permite dividir sus datos en grupos separados para realizar cálculos para un mejor análisis.\n",
    "Un DataFrame puede agruparse en sus filas (eje=0) o en sus columnas (eje=1). Una vez hecho esto, se aplica una función a cada grupo, produciendo un nuevo valor. Finalmente, los resultados de todas esas aplicaciones de funciones se combinan en un objeto resultado. La forma del objeto resultante dependerá normalmente de lo que se haga con los datos."
   ]
  },
  {
   "cell_type": "markdown",
   "id": "surprised-malpractice",
   "metadata": {},
   "source": [
    "https://pandas.pydata.org/docs/reference/api/pandas.DataFrame.groupby.html"
   ]
  },
  {
   "cell_type": "code",
   "execution_count": null,
   "id": "checked-stranger",
   "metadata": {},
   "outputs": [],
   "source": [
    "df = pd.DataFrame({'key1' : ['a', 'a', 'b', 'b', 'a'], 'key2' : ['one', 'two', 'one', 'two', 'one'],'data1' : np.random.randn(5),'data2' : np.random.randn(5)})"
   ]
  },
  {
   "cell_type": "code",
   "execution_count": null,
   "id": "incredible-shopping",
   "metadata": {},
   "outputs": [],
   "source": [
    "df.head()"
   ]
  },
  {
   "cell_type": "markdown",
   "id": "separate-tsunami",
   "metadata": {},
   "source": [
    "Supongamos que queremos calcular la media de la columna data1 utilizando las etiquetas de key1. Hay varias formas de hacerlo. Una es acceder a datos1 y llamar a groupby con la columna (una Serie) en key1.\n",
    "Los datos (una Serie) han sido agregados según la clave de grupo, produciendo una nueva Serie que ahora está indexada por los valores únicos de la columna clave1. El índice resultante tiene el nombre 'clave1' porque la columna DataFrame `df['clave1']` lo hizo."
   ]
  },
  {
   "cell_type": "code",
   "execution_count": null,
   "id": "worldwide-biography",
   "metadata": {},
   "outputs": [],
   "source": [
    "group = df[\"data1\"].groupby(df[\"key1\"]).mean()"
   ]
  },
  {
   "cell_type": "code",
   "execution_count": null,
   "id": "identified-conducting",
   "metadata": {},
   "outputs": [],
   "source": [
    "group # ESTO ES UNA SERIE DE PANDAS"
   ]
  },
  {
   "cell_type": "code",
   "execution_count": null,
   "id": "183032fb",
   "metadata": {},
   "outputs": [],
   "source": [
    "type(group)"
   ]
  },
  {
   "cell_type": "code",
   "execution_count": null,
   "id": "399c808c",
   "metadata": {},
   "outputs": [],
   "source": [
    "dataframe = pd.DataFrame(df[\"data1\"].groupby(df[\"key1\"]).mean())"
   ]
  },
  {
   "cell_type": "code",
   "execution_count": null,
   "id": "09587b26",
   "metadata": {},
   "outputs": [],
   "source": [
    "dataframe"
   ]
  },
  {
   "cell_type": "code",
   "execution_count": null,
   "id": "1e4d3c75",
   "metadata": {},
   "outputs": [],
   "source": [
    "avocado = pd.read_csv(\"../datasets/avocado_kaggle.csv\")\n",
    "avocado.sample()"
   ]
  },
  {
   "cell_type": "code",
   "execution_count": null,
   "id": "3b9269da",
   "metadata": {},
   "outputs": [],
   "source": [
    "avocado[\"AveragePrice\"].groupby(avocado[\"type\"]).mean()"
   ]
  },
  {
   "cell_type": "markdown",
   "id": "imposed-village",
   "metadata": {},
   "source": [
    "### Pero, ¿y si quiero agrupar por más columnas?"
   ]
  },
  {
   "cell_type": "code",
   "execution_count": null,
   "id": "equal-radio",
   "metadata": {},
   "outputs": [],
   "source": [
    "df.groupby([\"key1\", \"key2\"]).mean()"
   ]
  },
  {
   "cell_type": "markdown",
   "id": "rising-outside",
   "metadata": {},
   "source": [
    "Otra forma de groupby con sintaxis agg     \n",
    "https://pandas.pydata.org/docs/reference/api/pandas.core.groupby.DataFrameGroupBy.aggregate.html\n",
    "\n",
    "- mean\n",
    "- sum\n",
    "- count"
   ]
  },
  {
   "cell_type": "code",
   "execution_count": null,
   "id": "cross-guatemala",
   "metadata": {},
   "outputs": [],
   "source": [
    "df.groupby(\"key1\").agg({\"data1\": \"sum\"})"
   ]
  },
  {
   "cell_type": "code",
   "execution_count": null,
   "id": "intellectual-median",
   "metadata": {},
   "outputs": [],
   "source": [
    "df.groupby(\"key2\").agg({\"data1\": \"sum\", \"data2\":\"mean\"})"
   ]
  },
  {
   "cell_type": "code",
   "execution_count": null,
   "id": "express-mentor",
   "metadata": {},
   "outputs": [],
   "source": [
    "avocado.sample()"
   ]
  },
  {
   "cell_type": "code",
   "execution_count": null,
   "id": "dominant-minutes",
   "metadata": {},
   "outputs": [],
   "source": [
    "avocado.groupby(\"region\").agg({\"AveragePrice\":\"mean\", \"Total Bags\": \"sum\"})"
   ]
  },
  {
   "cell_type": "code",
   "execution_count": null,
   "id": "traditional-heavy",
   "metadata": {},
   "outputs": [],
   "source": [
    "meloguardo = avocado.groupby([\"region\", \"type\"]).agg({\"AveragePrice\":\"mean\", \"Total Bags\": \"sum\"})"
   ]
  },
  {
   "cell_type": "code",
   "execution_count": null,
   "id": "d756a206",
   "metadata": {},
   "outputs": [],
   "source": [
    "meloguardo.head(20)"
   ]
  },
  {
   "cell_type": "code",
   "execution_count": null,
   "id": "christian-trigger",
   "metadata": {},
   "outputs": [],
   "source": [
    "# Esto es lo mismo que lo anterior, añado la columna AGE y al final hago la media"
   ]
  },
  {
   "cell_type": "code",
   "execution_count": null,
   "id": "essential-computer",
   "metadata": {},
   "outputs": [],
   "source": [
    "df_titanic.groupby([\"sex\", \"class\"]).agg({\"age\":\"mean\"})"
   ]
  },
  {
   "cell_type": "markdown",
   "id": "innovative-hormone",
   "metadata": {},
   "source": [
    "## Uniendo de Dataframes\n",
    "- https://realpython.com/pandas-merge-join-and-concat/\n",
    "- https://pandas.pydata.org/pandas-docs/stable/user_guide/merging.html\n",
    "\n",
    "\n",
    "## Concat\n",
    "Unimos dataframes a lo largo del axis 0 uno debajo de otro. Alinea las columnas por etiqueta. Lo que viene siendo un union de SQL verdad?"
   ]
  },
  {
   "cell_type": "code",
   "execution_count": null,
   "id": "stuck-activity",
   "metadata": {},
   "outputs": [],
   "source": [
    "import pandas as pd"
   ]
  },
  {
   "cell_type": "code",
   "execution_count": null,
   "id": "narrow-maximum",
   "metadata": {},
   "outputs": [],
   "source": [
    "df = pd.read_csv('https://raw.githubusercontent.com/justmarkham/DAT8/master/data/u.user',\n",
    "                             sep='|', \n",
    "                             index_col='user_id')"
   ]
  },
  {
   "cell_type": "code",
   "execution_count": null,
   "id": "beginning-liver",
   "metadata": {},
   "outputs": [],
   "source": [
    "df.head()"
   ]
  },
  {
   "cell_type": "code",
   "execution_count": null,
   "id": "common-wright",
   "metadata": {},
   "outputs": [],
   "source": [
    "uno=df.sample(frac=0.3)\n",
    "dos=df.sample(frac=0.4)"
   ]
  },
  {
   "cell_type": "code",
   "execution_count": null,
   "id": "framed-philadelphia",
   "metadata": {},
   "outputs": [],
   "source": [
    "uno.head()"
   ]
  },
  {
   "cell_type": "code",
   "execution_count": null,
   "id": "differential-testament",
   "metadata": {},
   "outputs": [],
   "source": [
    "dos.head()"
   ]
  },
  {
   "cell_type": "code",
   "execution_count": null,
   "id": "deadly-publicity",
   "metadata": {},
   "outputs": [],
   "source": [
    "uno.shape, dos.shape"
   ]
  },
  {
   "cell_type": "code",
   "execution_count": null,
   "id": "polyphonic-motion",
   "metadata": {},
   "outputs": [],
   "source": [
    "pd.concat([uno, dos]).head()  # esto recibe una lista de dataframes"
   ]
  },
  {
   "cell_type": "code",
   "execution_count": null,
   "id": "tested-burner",
   "metadata": {},
   "outputs": [],
   "source": [
    "concatenado=pd.concat([uno, dos])\n",
    "\n",
    "concatenado.shape"
   ]
  },
  {
   "cell_type": "code",
   "execution_count": null,
   "id": "vertical-tulsa",
   "metadata": {},
   "outputs": [],
   "source": [
    "# Podemos concatenar uno al lado del otro pero tienen que tener el mismo número de filas"
   ]
  },
  {
   "cell_type": "code",
   "execution_count": null,
   "id": "substantial-public",
   "metadata": {},
   "outputs": [],
   "source": [
    "concat_h=pd.concat([uno, uno], axis=1)"
   ]
  },
  {
   "cell_type": "code",
   "execution_count": null,
   "id": "narrative-receptor",
   "metadata": {},
   "outputs": [],
   "source": [
    "concat_h.head()"
   ]
  },
  {
   "cell_type": "markdown",
   "id": "weekly-klein",
   "metadata": {},
   "source": [
    "### Merge"
   ]
  },
  {
   "cell_type": "markdown",
   "id": "fluid-composer",
   "metadata": {},
   "source": [
    "[Merge()](https://pandas.pydata.org/docs/reference/api/pandas.DataFrame.merge.html) es más útil cuando se desea combinar filas que comparten datos."
   ]
  },
  {
   "cell_type": "code",
   "execution_count": null,
   "id": "northern-approach",
   "metadata": {},
   "outputs": [],
   "source": [
    "df1=pd.DataFrame({'lkey': ['k0', 'k1', 'k2'],\n",
    "                   'B': [1, 2, 3]})\n",
    "\n",
    "df2=pd.DataFrame({'rkey': ['k0', 'k1', 'k2'],\n",
    "                   'B': [4, 6, 7]})"
   ]
  },
  {
   "cell_type": "code",
   "execution_count": null,
   "id": "dangerous-bandwidth",
   "metadata": {},
   "outputs": [],
   "source": [
    "df3=pd.DataFrame({'rkey': ['k0', 'k1', 'k2'],\n",
    "                   'Otracol': [4, 6, 7]})"
   ]
  },
  {
   "cell_type": "code",
   "execution_count": null,
   "id": "grand-programming",
   "metadata": {},
   "outputs": [],
   "source": [
    "df1.head()"
   ]
  },
  {
   "cell_type": "code",
   "execution_count": null,
   "id": "increased-tractor",
   "metadata": {},
   "outputs": [],
   "source": [
    "df2.head()"
   ]
  },
  {
   "cell_type": "code",
   "execution_count": null,
   "id": "opposed-seminar",
   "metadata": {},
   "outputs": [],
   "source": [
    "mergeado=df1.merge(df2, left_on='lkey', right_on='rkey', suffixes=['_izq', 'dcha'])\n",
    "\n",
    "mergeado"
   ]
  },
  {
   "cell_type": "code",
   "execution_count": null,
   "id": "american-chance",
   "metadata": {},
   "outputs": [],
   "source": [
    "df3.head()"
   ]
  },
  {
   "cell_type": "code",
   "execution_count": null,
   "id": "lightweight-bleeding",
   "metadata": {},
   "outputs": [],
   "source": [
    "mer_merge=mergeado.merge(df3, left_on='lkey', right_on='rkey')"
   ]
  },
  {
   "cell_type": "code",
   "execution_count": null,
   "id": "functioning-morning",
   "metadata": {},
   "outputs": [],
   "source": [
    "mer_merge.head()"
   ]
  },
  {
   "cell_type": "code",
   "execution_count": null,
   "id": "fifteen-reality",
   "metadata": {},
   "outputs": [],
   "source": [
    "# Una vez hemos mergeado, nos interesa eliminar la columna repetida"
   ]
  },
  {
   "cell_type": "code",
   "execution_count": null,
   "id": "extensive-collaboration",
   "metadata": {},
   "outputs": [],
   "source": [
    "mer_merge.drop(columns=['rkey_x', 'rkey_y'])"
   ]
  },
  {
   "cell_type": "markdown",
   "id": "encouraging-violence",
   "metadata": {},
   "source": [
    "# Cuando no me coinciden los datos"
   ]
  },
  {
   "cell_type": "code",
   "execution_count": null,
   "id": "differential-cross",
   "metadata": {},
   "outputs": [],
   "source": [
    "df1=pd.DataFrame({'lkey': ['k0', 'k1', 'k2'],\n",
    "                   'B': [1, 2, 3]})\n",
    "\n",
    "df2=pd.DataFrame({'rkey': ['k0', 'k1', 'k3'],\n",
    "                   'B': [4, 6, 7]})"
   ]
  },
  {
   "cell_type": "code",
   "execution_count": null,
   "id": "touched-agency",
   "metadata": {},
   "outputs": [],
   "source": [
    "df1"
   ]
  },
  {
   "cell_type": "code",
   "execution_count": null,
   "id": "offensive-prospect",
   "metadata": {},
   "outputs": [],
   "source": [
    "df2"
   ]
  },
  {
   "cell_type": "code",
   "execution_count": null,
   "id": "green-feedback",
   "metadata": {},
   "outputs": [],
   "source": [
    "df1.merge(df2, left_on='lkey', right_on='rkey')"
   ]
  },
  {
   "cell_type": "code",
   "execution_count": null,
   "id": "chicken-degree",
   "metadata": {},
   "outputs": [],
   "source": [
    "uno_2=pd.DataFrame({'nombre_uno': ['ras', 'sonia', 'ana', 'dobby', 'k4'],\n",
    "                  'dirección': ['calle fantasía', 'a1', 'a2', 'a3', 'a4']})\n",
    "\n",
    "otro_2=pd.DataFrame({'nombre_dos': ['ras', 'ana', 'sonia'],\n",
    "                  'teléfono': ['7245689247', 'b1', 'b2']})"
   ]
  },
  {
   "cell_type": "code",
   "execution_count": null,
   "id": "alien-closing",
   "metadata": {},
   "outputs": [],
   "source": [
    " # Si no pongo how es un INNER y borra donde no haya match"
   ]
  },
  {
   "cell_type": "code",
   "execution_count": null,
   "id": "phantom-agenda",
   "metadata": {},
   "outputs": [],
   "source": [
    "uno_2.merge(otro_2, left_on='nombre_uno', right_on='nombre_dos')"
   ]
  },
  {
   "cell_type": "code",
   "execution_count": null,
   "id": "0ca58689",
   "metadata": {},
   "outputs": [],
   "source": [
    "uno_2.merge(otro_2, left_on='nombre_uno', right_on='nombre_dos', how='right').drop('nombre_dos', axis=1)"
   ]
  },
  {
   "cell_type": "markdown",
   "id": "behavioral-anger",
   "metadata": {},
   "source": [
    "## Join\n",
    "El join, a diferencia del merge, va a unir los dataframes y donde no haya registros en el \"índice\" va a poner NaN"
   ]
  },
  {
   "cell_type": "code",
   "execution_count": null,
   "id": "searching-combine",
   "metadata": {},
   "outputs": [],
   "source": [
    "uno=pd.DataFrame({'key': ['k0', 'k1', 'k2', 'k3', 'k4'],\n",
    "                  'A': ['a0', 'a1', 'a2', 'a3', 'a4']})\n",
    "\n",
    "otro=pd.DataFrame({'key': ['k0', 'k1', 'k2'],\n",
    "                  'B': ['b0', 'b1', 'b2']})"
   ]
  },
  {
   "cell_type": "code",
   "execution_count": null,
   "id": "retired-captain",
   "metadata": {},
   "outputs": [],
   "source": [
    "uno"
   ]
  },
  {
   "cell_type": "code",
   "execution_count": null,
   "id": "fundamental-cooperative",
   "metadata": {},
   "outputs": [],
   "source": [
    "otro"
   ]
  },
  {
   "cell_type": "code",
   "execution_count": null,
   "id": "respective-mustang",
   "metadata": {},
   "outputs": [],
   "source": [
    "uno.join(otro, lsuffix='_uno', rsuffix='_dos')"
   ]
  },
  {
   "cell_type": "code",
   "execution_count": null,
   "id": "adjacent-anchor",
   "metadata": {},
   "outputs": [],
   "source": [
    "otro.join(uno, lsuffix='_uno', rsuffix='_dos')"
   ]
  },
  {
   "cell_type": "code",
   "execution_count": null,
   "id": "civil-kernel",
   "metadata": {},
   "outputs": [],
   "source": [
    "uno.join(otro, lsuffix='_uno', rsuffix='_dos', how='right')"
   ]
  },
  {
   "cell_type": "code",
   "execution_count": null,
   "id": "graduate-disclosure",
   "metadata": {},
   "outputs": [],
   "source": [
    "otro.join(uno, lsuffix='_uno', rsuffix='_dos', how='left')"
   ]
  },
  {
   "cell_type": "code",
   "execution_count": null,
   "id": "dc9a257e",
   "metadata": {},
   "outputs": [],
   "source": [
    "type(uno.join(otro, lsuffix='_uno', rsuffix='_dos'))"
   ]
  },
  {
   "cell_type": "markdown",
   "id": "worthy-delicious",
   "metadata": {},
   "source": [
    "## Exportar datos"
   ]
  },
  {
   "cell_type": "code",
   "execution_count": null,
   "id": "super-milton",
   "metadata": {},
   "outputs": [],
   "source": [
    "otro.to_csv('../datasets/pandas_m,erge.csv')"
   ]
  },
  {
   "cell_type": "markdown",
   "id": "unlimited-nelson",
   "metadata": {},
   "source": [
    "## Métodos habituales de pandas\n",
    "```python\n",
    "df.head()                     # printea la cabeza, por defecto 5 filas\n",
    "df.tail()                     # pritea la cola, por defecto 5 filas\n",
    "df.describe()                 # descripcion estadistica\n",
    "df.info()                     # informacion del df\n",
    "df.info(memory_usage='deep')\n",
    "df.columns                    # muestra columna\n",
    "df.index                      # muestra indice\n",
    "df.dtypes                     # muestra tipos de datos de las columnas\n",
    "df.plot()                     # hace un grafico\n",
    "df.hist()                     # hace un histograma\n",
    "df.col.value_counts()         # cuenta los valores unicos de una columna\n",
    "df.col.unique()               # muestra valores unicos de una columna\n",
    "df.copy()                     # copia el df\n",
    "df.drop()                     # elimina columnas o filas (axis=0,1)\n",
    "df.dropna()                   # elimina nulos\n",
    "df.fillna()                   # rellena nulos\n",
    "df.shape                      # dimensiones del df\n",
    "df._get_numeric_data()        # selecciona columnas numericas\n",
    "df.rename()                   # renombre columnas\n",
    "df.str.replace()              # reemplaza columnas de strings\n",
    "df.astype(dtype='float32')    # cambia el tipo de dato\n",
    "df.iloc[]                     # localiza por indice\n",
    "df.loc[]                      # localiza por elemento\n",
    "df.transpose()                # transpone el df\n",
    "df.T\n",
    "df.sample(n, frac)            # muestra del df\n",
    "df.col.sum()                  # suma de una columna\n",
    "df.col.max()                  # maximo de una columna\n",
    "df.col.min()                  # minimo de una columna\n",
    "df[col]                       # selecciona columna\n",
    "df.col\n",
    "df.isnull()                   # valores nulos\n",
    "df.isna()\n",
    "df.notna()                    # valores no nulos\n",
    "df.drop_duplicates()          # eliminar duplicados\n",
    "df.reset_index(inplace=True)  # resetea el indice y sobreescribe\n",
    "```"
   ]
  },
  {
   "cell_type": "markdown",
   "id": "stylish-jefferson",
   "metadata": {},
   "source": [
    "## Further materials\n",
    "\n",
    "* [Read the docs!](https://pandas.pydata.org/pandas-docs/stable/index.html)\n",
    "* [Cheatsheet](https://pandas.pydata.org/Pandas_Cheat_Sheet.pdf)\n",
    "* [Exercises to practice](https://github.com/guipsamora/pandas_exercises)\n",
    "* [More on merge, concat, and join](https://realpython.com/pandas-merge-join-and-concat/#pandas-join-combining-data-on-a-column-or-index). And [even more!](https://pandas.pydata.org/pandas-docs/stable/user_guide/merging.html) "
   ]
  },
  {
   "cell_type": "code",
   "execution_count": null,
   "id": "31542a14",
   "metadata": {},
   "outputs": [],
   "source": []
  }
 ],
 "metadata": {
  "kernelspec": {
   "display_name": "Python 3 (ipykernel)",
   "language": "python",
   "name": "python3"
  },
  "language_info": {
   "codemirror_mode": {
    "name": "ipython",
    "version": 3
   },
   "file_extension": ".py",
   "mimetype": "text/x-python",
   "name": "python",
   "nbconvert_exporter": "python",
   "pygments_lexer": "ipython3",
   "version": "3.11.2"
  },
  "toc": {
   "base_numbering": 1,
   "nav_menu": {},
   "number_sections": true,
   "sideBar": true,
   "skip_h1_title": true,
   "title_cell": "Table of Contents",
   "title_sidebar": "Contents",
   "toc_cell": true,
   "toc_position": {
    "height": "calc(100% - 180px)",
    "left": "10px",
    "top": "150px",
    "width": "288px"
   },
   "toc_section_display": true,
   "toc_window_display": false
  },
  "varInspector": {
   "cols": {
    "lenName": 16,
    "lenType": 16,
    "lenVar": 40
   },
   "kernels_config": {
    "python": {
     "delete_cmd_postfix": "",
     "delete_cmd_prefix": "del ",
     "library": "var_list.py",
     "varRefreshCmd": "print(var_dic_list())"
    },
    "r": {
     "delete_cmd_postfix": ") ",
     "delete_cmd_prefix": "rm(",
     "library": "var_list.r",
     "varRefreshCmd": "cat(var_dic_list()) "
    }
   },
   "types_to_exclude": [
    "module",
    "function",
    "builtin_function_or_method",
    "instance",
    "_Feature"
   ],
   "window_display": false
  }
 },
 "nbformat": 4,
 "nbformat_minor": 5
}
