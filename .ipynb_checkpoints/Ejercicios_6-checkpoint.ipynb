{
 "cells": [
  {
   "cell_type": "markdown",
   "id": "76d615a8",
   "metadata": {},
   "source": [
    "### 8. Crea una función que tome dos números y un operador (+, -, *, /) como argumentos y devuelva el resultado de la operación."
   ]
  },
  {
   "cell_type": "code",
   "execution_count": null,
   "id": "a2d00de0",
   "metadata": {},
   "outputs": [],
   "source": [
    "def operar(num1,num2,operador):\n",
    "    if operador == '+':\n",
    "        return num1 + num2\n",
    "    elif operador == '-':\n",
    "        return num1 - num2\n",
    "    elif operador == '*':\n",
    "        return num1 * num2\n",
    "    elif operador == '*':\n",
    "        return num1 * num2\n",
    "    elif operador == '/':\n",
    "        if num2 == 0:\n",
    "             return 'No se puede dividir entre 0'\n",
    "        else:\n",
    "            return num1 / num2\n",
    "    else:\n",
    "        return 'Operador no valido'\n",
    "    "
   ]
  },
  {
   "cell_type": "code",
   "execution_count": null,
   "id": "bdc0366b",
   "metadata": {},
   "outputs": [],
   "source": [
    "operar(15,0,'%')"
   ]
  },
  {
   "cell_type": "markdown",
   "id": "3269a8f2",
   "metadata": {},
   "source": [
    "### 9. Escribe una función que tome una cadena de texto como argumento y cuente el número de palabras en esa cadena. Puedes asumir que las palabras están separadas por espacios."
   ]
  },
  {
   "cell_type": "code",
   "execution_count": null,
   "id": "560f3ec4",
   "metadata": {},
   "outputs": [],
   "source": [
    "def con_cad(cadena):\n",
    "    conteo = len(cadena.split())\n",
    "    return (conteo)"
   ]
  },
  {
   "cell_type": "code",
   "execution_count": null,
   "id": "662599b6",
   "metadata": {},
   "outputs": [],
   "source": [
    "con_cad('Luke, yo soy tu padre. Conquistemos la galaxia juntos.')"
   ]
  },
  {
   "cell_type": "markdown",
   "id": "93be4c0d",
   "metadata": {},
   "source": [
    "### 10. Define una función que tome una palabra como argumento y determine si es un palíndromo (es decir, si se lee igual de izquierda a derecha y de derecha a izquierda)."
   ]
  },
  {
   "cell_type": "code",
   "execution_count": null,
   "id": "54b7e450",
   "metadata": {},
   "outputs": [],
   "source": [
    "def palin(frase):\n",
    "\n",
    "    if frase == frase [::-1]:\n",
    "        return True\n",
    "    else:\n",
    "        return False "
   ]
  },
  {
   "cell_type": "markdown",
   "id": "98134ae1",
   "metadata": {},
   "source": [
    "### 11. Crea una función que tome un número como argumento y genere una lista de todos los números primos menores o iguales a ese número."
   ]
  },
  {
   "cell_type": "code",
   "execution_count": null,
   "id": "57d1f974",
   "metadata": {},
   "outputs": [],
   "source": [
    "import math"
   ]
  },
  {
   "cell_type": "code",
   "execution_count": null,
   "id": "b4633c07",
   "metadata": {},
   "outputs": [],
   "source": [
    "def num_pri(numero):\n",
    "    primo = []\n",
    "    for i in range(2,numero + 1):\n",
    "        for j in range(2,i):\n",
    "            if i % j != 0: \n",
    "                primo.append(i)\n",
    "        \n",
    "    return primo"
   ]
  },
  {
   "cell_type": "code",
   "execution_count": null,
   "id": "03899b51",
   "metadata": {},
   "outputs": [],
   "source": [
    "num_pri(15)"
   ]
  },
  {
   "cell_type": "markdown",
   "id": "cd80b6bc",
   "metadata": {},
   "source": [
    "### 12. Escribe una función que convierta una temperatura dada en grados Celsius a grados Fahrenheit. La fórmula de conversión es: Fahrenheit = Celsius * 9/5 + 32."
   ]
  },
  {
   "cell_type": "code",
   "execution_count": null,
   "id": "dfd0e9ec",
   "metadata": {},
   "outputs": [],
   "source": [
    "def conv_tem(temperatura):\n",
    "    fahren = ((temperatura * 9) / 5) + 32\n",
    "    return int(fahren)"
   ]
  },
  {
   "cell_type": "code",
   "execution_count": null,
   "id": "201e458c",
   "metadata": {},
   "outputs": [],
   "source": [
    "conv_tem(25)"
   ]
  },
  {
   "cell_type": "markdown",
   "id": "e8396296",
   "metadata": {},
   "source": [
    "### 13. Calculadora de áreas: Escribe una función que reciba el nombre de una figura geométrica (por ejemplo, \"cuadrado\", \"rectángulo\", \"triángulo\") y los parámetros necesarios para calcular su área. La función debe devolver el área correspondiente."
   ]
  },
  {
   "cell_type": "code",
   "execution_count": null,
   "id": "9af38929",
   "metadata": {},
   "outputs": [],
   "source": [
    "triangulo = b*a/2       rectangulo = b*h       cuadrado = lado*lado"
   ]
  },
  {
   "cell_type": "code",
   "execution_count": null,
   "id": "03f6a589",
   "metadata": {},
   "outputs": [],
   "source": [
    "def area_geo(figura):\n",
    "\n",
    "    if figura == 'cuadrado':\n",
    "        lado = int(input('Ingrese el valor del lado del cuadrado: '))\n",
    "        area_cuadrado = lado * lado\n",
    "        return area_cuadrado\n",
    "    \n",
    "    elif figura == 'rectangulo':\n",
    "        base = int(input('Ingrese el valor de la base del rectangulo: '))\n",
    "        altura = int(input('Ingrese el valor de la altura del rectangulo: '))\n",
    "        area_rectangulo = base * altura\n",
    "        return area_rectangulo\n",
    "   \n",
    "    elif figura == 'triangulo':\n",
    "        base = int(input('Ingrese el valor de la base del rectangulo: '))\n",
    "        altura = int(input('Ingrese el valor de la altura del rectangulo: '))\n",
    "        area_triangulo = (base * altura) / 2\n",
    "        return area_triangulo"
   ]
  },
  {
   "cell_type": "code",
   "execution_count": null,
   "id": "638a8054",
   "metadata": {},
   "outputs": [],
   "source": [
    "area_geo('rectangulo')"
   ]
  },
  {
   "cell_type": "markdown",
   "id": "689f6022",
   "metadata": {},
   "source": [
    "### 14. Validar contraseña: Escribe una función que reciba una contraseña como parámetro y verifique si cumple con los siguientes criterios: al menos 8 caracteres de longitud, contiene al menos una letra mayúscula, una letra minúscula y un número. La función debe devolver True si la contraseña es válida y False en caso contrario."
   ]
  },
  {
   "cell_type": "code",
   "execution_count": null,
   "id": "63dbf678",
   "metadata": {},
   "outputs": [],
   "source": [
    "# solicitar una contraseña al usuario\n",
    "def val_contra(contraseña):\n",
    "    contra = input('Ingrese una contraseña: ')\n",
    "#verificar que tenga 8 caracteres\n",
    "    for i in len(contra)\n",
    "        f\n",
    "#validar que tenga una mayuscula\n",
    "#validar que tenga una minuscula\n",
    "#validar que tenga un numero\n",
    "#"
   ]
  },
  {
   "cell_type": "code",
   "execution_count": null,
   "id": "bd7ccd3e",
   "metadata": {},
   "outputs": [],
   "source": [
    "def escribir_contraseña(contraseña):\n",
    "    if len(contraseña) < 8:\n",
    "        print('Contraseña muy corta')\n",
    "\n",
    "    minuscula = False\n",
    "    for minu in contraseña:\n",
    "        if minu.islower() == True:\n",
    "            minuscula = True\n",
    "    if not minuscula:\n",
    "        print('Escriba al menos una minuscula')\n",
    "\n",
    "    mayuscula = False\n",
    "    for mayus in contraseña:\n",
    "        if mayus.isupper() == True:\n",
    "            mayuscula = True\n",
    "    if not mayuscula:\n",
    "        print('Escriba al menos una mayuscula')\n",
    "    numero = False\n",
    "    for caracter in contraseña:\n",
    "        if caracter.isdigit() == True:\n",
    "            numero = True\n",
    "    if not numero:\n",
    "        print('escribe al menos un numero')\n",
    "    if contraseña.count(\" \")> 0:\n",
    "        print('no debe contener espacios')\n",
    "    else:\n",
    "        print('Contaseña correcta')\n",
    "\n",
    "    return(contraseña)"
   ]
  },
  {
   "cell_type": "markdown",
   "id": "6403553c",
   "metadata": {},
   "source": [
    "### 15. Escribe un programa que solicite al usuario ingresar un número entero y calcule la suma de todos los dígitos pares que componen ese número"
   ]
  },
  {
   "cell_type": "code",
   "execution_count": 7,
   "id": "9fd301a1",
   "metadata": {},
   "outputs": [
    {
     "name": "stdout",
     "output_type": "stream",
     "text": [
      "Ingrese un numero: 24\n",
      "6\n"
     ]
    }
   ],
   "source": [
    "numero = input('Ingrese un numero: ')\n",
    "suma = 0\n",
    "for i in numero:\n",
    "    if int(i) % 2 == 0:\n",
    "        suma += int(i)\n",
    "print(suma)\n",
    "        "
   ]
  },
  {
   "cell_type": "markdown",
   "id": "7618deb2",
   "metadata": {},
   "source": [
    "### 16.Escribe un programa que imprima los primeros 10 números triangulares. Un número triangular se obtiene al sumar todos los números naturales desde 1 hasta ese número."
   ]
  },
  {
   "cell_type": "code",
   "execution_count": 3,
   "id": "a1fcb15d",
   "metadata": {},
   "outputs": [
    {
     "name": "stdout",
     "output_type": "stream",
     "text": [
      "Para el numero: 1 su numero triangular es: 1\n",
      "Para el numero: 2 su numero triangular es: 3\n",
      "Para el numero: 3 su numero triangular es: 6\n",
      "Para el numero: 4 su numero triangular es: 10\n",
      "Para el numero: 5 su numero triangular es: 15\n",
      "Para el numero: 6 su numero triangular es: 21\n",
      "Para el numero: 7 su numero triangular es: 28\n",
      "Para el numero: 8 su numero triangular es: 36\n",
      "Para el numero: 9 su numero triangular es: 45\n",
      "Para el numero: 10 su numero triangular es: 55\n"
     ]
    }
   ],
   "source": [
    "num_triangular = 0\n",
    "for i in range(1,11):\n",
    "    num_triangular += i\n",
    "    print(f'Para el numero: {i} su numero triangular es: {num_triangular}')"
   ]
  },
  {
   "cell_type": "code",
   "execution_count": 4,
   "id": "1d5bfcda",
   "metadata": {},
   "outputs": [
    {
     "name": "stdout",
     "output_type": "stream",
     "text": [
      "Para el número 1 el triangular es: 1\n",
      "Para el número 2 el triangular es: 3\n",
      "Para el número 3 el triangular es: 6\n",
      "Para el número 4 el triangular es: 10\n",
      "Para el número 5 el triangular es: 15\n",
      "Para el número 6 el triangular es: 21\n",
      "Para el número 7 el triangular es: 28\n",
      "Para el número 8 el triangular es: 36\n",
      "Para el número 9 el triangular es: 45\n",
      "Para el número 10 el triangular es: 55\n"
     ]
    }
   ],
   "source": [
    "#solucion alex\n",
    "for n in range(1, 11):\n",
    "    triangular = n * (n + 1) // 2\n",
    "    print(f'Para el número {n} el triangular es: {triangular}')"
   ]
  }
 ],
 "metadata": {
  "kernelspec": {
   "display_name": "Python 3 (ipykernel)",
   "language": "python",
   "name": "python3"
  },
  "language_info": {
   "codemirror_mode": {
    "name": "ipython",
    "version": 3
   },
   "file_extension": ".py",
   "mimetype": "text/x-python",
   "name": "python",
   "nbconvert_exporter": "python",
   "pygments_lexer": "ipython3",
   "version": "3.11.2"
  }
 },
 "nbformat": 4,
 "nbformat_minor": 5
}
